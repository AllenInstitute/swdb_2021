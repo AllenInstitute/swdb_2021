{
 "cells": [
  {
   "cell_type": "markdown",
   "metadata": {},
   "source": [
    "<img src=\"../resources/cropped-SummerWorkshop_Header.png\">  \n",
    "\n",
    "<h1 align=\"center\">Brain Observatory - Neuropixels </h1> \n",
    "<h2 align=\"center\">Summer Workshop on the Dynamic Brain </h2> "
   ]
  },
  {
   "cell_type": "markdown",
   "metadata": {},
   "source": [
    "<div style=\"border-left: 3px solid #000; padding: 1px; padding-left: 10px; background: #F0FAFF; \">\n",
    "\n",
    "<p>This notebook will introduce you to the Neuropixel dataset and SDK functions. \n",
    "<p>\n",
    "    \n",
    "</div>"
   ]
  },
  {
   "cell_type": "code",
   "execution_count": null,
   "metadata": {},
   "outputs": [],
   "source": [
    "import os\n",
    "import numpy as np\n",
    "import matplotlib.pyplot as plt\n",
    "import pandas as pd\n",
    "\n",
    "%matplotlib inline\n",
    "\n",
    "# tab completion in the notebook sometimes has trouble with large dataframes\n",
    "# this will fix it\n",
    "%config Completer.use_jedi = False"
   ]
  },
  {
   "cell_type": "code",
   "execution_count": null,
   "metadata": {},
   "outputs": [],
   "source": [
    "import platform\n",
    "platstring = platform.platform()\n",
    "\n",
    "if 'Darwin' in platstring:\n",
    "    # OS X \n",
    "    data_root = \"/Volumes/Brain2021/\"\n",
    "elif 'Windows'  in platstring:\n",
    "    # Windows (replace with the drive letter of USB drive)\n",
    "    data_root = \"E:/\"\n",
    "elif ('amzn1' in platstring):\n",
    "    # then on AWS\n",
    "    data_root = \"/data/allen-brain-observatory/visual-coding-neuropixels\"\n",
    "else:\n",
    "    # then your own linux platform\n",
    "    # EDIT location where you mounted hard drive\n",
    "    data_root = \"/media/$USERNAME/Brain2021/\"\n",
    "\n",
    "manifest_path = os.path.join(data_root, \"ecephys-cache/manifest.json\")"
   ]
  },
  {
   "cell_type": "markdown",
   "metadata": {},
   "source": [
    "<div style=\"border-left: 3px solid #000; padding: 1px; padding-left: 10px; background: #F0FAFF; \">\n",
    "<p>The main entry point is the `EcephysProjectCache` class.  This class is responsible for downloading any requested data or metadata as needed and storing it in well known locations.  For this workshop, all of the data has been preloaded onto the hard drives you have received, and is available on AWS.\n",
    "\n",
    "<p>We begin by importing the `EcephysProjectCache` class and instantiating it.\n",
    "\n",
    "<p>`manifest_path` is a path to the manifest file.  We will use the manifest file preloaded onto your Workshop hard drives.  Make sure that `drive_path` is set correctly for your platform.  (See the first cell in this notebook.)\n",
    "</div>\n"
   ]
  },
  {
   "cell_type": "code",
   "execution_count": null,
   "metadata": {},
   "outputs": [],
   "source": [
    "from allensdk.brain_observatory.ecephys.ecephys_project_cache import EcephysProjectCache\n",
    "from allensdk.brain_observatory.ecephys import ecephys_session\n",
    "\n",
    "cache = EcephysProjectCache(manifest=manifest_path)"
   ]
  },
  {
   "cell_type": "code",
   "execution_count": null,
   "metadata": {},
   "outputs": [],
   "source": [
    "print(cache.get_all_session_types())"
   ]
  },
  {
   "cell_type": "markdown",
   "metadata": {},
   "source": [
    "<div style=\"border-left: 3px solid #000; padding: 1px; padding-left: 10px; background: #F0FAFF; \">\n",
    "    <h2>1. Exploring available sessions of the dataset</h2>\n",
    "</div>"
   ]
  },
  {
   "cell_type": "markdown",
   "metadata": {},
   "source": [
    "<div style=\"background: #DFF0D8; border-radius: 3px; padding: 10px;\">\n",
    "<p><b>Task 1:</b>  Get information about what's in the Neuropixel dataset from the `cache` object we created above.\n",
    "\n",
    "<p>Use the `get_session_table()` function to retrieve a dataframe of all the available sessions. What information does this dataframe contain?\n",
    "\n",
    "- How many sessions are there in the dataset?\n",
    "- What is the average number of units in an experiment? The max number? The minimum?\n",
    "- What are the different genotypes that were used in these experiments? How many sessions per genotype?\n",
    "- What are all the brain structures that data has been collected from?\n",
    "- How many sessions have data from VISp?\n",
    "</div>"
   ]
  },
  {
   "cell_type": "code",
   "execution_count": null,
   "metadata": {},
   "outputs": [],
   "source": [
    "sessions = cache.get_session_table()"
   ]
  },
  {
   "cell_type": "code",
   "execution_count": null,
   "metadata": {
    "scrolled": true
   },
   "outputs": [],
   "source": []
  },
  {
   "cell_type": "markdown",
   "metadata": {},
   "source": [
    "How many sessions are available?"
   ]
  },
  {
   "cell_type": "code",
   "execution_count": null,
   "metadata": {},
   "outputs": [],
   "source": []
  },
  {
   "cell_type": "markdown",
   "metadata": {},
   "source": [
    "What's the average number of units in a session? The max? The min?"
   ]
  },
  {
   "cell_type": "code",
   "execution_count": null,
   "metadata": {},
   "outputs": [],
   "source": []
  },
  {
   "cell_type": "code",
   "execution_count": null,
   "metadata": {},
   "outputs": [],
   "source": []
  },
  {
   "cell_type": "markdown",
   "metadata": {},
   "source": [
    "What are the different genotypes that were used for this dataset? How many sessions per genotype are available?\n",
    "\n",
    "Note: genotypes are described in the <a href=\"http://help.brain-map.org/download/attachments/10616846/VisualCoding_TransgenicCharacterization.pdf?version=4&modificationDate=1538067045225&api=v2\">Transgenic Line Catalog</a>"
   ]
  },
  {
   "cell_type": "code",
   "execution_count": null,
   "metadata": {},
   "outputs": [],
   "source": []
  },
  {
   "cell_type": "markdown",
   "metadata": {},
   "source": [
    "What are the different session types? How many sessions per type?"
   ]
  },
  {
   "cell_type": "code",
   "execution_count": null,
   "metadata": {},
   "outputs": [],
   "source": []
  },
  {
   "cell_type": "markdown",
   "metadata": {},
   "source": [
    "What are all the structures that data has been collected from?"
   ]
  },
  {
   "cell_type": "code",
   "execution_count": null,
   "metadata": {},
   "outputs": [],
   "source": []
  },
  {
   "cell_type": "markdown",
   "metadata": {},
   "source": [
    "To get more information about these structures, visit [our reference atlas web app](http://atlas.brain-map.org/atlas?atlas=602630314)."
   ]
  },
  {
   "cell_type": "markdown",
   "metadata": {},
   "source": [
    "How many sessions have data from VISp?"
   ]
  },
  {
   "cell_type": "code",
   "execution_count": null,
   "metadata": {},
   "outputs": [],
   "source": []
  },
  {
   "cell_type": "markdown",
   "metadata": {},
   "source": [
    "<div style=\"border-left: 3px solid #000; padding: 1px; padding-left: 10px; background: #F0FAFF; \">\n",
    "<h2>The session object</h2>\n",
    "<p>The session object contains all the data and metadata for a single experiment session, including spike times, stimulus information, unit waveforms and derived metrics, LFP, and the mouse's running speed. \n",
    "\n",
    "<p>Session objects are accessed using <b>cache.get_session_data(session_id)</b>\n",
    "\n",
    "<p><b>Note:</b> experiment data is loaded upon initialization of the class. Some data can be accessed directly as an attribute of the class, others by using 'get' functions. \n",
    "\n",
    "</div>"
   ]
  },
  {
   "cell_type": "markdown",
   "metadata": {},
   "source": [
    "Let's select one session to examine in detail. First we'll narrow down the list of sessions to those that are 'brain_observatory_1.1' type sessions with > 500 units and wildtype genotype: "
   ]
  },
  {
   "cell_type": "code",
   "execution_count": null,
   "metadata": {},
   "outputs": [],
   "source": [
    "\n",
    "sessions[\n",
    "    (sessions['unit_count'] > 500) & \n",
    "    (sessions['session_type'] == 'brain_observatory_1.1') &\n",
    "    (sessions['full_genotype'] == 'wt/wt')\n",
    "].index\n"
   ]
  },
  {
   "cell_type": "code",
   "execution_count": null,
   "metadata": {},
   "outputs": [],
   "source": [
    "# Let's pick one of these sessions at random to examine in greater detail. \n",
    "session_id = 750749662"
   ]
  },
  {
   "cell_type": "markdown",
   "metadata": {},
   "source": [
    "Now use `cache.get_session_data` to get the EcephysSession object for this session. This object contains the data that is stored in the NWB file."
   ]
  },
  {
   "cell_type": "code",
   "execution_count": null,
   "metadata": {},
   "outputs": [],
   "source": [
    "session = cache.get_session_data(session_id)"
   ]
  },
  {
   "cell_type": "markdown",
   "metadata": {},
   "source": [
    "Session objects have several attributes that describe data acquired during the session:"
   ]
  },
  {
   "cell_type": "code",
   "execution_count": null,
   "metadata": {},
   "outputs": [],
   "source": [
    "help(session)"
   ]
  },
  {
   "cell_type": "markdown",
   "metadata": {},
   "source": [
    "Perhaps the most important of these attributes is `session.units`, which is a dataframe describing all units that were isolated in the session and that passed the QC metric filters implemented in `cache.get_session_data`. "
   ]
  },
  {
   "attachments": {
    "image.png": {
     "image/png": "[encoded data removed]"
    }
   },
   "cell_type": "markdown",
   "metadata": {},
   "source": [
    "<div style=\"border-left: 3px solid #000; padding: 1px; padding-left: 10px; background: #F0FAFF; \">\n",
    "\n",
    "<h2> 2. Unit properties</h2>\n",
    "\n",
    "<p> The primary data in this dataset is the recorded activity of isolated units. A number of metrics are used to isolate units through spike sorting, and these metrics can be used to access how well isolated they are and the quality of each unit. The `session.units` dataframe provides many of these metrics, as well as parameterization of the waveform for each unit that passed initial QC, including\n",
    "</p>\n",
    "<ul>\n",
    "<li> <b>firing rate:</b> mean spike rate during the entire session\n",
    "<li> <b>presence ratio:</b> fraction of session when spikes are present\n",
    "<li> <b>ISI violations:</b> rate of refractory period violations\n",
    "<li> <b>Isolation distances:</b> distance to nearest cluster in Mihalanobis space\n",
    "<li> <b>d':</b> classification accuracy based on LDA\n",
    "<li> <b>SNR:</b> signal to noise ratio\n",
    "<li> <b>Maximum drift:</b> Maximum change in spike depth during recording\n",
    "<li> <b>Cumulative drift:</b> Cumulative change in spike depth during recording\n",
    "</ul>\n",
    "\n",
    "<b>1D Waveform features:</b>\n",
    "\n",
    "![image.png](attachment:image.png)\n",
    "\n",
    "<b>Note:</b> By default, `cache.get_session_data` returns data only for units that are considered to be 'valid' based on their QC metrics. For more information, see:\n",
    "\n",
    "<ul>\n",
    "<li><a href=\"https://allensdk.readthedocs.io/en/latest/visual_coding_neuropixels.html#quality-metrics\">https://allensdk.readthedocs.io/en/latest/visual_coding_neuropixels.html#quality-metrics</a>\n",
    "<li><a href=\"https://github.com/AllenInstitute/ecephys_spike_sorting/tree/master/ecephys_spike_sorting/modules/quality_metrics\">https://github.com/AllenInstitute/ecephys_spike_sorting/tree/master/ecephys_spike_sorting/modules/quality_metrics</a>\n",
    "<li><a href=\"https://github.com/AllenInstitute/ecephys_spike_sorting/tree/master/ecephys_spike_sorting/modules/mean_waveforms\">https://github.com/AllenInstitute/ecephys_spike_sorting/tree/master/ecephys_spike_sorting/modules/mean_waveforms</a>\n",
    "</ul>\n",
    "</div>\n"
   ]
  },
  {
   "cell_type": "markdown",
   "metadata": {},
   "source": [
    "<div style=\"background: #DFF0D8; border-radius: 3px; padding: 10px;\">\n",
    "<p><b>Task 2: Units</b>  \n",
    "\n",
    "<p> Get the `units` dataframe for this session. \n",
    "\n",
    "What metrics are described in this data? (i.e. what are the columns for the dataframe?)\n",
    "\n",
    "How many units are there? How many units per structure?\n",
    "</div>"
   ]
  },
  {
   "cell_type": "code",
   "execution_count": null,
   "metadata": {
    "scrolled": false
   },
   "outputs": [],
   "source": [
    "session.units.head()"
   ]
  },
  {
   "cell_type": "code",
   "execution_count": null,
   "metadata": {},
   "outputs": [],
   "source": []
  },
  {
   "cell_type": "markdown",
   "metadata": {},
   "source": [
    "How many units are in this session?"
   ]
  },
  {
   "cell_type": "code",
   "execution_count": null,
   "metadata": {},
   "outputs": [],
   "source": []
  },
  {
   "cell_type": "markdown",
   "metadata": {},
   "source": [
    "Which areas (structures) are they from?"
   ]
  },
  {
   "cell_type": "code",
   "execution_count": null,
   "metadata": {},
   "outputs": [],
   "source": []
  },
  {
   "cell_type": "markdown",
   "metadata": {},
   "source": [
    "How many units per area are there?"
   ]
  },
  {
   "cell_type": "code",
   "execution_count": null,
   "metadata": {},
   "outputs": [],
   "source": []
  },
  {
   "cell_type": "markdown",
   "metadata": {},
   "source": [
    "<div style=\"border-left: 3px solid #000; padding: 1px; padding-left: 10px; background: #F0FAFF; \">\n",
    "    \n",
    "<h3>The <i>firing_rate</i> column contains the average firing rate for each unit.</h3>\n",
    "\n",
    "Let's make a violinplot of the overall firing rates of units across structures:\n",
    "\n",
    "</div>"
   ]
  },
  {
   "cell_type": "code",
   "execution_count": null,
   "metadata": {},
   "outputs": [],
   "source": [
    "# group all firing rates by structure name\n",
    "grouped = session.units.groupby('ecephys_structure_acronym')['firing_rate'].apply(list).to_dict()\n",
    "\n",
    "plt.violinplot(grouped.values(), range(len(grouped.keys())))\n",
    "plt.xticks(range(len(grouped.keys())), grouped.keys())\n",
    "plt.ylabel('firing rate')"
   ]
  },
  {
   "cell_type": "markdown",
   "metadata": {},
   "source": [
    "<div style=\"border-left: 3px solid #000; padding: 1px; padding-left: 10px; background: #F0FAFF; \">\n",
    "    \n",
    "<h3>The <i>probe_vertical_position</i> column contains the position of each unit along its probe.</h3>\n",
    "\n",
    "Let's plot the location of all units on one probe from this session:"
   ]
  },
  {
   "cell_type": "code",
   "execution_count": null,
   "metadata": {},
   "outputs": [],
   "source": [
    "plt.figure(figsize=(8,6))\n",
    "# restrict to one probe\n",
    "probe_id = session.units.probe_id.values[0]\n",
    "probe_units = session.units[session.units.probe_id==probe_id]\n",
    "\n",
    "# group and color the data by structure\n",
    "for structure in probe_units['ecephys_structure_acronym'].unique():\n",
    "    structure_mask = probe_units['ecephys_structure_acronym'] == structure\n",
    "    plt.hist(probe_units[structure_mask]['probe_vertical_position'].values, \n",
    "             bins=100, range=(0,3200), label=structure)\n",
    "plt.legend()\n",
    "plt.xlabel('Probe vertical position (μm)', fontsize=16)\n",
    "plt.ylabel('Unit count', fontsize=16)\n",
    "plt.show()"
   ]
  },
  {
   "cell_type": "markdown",
   "metadata": {},
   "source": [
    "<div style=\"border-left: 3px solid #000; padding: 1px; padding-left: 10px; background: #F0FAFF; \">\n",
    "    \n",
    "<h3>Unit receptive field metrics</h3>\n",
    "\n",
    "<p> Neurons in the visual cortex respond most strongly to a particular region in space, known as the receptive field. The receptive fields of neurons in this dataset have already been computed. Let's see what part of the monitor the units in this experiment preferred.\n",
    "    \n",
    "There are a few relevant parameters: the elevation_rf, azimuth_rf, area_rf, and p_value_rf\n",
    "\n",
    "<p>For more information, see:</p>\n",
    "<p><ul>\n",
    "<li><a href=\"https://allensdk.readthedocs.io/en/latest/_static/examples/nb/ecephys_receptive_fields.html\">https://allensdk.readthedocs.io/en/latest/_static/examples/nb/ecephys_receptive_fields.html</a>\n",
    "</ul></p>\n",
    "</div>"
   ]
  },
  {
   "cell_type": "markdown",
   "metadata": {},
   "source": [
    "Select units that have a significant receptive field. How many are there?"
   ]
  },
  {
   "cell_type": "code",
   "execution_count": null,
   "metadata": {},
   "outputs": [],
   "source": [
    "rf_units = session.units[session.units['p_value_rf'] < 0.01]\n",
    "len(rf_units)"
   ]
  },
  {
   "cell_type": "markdown",
   "metadata": {},
   "source": [
    "Where on the screen were the receptive fields of these units?"
   ]
  },
  {
   "cell_type": "code",
   "execution_count": null,
   "metadata": {},
   "outputs": [],
   "source": [
    "plt.figure()\n",
    "#restrict to units with a significant receptive field\n",
    "#color points by probe ID\n",
    "plt.scatter(\n",
    "    x=rf_units['azimuth_rf'],\n",
    "    y=rf_units['elevation_rf'],\n",
    "    c=rf_units['probe_id'],\n",
    ")\n",
    "plt.ylabel('elevation')\n",
    "plt.xlabel('azimuth')"
   ]
  },
  {
   "cell_type": "markdown",
   "metadata": {},
   "source": [
    "How big were the receptive fields?"
   ]
  },
  {
   "cell_type": "code",
   "execution_count": null,
   "metadata": {},
   "outputs": [],
   "source": [
    "plt.figure()\n",
    "#restrict to units with a significant receptive field\n",
    "#add receptive field size to the plot\n",
    "plt.scatter(\n",
    "    x=rf_units['azimuth_rf'],\n",
    "    y=rf_units['elevation_rf'],\n",
    "    s=rf_units['area_rf'],\n",
    "    c=rf_units['probe_id'],\n",
    "    alpha=0.4\n",
    ")\n",
    "plt.ylabel('elevation')\n",
    "plt.xlabel('azimuth')"
   ]
  },
  {
   "cell_type": "markdown",
   "metadata": {},
   "source": [
    "<div style=\"border-left: 3px solid #000; padding: 1px; padding-left: 10px; background: #F0FAFF; \">\n",
    "\n",
    "<h2> Spike Times</h2>\n",
    "\n",
    "<p> The primary data in this dataset is the recorded acrtivity of isolated units. The attribute `session.spike_times` is a dictionary of spike times for each units in the session.\n",
    "\n",
    "</div>\n"
   ]
  },
  {
   "cell_type": "markdown",
   "metadata": {},
   "source": [
    "<div style=\"background: #DFF0D8; border-radius: 3px; padding: 10px;\">\n",
    "<p><b>Task 3: Spike Times</b>\n",
    "\n",
    "<p> Next let's find the `spike_times` for these units. What type of object is `session.spike_times`? How many items does it include? What are the keys and values?\n",
    "\n",
    "</div>"
   ]
  },
  {
   "cell_type": "markdown",
   "metadata": {},
   "source": [
    "What type of object is this?"
   ]
  },
  {
   "cell_type": "code",
   "execution_count": null,
   "metadata": {},
   "outputs": [],
   "source": [
    "type(session.spike_times)"
   ]
  },
  {
   "cell_type": "markdown",
   "metadata": {},
   "source": [
    "How many items does it include?"
   ]
  },
  {
   "cell_type": "code",
   "execution_count": null,
   "metadata": {},
   "outputs": [],
   "source": []
  },
  {
   "cell_type": "code",
   "execution_count": null,
   "metadata": {},
   "outputs": [],
   "source": []
  },
  {
   "cell_type": "markdown",
   "metadata": {},
   "source": [
    "What are the keys for this object?"
   ]
  },
  {
   "cell_type": "code",
   "execution_count": null,
   "metadata": {},
   "outputs": [],
   "source": []
  },
  {
   "cell_type": "markdown",
   "metadata": {},
   "source": [
    "These keys are unit ids. Use the unit_id for the first unit to get the spike times for that unit. How many spikes does it have in the entire session?"
   ]
  },
  {
   "cell_type": "code",
   "execution_count": null,
   "metadata": {},
   "outputs": [],
   "source": []
  },
  {
   "cell_type": "code",
   "execution_count": null,
   "metadata": {},
   "outputs": [],
   "source": []
  },
  {
   "cell_type": "markdown",
   "metadata": {},
   "source": [
    "<div style=\"border-left: 3px solid #000; padding: 1px; padding-left: 10px; background: #F0FAFF; \">\n",
    "\n",
    "<h3>Plotting spike times</h3>\n",
    "    \n",
    "<p>Let's first select all units in primary visual cortex (VISp) and generate raster plots of spike times as well as binned spike counts.\n",
    "\n",
    "</div>"
   ]
  },
  {
   "cell_type": "code",
   "execution_count": null,
   "metadata": {},
   "outputs": [],
   "source": [
    "# select all units in VISp \n",
    "visp_units = session.units[session.units['ecephys_structure_acronym'] == 'VISp']"
   ]
  },
  {
   "cell_type": "code",
   "execution_count": null,
   "metadata": {},
   "outputs": [],
   "source": [
    "# select a random unit:\n",
    "unit_id = visp_units.index[10]\n",
    "\n",
    "# make a raster plot of its spike times\n",
    "spikes = session.spike_times[unit_id]\n",
    "plt.figure(figsize=(15, 4))\n",
    "plt.plot(spikes, np.zeros(len(spikes)), '|')\n",
    "plt.xlabel(\"Time (s)\")\n",
    "\n",
    "# limit to just the first 300 seconds\n",
    "plt.xlim(0, 300)"
   ]
  },
  {
   "cell_type": "markdown",
   "metadata": {},
   "source": [
    "<div style=\"border-left: 3px solid #000; padding: 5px; padding-left: 10px; background: #F0FAFF; \">\n",
    "    \n",
    "A raster plot may not work for visualizing the activity across the entire session as there are too many spikes! An alternative is to plot the activity in 1 second bins:\n",
    "    \n",
    "</div>"
   ]
  },
  {
   "cell_type": "code",
   "execution_count": null,
   "metadata": {},
   "outputs": [],
   "source": [
    "binned_spikes, bin_edges = np.histogram(spikes, bins=np.arange(0, max(spikes)))\n",
    "\n",
    "plt.figure(figsize=(20,5))\n",
    "plt.plot(bin_edges[:-1], binned_spikes)\n",
    "plt.xlabel(\"Time (s)\")\n",
    "plt.ylabel(\"FR (Hz)\")"
   ]
  },
  {
   "cell_type": "markdown",
   "metadata": {},
   "source": [
    "<div style=\"border-left: 3px solid #000; padding: 5px; padding-left: 10px; background: #F0FAFF; \">\n",
    "\n",
    "<p> Now let's do this for up to 50 units in V1. We'll make an array of the binned activity of all units in V1 called 'visp_binned'. We'll use this again later.\n",
    "\n",
    "</div>"
   ]
  },
  {
   "cell_type": "code",
   "execution_count": null,
   "metadata": {},
   "outputs": [],
   "source": [
    "# allocate an empty array to hold binned spike rates for up to 50 units\n",
    "numunits = min(50, len(visp_units))\n",
    "numbins = len(binned_spikes)\n",
    "visp_binned = np.empty((numunits, numbins))\n",
    "\n",
    "# compute binned spike rates for each unit:\n",
    "for i in range(numunits):\n",
    "    unit_id = visp_units.index[i]\n",
    "    spikes = session.spike_times[unit_id]\n",
    "    visp_binned[i] = np.histogram(spikes, bins=bin_edges)[0]"
   ]
  },
  {
   "cell_type": "markdown",
   "metadata": {},
   "source": [
    "Plot the activity of all the units, one above the other"
   ]
  },
  {
   "cell_type": "code",
   "execution_count": null,
   "metadata": {
    "scrolled": false
   },
   "outputs": [],
   "source": [
    "plt.figure(figsize=(20, 10))\n",
    "for i in range(numunits):\n",
    "    plt.plot(bin_edges[:-1], i + (visp_binned[i,:] / 30.), color='gray')"
   ]
  },
  {
   "cell_type": "markdown",
   "metadata": {},
   "source": [
    "<div style=\"border-left: 3px solid #000; padding: 1px; padding-left: 10px; background: #F0FAFF; \">\n",
    "\n",
    "<h2> 3. Stimulus presentations</h2>\n",
    "\n",
    "<p> A variety of visual stimuli were presented throughout the recording session, and the session object contains detailed information about what stimuli were presented when.\n",
    "</div>"
   ]
  },
  {
   "cell_type": "code",
   "execution_count": null,
   "metadata": {},
   "outputs": [],
   "source": [
    "# Get the names of all stimuli that were used in the session:\n",
    "session.stimulus_names"
   ]
  },
  {
   "cell_type": "markdown",
   "metadata": {},
   "source": [
    "<div style=\"border-left: 3px solid #000; padding: 1px; padding-left: 10px; background: #F0FAFF; \">\n",
    "    \n",
    "<h3>Stimulus epochs</h3>\n",
    "\n",
    "<p> These stimuli are interleaved throughout the session. We can use `session.get_stimulus_epochs()` to see when each stimulus type was presented. Then we'll add this to the activity plot we made above.\n",
    "\n",
    "</div>"
   ]
  },
  {
   "cell_type": "code",
   "execution_count": null,
   "metadata": {},
   "outputs": [],
   "source": [
    "stimulus_epochs = session.get_stimulus_epochs()\n",
    "stimulus_epochs"
   ]
  },
  {
   "cell_type": "markdown",
   "metadata": {},
   "source": [
    "<div style=\"border-left: 3px solid #000; padding: 5px; padding-left: 10px; background: #F0FAFF; \">\n",
    "Let's replot our V1 activity from above, shading each stimulus epoch with a unique color using <b>plt.axvspan()</b>.\n",
    "</div>"
   ]
  },
  {
   "cell_type": "code",
   "execution_count": null,
   "metadata": {},
   "outputs": [],
   "source": [
    "plt.figure(figsize=(20, 10))\n",
    "for i in range(numunits):\n",
    "    plt.plot(bin_edges[:-1], i + (visp_binned[i,:] / 30.), color='gray')\n",
    "\n",
    "colors = ['blue','orange','green','red','yellow','purple','magenta','gray','lightblue']\n",
    "for c, stim_name in enumerate(session.stimulus_names):\n",
    "    stim = stimulus_epochs[stimulus_epochs.stimulus_name==stim_name]\n",
    "    for j in range(len(stim)):\n",
    "        plt.axvspan(\n",
    "            xmin=stim[\"start_time\"].iloc[j], \n",
    "            xmax=stim[\"stop_time\"].iloc[j], \n",
    "            color=colors[c], \n",
    "            alpha=0.1\n",
    "        )"
   ]
  },
  {
   "cell_type": "markdown",
   "metadata": {},
   "source": [
    "<div style=\"background: #DFF0D8; border-radius: 3px; padding: 10px;\">\n",
    "<p><b>Task 4:</b> Get the running speed\n",
    "\n",
    "<p> Before we dig further into the stimulus information in more detail, let's add one more piece of session-wide data to our plot: the mouse's running speed.  \n",
    "\n",
    "Use `session.running_speed` to plot the running speed as a function of time. You may need to do some introspection here--what type of object is running_speed? How can you access both the running speed and time values?\n",
    "\n",
    "</div>"
   ]
  },
  {
   "cell_type": "code",
   "execution_count": null,
   "metadata": {},
   "outputs": [],
   "source": []
  },
  {
   "cell_type": "code",
   "execution_count": null,
   "metadata": {},
   "outputs": [],
   "source": []
  },
  {
   "cell_type": "markdown",
   "metadata": {},
   "source": [
    "<div style=\"border-left: 3px solid #000; padding: 5px; padding-left: 10px; background: #F0FAFF; \">\n",
    "Let's add the running speed to the plot of V1 activity and stimulus epochs.\n",
    "</div>"
   ]
  },
  {
   "cell_type": "code",
   "execution_count": null,
   "metadata": {},
   "outputs": [],
   "source": [
    "plt.figure(figsize=(20, 10))\n",
    "plt.ylim(-20,52)\n",
    "\n",
    "# plot binned spike rates\n",
    "for i in range(numunits):\n",
    "    plt.plot(bin_edges[:-1], i + (visp_binned[i, :] / 30.), color='gray')\n",
    "\n",
    "# plot running speed, with scale/offset to place it below spike plots\n",
    "plt.plot(session.running_speed['end_time'], (0.3 * session.running_speed['velocity']) - 20)\n",
    "\n",
    "# color session regions\n",
    "colors = ['blue','orange','green','red','yellow','purple','magenta','gray','lightblue']\n",
    "for c, stim_name in enumerate(session.stimulus_names):\n",
    "    stim = stimulus_epochs[stimulus_epochs.stimulus_name==stim_name]\n",
    "    for j in range(len(stim)):\n",
    "        plt.axvspan(\n",
    "            xmin=stim[\"start_time\"].iloc[j], \n",
    "            xmax=stim[\"stop_time\"].iloc[j], \n",
    "            color=colors[c], \n",
    "            alpha=0.1\n",
    "        )"
   ]
  },
  {
   "cell_type": "markdown",
   "metadata": {},
   "source": [
    "<div style=\"border-left: 3px solid #000; padding: 5px; padding-left: 10px; background: #F0FAFF; \">\n",
    "    \n",
    "<h3>Pupil data</h3>\n",
    "    \n",
    "<p> Let's also add one more piece of data that is highly correlated with running and arousal: the pupil data.  \n",
    "\n",
    "</div>"
   ]
  },
  {
   "cell_type": "code",
   "execution_count": null,
   "metadata": {},
   "outputs": [],
   "source": [
    "pupil_data = session.get_pupil_data()\n",
    "pupil_data"
   ]
  },
  {
   "cell_type": "markdown",
   "metadata": {},
   "source": [
    "<div style=\"border-left: 3px solid #000; padding: 5px; padding-left: 10px; background: #F0FAFF; \">\n",
    "There are many variables here but for now let's focus on the pupil diameter/width, which is closely related with the animal's level of arousal.\n",
    "</div>"
   ]
  },
  {
   "cell_type": "code",
   "execution_count": null,
   "metadata": {},
   "outputs": [],
   "source": [
    "# Plot pupil diameter alongside running speed\n",
    "fig, ax = plt.subplots(2, 1, sharex=True)\n",
    "\n",
    "ax[0].plot(pupil_data.index, pupil_data['pupil_width'])\n",
    "ax[0].set_ylabel(\"Pupil width\")\n",
    "ax[0].set_ylim(0, 100)\n",
    "\n",
    "ax[1].plot(session.running_speed['end_time'], session.running_speed['velocity'])\n",
    "ax[1].set_xlabel(\"Time (s)\")\n",
    "ax[1].set_ylabel(\"Running speed\")\n",
    "ax[1].set_ylim(0, 100)\n"
   ]
  },
  {
   "cell_type": "markdown",
   "metadata": {},
   "source": [
    "<div style=\"border-left: 3px solid #000; padding: 5px; padding-left: 10px; background: #F0FAFF; \">\n",
    "<h3>Stimulus presentations</h3>\n",
    "\n",
    "<p> Now let's go back and learn more about the stimulus that was presented. The session object has a function that returns a table for a given stimulus called `get_stimulus_table`.\n",
    "    \n",
    "In some cases, you might instead want the information for all types of stimulus in one table - this is stored in 'session.stimulus_presentations', although it takes a while to load.\n",
    "\n",
    "Use this to get the stimulus table for drifting gratings and for natural scenes. What information do these tables provide? How are they different?\n",
    "\n",
    "</div>\n"
   ]
  },
  {
   "cell_type": "code",
   "execution_count": null,
   "metadata": {},
   "outputs": [],
   "source": [
    "stim_table = session.get_stimulus_table('drifting_gratings')"
   ]
  },
  {
   "cell_type": "code",
   "execution_count": null,
   "metadata": {},
   "outputs": [],
   "source": [
    "stim_table.head()"
   ]
  },
  {
   "cell_type": "markdown",
   "metadata": {},
   "source": [
    "Now get the stimulus table for natural scenes. What is different about these tables?"
   ]
  },
  {
   "cell_type": "code",
   "execution_count": null,
   "metadata": {},
   "outputs": [],
   "source": [
    "stim_table_ns = session.get_stimulus_table('natural_scenes')"
   ]
  },
  {
   "cell_type": "code",
   "execution_count": null,
   "metadata": {},
   "outputs": [],
   "source": [
    "stim_table_ns.head()"
   ]
  },
  {
   "cell_type": "markdown",
   "metadata": {},
   "source": [
    "<div style=\"border-left: 3px solid #000; background: #F0FAFF; border-radius: 3px; padding: 10px;\">\n",
    "<b>Drifting gratings stimulus parameters</b>\n",
    "\n",
    "<p> Use the drifting grating stimulus table to determine what are the unique parameters for the different stimulus conditions of this stimulus.\n",
    "\n",
    "</div>\n"
   ]
  },
  {
   "cell_type": "code",
   "execution_count": null,
   "metadata": {},
   "outputs": [],
   "source": [
    "stim_table.orientation.unique()"
   ]
  },
  {
   "cell_type": "code",
   "execution_count": null,
   "metadata": {},
   "outputs": [],
   "source": [
    "stim_table.spatial_frequency.unique()"
   ]
  },
  {
   "cell_type": "code",
   "execution_count": null,
   "metadata": {},
   "outputs": [],
   "source": [
    "stim_table.temporal_frequency.unique()"
   ]
  },
  {
   "cell_type": "code",
   "execution_count": null,
   "metadata": {},
   "outputs": [],
   "source": [
    "stim_table.contrast.unique()"
   ]
  },
  {
   "cell_type": "markdown",
   "metadata": {},
   "source": [
    "What do you think the 'null' conditions are?"
   ]
  },
  {
   "cell_type": "markdown",
   "metadata": {},
   "source": [
    "<div style=\"border-left: 3px solid #000; background: #F0FAFF; border-radius: 3px; padding: 10px;\">\n",
    "<b>Natural scenes image presentations</b>\n",
    "\n",
    "<p> Use the stimulus table for natural scenes to find all the times when a particular image is presented during the session, and add it to the plot of activity in V1.  Pick the first image that was presented in this session.\n",
    "</div>\n"
   ]
  },
  {
   "cell_type": "code",
   "execution_count": null,
   "metadata": {},
   "outputs": [],
   "source": [
    "stim_table_ns[stim_table_ns.frame==stim_table_ns.frame.iloc[0]].head()"
   ]
  },
  {
   "cell_type": "markdown",
   "metadata": {},
   "source": [
    "How many times was it presented?"
   ]
  },
  {
   "cell_type": "code",
   "execution_count": null,
   "metadata": {},
   "outputs": [],
   "source": [
    "len(stim_table_ns[stim_table_ns.frame==stim_table_ns.frame.iloc[0]])"
   ]
  },
  {
   "cell_type": "markdown",
   "metadata": {},
   "source": [
    "Mark the times when this particular scene was presented on our plot of the activity (without the epochs and running speed)."
   ]
  },
  {
   "cell_type": "code",
   "execution_count": null,
   "metadata": {},
   "outputs": [],
   "source": [
    "plt.figure(figsize=(20,10))\n",
    "for i in range(numunits):\n",
    "    plt.plot(i+(visp_binned[i,:]/30.), color='gray')\n",
    "    \n",
    "stim_subset = stim_table_ns[stim_table_ns.frame==stim_table_ns.frame.iloc[0]]\n",
    "for j in range(len(stim_subset)):\n",
    "    plt.axvspan(xmin=stim_subset.start_time.iloc[j], xmax=stim_subset.stop_time.iloc[j], color='r', alpha=0.5)\n",
    "plt.xlim(5000,9000)"
   ]
  },
  {
   "cell_type": "markdown",
   "metadata": {},
   "source": [
    "<div style=\"border-left: 3px solid #000; background: #F0FAFF; border-radius: 3px; padding: 10px;\">\n",
    "<b>Natural scene stimulus template</b> \n",
    "\n",
    "<p> What is this image? The `stimulus template` provides the images and movies that were presented to the mouse. These are only provided for stimuli that are images (natural scenes, natural movies) - parametric stimuli (eg. gratings) do not have templates.\n",
    "</div>\n"
   ]
  },
  {
   "cell_type": "code",
   "execution_count": null,
   "metadata": {},
   "outputs": [],
   "source": [
    "image_num = 60\n",
    "image_template = cache.get_natural_scene_template(image_num)\n",
    "\n",
    "plt.imshow(image_template, cmap='gray')"
   ]
  },
  {
   "cell_type": "markdown",
   "metadata": {},
   "source": [
    "<div style=\"border-left: 3px solid #000; background: #F0FAFF; border-radius: 3px; padding: 10px;\">\n",
    "    <b>Single trial raster plots for all units.</b>\n",
    "\n",
    "<p>Now that we've seen the pieces of data, we can explore the neural activity in greater detail. Make a raster plot for a single presentation of the drifting grating stimulus at orientation=45 degrees and temporal frequency = 2 Hz.\n",
    "\n",
    "To start, make a function to make a raster plot of all the units in the experiment.\n",
    "\n",
    "</div>\n"
   ]
  },
  {
   "cell_type": "code",
   "execution_count": null,
   "metadata": {},
   "outputs": [],
   "source": [
    "def plot_raster(spike_times, start, end):\n",
    "    num_units = len(spike_times)\n",
    "    ystep = 1 / num_units\n",
    "\n",
    "    ymin = 0\n",
    "    ymax = ystep\n",
    "\n",
    "    for unit_id, unit_spike_times in spike_times.items():\n",
    "        unit_spike_times = unit_spike_times[np.logical_and(unit_spike_times >= start, unit_spike_times < end)]\n",
    "        plt.vlines(unit_spike_times, ymin=ymin, ymax=ymax)\n",
    "\n",
    "        ymin += ystep\n",
    "        ymax += ystep\n",
    "        "
   ]
  },
  {
   "cell_type": "markdown",
   "metadata": {},
   "source": [
    "Find the first presentation of our chosen grating condition."
   ]
  },
  {
   "cell_type": "code",
   "execution_count": null,
   "metadata": {},
   "outputs": [],
   "source": [
    "stim_table = session.get_stimulus_table('drifting_gratings')\n",
    "subset = stim_table[(stim_table.orientation==45)&(stim_table.temporal_frequency==2)]\n",
    "start = stim_table.start_time.iloc[0]\n",
    "end = stim_table.stop_time.iloc[0]"
   ]
  },
  {
   "cell_type": "markdown",
   "metadata": {},
   "source": [
    "Use the plot_raster function to plot the response of all units to this trial. Pad the raster plot with half a second before and after the trial, and shade the trial red (with an alpha of 0.1)"
   ]
  },
  {
   "cell_type": "code",
   "execution_count": null,
   "metadata": {},
   "outputs": [],
   "source": [
    "plt.figure(figsize=(8,6))\n",
    "plot_raster(session.spike_times, start-0.5, end+0.5)\n",
    "plt.axvspan(start, end, color='red', alpha=0.1)\n",
    "plt.xlabel('Time (sec)', fontsize=16)\n",
    "plt.ylabel('Units', fontsize=16)\n",
    "plt.tick_params(axis=\"y\", labelleft=False, left=False)\n",
    "plt.show()"
   ]
  },
  {
   "cell_type": "markdown",
   "metadata": {},
   "source": [
    "<div style=\"border-left: 3px solid #000; background: #F0FAFF; border-radius: 3px; padding: 10px;\">\n",
    "\n",
    "<p>Use the `unit` dataframe to arrange the neurons in the raster plot according to their overall firing rate. \n",
    "\n",
    "</div>\n"
   ]
  },
  {
   "cell_type": "code",
   "execution_count": null,
   "metadata": {
    "scrolled": false
   },
   "outputs": [],
   "source": [
    "session.units.sort_values(by=\"firing_rate\", ascending=False).head()"
   ]
  },
  {
   "cell_type": "code",
   "execution_count": null,
   "metadata": {},
   "outputs": [],
   "source": [
    "plt.plot(session.units.sort_values(by=\"firing_rate\", ascending=False).firing_rate.values, 'o')\n",
    "plt.ylabel(\"Firing rate (Hz)\")\n",
    "plt.xlabel(\"Unit #\")"
   ]
  },
  {
   "cell_type": "code",
   "execution_count": null,
   "metadata": {},
   "outputs": [],
   "source": [
    "by_fr = session.units.sort_values(by=\"firing_rate\", ascending=False)\n",
    "spike_times_by_firing_rate = {\n",
    "    uid: session.spike_times[uid] for uid in by_fr.index.values\n",
    "}\n",
    "\n",
    "plt.figure(figsize=(8,6))\n",
    "plot_raster(spike_times_by_firing_rate, start-0.5, end+0.5)\n",
    "plt.axvspan(start, end, color='red', alpha=0.1)\n",
    "plt.ylabel('Units', fontsize=16)\n",
    "plt.xlabel('Time (sec)', fontsize=16)\n",
    "plt.tick_params(axis=\"y\", labelleft=False, left=False)\n",
    "plt.show()\n"
   ]
  },
  {
   "cell_type": "markdown",
   "metadata": {},
   "source": [
    "<div style=\"border-left: 3px solid #000; padding: 1px; padding-left: 10px; background: #F0FAFF; \">\n",
    "\n",
    "<h2>4. Stimulus responses</h2>\n",
    "\n",
    "<p> A lot of the analysis of these data will requires comparing responses of neurons to different stimulus conditions and presentations. The SDK has functions to help access these, sorting the spike data into responses for each stimulus presentations and converting from spike times to binned spike counts. This spike histogram representation is more useful for many computations, since it can be treated as a timeseries and directly averaged across presentations. \n",
    "\n",
    "<p>The `presentationwise_spike_counts` provides the histograms for specified stimulus presentation trials for specified units. The function requires <b>stimulus_presentation_ids</b> for the stimulus in question, <b>unit_ids</b> for the relevant units, and <b>bin_edges</b> to specify the time bins to count spikes in (relative to stimulus onset).\n",
    "\n",
    "<p>The `conditionwise_spike_statistics` creates a summary of specified units responses to specified stimulus conditions, including the mean spike count, standard deviation, and standard error of the mean.\n",
    "\n",
    "</div>\n"
   ]
  },
  {
   "cell_type": "markdown",
   "metadata": {},
   "source": [
    "<div style=\"background: #DFF0D8; border-radius: 3px; padding: 10px;\">\n",
    "<p><b>Task 5: Presentation-wise analysis for drifting gratings</b>\n",
    "\n",
    "<p>  \n",
    "\n",
    "Pick  a specific condition of the drifting grating stimulus and create spike histograms for the units in V1.\n",
    "<p>Create bins at a 10 ms resolution so we can see dynamics on a fast timescale.\n",
    "\n",
    "</div>"
   ]
  },
  {
   "cell_type": "code",
   "execution_count": null,
   "metadata": {},
   "outputs": [],
   "source": [
    "stim_table.head()"
   ]
  },
  {
   "cell_type": "code",
   "execution_count": null,
   "metadata": {},
   "outputs": [],
   "source": [
    "# specify the time bins in seconds, relative to stimulus onset\n",
    "time_step = 1/100.\n",
    "duration = stim_table.duration.iloc[0]\n",
    "time_domain = np.arange(0, duration+time_step, time_step)\n",
    "print(time_domain.shape)"
   ]
  },
  {
   "cell_type": "code",
   "execution_count": null,
   "metadata": {},
   "outputs": [],
   "source": [
    "stim_ids = stim_table[(stim_table.orientation==90)&(stim_table.temporal_frequency==1)].index\n",
    "print(stim_ids.shape)"
   ]
  },
  {
   "cell_type": "code",
   "execution_count": null,
   "metadata": {},
   "outputs": [],
   "source": [
    "histograms = session.presentationwise_spike_counts(bin_edges=time_domain, \n",
    "                                                   stimulus_presentation_ids=stim_ids, \n",
    "                                                   unit_ids=visp_units.index)"
   ]
  },
  {
   "cell_type": "markdown",
   "metadata": {},
   "source": [
    "What type of object is this? What is its shape?"
   ]
  },
  {
   "cell_type": "code",
   "execution_count": null,
   "metadata": {},
   "outputs": [],
   "source": []
  },
  {
   "cell_type": "code",
   "execution_count": null,
   "metadata": {},
   "outputs": [],
   "source": []
  },
  {
   "cell_type": "markdown",
   "metadata": {},
   "source": [
    "<div style=\"border-left: 3px solid #000; padding: 1px; padding-left: 10px; background: #F0FAFF; \">\n",
    "<h3>Xarray</h3>\n",
    "\n",
    "This has returned a new (to this notebook) data structure, the `xarray.DataArray`. You can think of this as similar to a 3+D `pandas.DataFrame`, or as a `numpy.ndarray` with labeled axes and indices. See the [xarray documentation](http://xarray.pydata.org/en/stable/index.html) for more information. In the mean time, the salient features are:\n",
    "\n",
    "- Dimensions : Each axis on each data variable is associated with a named dimension. This lets us see unambiguously what the axes of our array mean.\n",
    "- Coordinates : Arrays of labels for each sample on each dimension.\n",
    "\n",
    "xarray is nice because it forces code to be explicit about dimensions and coordinates, improving readability and avoiding bugs. However, you can always convert to numpy or pandas data structures as follows:\n",
    "\n",
    "- to pandas: `histograms.to_dataframe()` produces a multiindexed dataframe\n",
    "- to numpy: `histograms.values` gives you access to the underlying numpy array\n",
    "\n",
    "</div>"
   ]
  },
  {
   "cell_type": "markdown",
   "metadata": {},
   "source": [
    "<div style=\"border-left: 3px solid #000; background: #F0FAFF; border-radius: 3px; padding: 10px;\">\n",
    "<p>Plot the response of the first unit to all 15 trials\n",
    "\n",
    "\n",
    "\n",
    "</div>"
   ]
  },
  {
   "cell_type": "code",
   "execution_count": null,
   "metadata": {},
   "outputs": [],
   "source": [
    "for i in range(15):\n",
    "    plt.plot(histograms.time_relative_to_stimulus_onset, i+histograms[i,:,0])\n",
    "plt.xlabel(\"Time (s)\", fontsize=16)\n",
    "plt.ylabel(\"Trials\", fontsize=16)"
   ]
  },
  {
   "cell_type": "markdown",
   "metadata": {},
   "source": [
    "<div style=\"border-left: 3px solid #000; background: #F0FAFF; border-radius: 3px; padding: 10px;\">\n",
    "<p>Compute the mean of the trials for all units, and plot a heatmap of mean response for all units in V1\n",
    "\n",
    "\n",
    "\n",
    "</div>"
   ]
  },
  {
   "cell_type": "code",
   "execution_count": null,
   "metadata": {},
   "outputs": [],
   "source": [
    "mean_histograms = histograms.mean(dim=\"stimulus_presentation_id\")"
   ]
  },
  {
   "cell_type": "code",
   "execution_count": null,
   "metadata": {},
   "outputs": [],
   "source": [
    "mean_histograms.coords"
   ]
  },
  {
   "cell_type": "code",
   "execution_count": null,
   "metadata": {},
   "outputs": [],
   "source": [
    "import xarray.plot as xrplot\n",
    "xrplot.imshow(darray=mean_histograms, x=\"time_relative_to_stimulus_onset\",\n",
    "                                      y=\"unit_id\")"
   ]
  },
  {
   "cell_type": "markdown",
   "metadata": {},
   "source": [
    "<div style=\"border-left: 3px solid #000; background: #F0FAFF; border-radius: 3px; padding: 10px;\">\n",
    "<h3>Conditionwise analysis</h3> \n",
    "\n",
    "In order to compute a tuning curve that summarizes the responses of a unit to each stimulus condition of a stimulus, use the `conditionwise_spike_statistics` to summarize the activity of specific units to the different stimulus conditions.\n",
    "\n",
    "<p> \n",
    "\n",
    "</div>"
   ]
  },
  {
   "cell_type": "code",
   "execution_count": null,
   "metadata": {},
   "outputs": [],
   "source": [
    "stim_ids = stim_table.index.values"
   ]
  },
  {
   "cell_type": "code",
   "execution_count": null,
   "metadata": {},
   "outputs": [],
   "source": [
    "dg_stats = session.conditionwise_spike_statistics(stimulus_presentation_ids=stim_ids, unit_ids=visp_units.index)"
   ]
  },
  {
   "cell_type": "markdown",
   "metadata": {},
   "source": [
    "What type of object is this? What is its shape?"
   ]
  },
  {
   "cell_type": "code",
   "execution_count": null,
   "metadata": {},
   "outputs": [],
   "source": [
    "type(dg_stats)"
   ]
  },
  {
   "cell_type": "code",
   "execution_count": null,
   "metadata": {},
   "outputs": [],
   "source": [
    "dg_stats.shape"
   ]
  },
  {
   "cell_type": "markdown",
   "metadata": {},
   "source": [
    "What are its columns?"
   ]
  },
  {
   "cell_type": "code",
   "execution_count": null,
   "metadata": {},
   "outputs": [],
   "source": [
    "dg_stats.columns"
   ]
  },
  {
   "cell_type": "markdown",
   "metadata": {},
   "source": [
    "Can you explain the first dimension?"
   ]
  },
  {
   "cell_type": "code",
   "execution_count": null,
   "metadata": {},
   "outputs": [],
   "source": [
    "dg_stats.head()"
   ]
  },
  {
   "cell_type": "markdown",
   "metadata": {},
   "source": [
    "<div style=\"border-left: 3px solid #000; background: #F0FAFF; border-radius: 3px; padding: 10px;\">\n",
    "<p><b>Merge the conditionwise statistics with stimulus information</b>\n",
    "\n",
    "In order to link the stimulus responses with the stimulus conditions, merge the spike_statistics output with the stimulus table using `pd.merge()`.\n",
    "\n",
    "<p> \n",
    "\n",
    "</div>"
   ]
  },
  {
   "cell_type": "code",
   "execution_count": null,
   "metadata": {},
   "outputs": [],
   "source": [
    "dg_stats_stim = pd.merge(dg_stats, session.stimulus_conditions, on='stimulus_condition_id', right_index=True)"
   ]
  },
  {
   "cell_type": "markdown",
   "metadata": {},
   "source": [
    "<div style=\"border-left: 3px solid #000; padding: 1px; padding-left: 10px; background: #F0FAFF; \">\n",
    "\n",
    "This dataframe currently has a *multi-index*, meaning that each row is indexed by the pair of unit_id and stimulus_condition_id, rather than a single identifier. There are several ways to use this index:\n",
    "\n",
    "- specify the pair of identifiers as a tuple: `dg_stats_stim.loc[(unit_id, stim_id)]`\n",
    "- specifying the axis makes it easier to get all rows for one unit: `dg_stats_stim.loc(axis=0)[unit_id, :]`\n",
    "- or you can use `dg_stats_stim.reset_index()` to move the index to regular columns\n",
    "\n",
    "</div>"
   ]
  },
  {
   "cell_type": "code",
   "execution_count": null,
   "metadata": {},
   "outputs": [],
   "source": [
    "dg_stats_stim.head()"
   ]
  },
  {
   "cell_type": "markdown",
   "metadata": {},
   "source": [
    "<div style=\"border-left: 3px solid #000; background: #F0FAFF; border-radius: 3px; padding: 10px;\">\n",
    "<p>Plot a 2D tuning curve for the first unit, comparing responses across temporal frequency and orientation.\n",
    "\n",
    "\n",
    "<p> \n",
    "\n",
    "</div>"
   ]
  },
  {
   "cell_type": "code",
   "execution_count": null,
   "metadata": {},
   "outputs": [],
   "source": [
    "unit_id = visp_units.index[1]"
   ]
  },
  {
   "cell_type": "code",
   "execution_count": null,
   "metadata": {},
   "outputs": [],
   "source": [
    "stim_ids = stim_table.index.values\n",
    "session.get_stimulus_parameter_values(stimulus_presentation_ids=stim_ids, drop_nulls=True)"
   ]
  },
  {
   "cell_type": "code",
   "execution_count": null,
   "metadata": {},
   "outputs": [],
   "source": [
    "\n",
    "orivals = session.get_stimulus_parameter_values(stimulus_presentation_ids=stim_ids, drop_nulls=True)['orientation']\n",
    "tfvals = session.get_stimulus_parameter_values(stimulus_presentation_ids=stim_ids, drop_nulls=True)['temporal_frequency']"
   ]
  },
  {
   "cell_type": "code",
   "execution_count": null,
   "metadata": {},
   "outputs": [],
   "source": [
    "response_mean = np.empty((len(orivals), len(tfvals)))\n",
    "response_sem = np.empty((len(orivals), len(tfvals)))\n",
    "for i,ori in enumerate(orivals):\n",
    "    for j,tf in enumerate(tfvals):\n",
    "        stim_id = stim_table[(stim_table.orientation==ori)&(stim_table.temporal_frequency==tf)].stimulus_condition_id.iloc[0]\n",
    "        response_mean[i,j] = dg_stats_stim.loc[(unit_id, stim_id)].spike_mean\n",
    "        response_sem[i,j] = dg_stats_stim.loc[(unit_id, stim_id)].spike_sem\n"
   ]
  },
  {
   "cell_type": "code",
   "execution_count": null,
   "metadata": {},
   "outputs": [],
   "source": [
    "plt.imshow(response_mean)\n",
    "plt.xlabel(\"Temporal frequency (Hz)\")\n",
    "plt.ylabel(\"Direction (deg)\")\n",
    "plt.xticks(range(5), tfvals)\n",
    "plt.yticks(range(8), orivals)\n",
    "plt.show()"
   ]
  },
  {
   "cell_type": "markdown",
   "metadata": {},
   "source": [
    "<div style=\"border-left: 3px solid #000; padding: 1px; padding-left: 10px; background: #F0FAFF; \">\n",
    "\n",
    "<h2>5. Unit waveforms</h2>\n",
    "\n",
    "<p> For each unit, the average action potential waveform has been recorded from each channel of the probe. This is contained in the `mean_waveforms` object. This is the characteristic pattern that distinguishes each unit in spike sorting, and it can also help inform us regarding differences between cell types. \n",
    "\n",
    "<p>We will use this in conjuction with the `channel_structure_intervals` function which tells us where each channel is located in the brain. This will let us get a feel for the spatial extent of the extracellular action potential waveforms in relation to specific structures.\n",
    "\n",
    "\n",
    "</div>\n"
   ]
  },
  {
   "cell_type": "markdown",
   "metadata": {},
   "source": [
    "<div style=\"border-left: 3px solid #000; background: #F0FAFF; border-radius: 3px; padding: 10px;\">\n",
    "\n",
    "Get the waveform for one unit.\n",
    "</div>"
   ]
  },
  {
   "cell_type": "code",
   "execution_count": null,
   "metadata": {},
   "outputs": [],
   "source": [
    "waveforms = session.mean_waveforms"
   ]
  },
  {
   "cell_type": "markdown",
   "metadata": {},
   "source": [
    "What type of object is this?"
   ]
  },
  {
   "cell_type": "code",
   "execution_count": null,
   "metadata": {},
   "outputs": [],
   "source": [
    "type(waveforms)"
   ]
  },
  {
   "cell_type": "markdown",
   "metadata": {},
   "source": [
    "What are the keys?"
   ]
  },
  {
   "cell_type": "code",
   "execution_count": null,
   "metadata": {},
   "outputs": [],
   "source": [
    "list(waveforms.keys())[:5]"
   ]
  },
  {
   "cell_type": "markdown",
   "metadata": {},
   "source": [
    "Get the waveform for one unit"
   ]
  },
  {
   "cell_type": "code",
   "execution_count": null,
   "metadata": {},
   "outputs": [],
   "source": [
    "unit = session.units.index.values[400]\n",
    "wf = session.mean_waveforms[unit]"
   ]
  },
  {
   "cell_type": "markdown",
   "metadata": {},
   "source": [
    "What type of object is this? What is its shape?"
   ]
  },
  {
   "cell_type": "code",
   "execution_count": null,
   "metadata": {},
   "outputs": [],
   "source": [
    "type(wf)"
   ]
  },
  {
   "cell_type": "code",
   "execution_count": null,
   "metadata": {},
   "outputs": [],
   "source": [
    "wf.coords"
   ]
  },
  {
   "cell_type": "code",
   "execution_count": null,
   "metadata": {},
   "outputs": [],
   "source": [
    "wf.shape"
   ]
  },
  {
   "cell_type": "code",
   "execution_count": null,
   "metadata": {},
   "outputs": [],
   "source": [
    "plt.imshow(wf, aspect=0.2, origin='lower')\n",
    "plt.xlabel('Time steps')\n",
    "plt.ylabel('Channel #')"
   ]
  },
  {
   "cell_type": "markdown",
   "metadata": {},
   "source": [
    "<div style=\"border-left: 3px solid #000; background: #F0FAFF; border-radius: 3px; padding: 10px;\">\n",
    "<p><b>Unit waveform channel locations</b> \n",
    "\n",
    "<p> \n",
    "Use the `channel_structure_intervals` to get information about where each channel is located.\n",
    "\n",
    "We need to pass this function a list of channel ids, and it will identify channels that mark boundaries between identified brain regions. \n",
    "\n",
    "<p>We can use this information to add some context to our visualization.\n",
    "</div>\n"
   ]
  },
  {
   "cell_type": "code",
   "execution_count": null,
   "metadata": {},
   "outputs": [],
   "source": [
    "# pass in the list of channels from the waveforms data\n",
    "structure_acronyms, intervals = session.channel_structure_intervals(wf.channel_id.values)\n",
    "print(structure_acronyms)\n",
    "print(intervals)"
   ]
  },
  {
   "cell_type": "markdown",
   "metadata": {},
   "source": [
    "Place tick marks at the interval boundaries, and labels at the interval midpoints."
   ]
  },
  {
   "cell_type": "code",
   "execution_count": null,
   "metadata": {},
   "outputs": [],
   "source": [
    "fig, ax = plt.subplots()\n",
    "plt.imshow(wf, aspect=0.2, origin='lower')\n",
    "plt.colorbar(ax=ax)\n",
    "\n",
    "ax.set_xlabel(\"time (s)\")\n",
    "ax.set_yticks(intervals)\n",
    "# construct a list of midpoints by averaging adjacent endpoints\n",
    "interval_midpoints = [ (aa + bb) / 2 for aa, bb in zip(intervals[:-1], intervals[1:])]\n",
    "ax.set_yticks(interval_midpoints, minor=True)\n",
    "ax.set_yticklabels(structure_acronyms, minor=True)\n",
    "plt.tick_params(\"y\", which=\"major\", labelleft=False, length=40)\n",
    "\n",
    "plt.show()"
   ]
  },
  {
   "cell_type": "markdown",
   "metadata": {},
   "source": [
    "Let's see if this matches the structure information saved in the units table:"
   ]
  },
  {
   "cell_type": "code",
   "execution_count": null,
   "metadata": {},
   "outputs": [],
   "source": [
    "session.units.loc[unit, \"ecephys_structure_acronym\"]"
   ]
  },
  {
   "cell_type": "markdown",
   "metadata": {},
   "source": [
    "<div style=\"border-left: 3px solid #000; background: #F0FAFF; border-radius: 3px; padding: 10px;\">\n",
    "    <p><b>Plot the mean waveform for the peak channel for each unit in the dentate gyrus (DG) </b>\n",
    "\n",
    "<p> Start by plotting the mean waveform for the peak channel for the unit we just looked at. \n",
    "Then do this for all the units in DG, making a heatmap of these waveforms\n",
    "</div>"
   ]
  },
  {
   "cell_type": "markdown",
   "metadata": {},
   "source": [
    "Find the peak channel for this unit, and plot the mean waveform for just that channel"
   ]
  },
  {
   "cell_type": "code",
   "execution_count": null,
   "metadata": {},
   "outputs": [],
   "source": [
    "channel_id = session.units.loc[unit, 'peak_channel_id']\n",
    "print(channel_id)"
   ]
  },
  {
   "cell_type": "code",
   "execution_count": null,
   "metadata": {},
   "outputs": [],
   "source": [
    "plt.plot(wf.loc[{\"channel_id\": channel_id}])"
   ]
  },
  {
   "cell_type": "code",
   "execution_count": null,
   "metadata": {},
   "outputs": [],
   "source": [
    "fig, ax = plt.subplots()\n",
    "\n",
    "th_unit_ids = session.units[session.units.ecephys_structure_acronym==\"DG\"].index.values\n",
    "\n",
    "peak_waveforms = []\n",
    "\n",
    "for unit_id in th_unit_ids:\n",
    "\n",
    "    peak_ch = session.units.loc[unit_id, \"peak_channel_id\"]\n",
    "    unit_mean_waveforms = session.mean_waveforms[unit_id]\n",
    "\n",
    "    peak_waveforms.append(unit_mean_waveforms.loc[{\"channel_id\": peak_ch}])\n",
    "    \n",
    "    \n",
    "time_domain = unit_mean_waveforms[\"time\"]\n",
    "\n",
    "peak_waveforms = np.array(peak_waveforms)\n",
    "plt.pcolormesh(peak_waveforms)"
   ]
  },
  {
   "cell_type": "markdown",
   "metadata": {},
   "source": [
    "<div style=\"border-left: 3px solid #000; padding: 1px; padding-left: 10px; background: #F0FAFF; \">\n",
    "\n",
    "<h2> 6. Local Field Potential (LFP)</h2>\n",
    "<p>\n",
    "The final aspect of a Neuropixels probe recording we will investigate is the local field potential (LFP). An LFP signal is a direct recordings of extracellular voltage from which individual spike contributions have been removed by low-pass filtering. The remaining signal reflects the population activity of a large number of cells in the vicinity of the probe, primarily through the electrical field effects of synaptic currents (along with other trans-membrane currents).\n",
    "</p>\n",
    "<p>\n",
    "LFP can be especially informative for understanding rhythmic activity or oscillations in neural circuits, which can be identified by some simple time-series analysis of the LFP signals.\n",
    "</p>\n",
    "<p>\n",
    "For more information, see: \n",
    "</p>\n",
    "<ul><a href=\"https://allensdk.readthedocs.io/en/latest/_static/examples/nb/ecephys_lfp_analysis.html\">https://allensdk.readthedocs.io/en/latest/_static/examples/nb/ecephys_lfp_analysis.html</a></ul>\n",
    "</div>\n"
   ]
  },
  {
   "cell_type": "markdown",
   "metadata": {},
   "source": [
    "<div style=\"border-left: 3px solid #000; background: #F0FAFF; border-radius: 3px; padding: 10px;\">\n",
    "<b>Accessing LFP data</b>\n",
    "<br>\n",
    "We'll start by loading the LFP data from one of the probes in our session, using the `get_lfp` function.\n",
    "<br>\n",
    "We need to provide this function with a probe id, which we can pull out of the `session.probes` table. \n",
    "<br>\n",
    "(Note that the \"id\" column is the index of the dataframe, and thus must be accessed differently than other columns.)\n",
    "\n",
    "</div>\n",
    "\n",
    "\n"
   ]
  },
  {
   "cell_type": "code",
   "execution_count": null,
   "metadata": {},
   "outputs": [],
   "source": [
    "probe_id = session.probes.index[0]\n",
    "lfp = session.get_lfp(probe_id)\n",
    "print(lfp)"
   ]
  },
  {
   "cell_type": "markdown",
   "metadata": {},
   "source": [
    "<div style=\"border-left: 3px solid #000; background: #F0FAFF; border-radius: 3px; padding: 10px;\">\n",
    "<b>Plot the LFP data array</b>\n",
    "<br>\n",
    "To visualize this data, we'll first use the built-in xarray plotting to generate a quick plot. This is too much data to plot all at once, so we select a subset first. Just as in pandas, we use the `loc` property, but since xarray has named dimensions, we can specify our selections by name rather than by order, using a dict.\n",
    "<br>\n",
    "We'll also add the structure boundaries to this plot, as we did with unit waveforms.\n",
    "\n",
    "</div>\n",
    "\n",
    "\n"
   ]
  },
  {
   "cell_type": "code",
   "execution_count": null,
   "metadata": {},
   "outputs": [],
   "source": [
    "fig, ax = plt.subplots()\n",
    "lfp_plot = lfp.loc[dict(time=slice(5,20))]\n",
    "x, y = lfp_plot.time, range(len(lfp_plot.channel))\n",
    "plt.pcolormesh(x, y, lfp_plot.values.T)\n",
    "plt.colorbar(ax=ax)\n",
    "\n",
    "ax.set_xlabel(\"time (s)\")\n",
    "\n",
    "# include the structure data\n",
    "structure_acronyms, intervals = session.channel_structure_intervals(lfp.channel.values)\n",
    "ax.set_yticks(intervals)\n",
    "interval_midpoints = [ (aa + bb) / 2 for aa, bb in zip(intervals[:-1], intervals[1:])]\n",
    "ax.set_yticks(interval_midpoints, minor=True)\n",
    "ax.set_yticklabels(structure_acronyms, minor=True)\n",
    "plt.tick_params(\"y\", which=\"major\", labelleft=False, length=40)\n",
    "plt.show()"
   ]
  },
  {
   "cell_type": "markdown",
   "metadata": {},
   "source": [
    "<div style=\"border-left: 3px solid #000; background: #F0FAFF; border-radius: 3px; padding: 10px;\">\n",
    "<p><b>Plot and filter single-channel LFP timeseries</b>\n",
    "\n",
    "</div>\n",
    "\n",
    "\n"
   ]
  },
  {
   "cell_type": "markdown",
   "metadata": {},
   "source": [
    "We'll start by plotting the timeseries of a single channel."
   ]
  },
  {
   "cell_type": "code",
   "execution_count": null,
   "metadata": {},
   "outputs": [],
   "source": [
    "channel = lfp.channel[0]\n",
    "lfp_subset = lfp.loc[dict(channel=channel, time=slice(5,20))]\n",
    "\n",
    "# you might then want to clear the full LFP from memory if not using it\n",
    "# lfp = None\n",
    "\n",
    "plt.figure(figsize=(12,3))\n",
    "lfp_subset.plot()\n",
    "plt.show()"
   ]
  },
  {
   "cell_type": "markdown",
   "metadata": {},
   "source": [
    "We might also want to visualize a specific frequency band by filtering. To do this we'll want to convert our data into standard numpy arrays for easier processing using the DataArray object's `values` property."
   ]
  },
  {
   "cell_type": "code",
   "execution_count": null,
   "metadata": {},
   "outputs": [],
   "source": [
    "t = lfp_subset.time.values\n",
    "v = lfp_subset.values"
   ]
  },
  {
   "cell_type": "code",
   "execution_count": null,
   "metadata": {},
   "outputs": [],
   "source": [
    "import scipy.signal\n",
    "freq_window = (4, 10)\n",
    "filt_order = 3\n",
    "fs = 1/(t[1]-t[0])\n",
    "b, a = scipy.signal.butter(filt_order, freq_window, btype='bandpass', fs=fs)\n",
    "v_alpha = scipy.signal.lfilter(b, a, v)\n",
    "\n",
    "\n",
    "plt.figure(figsize=(12,3))\n",
    "plt.plot(t, v)\n",
    "plt.plot(t, v_alpha,'k')"
   ]
  },
  {
   "cell_type": "markdown",
   "metadata": {},
   "source": [
    "<div style=\"border-left: 3px solid #000; background: #F0FAFF; border-radius: 3px; padding: 10px;\">\n",
    "<p><b>LFP Power spectral density (PSD)</b>\n",
    "\n",
    "\n",
    "<p> Next we're going to analyze some spectral properties of this signal using the `scipy.signal` library. \"Spectral\" refers to decomposing a signal into a sum of simpler components identified by their frequencies. The set of frequencies of the components forms a *spectrum* that tells us about the complete signal. You can see a full list of spectral analysis functions in scipy here: https://docs.scipy.org/doc/scipy/reference/signal.html#spectral-analysis\n",
    "\n",
    "</div>\n",
    "\n",
    "\n"
   ]
  },
  {
   "cell_type": "markdown",
   "metadata": {},
   "source": [
    "We first import the package, and inspect the `periodogram` function, which estimates the size of the different frequency components of the signal."
   ]
  },
  {
   "cell_type": "code",
   "execution_count": null,
   "metadata": {},
   "outputs": [],
   "source": [
    "import scipy.signal\n",
    "help(scipy.signal.periodogram)"
   ]
  },
  {
   "cell_type": "markdown",
   "metadata": {},
   "source": [
    "There are a number of options that we won't go into here for refining the analysis. The one piece of information we do need is `fs`, the sampling frequency. If we used the default value `fs=1.0` our results would not match the true frequencies of the signal."
   ]
  },
  {
   "cell_type": "code",
   "execution_count": null,
   "metadata": {},
   "outputs": [],
   "source": [
    "fs = 1/(t[1]-t[0])\n",
    "\n",
    "f, psd = scipy.signal.periodogram(v, fs)"
   ]
  },
  {
   "cell_type": "markdown",
   "metadata": {},
   "source": [
    "We'll plot the power spectrum on a semilog plot, since power can vary over many orders of magnitude across frequencies."
   ]
  },
  {
   "cell_type": "code",
   "execution_count": null,
   "metadata": {},
   "outputs": [],
   "source": [
    "plt.figure(figsize=(6,3))\n",
    "plt.semilogy(f,psd,'k')\n",
    "plt.xlim((0,100))\n",
    "plt.yticks(size=15)\n",
    "plt.xticks(size=15)\n",
    "plt.ylabel('Power ($uV^{2}/Hz$)',size=20)\n",
    "plt.xlabel('Frequency (Hz)',size=20)\n",
    "plt.show()"
   ]
  },
  {
   "cell_type": "markdown",
   "metadata": {},
   "source": [
    "We see that this representation of the power spectrum is extremely noisy. Luckily, many people have come up with solutions to this problem. Scipy includes a function for Welch's method, which averages out noise by computing many estimates of the power spectrum from overlapping windows of the data. You can find some more references for this approach in the Scipy documentation: https://docs.scipy.org/doc/scipy/reference/generated/scipy.signal.welch.html#scipy.signal.welch"
   ]
  },
  {
   "cell_type": "code",
   "execution_count": null,
   "metadata": {},
   "outputs": [],
   "source": [
    "f, psd = scipy.signal.welch(v, fs, nperseg=1000)\n",
    "\n",
    "plt.figure(figsize=(6,3))\n",
    "plt.semilogy(f,psd,'k')\n",
    "plt.xlim((0,100))\n",
    "plt.yticks(size=15)\n",
    "plt.xticks(size=15)\n",
    "plt.ylabel('Power ($uV^{2}/Hz$)',size=20)\n",
    "plt.xlabel('Frequency (Hz)',size=20)\n",
    "plt.show()"
   ]
  },
  {
   "cell_type": "markdown",
   "metadata": {},
   "source": [
    "<div style=\"border-left: 3px solid #000; background: #F0FAFF; border-radius: 3px; padding: 10px;\">\n",
    "<p><b>Calculate and plot the time-frequency profile (\"spectrogram\")</b>\n",
    "\n",
    "\n",
    "<p> We might also be interested in how the frequency content of the signal varies over time. In a neural context, power in different frequency bands is often linked to specific types of processing, so we might explore whether changes in the spectrum coincide with specific behaviors or stimuli.</p>\n",
    "<p>\n",
    "The *spectrogram* is essentially an estimate of the power spectrum computed in a sliding time window, producing a 2D representation of the signal power across frequency and time.</p>\n",
    "\n",
    "</div>\n",
    "\n",
    "\n"
   ]
  },
  {
   "cell_type": "code",
   "execution_count": null,
   "metadata": {},
   "outputs": [],
   "source": [
    "f, t_spec, spec = scipy.signal.spectrogram(v, fs=fs, window='hanning',\n",
    "                            nperseg=1000, noverlap=1000-1, mode='psd')\n",
    "# Scipy assumes our signal starts at time=0, so we need to provide the offset\n",
    "t_spec = t_spec + t[0]"
   ]
  },
  {
   "cell_type": "markdown",
   "metadata": {},
   "source": [
    "We'll use the matplotlib `pcolormesh` function to visualize this data as an image. We can pass this function x and y coordinates to get the axis labeling right. We also log-transform the power spectrum and restrict to frequencies less than 100 Hz."
   ]
  },
  {
   "cell_type": "code",
   "execution_count": null,
   "metadata": {},
   "outputs": [],
   "source": [
    "fmax = 80\n",
    "x, y = t_spec, f[f<fmax]\n",
    "plot_data = np.log10(spec[f<fmax])"
   ]
  },
  {
   "cell_type": "markdown",
   "metadata": {},
   "source": [
    "We'll plot the spectrum together with the raw signal in subplots. Note that we explicitly set the x-axis limits to align the plots. (Alternatively, it's possible to directly couple the limits of different subplots.)"
   ]
  },
  {
   "cell_type": "code",
   "execution_count": null,
   "metadata": {},
   "outputs": [],
   "source": [
    "from matplotlib import cm\n",
    "plt.figure(figsize=(10,4))\n",
    "\n",
    "plt.subplot(2,1,1)\n",
    "plt.pcolormesh(x, y, plot_data, cmap=cm.jet)\n",
    "window = [5,20]\n",
    "plt.xlim(window)\n",
    "plt.ylabel('Frequency (Hz)')\n",
    "\n",
    "plt.subplot(2,1,2)\n",
    "plt.plot(t, v, 'k')\n",
    "plt.xlim(window)\n",
    "plt.xlabel('Time (s)')\n",
    "plt.ylabel('Voltage (a.u.)')\n",
    "plt.show()"
   ]
  },
  {
   "cell_type": "markdown",
   "metadata": {},
   "source": [
    "<div style=\"border-left: 3px solid #000; padding: 1px; padding-left: 10px; background: #F0FAFF; \">\n",
    "\n",
    "<h2> 7. Optotagging </h2>\n",
    "<p>\n",
    "At the end of each session is a period of optogenetic stimulation, when lights are shone onto the cortical surface and stimulate neurons that are Cre+.\n",
    "</p>\n",
    "<p>\n",
    "In this section, we will take a look at what data is available - for a longer treatment of using this data to classify neurons as Cre+, see the link below\n",
    "</p>\n",
    "</div>\n",
    "\n",
    "[optotagging tutorial](https://allensdk.readthedocs.io/en/latest/_static/examples/nb/ecephys_optotagging.html)"
   ]
  },
  {
   "cell_type": "markdown",
   "metadata": {},
   "source": [
    "<div style=\"border-left: 3px solid #000; background: #F0FAFF; border-radius: 3px; padding: 10px;\">\n",
    "<p><b>Pick a new session from a transgenic mouse, and see what optotagging data is available. </b> </p>\n",
    "\n",
    "</div>"
   ]
  },
  {
   "cell_type": "code",
   "execution_count": null,
   "metadata": {},
   "outputs": [],
   "source": [
    "session_id = sessions[sessions.full_genotype.str.match('Pvalb')].index[-3]\n",
    "session = cache.get_session_data(session_id)\n",
    "print(session.full_genotype)"
   ]
  },
  {
   "cell_type": "markdown",
   "metadata": {},
   "source": [
    "What type of information is available about optotagging?"
   ]
  },
  {
   "cell_type": "code",
   "execution_count": null,
   "metadata": {},
   "outputs": [],
   "source": [
    "opto_stim_table = session.optogenetic_stimulation_epochs\n",
    "opto_stim_table.head()"
   ]
  },
  {
   "cell_type": "markdown",
   "metadata": {},
   "source": [
    "What different types of stimuli are used, and how many times?"
   ]
  },
  {
   "cell_type": "code",
   "execution_count": null,
   "metadata": {},
   "outputs": [],
   "source": [
    "opto_stim_table.groupby(['stimulus_name','duration','level'])['condition'].value_counts()"
   ]
  },
  {
   "cell_type": "markdown",
   "metadata": {},
   "source": [
    "<div style=\"border-left: 3px solid #000; background: #F0FAFF; border-radius: 3px; padding: 10px;\">\n",
    "    <p><b>Plot spike rasters around a single optogenetic stimulus epoch </b> </p>\n",
    "\n",
    "</div>"
   ]
  },
  {
   "cell_type": "code",
   "execution_count": null,
   "metadata": {},
   "outputs": [],
   "source": [
    "# epoch = opto_stim_table[(opto_stim_table.stimulus_name=='pulse')&(opto_stim_table.duration>0.006)&(opto_stim_table.level==2.0)].iloc[0]\n",
    "epoch = opto_stim_table[(opto_stim_table.stimulus_name=='raised_cosine')&(opto_stim_table.level==2.0)].iloc[0]\n",
    "epoch"
   ]
  },
  {
   "cell_type": "code",
   "execution_count": null,
   "metadata": {},
   "outputs": [],
   "source": [
    "plt.figure(figsize=(8,6))\n",
    "plot_raster(session.spike_times, epoch.start_time-0.1, epoch.stop_time+0.1)\n",
    "plt.axvspan(epoch.start_time, epoch.stop_time, color='red', alpha=0.1)\n",
    "plt.xlabel('Time (sec)', fontsize=16)\n",
    "plt.ylabel('Units', fontsize=16)\n",
    "plt.tick_params(axis=\"y\", labelleft=False, left=False)\n",
    "plt.show()"
   ]
  },
  {
   "cell_type": "markdown",
   "metadata": {},
   "source": [
    "<div style=\"border-left: 3px solid #000; background: #F0FAFF; border-radius: 3px; padding: 10px;\">\n",
    "    <p><b>Plot rasters of only the 30 most active </b></p>\n",
    "\n",
    "</div>"
   ]
  },
  {
   "cell_type": "code",
   "execution_count": null,
   "metadata": {},
   "outputs": [],
   "source": [
    "by_fr = session.units.sort_values(by=\"firing_rate\", ascending=False)\n",
    "spike_times_by_firing_rate = {\n",
    "    uid: session.spike_times[uid] for uid in by_fr.index.values[:30]\n",
    "}\n",
    "\n",
    "plt.figure(figsize=(8,6))\n",
    "plot_raster(spike_times_by_firing_rate, epoch.start_time-0.3, epoch.stop_time+0.3)\n",
    "plt.axvspan(epoch.start_time, epoch.stop_time, color='red', alpha=0.1)\n",
    "plt.xlabel('Time (sec)', fontsize=16)\n",
    "plt.ylabel('Units', fontsize=16)\n",
    "plt.tick_params(axis=\"y\", labelleft=False, left=False)\n",
    "plt.show()"
   ]
  }
 ],
 "metadata": {
  "kernelspec": {
   "display_name": "Python [conda env:swdb_np]",
   "language": "python",
   "name": "conda-env-swdb_np-py"
  },
  "language_info": {
   "codemirror_mode": {
    "name": "ipython",
    "version": 3
   },
   "file_extension": ".py",
   "mimetype": "text/x-python",
   "name": "python",
   "nbconvert_exporter": "python",
   "pygments_lexer": "ipython3",
   "version": "3.7.11"
  }
 },
 "nbformat": 4,
 "nbformat_minor": 2
}
