{
 "cells": [
  {
   "cell_type": "markdown",
   "metadata": {},
   "source": [
    "<img src=\"../resources/cropped-SummerWorkshop_Header.png\">  \n",
    "\n",
    "<h1 align=\"center\">Brain Observatory - Neuropixels </h1> \n",
    "<h2 align=\"center\">Summer Workshop on the Dynamic Brain </h2> \n",
    "<h3 align=\"center\">Wednesday, August 28, 2019</h3> \n",
    "\n"
   ]
  },
  {
   "cell_type": "markdown",
   "metadata": {},
   "source": [
    "<div style=\"border-left: 3px solid #000; padding: 1px; padding-left: 10px; background: #F0FAFF; \">\n",
    "\n",
    "<p>This notebook will introduce you to the Neuropixel dataset and SDK functions. \n",
    "\n",
    "<p>\n",
    "</div>"
   ]
  },
  {
   "cell_type": "code",
   "execution_count": 1,
   "metadata": {},
   "outputs": [],
   "source": [
    "import os\n",
    "import numpy as np\n",
    "import matplotlib.pyplot as plt\n",
    "import pandas as pd\n",
    "\n",
    "%matplotlib inline\n",
    "\n",
    "# tab completion in the notebook sometimes has trouble with large dataframes\n",
    "# this will fix it\n",
    "%config Completer.use_jedi = False"
   ]
  },
  {
   "cell_type": "code",
   "execution_count": 2,
   "metadata": {},
   "outputs": [],
   "source": [
    "import platform\n",
    "platstring = platform.platform()\n",
    "\n",
    "if 'Darwin' in platstring:\n",
    "    # OS X \n",
    "    data_root = \"/Volumes/Brain2019/\"\n",
    "elif 'Windows'  in platstring:\n",
    "    # Windows (replace with the drive letter of USB drive)\n",
    "    data_root = \"E:/\"\n",
    "elif ('amzn1' in platstring):\n",
    "    # then on AWS\n",
    "    data_root = \"/data/\"\n",
    "else:\n",
    "    # then your own linux platform\n",
    "    # EDIT location where you mounted hard drive\n",
    "    data_root = \"/media/$USERNAME/Brain2019/\"\n",
    "    data_root = \"/run/media/tom.chartrand/Brain2019\"\n",
    "\n",
    "manifest_path = os.path.join(data_root, \"dynamic-brain-workshop/visual_coding_neuropixels/2019/manifest.json\")"
   ]
  },
  {
   "cell_type": "markdown",
   "metadata": {},
   "source": [
    "<div style=\"border-left: 3px solid #000; padding: 1px; padding-left: 10px; background: #F0FAFF; \">\n",
    "<p>The main entry point is the `EcephysProjectCache` class.  This class is responsible for downloading any requested data or metadata as needed and storing it in well known locations.  For this workshop, all of the data has been preloaded onto the hard drives you have received, and is available on AWS.\n",
    "\n",
    "<p>We begin by importing the `EcephysProjectCache` class and instantiating it.\n",
    "\n",
    "<p>`manifest_path` is a path to the manifest file.  We will use the manifest file preloaded onto your Workshop hard drives.  Make sure that `drive_path` is set correctly for your platform.  (See the first cell in this notebook.)\n",
    "</div>\n"
   ]
  },
  {
   "cell_type": "code",
   "execution_count": 3,
   "metadata": {},
   "outputs": [],
   "source": [
    "from allensdk.brain_observatory.ecephys.ecephys_project_cache import EcephysProjectCache\n",
    "from allensdk.brain_observatory.ecephys import ecephys_session\n",
    "\n",
    "# cache = EcephysProjectCache.fixed(manifest=manifest_path)"
   ]
  },
  {
   "cell_type": "code",
   "execution_count": 4,
   "metadata": {},
   "outputs": [
    {
     "name": "stdout",
     "output_type": "stream",
     "text": [
      "['brain_observatory_1.1', 'functional_connectivity']\n"
     ]
    }
   ],
   "source": [
    "# for now downloading from warehouse\n",
    "manifest_path = os.path.join('ecephys_cache_dir', \"manifest.json\")\n",
    "\n",
    "cache = EcephysProjectCache.from_warehouse(manifest=manifest_path)\n",
    "\n",
    "print(cache.get_all_session_types())"
   ]
  },
  {
   "cell_type": "markdown",
   "metadata": {},
   "source": [
    "# 1. Exploring available sessions of the dataset"
   ]
  },
  {
   "cell_type": "markdown",
   "metadata": {},
   "source": [
    "<div style=\"background: #DFF0D8; border-radius: 3px; padding: 10px;\">\n",
    "<p><b>Task 1:</b>  Get information about what's in the Neuropixel dataset from EcephysProjectCache\n",
    "\n",
    "<p>Use the `get_session_table()` function to retrieve a dataframe of all the available sessions. What information does this dataframe contain?\n",
    "\n",
    "- How many sessions are there in the dataset?\n",
    "- What is the average number of units in an experiment? The max number? The minimum?\n",
    "- What are the different genotypes that were used in these experiments? How many sessions per genotype?\n",
    "- What are all the brain structures that data has been collected from?\n",
    "</div>"
   ]
  },
  {
   "cell_type": "code",
   "execution_count": 5,
   "metadata": {},
   "outputs": [],
   "source": [
    "sessions = cache.get_session_table()"
   ]
  },
  {
   "cell_type": "code",
   "execution_count": 6,
   "metadata": {},
   "outputs": [
    {
     "data": {
      "text/html": [
       "<div>\n",
       "<style scoped>\n",
       "    .dataframe tbody tr th:only-of-type {\n",
       "        vertical-align: middle;\n",
       "    }\n",
       "\n",
       "    .dataframe tbody tr th {\n",
       "        vertical-align: top;\n",
       "    }\n",
       "\n",
       "    .dataframe thead th {\n",
       "        text-align: right;\n",
       "    }\n",
       "</style>\n",
       "<table border=\"1\" class=\"dataframe\">\n",
       "  <thead>\n",
       "    <tr style=\"text-align: right;\">\n",
       "      <th></th>\n",
       "      <th>published_at</th>\n",
       "      <th>specimen_id</th>\n",
       "      <th>session_type</th>\n",
       "      <th>age_in_days</th>\n",
       "      <th>sex</th>\n",
       "      <th>full_genotype</th>\n",
       "      <th>unit_count</th>\n",
       "      <th>channel_count</th>\n",
       "      <th>probe_count</th>\n",
       "      <th>ecephys_structure_acronyms</th>\n",
       "    </tr>\n",
       "    <tr>\n",
       "      <th>id</th>\n",
       "      <th></th>\n",
       "      <th></th>\n",
       "      <th></th>\n",
       "      <th></th>\n",
       "      <th></th>\n",
       "      <th></th>\n",
       "      <th></th>\n",
       "      <th></th>\n",
       "      <th></th>\n",
       "      <th></th>\n",
       "    </tr>\n",
       "  </thead>\n",
       "  <tbody>\n",
       "    <tr>\n",
       "      <th>715093703</th>\n",
       "      <td>2019-10-03T00:00:00Z</td>\n",
       "      <td>699733581</td>\n",
       "      <td>brain_observatory_1.1</td>\n",
       "      <td>118.0</td>\n",
       "      <td>M</td>\n",
       "      <td>Sst-IRES-Cre/wt;Ai32(RCL-ChR2(H134R)_EYFP)/wt</td>\n",
       "      <td>884</td>\n",
       "      <td>2219</td>\n",
       "      <td>6</td>\n",
       "      <td>[CA1, VISrl, nan, PO, LP, LGd, CA3, DG, VISl, ...</td>\n",
       "    </tr>\n",
       "    <tr>\n",
       "      <th>719161530</th>\n",
       "      <td>2019-10-03T00:00:00Z</td>\n",
       "      <td>703279284</td>\n",
       "      <td>brain_observatory_1.1</td>\n",
       "      <td>122.0</td>\n",
       "      <td>M</td>\n",
       "      <td>Sst-IRES-Cre/wt;Ai32(RCL-ChR2(H134R)_EYFP)/wt</td>\n",
       "      <td>755</td>\n",
       "      <td>2214</td>\n",
       "      <td>6</td>\n",
       "      <td>[TH, Eth, APN, POL, LP, DG, CA1, VISpm, nan, N...</td>\n",
       "    </tr>\n",
       "    <tr>\n",
       "      <th>721123822</th>\n",
       "      <td>2019-10-03T00:00:00Z</td>\n",
       "      <td>707296982</td>\n",
       "      <td>brain_observatory_1.1</td>\n",
       "      <td>125.0</td>\n",
       "      <td>M</td>\n",
       "      <td>Pvalb-IRES-Cre/wt;Ai32(RCL-ChR2(H134R)_EYFP)/wt</td>\n",
       "      <td>444</td>\n",
       "      <td>2229</td>\n",
       "      <td>6</td>\n",
       "      <td>[MB, SCig, PPT, NOT, DG, CA1, VISam, nan, LP, ...</td>\n",
       "    </tr>\n",
       "    <tr>\n",
       "      <th>732592105</th>\n",
       "      <td>2019-10-03T00:00:00Z</td>\n",
       "      <td>717038288</td>\n",
       "      <td>brain_observatory_1.1</td>\n",
       "      <td>100.0</td>\n",
       "      <td>M</td>\n",
       "      <td>wt/wt</td>\n",
       "      <td>824</td>\n",
       "      <td>1847</td>\n",
       "      <td>5</td>\n",
       "      <td>[grey, VISpm, nan, VISp, VISl, VISal, VISrl]</td>\n",
       "    </tr>\n",
       "    <tr>\n",
       "      <th>737581020</th>\n",
       "      <td>2019-10-03T00:00:00Z</td>\n",
       "      <td>718643567</td>\n",
       "      <td>brain_observatory_1.1</td>\n",
       "      <td>108.0</td>\n",
       "      <td>M</td>\n",
       "      <td>wt/wt</td>\n",
       "      <td>568</td>\n",
       "      <td>2218</td>\n",
       "      <td>6</td>\n",
       "      <td>[grey, VISmma, nan, VISpm, VISp, VISl, VISrl]</td>\n",
       "    </tr>\n",
       "  </tbody>\n",
       "</table>\n",
       "</div>"
      ],
      "text/plain": [
       "                   published_at  specimen_id           session_type  \\\n",
       "id                                                                    \n",
       "715093703  2019-10-03T00:00:00Z    699733581  brain_observatory_1.1   \n",
       "719161530  2019-10-03T00:00:00Z    703279284  brain_observatory_1.1   \n",
       "721123822  2019-10-03T00:00:00Z    707296982  brain_observatory_1.1   \n",
       "732592105  2019-10-03T00:00:00Z    717038288  brain_observatory_1.1   \n",
       "737581020  2019-10-03T00:00:00Z    718643567  brain_observatory_1.1   \n",
       "\n",
       "           age_in_days sex                                    full_genotype  \\\n",
       "id                                                                            \n",
       "715093703        118.0   M    Sst-IRES-Cre/wt;Ai32(RCL-ChR2(H134R)_EYFP)/wt   \n",
       "719161530        122.0   M    Sst-IRES-Cre/wt;Ai32(RCL-ChR2(H134R)_EYFP)/wt   \n",
       "721123822        125.0   M  Pvalb-IRES-Cre/wt;Ai32(RCL-ChR2(H134R)_EYFP)/wt   \n",
       "732592105        100.0   M                                            wt/wt   \n",
       "737581020        108.0   M                                            wt/wt   \n",
       "\n",
       "           unit_count  channel_count  probe_count  \\\n",
       "id                                                  \n",
       "715093703         884           2219            6   \n",
       "719161530         755           2214            6   \n",
       "721123822         444           2229            6   \n",
       "732592105         824           1847            5   \n",
       "737581020         568           2218            6   \n",
       "\n",
       "                                  ecephys_structure_acronyms  \n",
       "id                                                            \n",
       "715093703  [CA1, VISrl, nan, PO, LP, LGd, CA3, DG, VISl, ...  \n",
       "719161530  [TH, Eth, APN, POL, LP, DG, CA1, VISpm, nan, N...  \n",
       "721123822  [MB, SCig, PPT, NOT, DG, CA1, VISam, nan, LP, ...  \n",
       "732592105       [grey, VISpm, nan, VISp, VISl, VISal, VISrl]  \n",
       "737581020      [grey, VISmma, nan, VISpm, VISp, VISl, VISrl]  "
      ]
     },
     "execution_count": 6,
     "metadata": {},
     "output_type": "execute_result"
    }
   ],
   "source": [
    "sessions.head()"
   ]
  },
  {
   "cell_type": "markdown",
   "metadata": {},
   "source": [
    "How many sessions are available?"
   ]
  },
  {
   "cell_type": "code",
   "execution_count": 7,
   "metadata": {},
   "outputs": [
    {
     "data": {
      "text/plain": [
       "58"
      ]
     },
     "execution_count": 7,
     "metadata": {},
     "output_type": "execute_result"
    }
   ],
   "source": [
    "len(sessions)"
   ]
  },
  {
   "cell_type": "markdown",
   "metadata": {},
   "source": [
    "What's the average number of units in a session? The max? The min?"
   ]
  },
  {
   "cell_type": "code",
   "execution_count": 8,
   "metadata": {},
   "outputs": [
    {
     "name": "stdout",
     "output_type": "stream",
     "text": [
      "mean: 689.8275862068965\n",
      "max:  1005\n",
      "min:  415\n"
     ]
    }
   ],
   "source": [
    "print(\"mean:\", sessions.unit_count.mean())\n",
    "print(\"max: \", sessions.unit_count.max())\n",
    "print(\"min: \", sessions.unit_count.min())"
   ]
  },
  {
   "cell_type": "code",
   "execution_count": 46,
   "metadata": {},
   "outputs": [
    {
     "data": {
      "text/plain": [
       "Text(0, 0.5, '# sessions')"
      ]
     },
     "execution_count": 46,
     "metadata": {},
     "output_type": "execute_result"
    },
    {
     "data": {
      "image/png": "[encoded data removed]",
      "text/plain": [
       "<Figure size 432x288 with 1 Axes>"
      ]
     },
     "metadata": {
      "needs_background": "light"
     },
     "output_type": "display_data"
    }
   ],
   "source": [
    "# show a histogram of the number of units in each session\n",
    "plt.hist(sessions['unit_count'], bins=20);\n",
    "plt.xlabel(\"Unit count\")\n",
    "plt.ylabel(\"# sessions\")"
   ]
  },
  {
   "cell_type": "markdown",
   "metadata": {},
   "source": [
    "What are the different genotypes that were used for this dataset? How many sessions per genotype are available?\n",
    "\n",
    "Note: genotypes are described in the <a href=\"http://help.brain-map.org/download/attachments/10616846/VisualCoding_TransgenicCharacterization.pdf?version=4&modificationDate=1538067045225&api=v2\">Transgenic Line Catalog</a>"
   ]
  },
  {
   "cell_type": "code",
   "execution_count": 47,
   "metadata": {},
   "outputs": [
    {
     "data": {
      "text/plain": [
       "wt/wt                                              30\n",
       "Sst-IRES-Cre/wt;Ai32(RCL-ChR2(H134R)_EYFP)/wt      12\n",
       "Pvalb-IRES-Cre/wt;Ai32(RCL-ChR2(H134R)_EYFP)/wt     8\n",
       "Vip-IRES-Cre/wt;Ai32(RCL-ChR2(H134R)_EYFP)/wt       8\n",
       "Name: full_genotype, dtype: int64"
      ]
     },
     "execution_count": 47,
     "metadata": {},
     "output_type": "execute_result"
    }
   ],
   "source": [
    "sessions['full_genotype'].value_counts()"
   ]
  },
  {
   "cell_type": "markdown",
   "metadata": {},
   "source": [
    "What are the different session types? How many sessions per type?"
   ]
  },
  {
   "cell_type": "code",
   "execution_count": 48,
   "metadata": {},
   "outputs": [
    {
     "data": {
      "text/plain": [
       "brain_observatory_1.1      32\n",
       "functional_connectivity    26\n",
       "Name: session_type, dtype: int64"
      ]
     },
     "execution_count": 48,
     "metadata": {},
     "output_type": "execute_result"
    }
   ],
   "source": [
    "sessions['session_type'].value_counts()"
   ]
  },
  {
   "cell_type": "markdown",
   "metadata": {},
   "source": [
    "What are all the structures that data has been collected from?"
   ]
  },
  {
   "cell_type": "code",
   "execution_count": 49,
   "metadata": {},
   "outputs": [
    {
     "name": "stdout",
     "output_type": "stream",
     "text": [
      "{nan, 'PRE', 'LT', 'BMAa', 'PPT', 'PF', 'SCzo', 'ZI', 'VISl', 'ProS', 'OLF', 'VISrl', 'LGd', 'LP', 'CA1', 'CA3', 'DG', 'VIS', 'VPL', 'SGN', 'IntG', 'MGd', 'PP', 'SCiw', 'SCig', 'VISmmp', 'COApm', 'VISli', 'RT', 'CP', 'MGm', 'PIL', 'MGv', 'TH', 'VPM', 'CA2', 'LGv', 'IGL', 'POST', 'SCop', 'NOT', 'MRN', 'VL', 'POL', 'PoT', 'APN', 'PO', 'VISam', 'VISpm', 'VISal', 'SCsg', 'VISmma', 'SUB', 'COAa', 'RPF', 'Eth', 'HPF', 'grey', 'MB', 'LD', 'OP', 'VISp'}\n"
     ]
    }
   ],
   "source": [
    "all_areas = []\n",
    "for index,row in sessions.iterrows():\n",
    "    all_areas.extend(row['ecephys_structure_acronyms'])\n",
    "    \n",
    "print(set(all_areas))"
   ]
  },
  {
   "cell_type": "markdown",
   "metadata": {},
   "source": [
    "To get more information about these structures, visit [our reference atlas web app](http://atlas.brain-map.org/atlas?atlas=602630314)."
   ]
  },
  {
   "cell_type": "markdown",
   "metadata": {},
   "source": [
    "How many sessions have data from VISp?"
   ]
  },
  {
   "cell_type": "code",
   "execution_count": 50,
   "metadata": {},
   "outputs": [
    {
     "name": "stdout",
     "output_type": "stream",
     "text": [
      "56\n"
     ]
    }
   ],
   "source": [
    "count=0\n",
    "for index,row in sessions.iterrows():\n",
    "    if 'VISp' in row['ecephys_structure_acronyms']:\n",
    "        count+=1\n",
    "print(count)"
   ]
  },
  {
   "cell_type": "markdown",
   "metadata": {},
   "source": [
    "<div style=\"border-left: 3px solid #000; padding: 1px; padding-left: 10px; background: #F0FAFF; \">\n",
    "<h2>The session object</h2>\n",
    "<p>The session object contains all the data and metadata for a single experiment session, including spike times, stimulus information, unit waveforms and derived metrics, LFP, and the mouse's running speed. \n",
    "\n",
    "<p>Session objects are accessed using <b>cache.get_session_data(session_id)</b>\n",
    "\n",
    "<p><b>Note:</b> experiment data is loaded upon initialization of the class. Some data can be accessed directly as an attribute of the class, others by using 'get' functions. \n",
    "\n",
    "</div>"
   ]
  },
  {
   "cell_type": "markdown",
   "metadata": {},
   "source": [
    "Let's select one session to examine in detail. First we'll narrow down the list of sessions to those that are 'brain_observatory_1.1' type sessions with > 500 units and wildtype genotype: "
   ]
  },
  {
   "cell_type": "code",
   "execution_count": 68,
   "metadata": {},
   "outputs": [
    {
     "data": {
      "text/plain": [
       "Int64Index([732592105, 737581020, 739448407, 742951821, 743475441, 744228101,\n",
       "            750332458, 750749662, 754312389, 754829445, 757216464, 757970808,\n",
       "            761418226, 763673393, 799864342],\n",
       "           dtype='int64', name='id')"
      ]
     },
     "execution_count": 68,
     "metadata": {},
     "output_type": "execute_result"
    }
   ],
   "source": [
    "\n",
    "sessions[\n",
    "    (sessions['unit_count'] > 500) & \n",
    "    (sessions['session_type'] == 'brain_observatory_1.1') &\n",
    "    (sessions['full_genotype'] == 'wt/wt')\n",
    "].index\n"
   ]
  },
  {
   "cell_type": "code",
   "execution_count": 69,
   "metadata": {},
   "outputs": [],
   "source": [
    "# Let's pick one of these sessions at random to examine in greater detail. \n",
    "session_id = 750749662"
   ]
  },
  {
   "cell_type": "markdown",
   "metadata": {},
   "source": [
    "Now use `cache.get_session_data` to get the EcephysSession object for this session. This object contains the data that is stored in the NWB file."
   ]
  },
  {
   "cell_type": "code",
   "execution_count": 54,
   "metadata": {},
   "outputs": [],
   "source": [
    "session = cache.get_session_data(session_id)"
   ]
  },
  {
   "cell_type": "markdown",
   "metadata": {},
   "source": [
    "Session objects have several attributes that describe data acquired during the session:"
   ]
  },
  {
   "cell_type": "code",
   "execution_count": 55,
   "metadata": {},
   "outputs": [
    {
     "name": "stdout",
     "output_type": "stream",
     "text": [
      "Help on EcephysSession in module allensdk.brain_observatory.ecephys.ecephys_session object:\n",
      "\n",
      "class EcephysSession(allensdk.core.lazy_property.lazy_property_mixin.LazyPropertyMixin)\n",
      " |  EcephysSession(api: allensdk.brain_observatory.ecephys.ecephys_session_api.ecephys_session_api.EcephysSessionApi, test: bool = False, **kwargs)\n",
      " |  \n",
      " |  Represents data from a single EcephysSession\n",
      " |  \n",
      " |  Attributes\n",
      " |  ----------\n",
      " |  units : pd.Dataframe\n",
      " |      A table whose rows are sorted units (putative neurons) and whose columns are characteristics\n",
      " |      of those units.\n",
      " |      Index is:\n",
      " |          unit_id : int\n",
      " |              Unique integer identifier for this unit.\n",
      " |      Columns are:\n",
      " |          firing_rate : float\n",
      " |              This unit's firing rate (spikes / s) calculated over the window of that unit's activity\n",
      " |              (the time from its first detected spike to its last).\n",
      " |          isi_violations : float\n",
      " |              Estamate of this unit's contamination rate (larger means that more of the spikes assigned\n",
      " |              to this unit probably originated from other neurons). Calculated as a ratio of the firing\n",
      " |              rate of the unit over periods where spikes would be isi-violating vs the total firing\n",
      " |              rate of the unit.\n",
      " |          peak_channel_id : int\n",
      " |              Unique integer identifier for this unit's peak channel. A unit's peak channel is the channel on\n",
      " |              which its peak-to-trough amplitude difference is maximized. This is assessed using the kilosort 2\n",
      " |              templates rather than the mean waveforms for a unit.\n",
      " |          snr : float\n",
      " |              Signal to noise ratio for this unit.\n",
      " |          probe_horizontal_position :  numeric\n",
      " |              The horizontal (short-axis) position of this unit's peak channel in microns.\n",
      " |          probe_vertical_position : numeric\n",
      " |              The vertical (long-axis, lower values are closer to the probe base) position of\n",
      " |              this unit's peak channel in microns.\n",
      " |          probe_id : int\n",
      " |              Unique integer identifier for this unit's probe.\n",
      " |          probe_description : str\n",
      " |              Human-readable description carrying miscellaneous information about this unit's probe.\n",
      " |          location : str\n",
      " |              Gross-scale location of this unit's probe.\n",
      " |  spike_times : dict\n",
      " |      Maps integer unit ids to arrays of spike times (float) for those units.\n",
      " |  running_speed : RunningSpeed\n",
      " |      NamedTuple with two fields\n",
      " |          timestamps : numpy.ndarray\n",
      " |              Timestamps of running speed data samples\n",
      " |          values : np.ndarray\n",
      " |              Running speed of the experimental subject (in cm / s).\n",
      " |  mean_waveforms : dict\n",
      " |      Maps integer unit ids to xarray.DataArrays containing mean spike waveforms for that unit.\n",
      " |  stimulus_presentations : pd.DataFrame\n",
      " |      Table whose rows are stimulus presentations and whose columns are presentation characteristics.\n",
      " |      A stimulus presentation is the smallest unit of distinct stimulus presentation and lasts for\n",
      " |      (usually) 1 60hz frame. Since not all parameters are relevant to all stimuli, this table\n",
      " |      contains many 'null' values.\n",
      " |      Index is\n",
      " |          stimulus_presentation_id : int\n",
      " |              Unique identifier for this stimulus presentation\n",
      " |      Columns are\n",
      " |          start_time :  float\n",
      " |              Time (s) at which this presentation began\n",
      " |          stop_time : float\n",
      " |              Time (s) at which this presentation ended\n",
      " |          duration : float\n",
      " |              stop_time - start_time (s). Included for convenience.\n",
      " |          stimulus_name : str\n",
      " |              Identifies the stimulus family (e.g. \"drifting_gratings\" or \"natural_movie_3\") used\n",
      " |              for this presentation. The stimulus family, along with relevant parameter values, provides the\n",
      " |              information required to reconstruct the stimulus presented during this presentation. The empty\n",
      " |              string indicates a blank period.\n",
      " |          stimulus_block : numeric\n",
      " |              A stimulus block is made by sequentially presenting presentations from the same stimulus family.\n",
      " |              This value is the index of the block which contains this presentation. During a blank period,\n",
      " |              this is 'null'.\n",
      " |          TF : float\n",
      " |              Temporal frequency, or 'null' when not appropriate.\n",
      " |          SF : float\n",
      " |              Spatial frequency, or 'null' when not appropriate\n",
      " |          Ori : float\n",
      " |              Orientation (in degrees) or 'null' when not appropriate\n",
      " |          Contrast : float\n",
      " |          Pos_x : float\n",
      " |          Pos_y : float\n",
      " |          Color : numeric\n",
      " |          Image : numeric\n",
      " |          Phase : float\n",
      " |          stimulus_condition_id : integer\n",
      " |              identifies the session-unique stimulus condition (permutation of parameters) to which this presentation\n",
      " |              belongs\n",
      " |  stimulus_conditions : pd.DataFrame\n",
      " |      Each row is a unique permutation (within this session) of stimulus parameters presented during this experiment.\n",
      " |      Columns are as stimulus presentations, sans start_time, end_time, stimulus_block, and duration.\n",
      " |  inter_presentation_intervals : pd.DataFrame\n",
      " |      The elapsed time between each immediately sequential pair of stimulus presentations. This is a dataframe with a\n",
      " |      two-level multiindex (levels are 'from_presentation_id' and 'to_presentation_id'). It has a single column,\n",
      " |      'interval', which reports the elapsed time between the two presentations in seconds on the experiment's master\n",
      " |      clock.\n",
      " |  \n",
      " |  Method resolution order:\n",
      " |      EcephysSession\n",
      " |      allensdk.core.lazy_property.lazy_property_mixin.LazyPropertyMixin\n",
      " |      builtins.object\n",
      " |  \n",
      " |  Methods defined here:\n",
      " |  \n",
      " |  __init__(self, api: allensdk.brain_observatory.ecephys.ecephys_session_api.ecephys_session_api.EcephysSessionApi, test: bool = False, **kwargs)\n",
      " |      Construct an EcephysSession object, which provides access to\n",
      " |      detailed data for a single extracellular electrophysiology\n",
      " |      (neuropixels) session.\n",
      " |      \n",
      " |      Parameters\n",
      " |      ----------\n",
      " |      api :\n",
      " |          Used to access data, which is then cached on this object. Must\n",
      " |          expose the EcephysSessionApi interface. Standard options include\n",
      " |          instances of:\n",
      " |              EcephysSessionNwbApi :: reads data from a neurodata without\n",
      " |                  borders 2.0 file.\n",
      " |      test :\n",
      " |          If true, check during construction that this session's api is\n",
      " |          valid.\n",
      " |  \n",
      " |  channel_structure_intervals(self, channel_ids)\n",
      " |      find on a list of channels the intervals of channels inserted into particular structures\n",
      " |      \n",
      " |      Parameters\n",
      " |      ----------\n",
      " |      channel_ids : list\n",
      " |          A list of channel ids\n",
      " |      structure_id_key : str\n",
      " |          use this column for numerically identifying structures\n",
      " |      structure_label_key : str\n",
      " |          use this column for human-readable structure identification\n",
      " |      \n",
      " |      Returns\n",
      " |      -------\n",
      " |      labels : np.ndarray\n",
      " |          for each detected interval, the label associated with that interval\n",
      " |      intervals : np.ndarray\n",
      " |          one element longer than labels. Start and end indices for intervals.\n",
      " |  \n",
      " |  conditionwise_spike_statistics(self, stimulus_presentation_ids=None, unit_ids=None, use_rates=False)\n",
      " |      Produce summary statistics for each distinct stimulus condition\n",
      " |      \n",
      " |      Parameters\n",
      " |      ----------\n",
      " |      stimulus_presentation_ids : array-like\n",
      " |          identifies stimulus presentations from which spikes will be considered\n",
      " |      unit_ids : array-like\n",
      " |          identifies units whose spikes will be considered\n",
      " |      use_rates : bool, optional\n",
      " |          If True, use firing rates. If False, use spike counts.\n",
      " |      \n",
      " |      Returns\n",
      " |      -------\n",
      " |      pd.DataFrame :\n",
      " |          Rows are indexed by unit id and stimulus condition id. Values are summary statistics describing spikes\n",
      " |          emitted by a specific unit across presentations within a specific condition.\n",
      " |  \n",
      " |  get_current_source_density(self, probe_id)\n",
      " |      Obtain current source density (CSD) of trial-averaged response to a flash stimuli for this probe.\n",
      " |      See allensdk.brain_observatory.ecephys.current_source_density for details of CSD calculation.\n",
      " |      \n",
      " |      CSD is computed with a 1D method (second spatial derivative) without prior spatial smoothing\n",
      " |      User should apply spatial smoothing of their choice (e.g., Gaussian filter) to the computed CSD\n",
      " |      \n",
      " |      \n",
      " |      Parameters\n",
      " |      ----------\n",
      " |      probe_id : int\n",
      " |          identify the probe whose CSD data ought to be loaded\n",
      " |      \n",
      " |      Returns\n",
      " |      -------\n",
      " |      xr.DataArray :\n",
      " |          dimensions are channel (id) and time (seconds, relative to stimulus onset). Values are current source\n",
      " |          density assessed on that channel at that time (V/m^2)\n",
      " |  \n",
      " |  get_inter_presentation_intervals_for_stimulus(self, stimulus_names)\n",
      " |      Get a subset of this session's inter-presentation intervals, filtered by stimulus name.\n",
      " |      \n",
      " |      Parameters\n",
      " |      ----------\n",
      " |      stimulus_names : array-like of str\n",
      " |          The names of stimuli to include in the output.\n",
      " |      \n",
      " |      Returns\n",
      " |      -------\n",
      " |      pd.DataFrame :\n",
      " |          inter-presentation intervals, filtered to the requested stimulus names.\n",
      " |  \n",
      " |  get_invalid_times(self)\n",
      " |      Report invalid time intervals with tags describing the scope of invalid data\n",
      " |      \n",
      " |      The tags format: [scope,scope_id,label]\n",
      " |      \n",
      " |      scope:\n",
      " |          'EcephysSession': data is invalid across session\n",
      " |          'EcephysProbe': data is invalid for a single probe\n",
      " |      label:\n",
      " |          'all_probes': gain fluctuations on the Neuropixels probe result in missed spikes and LFP saturation events\n",
      " |          'stimulus' : very long frames (>3x the normal frame length) make any stimulus-locked analysis invalid\n",
      " |          'probe#': probe # stopped sending data during this interval (spikes and LFP samples will be missing)\n",
      " |          'optotagging': missing optotagging data\n",
      " |      \n",
      " |      Returns\n",
      " |      -------\n",
      " |      pd.DataFrame :\n",
      " |          Rows are invalid intervals, columns are 'start_time' (s), 'stop_time' (s), 'tags'\n",
      " |  \n",
      " |  get_lfp(self, probe_id, mask_invalid_intervals=True)\n",
      " |      Load an xarray DataArray with LFP data from channels on a single probe\n",
      " |      \n",
      " |      Parameters\n",
      " |      ----------\n",
      " |      probe_id : int\n",
      " |          identify the probe whose LFP data ought to be loaded\n",
      " |      mask_invalid_intervals : bool\n",
      " |          if True (default) will mask data in the invalid intervals with np.nan\n",
      " |      Returns\n",
      " |      -------\n",
      " |      xr.DataArray :\n",
      " |          dimensions are channel (id) and time (seconds). Values are sampled LFP data.\n",
      " |      \n",
      " |      Notes\n",
      " |      -----\n",
      " |      Unlike many other data access methods on this class. This one does not cache the loaded data in memory due to\n",
      " |      the large size of the LFP data.\n",
      " |  \n",
      " |  get_parameter_values_for_stimulus(self, stimulus_name, drop_nulls=True)\n",
      " |      For each stimulus parameter, report the unique values taken on by that\n",
      " |      parameter while a named stimulus was presented.\n",
      " |      \n",
      " |      Parameters\n",
      " |      ----------\n",
      " |      stimulus_name : str\n",
      " |          filter to presentations of this stimulus\n",
      " |      \n",
      " |      Returns\n",
      " |      -------\n",
      " |      dict :\n",
      " |          maps parameters (column names) to their unique values.\n",
      " |  \n",
      " |  get_pupil_data(self) -> Union[pandas.core.frame.DataFrame, NoneType]\n",
      " |      Return a dataframe with eye tracking ellipse fit data\n",
      " |      \n",
      " |      \n",
      " |      Returns\n",
      " |      -------\n",
      " |      pd.DataFrame\n",
      " |          Contains eye, pupil and corneal reflection (cr) ellipse fits:\n",
      " |              *_center_x\n",
      " |              *_center_y\n",
      " |              *_height\n",
      " |              *_width\n",
      " |              *_phi\n",
      " |  \n",
      " |  get_screen_gaze_data(self, include_filtered_data=False) -> Union[pandas.core.frame.DataFrame, NoneType]\n",
      " |      Return a dataframe with estimated gaze position on screen.\n",
      " |      \n",
      " |      Parameters\n",
      " |      ----------\n",
      " |      include_filtered_data : bool, optional\n",
      " |          Whether to include filtered version of data (where filtered\n",
      " |          values are replaced by NaN), by default False.\n",
      " |      \n",
      " |      Returns\n",
      " |      -------\n",
      " |      pd.DataFrame\n",
      " |          Contains columns for estimated gaze position:\n",
      " |              *_eye_area\n",
      " |              *_pupil_area\n",
      " |              *_screen_coordinates_x_cm\n",
      " |              *_screen_coordinates_y_cm\n",
      " |              *_screen_coordinates_spherical_x_deg\n",
      " |              *_screen_coorindates_spherical_y_deg\n",
      " |  \n",
      " |  get_stimulus_epochs(self, duration_thresholds=None)\n",
      " |      Reports continuous periods of time during which a single kind of stimulus was presented\n",
      " |      flipVert\n",
      " |              Parameters\n",
      " |              ---------\n",
      " |              duration_thresholds : dict, optional\n",
      " |                  keys are stimulus names, values are floating point durations in seconds. All epochs with\n",
      " |                      - a given stimulus name\n",
      " |                      - a duration shorter than the associated threshold\n",
      " |                  will be removed from the results\n",
      " |  \n",
      " |  get_stimulus_parameter_values(self, stimulus_presentation_ids=None, drop_nulls=True)\n",
      " |      For each stimulus parameter, report the unique values taken on by that\n",
      " |      parameter throughout the course of the  session.\n",
      " |      \n",
      " |      Parameters\n",
      " |      ----------\n",
      " |      stimulus_presentation_ids : array-like, optional\n",
      " |          If provided, only parameter values from these stimulus presentations will be considered.\n",
      " |      \n",
      " |      Returns\n",
      " |      -------\n",
      " |      dict :\n",
      " |          maps parameters (column names) to their unique values.\n",
      " |  \n",
      " |  get_stimulus_table(self, stimulus_names=None, include_detailed_parameters=False, include_unused_parameters=False)\n",
      " |      Get a subset of stimulus presentations by name, with irrelevant parameters filtered off\n",
      " |      \n",
      " |      Parameters\n",
      " |      ----------\n",
      " |      stimulus_names : array-like of str\n",
      " |          The names of stimuli to include in the output.\n",
      " |      \n",
      " |      Returns\n",
      " |      -------\n",
      " |      pd.DataFrame :\n",
      " |          Rows are filtered presentations, columns are the relevant subset of stimulus parameters\n",
      " |  \n",
      " |  presentationwise_spike_counts(self, bin_edges, stimulus_presentation_ids, unit_ids, binarize=False, dtype=None, large_bin_size_threshold=0.001, time_domain_callback=None)\n",
      " |      Build an array of spike counts surrounding stimulus onset per unit and stimulus frame.\n",
      " |      \n",
      " |      Parameters\n",
      " |      ---------\n",
      " |      bin_edges : numpy.ndarray\n",
      " |          Spikes will be counted into the bins defined by these edges. Values are in seconds, relative\n",
      " |          to stimulus onset.\n",
      " |      stimulus_presentation_ids : array-like\n",
      " |          Filter to these stimulus presentations\n",
      " |      unit_ids : array-like\n",
      " |          Filter to these units\n",
      " |      binarize : bool, optional\n",
      " |          If true, all counts greater than 0 will be treated as 1. This results in lower storage overhead,\n",
      " |          but is only reasonable if bin sizes are fine (<= 1 millisecond).\n",
      " |      large_bin_size_threshold : float, optional\n",
      " |          If binarize is True and the largest bin width is greater than this value, a warning will be emitted.\n",
      " |      time_domain_callback : callable, optional\n",
      " |          The time domain is a numpy array whose values are trial-aligned bin\n",
      " |          edges (each row is aligned to a different trial). This optional function will be\n",
      " |          applied to the time domain before counting spikes.\n",
      " |      \n",
      " |      Returns\n",
      " |      -------\n",
      " |      xarray.DataArray :\n",
      " |          Data array whose dimensions are stimulus presentation, unit,\n",
      " |          and time bin and whose values are spike counts.\n",
      " |  \n",
      " |  presentationwise_spike_times(self, stimulus_presentation_ids=None, unit_ids=None)\n",
      " |      Produce a table associating spike times with units and stimulus presentations\n",
      " |      \n",
      " |      Parameters\n",
      " |      ----------\n",
      " |      stimulus_presentation_ids : array-like\n",
      " |          Filter to these stimulus presentations\n",
      " |      unit_ids : array-like\n",
      " |          Filter to these units\n",
      " |      \n",
      " |      Returns\n",
      " |      -------\n",
      " |      pandas.DataFrame :\n",
      " |      Index is\n",
      " |          spike_time : float\n",
      " |              On the session's master clock.\n",
      " |      Columns are\n",
      " |          stimulus_presentation_id : int\n",
      " |              The stimulus presentation on which this spike occurred.\n",
      " |          unit_id : int\n",
      " |              The unit that emitted this spike.\n",
      " |  \n",
      " |  ----------------------------------------------------------------------\n",
      " |  Class methods defined here:\n",
      " |  \n",
      " |  from_nwb_path(path, nwb_version=2, api_kwargs=None, **kwargs) from builtins.type\n",
      " |  \n",
      " |  ----------------------------------------------------------------------\n",
      " |  Data descriptors defined here:\n",
      " |  \n",
      " |  age_in_days\n",
      " |  \n",
      " |  full_genotype\n",
      " |  \n",
      " |  metadata\n",
      " |  \n",
      " |  num_channels\n",
      " |  \n",
      " |  num_probes\n",
      " |  \n",
      " |  num_stimulus_presentations\n",
      " |  \n",
      " |  num_units\n",
      " |  \n",
      " |  rig_equipment_name\n",
      " |  \n",
      " |  rig_geometry_data\n",
      " |  \n",
      " |  session_type\n",
      " |  \n",
      " |  sex\n",
      " |  \n",
      " |  specimen_name\n",
      " |  \n",
      " |  spike_times\n",
      " |  \n",
      " |  stimulus_conditions\n",
      " |  \n",
      " |  stimulus_names\n",
      " |  \n",
      " |  stimulus_presentations\n",
      " |  \n",
      " |  structure_acronyms\n",
      " |  \n",
      " |  structurewise_unit_counts\n",
      " |  \n",
      " |  units\n",
      " |  \n",
      " |  ----------------------------------------------------------------------\n",
      " |  Data and other attributes defined here:\n",
      " |  \n",
      " |  DETAILED_STIMULUS_PARAMETERS = ('colorSpace', 'flipHoriz', 'flipVert',...\n",
      " |  \n",
      " |  ----------------------------------------------------------------------\n",
      " |  Methods inherited from allensdk.core.lazy_property.lazy_property_mixin.LazyPropertyMixin:\n",
      " |  \n",
      " |  __getattribute__(self, name)\n",
      " |      Return getattr(self, name).\n",
      " |  \n",
      " |  __setattr__(self, name, value)\n",
      " |      Implement setattr(self, name, value).\n",
      " |  \n",
      " |  ----------------------------------------------------------------------\n",
      " |  Data descriptors inherited from allensdk.core.lazy_property.lazy_property_mixin.LazyPropertyMixin:\n",
      " |  \n",
      " |  LazyProperty\n",
      " |  \n",
      " |  __dict__\n",
      " |      dictionary for instance variables (if defined)\n",
      " |  \n",
      " |  __weakref__\n",
      " |      list of weak references to the object (if defined)\n",
      "\n"
     ]
    }
   ],
   "source": [
    "help(session)"
   ]
  },
  {
   "cell_type": "markdown",
   "metadata": {},
   "source": [
    "Perhaps the most important of these attributes is `session.units`, which is a dataframe describing all units that were isolated in the session and that passed the QC metric filters implemented in `cache.get_session_data`. "
   ]
  },
  {
   "attachments": {
    "image.png": {
     "image/png": "[encoded data removed]"
    }
   },
   "cell_type": "markdown",
   "metadata": {},
   "source": [
    "<div style=\"border-left: 3px solid #000; padding: 1px; padding-left: 10px; background: #F0FAFF; \">\n",
    "\n",
    "<h2> 2. Unit properties</h2>\n",
    "\n",
    "<p> The primary data in this dataset is the recorded acrtivity of isolated units. A number of metrics are used to isolate units through spike sorting, and these metrics can be used to access how well isolated they are and the quality of each unit. The `session.units` dataframe provides many of these metrics, as well as parameterization of the waveform for each unit that passed initial QC, including\n",
    "</p>\n",
    "<ul>\n",
    "<li> <b>firing rate:</b> mean spike rate during the entire session\n",
    "<li> <b>presence ratio:</b> fraction of session when spikes are present\n",
    "<li> <b>ISI violations:</b> rate of refractory period violations\n",
    "<li> <b>Isolation distances:</b> distance to nearest cluster in Mihalanobis space\n",
    "<li> <b>d':</b> classification accuracy based on LDA\n",
    "<li> <b>SNR:</b> signal to noise ratio\n",
    "<li> <b>Maximum drift:</b> Maximum change in spike depth during recording\n",
    "<li> <b>Cumulative drift:</b> Cumulative change in spike depth during recording\n",
    "</ul>\n",
    "\n",
    "<b>1D Waveform features:</b>\n",
    "\n",
    "![image.png](attachment:image.png)\n",
    "\n",
    "<b>Note:</b> By default, `cache.get_session_data` returns data only for units that are considered to be 'valid' based on their QC metrics. For more information, see:\n",
    "\n",
    "<ul>\n",
    "<li><a href=\"https://allensdk.readthedocs.io/en/latest/visual_coding_neuropixels.html#quality-metrics\">https://allensdk.readthedocs.io/en/latest/visual_coding_neuropixels.html#quality-metrics</a>\n",
    "<li><a href=\"https://github.com/AllenInstitute/ecephys_spike_sorting/tree/master/ecephys_spike_sorting/modules/quality_metrics\">https://github.com/AllenInstitute/ecephys_spike_sorting/tree/master/ecephys_spike_sorting/modules/quality_metrics</a>\n",
    "<li><a href=\"https://github.com/AllenInstitute/ecephys_spike_sorting/tree/master/ecephys_spike_sorting/modules/mean_waveforms\">https://github.com/AllenInstitute/ecephys_spike_sorting/tree/master/ecephys_spike_sorting/modules/mean_waveforms</a>\n",
    "</ul>\n",
    "</div>\n"
   ]
  },
  {
   "cell_type": "markdown",
   "metadata": {},
   "source": [
    "<div style=\"background: #DFF0D8; border-radius: 3px; padding: 10px;\">\n",
    "<p><b>Task 2: Units</b>  \n",
    "\n",
    "<p> Get the `units` dataframe for this session. \n",
    "\n",
    "What metrics are described in this data? (i.e. what are the columns for the dataframe?)\n",
    "\n",
    "How many units are there? How many units per structure?\n",
    "</div>"
   ]
  },
  {
   "cell_type": "code",
   "execution_count": 71,
   "metadata": {
    "scrolled": false
   },
   "outputs": [
    {
     "data": {
      "text/html": [
       "<div>\n",
       "<style scoped>\n",
       "    .dataframe tbody tr th:only-of-type {\n",
       "        vertical-align: middle;\n",
       "    }\n",
       "\n",
       "    .dataframe tbody tr th {\n",
       "        vertical-align: top;\n",
       "    }\n",
       "\n",
       "    .dataframe thead th {\n",
       "        text-align: right;\n",
       "    }\n",
       "</style>\n",
       "<table border=\"1\" class=\"dataframe\">\n",
       "  <thead>\n",
       "    <tr style=\"text-align: right;\">\n",
       "      <th></th>\n",
       "      <th>waveform_velocity_below</th>\n",
       "      <th>waveform_PT_ratio</th>\n",
       "      <th>waveform_amplitude</th>\n",
       "      <th>waveform_repolarization_slope</th>\n",
       "      <th>snr</th>\n",
       "      <th>max_drift</th>\n",
       "      <th>waveform_recovery_slope</th>\n",
       "      <th>firing_rate</th>\n",
       "      <th>cluster_id</th>\n",
       "      <th>nn_miss_rate</th>\n",
       "      <th>...</th>\n",
       "      <th>ecephys_structure_id</th>\n",
       "      <th>ecephys_structure_acronym</th>\n",
       "      <th>anterior_posterior_ccf_coordinate</th>\n",
       "      <th>dorsal_ventral_ccf_coordinate</th>\n",
       "      <th>left_right_ccf_coordinate</th>\n",
       "      <th>probe_description</th>\n",
       "      <th>location</th>\n",
       "      <th>probe_sampling_rate</th>\n",
       "      <th>probe_lfp_sampling_rate</th>\n",
       "      <th>probe_has_lfp_data</th>\n",
       "    </tr>\n",
       "    <tr>\n",
       "      <th>unit_id</th>\n",
       "      <th></th>\n",
       "      <th></th>\n",
       "      <th></th>\n",
       "      <th></th>\n",
       "      <th></th>\n",
       "      <th></th>\n",
       "      <th></th>\n",
       "      <th></th>\n",
       "      <th></th>\n",
       "      <th></th>\n",
       "      <th></th>\n",
       "      <th></th>\n",
       "      <th></th>\n",
       "      <th></th>\n",
       "      <th></th>\n",
       "      <th></th>\n",
       "      <th></th>\n",
       "      <th></th>\n",
       "      <th></th>\n",
       "      <th></th>\n",
       "      <th></th>\n",
       "    </tr>\n",
       "  </thead>\n",
       "  <tbody>\n",
       "    <tr>\n",
       "      <th>951851052</th>\n",
       "      <td>0.000000</td>\n",
       "      <td>0.562802</td>\n",
       "      <td>172.518840</td>\n",
       "      <td>0.771723</td>\n",
       "      <td>3.220235</td>\n",
       "      <td>31.60</td>\n",
       "      <td>-0.195309</td>\n",
       "      <td>9.216453</td>\n",
       "      <td>4</td>\n",
       "      <td>0.001215</td>\n",
       "      <td>...</td>\n",
       "      <td>560581551.0</td>\n",
       "      <td>Eth</td>\n",
       "      <td>7641.0</td>\n",
       "      <td>3626.0</td>\n",
       "      <td>7116.0</td>\n",
       "      <td>probeA</td>\n",
       "      <td>See electrode locations</td>\n",
       "      <td>29999.966623</td>\n",
       "      <td>1249.998609</td>\n",
       "      <td>True</td>\n",
       "    </tr>\n",
       "    <tr>\n",
       "      <th>951851063</th>\n",
       "      <td>0.000000</td>\n",
       "      <td>0.654514</td>\n",
       "      <td>141.937380</td>\n",
       "      <td>0.630467</td>\n",
       "      <td>2.521463</td>\n",
       "      <td>43.70</td>\n",
       "      <td>-0.147746</td>\n",
       "      <td>43.965753</td>\n",
       "      <td>5</td>\n",
       "      <td>0.004152</td>\n",
       "      <td>...</td>\n",
       "      <td>1020.0</td>\n",
       "      <td>PO</td>\n",
       "      <td>7638.0</td>\n",
       "      <td>3617.0</td>\n",
       "      <td>7119.0</td>\n",
       "      <td>probeA</td>\n",
       "      <td>See electrode locations</td>\n",
       "      <td>29999.966623</td>\n",
       "      <td>1249.998609</td>\n",
       "      <td>True</td>\n",
       "    </tr>\n",
       "    <tr>\n",
       "      <th>951851101</th>\n",
       "      <td>-0.343384</td>\n",
       "      <td>0.399403</td>\n",
       "      <td>150.047820</td>\n",
       "      <td>0.424778</td>\n",
       "      <td>2.502798</td>\n",
       "      <td>37.67</td>\n",
       "      <td>-0.050549</td>\n",
       "      <td>40.149059</td>\n",
       "      <td>9</td>\n",
       "      <td>0.001823</td>\n",
       "      <td>...</td>\n",
       "      <td>1020.0</td>\n",
       "      <td>PO</td>\n",
       "      <td>7633.0</td>\n",
       "      <td>3600.0</td>\n",
       "      <td>7123.0</td>\n",
       "      <td>probeA</td>\n",
       "      <td>See electrode locations</td>\n",
       "      <td>29999.966623</td>\n",
       "      <td>1249.998609</td>\n",
       "      <td>True</td>\n",
       "    </tr>\n",
       "    <tr>\n",
       "      <th>951851125</th>\n",
       "      <td>-0.343384</td>\n",
       "      <td>0.513707</td>\n",
       "      <td>209.994135</td>\n",
       "      <td>0.911136</td>\n",
       "      <td>3.605998</td>\n",
       "      <td>46.31</td>\n",
       "      <td>-0.198600</td>\n",
       "      <td>36.786487</td>\n",
       "      <td>12</td>\n",
       "      <td>0.009399</td>\n",
       "      <td>...</td>\n",
       "      <td>1020.0</td>\n",
       "      <td>PO</td>\n",
       "      <td>7619.0</td>\n",
       "      <td>3548.0</td>\n",
       "      <td>7137.0</td>\n",
       "      <td>probeA</td>\n",
       "      <td>See electrode locations</td>\n",
       "      <td>29999.966623</td>\n",
       "      <td>1249.998609</td>\n",
       "      <td>True</td>\n",
       "    </tr>\n",
       "    <tr>\n",
       "      <th>951851152</th>\n",
       "      <td>0.098110</td>\n",
       "      <td>0.589894</td>\n",
       "      <td>179.716485</td>\n",
       "      <td>0.775357</td>\n",
       "      <td>2.937895</td>\n",
       "      <td>40.57</td>\n",
       "      <td>-0.202378</td>\n",
       "      <td>30.350855</td>\n",
       "      <td>15</td>\n",
       "      <td>0.025912</td>\n",
       "      <td>...</td>\n",
       "      <td>560581551.0</td>\n",
       "      <td>Eth</td>\n",
       "      <td>7616.0</td>\n",
       "      <td>3539.0</td>\n",
       "      <td>7139.0</td>\n",
       "      <td>probeA</td>\n",
       "      <td>See electrode locations</td>\n",
       "      <td>29999.966623</td>\n",
       "      <td>1249.998609</td>\n",
       "      <td>True</td>\n",
       "    </tr>\n",
       "  </tbody>\n",
       "</table>\n",
       "<p>5 rows × 89 columns</p>\n",
       "</div>"
      ],
      "text/plain": [
       "           waveform_velocity_below  waveform_PT_ratio  waveform_amplitude  \\\n",
       "unit_id                                                                     \n",
       "951851052                 0.000000           0.562802          172.518840   \n",
       "951851063                 0.000000           0.654514          141.937380   \n",
       "951851101                -0.343384           0.399403          150.047820   \n",
       "951851125                -0.343384           0.513707          209.994135   \n",
       "951851152                 0.098110           0.589894          179.716485   \n",
       "\n",
       "           waveform_repolarization_slope       snr  max_drift  \\\n",
       "unit_id                                                         \n",
       "951851052                       0.771723  3.220235      31.60   \n",
       "951851063                       0.630467  2.521463      43.70   \n",
       "951851101                       0.424778  2.502798      37.67   \n",
       "951851125                       0.911136  3.605998      46.31   \n",
       "951851152                       0.775357  2.937895      40.57   \n",
       "\n",
       "           waveform_recovery_slope  firing_rate  cluster_id  nn_miss_rate  \\\n",
       "unit_id                                                                     \n",
       "951851052                -0.195309     9.216453           4      0.001215   \n",
       "951851063                -0.147746    43.965753           5      0.004152   \n",
       "951851101                -0.050549    40.149059           9      0.001823   \n",
       "951851125                -0.198600    36.786487          12      0.009399   \n",
       "951851152                -0.202378    30.350855          15      0.025912   \n",
       "\n",
       "           ...  ecephys_structure_id  ecephys_structure_acronym  \\\n",
       "unit_id    ...                                                    \n",
       "951851052  ...           560581551.0                        Eth   \n",
       "951851063  ...                1020.0                         PO   \n",
       "951851101  ...                1020.0                         PO   \n",
       "951851125  ...                1020.0                         PO   \n",
       "951851152  ...           560581551.0                        Eth   \n",
       "\n",
       "           anterior_posterior_ccf_coordinate  dorsal_ventral_ccf_coordinate  \\\n",
       "unit_id                                                                       \n",
       "951851052                             7641.0                         3626.0   \n",
       "951851063                             7638.0                         3617.0   \n",
       "951851101                             7633.0                         3600.0   \n",
       "951851125                             7619.0                         3548.0   \n",
       "951851152                             7616.0                         3539.0   \n",
       "\n",
       "           left_right_ccf_coordinate  probe_description  \\\n",
       "unit_id                                                   \n",
       "951851052                     7116.0             probeA   \n",
       "951851063                     7119.0             probeA   \n",
       "951851101                     7123.0             probeA   \n",
       "951851125                     7137.0             probeA   \n",
       "951851152                     7139.0             probeA   \n",
       "\n",
       "                          location  probe_sampling_rate  \\\n",
       "unit_id                                                   \n",
       "951851052  See electrode locations         29999.966623   \n",
       "951851063  See electrode locations         29999.966623   \n",
       "951851101  See electrode locations         29999.966623   \n",
       "951851125  See electrode locations         29999.966623   \n",
       "951851152  See electrode locations         29999.966623   \n",
       "\n",
       "           probe_lfp_sampling_rate  probe_has_lfp_data  \n",
       "unit_id                                                 \n",
       "951851052              1249.998609                True  \n",
       "951851063              1249.998609                True  \n",
       "951851101              1249.998609                True  \n",
       "951851125              1249.998609                True  \n",
       "951851152              1249.998609                True  \n",
       "\n",
       "[5 rows x 89 columns]"
      ]
     },
     "execution_count": 71,
     "metadata": {},
     "output_type": "execute_result"
    }
   ],
   "source": [
    "session.units.head()"
   ]
  },
  {
   "cell_type": "code",
   "execution_count": 72,
   "metadata": {},
   "outputs": [
    {
     "data": {
      "text/plain": [
       "Index(['waveform_velocity_below', 'waveform_PT_ratio', 'waveform_amplitude',\n",
       "       'waveform_repolarization_slope', 'snr', 'max_drift',\n",
       "       'waveform_recovery_slope', 'firing_rate', 'cluster_id', 'nn_miss_rate',\n",
       "       'waveform_velocity_above', 'nn_hit_rate', 'waveform_halfwidth',\n",
       "       'd_prime', 'isolation_distance', 'peak_channel_id', 'isi_violations',\n",
       "       'L_ratio', 'waveform_spread', 'silhouette_score', 'waveform_duration',\n",
       "       'amplitude_cutoff', 'local_index_unit', 'cumulative_drift',\n",
       "       'presence_ratio', 'c50_dg', 'area_rf', 'fano_dg', 'fano_fl', 'fano_ns',\n",
       "       'fano_rf', 'fano_sg', 'f1_f0_dg', 'g_dsi_dg', 'g_osi_dg', 'g_osi_sg',\n",
       "       'azimuth_rf', 'mod_idx_dg', 'p_value_rf', 'pref_sf_sg', 'pref_tf_dg',\n",
       "       'run_mod_dg', 'run_mod_fl', 'run_mod_ns', 'run_mod_rf', 'run_mod_sg',\n",
       "       'pref_ori_dg', 'pref_ori_sg', 'run_pval_dg', 'run_pval_fl',\n",
       "       'run_pval_ns', 'run_pval_rf', 'run_pval_sg', 'elevation_rf',\n",
       "       'pref_image_ns', 'pref_phase_sg', 'firing_rate_dg', 'firing_rate_fl',\n",
       "       'firing_rate_ns', 'firing_rate_rf', 'firing_rate_sg', 'on_off_ratio_fl',\n",
       "       'time_to_peak_ns', 'pref_sf_multi_sg', 'pref_tf_multi_dg',\n",
       "       'pref_ori_multi_dg', 'pref_ori_multi_sg', 'pref_phase_multi_sg',\n",
       "       'image_selectivity_ns', 'pref_image_multi_ns', 'lifetime_sparseness_dg',\n",
       "       'lifetime_sparseness_fl', 'lifetime_sparseness_ns',\n",
       "       'lifetime_sparseness_rf', 'lifetime_sparseness_sg',\n",
       "       'probe_vertical_position', 'probe_horizontal_position', 'probe_id',\n",
       "       'channel_local_index', 'ecephys_structure_id',\n",
       "       'ecephys_structure_acronym', 'anterior_posterior_ccf_coordinate',\n",
       "       'dorsal_ventral_ccf_coordinate', 'left_right_ccf_coordinate',\n",
       "       'probe_description', 'location', 'probe_sampling_rate',\n",
       "       'probe_lfp_sampling_rate', 'probe_has_lfp_data'],\n",
       "      dtype='object')"
      ]
     },
     "execution_count": 72,
     "metadata": {},
     "output_type": "execute_result"
    }
   ],
   "source": [
    "session.units.columns"
   ]
  },
  {
   "cell_type": "markdown",
   "metadata": {},
   "source": [
    "How many units are in this session?"
   ]
  },
  {
   "cell_type": "code",
   "execution_count": 73,
   "metadata": {},
   "outputs": [
    {
     "data": {
      "text/plain": [
       "761"
      ]
     },
     "execution_count": 73,
     "metadata": {},
     "output_type": "execute_result"
    }
   ],
   "source": [
    "session.units.shape[0]"
   ]
  },
  {
   "cell_type": "markdown",
   "metadata": {},
   "source": [
    "Which areas (structures) are they from?"
   ]
  },
  {
   "cell_type": "code",
   "execution_count": 74,
   "metadata": {},
   "outputs": [
    {
     "name": "stdout",
     "output_type": "stream",
     "text": [
      "['Eth' 'PO' 'LP' 'DG' 'CA1' 'VISam' 'LD' 'VISpm' 'VISp' 'CA3' 'VISl' 'VPM'\n",
      " 'TH' 'LGd' 'VISal' 'VISrl']\n"
     ]
    }
   ],
   "source": [
    "print(session.units['ecephys_structure_acronym'].unique())"
   ]
  },
  {
   "cell_type": "markdown",
   "metadata": {},
   "source": [
    "How many units per area are there?"
   ]
  },
  {
   "cell_type": "code",
   "execution_count": 75,
   "metadata": {},
   "outputs": [
    {
     "data": {
      "text/plain": [
       "LP       142\n",
       "CA1      113\n",
       "LGd       82\n",
       "VISpm     64\n",
       "VISam     64\n",
       "VPM       55\n",
       "VISp      52\n",
       "VISal     46\n",
       "VISrl     41\n",
       "PO        30\n",
       "DG        26\n",
       "VISl      20\n",
       "TH        13\n",
       "CA3       10\n",
       "Eth        2\n",
       "LD         1\n",
       "Name: ecephys_structure_acronym, dtype: int64"
      ]
     },
     "execution_count": 75,
     "metadata": {},
     "output_type": "execute_result"
    }
   ],
   "source": [
    "session.units['ecephys_structure_acronym'].value_counts()"
   ]
  },
  {
   "cell_type": "markdown",
   "metadata": {},
   "source": [
    "<div style=\"border-left: 3px solid #000; padding: 1px; padding-left: 10px; background: #F0FAFF; \">\n",
    "    \n",
    "<h3>The <i>firing_rate</i> column contains the average firing rate for each unit.</h3>\n",
    "\n",
    "Let's make a violinplot of the overall firing rates of units across structures:\n",
    "\n",
    "</div>"
   ]
  },
  {
   "cell_type": "code",
   "execution_count": 82,
   "metadata": {},
   "outputs": [
    {
     "data": {
      "text/plain": [
       "Text(0, 0.5, 'firing rate')"
      ]
     },
     "execution_count": 82,
     "metadata": {},
     "output_type": "execute_result"
    },
    {
     "data": {
      "image/png": "[encoded data removed]",
      "text/plain": [
       "<Figure size 432x288 with 1 Axes>"
      ]
     },
     "metadata": {
      "needs_background": "light"
     },
     "output_type": "display_data"
    }
   ],
   "source": [
    "# group all firing rates by structure name\n",
    "grouped = session.units.groupby('ecephys_structure_acronym')['firing_rate'].apply(list).to_dict()\n",
    "\n",
    "plt.violinplot(grouped.values(), range(len(grouped.keys())))\n",
    "plt.xticks(range(len(grouped.keys())), grouped.keys())\n",
    "plt.ylabel('firing rate')"
   ]
  },
  {
   "cell_type": "markdown",
   "metadata": {},
   "source": [
    "<div style=\"border-left: 3px solid #000; padding: 1px; padding-left: 10px; background: #F0FAFF; \">\n",
    "    \n",
    "<h3>The <i>probe_vertical_position</i> column contains the position of each unit along its probe.</h3>\n",
    "\n",
    "Let's plot the location of all units on one probe from this session:"
   ]
  },
  {
   "cell_type": "code",
   "execution_count": 85,
   "metadata": {},
   "outputs": [
    {
     "data": {
      "image/png": "[encoded data removed]",
      "text/plain": [
       "<Figure size 576x432 with 1 Axes>"
      ]
     },
     "metadata": {
      "needs_background": "light"
     },
     "output_type": "display_data"
    }
   ],
   "source": [
    "plt.figure(figsize=(8,6))\n",
    "# restrict to one probe\n",
    "probe_id = session.units.probe_id.values[0]\n",
    "probe_units = session.units[session.units.probe_id==probe_id]\n",
    "\n",
    "# group and color the data by structure\n",
    "for structure in probe_units['ecephys_structure_acronym'].unique():\n",
    "    structure_mask = probe_units['ecephys_structure_acronym'] == structure\n",
    "    plt.hist(probe_units[structure_mask]['probe_vertical_position'].values, \n",
    "             bins=100, range=(0,3200), label=structure)\n",
    "plt.legend()\n",
    "plt.xlabel('Probe vertical position (μm)', fontsize=16)\n",
    "plt.ylabel('Unit count', fontsize=16)\n",
    "plt.show()"
   ]
  },
  {
   "cell_type": "markdown",
   "metadata": {},
   "source": [
    "<div style=\"border-left: 3px solid #000; padding: 1px; padding-left: 10px; background: #F0FAFF; \">\n",
    "    \n",
    "<h3>Unit receptive field metrics</h3>\n",
    "\n",
    "<p> Neurons in the visual cortex respond most strongly to a particular region in space, known as the receptive field. The receptive fields of neurons in this dataset have already been computed. Let's see what part of the monitor the units in this experiment preferred.\n",
    "    \n",
    "There are a few relevant parameters: the elevation_rf, azimuth_rf, area_rf, and p_value_rf\n",
    "\n",
    "</div>"
   ]
  },
  {
   "cell_type": "markdown",
   "metadata": {},
   "source": [
    "Select units that have a significant receptive field. How many are there?"
   ]
  },
  {
   "cell_type": "code",
   "execution_count": 92,
   "metadata": {},
   "outputs": [
    {
     "data": {
      "text/plain": [
       "245"
      ]
     },
     "execution_count": 92,
     "metadata": {},
     "output_type": "execute_result"
    }
   ],
   "source": [
    "rf_units = session.units[session.units['p_value_rf'] < 0.01]\n",
    "len(rf_units)"
   ]
  },
  {
   "cell_type": "markdown",
   "metadata": {},
   "source": [
    "Where on the screen were the receptive fields of these units?"
   ]
  },
  {
   "cell_type": "code",
   "execution_count": 93,
   "metadata": {},
   "outputs": [
    {
     "data": {
      "text/plain": [
       "Text(0.5, 0, 'azimuth')"
      ]
     },
     "execution_count": 93,
     "metadata": {},
     "output_type": "execute_result"
    },
    {
     "data": {
      "image/png": "[encoded data removed]",
      "text/plain": [
       "<Figure size 432x288 with 1 Axes>"
      ]
     },
     "metadata": {
      "needs_background": "light"
     },
     "output_type": "display_data"
    }
   ],
   "source": [
    "plt.figure()\n",
    "#restrict to units with a significant receptive field\n",
    "#color points by probe ID\n",
    "plt.scatter(\n",
    "    x=rf_units['azimuth_rf'],\n",
    "    y=rf_units['elevation_rf'],\n",
    "    c=rf_units['probe_id'],\n",
    ")\n",
    "plt.ylabel('elevation')\n",
    "plt.xlabel('azimuth')"
   ]
  },
  {
   "cell_type": "markdown",
   "metadata": {},
   "source": [
    "How big were the receptive fields?"
   ]
  },
  {
   "cell_type": "code",
   "execution_count": 94,
   "metadata": {},
   "outputs": [
    {
     "data": {
      "text/plain": [
       "Text(0.5, 0, 'azimuth')"
      ]
     },
     "execution_count": 94,
     "metadata": {},
     "output_type": "execute_result"
    },
    {
     "data": {
      "image/png": "[encoded data removed]",
      "text/plain": [
       "<Figure size 432x288 with 1 Axes>"
      ]
     },
     "metadata": {
      "needs_background": "light"
     },
     "output_type": "display_data"
    }
   ],
   "source": [
    "plt.figure()\n",
    "#restrict to units with a significant receptive field\n",
    "#add receptive field size to the plot\n",
    "plt.scatter(\n",
    "    x=rf_units['azimuth_rf'],\n",
    "    y=rf_units['elevation_rf'],\n",
    "    s=rf_units['area_rf'],\n",
    "    c=rf_units['probe_id'],\n",
    "    alpha=0.4\n",
    ")\n",
    "plt.ylabel('elevation')\n",
    "plt.xlabel('azimuth')"
   ]
  },
  {
   "cell_type": "markdown",
   "metadata": {},
   "source": [
    "<div style=\"border-left: 3px solid #000; padding: 1px; padding-left: 10px; background: #F0FAFF; \">\n",
    "\n",
    "<h2> Spike Times</h2>\n",
    "\n",
    "<p> The primary data in this dataset is the recorded acrtivity of isolated units. The `session.spike times` is a dictionary of spike times for each units in the session.\n",
    "\n",
    "</div>\n"
   ]
  },
  {
   "cell_type": "markdown",
   "metadata": {},
   "source": [
    "<div style=\"background: #DFF0D8; border-radius: 3px; padding: 10px;\">\n",
    "<p><b>Task 3: Spike Times</b>\n",
    "\n",
    "<p> Next let's find the `spike_times` for these units. What type of object is `session.spike_times`? How many items does it include? What are the keys and values?\n",
    "\n",
    "</div>"
   ]
  },
  {
   "cell_type": "markdown",
   "metadata": {},
   "source": [
    "What type of object is this?"
   ]
  },
  {
   "cell_type": "code",
   "execution_count": 99,
   "metadata": {},
   "outputs": [
    {
     "data": {
      "text/plain": [
       "dict"
      ]
     },
     "execution_count": 99,
     "metadata": {},
     "output_type": "execute_result"
    }
   ],
   "source": [
    "type(session.spike_times)"
   ]
  },
  {
   "cell_type": "markdown",
   "metadata": {},
   "source": [
    "How many items does it include?"
   ]
  },
  {
   "cell_type": "code",
   "execution_count": 100,
   "metadata": {},
   "outputs": [
    {
     "data": {
      "text/plain": [
       "761"
      ]
     },
     "execution_count": 100,
     "metadata": {},
     "output_type": "execute_result"
    }
   ],
   "source": [
    "len(session.spike_times)"
   ]
  },
  {
   "cell_type": "code",
   "execution_count": 102,
   "metadata": {},
   "outputs": [
    {
     "data": {
      "text/plain": [
       "761"
      ]
     },
     "execution_count": 102,
     "metadata": {},
     "output_type": "execute_result"
    }
   ],
   "source": [
    "# note that this is the number of units in the session:\n",
    "len(session.units)"
   ]
  },
  {
   "cell_type": "markdown",
   "metadata": {},
   "source": [
    "What are the keys for this object?"
   ]
  },
  {
   "cell_type": "code",
   "execution_count": 103,
   "metadata": {},
   "outputs": [
    {
     "data": {
      "text/plain": [
       "[951868592, 951873413, 951868646, 951873447, 951868713]"
      ]
     },
     "execution_count": 103,
     "metadata": {},
     "output_type": "execute_result"
    }
   ],
   "source": [
    "list(session.spike_times.keys())[:5]"
   ]
  },
  {
   "cell_type": "markdown",
   "metadata": {},
   "source": [
    "These keys are unit ids. Use the unit_id for the first unit to get the spike times for that unit. How many spikes does it have in the entire session?"
   ]
  },
  {
   "cell_type": "code",
   "execution_count": 107,
   "metadata": {},
   "outputs": [
    {
     "data": {
      "text/plain": [
       "array([3.84947218e+00, 4.50867291e+00, 6.87687555e+00, ...,\n",
       "       9.89952888e+03, 9.89963168e+03, 9.89966572e+03])"
      ]
     },
     "execution_count": 107,
     "metadata": {},
     "output_type": "execute_result"
    }
   ],
   "source": [
    "unit_id = session.units.index[0]\n",
    "session.spike_times[unit_id]"
   ]
  },
  {
   "cell_type": "code",
   "execution_count": 111,
   "metadata": {},
   "outputs": [
    {
     "name": "stdout",
     "output_type": "stream",
     "text": [
      "Unit 951851052 has 91206 spikes in this session.\n"
     ]
    }
   ],
   "source": [
    "n_spikes = len(session.spike_times[session.units.index[0]])\n",
    "print(f\"Unit {unit_id} has {n_spikes} spikes in this session.\")"
   ]
  },
  {
   "cell_type": "markdown",
   "metadata": {},
   "source": [
    "<div style=\"border-left: 3px solid #000; padding: 1px; padding-left: 10px; background: #F0FAFF; \">\n",
    "\n",
    "<h3>Plotting spike times</h3>\n",
    "    \n",
    "<p>Let's first select all units in primary visual cortex (VISp) and generate raster plots of spike times as well as binned spike counts.\n",
    "\n",
    "</div>"
   ]
  },
  {
   "cell_type": "code",
   "execution_count": 116,
   "metadata": {},
   "outputs": [],
   "source": [
    "# select all units in VISp \n",
    "visp_units = session.units[session.units['ecephys_structure_acronym'] == 'VISp']"
   ]
  },
  {
   "cell_type": "code",
   "execution_count": 119,
   "metadata": {},
   "outputs": [
    {
     "data": {
      "text/plain": [
       "Text(0.5, 0, 'Time (s)')"
      ]
     },
     "execution_count": 119,
     "metadata": {},
     "output_type": "execute_result"
    },
    {
     "data": {
      "image/png": "[encoded data removed]",
      "text/plain": [
       "<Figure size 1080x288 with 1 Axes>"
      ]
     },
     "metadata": {
      "needs_background": "light"
     },
     "output_type": "display_data"
    }
   ],
   "source": [
    "# select a random unit:\n",
    "unit_id = visp_units.index[10]\n",
    "\n",
    "# make a raster plot of its spike times\n",
    "spikes = session.spike_times[unit_id]\n",
    "plt.figure(figsize=(15, 4))\n",
    "plt.plot(spikes, np.zeros(len(spikes)), '|')\n",
    "plt.xlim(0, 300)\n",
    "plt.xlabel(\"Time (s)\")"
   ]
  },
  {
   "cell_type": "markdown",
   "metadata": {},
   "source": [
    "<div style=\"border-left: 3px solid #000; padding: 5px; padding-left: 10px; background: #F0FAFF; \">\n",
    "    \n",
    "A raster plot won't work for visualizing the activity across the entire session as there are too many spikes! Instead, plot the activity in 1 second bins:\n",
    "    \n",
    "</div>"
   ]
  },
  {
   "cell_type": "code",
   "execution_count": 121,
   "metadata": {},
   "outputs": [
    {
     "data": {
      "text/plain": [
       "Text(0, 0.5, 'FR (Hz)')"
      ]
     },
     "execution_count": 121,
     "metadata": {},
     "output_type": "execute_result"
    },
    {
     "data": {
      "image/png": "[encoded data removed]",
      "text/plain": [
       "<Figure size 1440x360 with 1 Axes>"
      ]
     },
     "metadata": {
      "needs_background": "light"
     },
     "output_type": "display_data"
    }
   ],
   "source": [
    "binned_spikes, bin_edges = np.histogram(spikes, bins=np.arange(0, 300))\n",
    "\n",
    "plt.figure(figsize=(20,5))\n",
    "plt.plot(bin_edges[:-1], binned_spikes)\n",
    "plt.xlabel(\"Time (s)\")\n",
    "plt.ylabel(\"FR (Hz)\")"
   ]
  },
  {
   "cell_type": "markdown",
   "metadata": {},
   "source": [
    "<div style=\"background: #DFF0D8; border-radius: 3px; padding: 10px;\">\n",
    "<p><b>Task 2.9:</b> Plot firing rates for units in V1\n",
    "\n",
    "<p> Now let's do this for up to 50 units in V1. Make an array of the binned activity of all units in V1 called 'v1_binned'. We'll use this again later.\n",
    "\n",
    "</div>"
   ]
  },
  {
   "cell_type": "code",
   "execution_count": 126,
   "metadata": {},
   "outputs": [],
   "source": [
    "# allocate an empty array to hold binned spike rates for up to 50 units\n",
    "numunits = min(50, len(visp_units))\n",
    "numbins = len(binned_spikes)\n",
    "visp_binned = np.empty((numunits, numbins))\n",
    "\n",
    "# compute binned spike rates for each unit:\n",
    "for i in range(numunits):\n",
    "    unit_id = visp_units.index[i]\n",
    "    spikes = spike_times[unit_id]\n",
    "    visp_binned[i] = np.histogram(spikes, bins=bin_edges)[0]"
   ]
  },
  {
   "cell_type": "markdown",
   "metadata": {},
   "source": [
    "Plot the activity of all the units, one above the other"
   ]
  },
  {
   "cell_type": "code",
   "execution_count": 128,
   "metadata": {
    "scrolled": false
   },
   "outputs": [
    {
     "data": {
      "image/png": "[encoded data removed]",
      "text/plain": [
       "<Figure size 1440x720 with 1 Axes>"
      ]
     },
     "metadata": {
      "needs_background": "light"
     },
     "output_type": "display_data"
    }
   ],
   "source": [
    "plt.figure(figsize=(20, 10))\n",
    "for i in range(numunits):\n",
    "    plt.plot(bin_edges[:-1], i + (visp_binned[i,:] / 30.), color='gray')"
   ]
  },
  {
   "cell_type": "markdown",
   "metadata": {},
   "source": [
    "<div style=\"border-left: 3px solid #000; padding: 1px; padding-left: 10px; background: #F0FAFF; \">\n",
    "\n",
    "<h2> 3. Stimulus presentations</h2>\n",
    "\n",
    "<p> A variety of visual stimuli were presented throughout the recording session, and the session object contains detailed information about what stimuli were presented when.\n",
    "\n",
    "</div>"
   ]
  },
  {
   "cell_type": "markdown",
   "metadata": {},
   "source": [
    "<div style=\"background: #DFF0D8; border-radius: 3px; padding: 10px;\">\n",
    "<p><b>Task 3.1: Stimulus</b>\n",
    "\n",
    "<p> What stimuli were presented in this session? Find the `stimulus_names` for the session.\n",
    "\n",
    "</div>"
   ]
  },
  {
   "cell_type": "code",
   "execution_count": null,
   "metadata": {},
   "outputs": [],
   "source": [
    "session.stimulus_names"
   ]
  },
  {
   "cell_type": "markdown",
   "metadata": {},
   "source": [
    "<div style=\"background: #DFF0D8; border-radius: 3px; padding: 10px;\">\n",
    "<p><b>Task 3.2:</b> Stimulus epochs\n",
    "\n",
    "<p> These stimuli are interleaved throughout the session. We can use the `stimulus_epochs` to see when each stimulus type was presented. Then we'll add this to the activity plot we made above.\n",
    "\n",
    "</div>"
   ]
  },
  {
   "cell_type": "code",
   "execution_count": null,
   "metadata": {},
   "outputs": [],
   "source": [
    "stimulus_epochs = session.get_stimulus_epochs()\n",
    "stimulus_epochs"
   ]
  },
  {
   "cell_type": "markdown",
   "metadata": {},
   "source": [
    "Remake our plot of V1 activity from above, adding this stimulus epoch information. Shade each stimulus with a unique color. The <b>plt.axvspan()</b> is a useful function for this."
   ]
  },
  {
   "cell_type": "code",
   "execution_count": null,
   "metadata": {},
   "outputs": [],
   "source": [
    "plt.figure(figsize=(20,10))\n",
    "for i in range(numunits):\n",
    "    plt.plot(i+(v1_binned[i,:]/30.), color='gray')\n",
    "\n",
    "colors = ['blue','orange','green','red','yellow','purple','magenta','gray','lightblue']\n",
    "for c, stim_name in enumerate(session.stimulus_names):\n",
    "    stim = stimulus_epochs[stimulus_epochs.stimulus_name==stim_name]\n",
    "    for j in range(len(stim)):\n",
    "        plt.axvspan(xmin=stim[\"start_time\"].iloc[j], xmax=stim[\"stop_time\"].iloc[j], color=colors[c], alpha=0.1)\n"
   ]
  },
  {
   "cell_type": "markdown",
   "metadata": {},
   "source": [
    "Before we dig into the stimulus information in more detail, let's find one more piece of session-wide data that's in the dataset. Running speed."
   ]
  },
  {
   "cell_type": "markdown",
   "metadata": {},
   "source": [
    "<div style=\"background: #DFF0D8; border-radius: 3px; padding: 10px;\">\n",
    "<p><b>Task 3.3:</b> Get the running speed\n",
    "\n",
    "<p> Before we dig further into the stimulus information in more detail, let's add one more piece of session-wide data to our plot. The mouse's running speed.  \n",
    "\n",
    "Get the `running_speed` and its time stamps from the session object. Plot the speed as a function of time.\n",
    "\n",
    "</div>"
   ]
  },
  {
   "cell_type": "code",
   "execution_count": null,
   "metadata": {},
   "outputs": [],
   "source": [
    "plt.plot(session.running_speed.end_time, session.running_speed.velocity)\n",
    "plt.xlabel(\"Time (s)\")\n",
    "plt.ylabel(\"Running speed (cm/s)\")"
   ]
  },
  {
   "cell_type": "markdown",
   "metadata": {},
   "source": [
    "Add the running speed to the plot of V1 activity and stimulus epochs."
   ]
  },
  {
   "cell_type": "code",
   "execution_count": null,
   "metadata": {},
   "outputs": [],
   "source": [
    "plt.figure(figsize=(20,10))\n",
    "for i in range(numunits):\n",
    "    plt.plot(i+(v1_binned[i,:]/30.), color='gray')\n",
    "\n",
    "#scale the running speed and offset it on the plot\n",
    "plt.plot(session.running_speed.end_time, (0.3*session.running_speed.velocity)-20)\n",
    "    \n",
    "colors = ['blue','orange','green','red','yellow','purple','magenta','gray','lightblue']\n",
    "for c, stim_name in enumerate(session.stimulus_names):\n",
    "    stim = stimulus_epochs[stimulus_epochs.stimulus_name==stim_name]\n",
    "    for j in range(len(stim)):\n",
    "        plt.axvspan(xmin=stim[\"start_time\"].iloc[j], xmax=stim[\"stop_time\"].iloc[j], color=colors[c], alpha=0.1)\n",
    "        \n",
    "plt.ylim(-20,52)\n"
   ]
  },
  {
   "cell_type": "markdown",
   "metadata": {},
   "source": [
    "<div style=\"background: #DFF0D8; border-radius: 3px; padding: 10px;\">\n",
    "<p><b>Task 3.3.1:</b> Get the pupil data\n",
    "\n",
    "<p> Let's also add one more piece of data that is highly correlated with running and arousal: the pupil data.  \n",
    "\n",
    "Get the `pupil_data` from the session object.\n",
    "\n",
    "</div>"
   ]
  },
  {
   "cell_type": "code",
   "execution_count": null,
   "metadata": {},
   "outputs": [],
   "source": [
    "pupil_data = session.get_pupil_data()\n",
    "pupil_data"
   ]
  },
  {
   "cell_type": "markdown",
   "metadata": {},
   "source": [
    "There are many variables here but for now let's focus on the pupil diameter/width, which is closely related with the animal's level of arousal. Plot the pupil width for the session."
   ]
  },
  {
   "cell_type": "code",
   "execution_count": null,
   "metadata": {},
   "outputs": [],
   "source": [
    "#only including frames up to the end of the running data\n",
    "incl_frames=pupil_data.index<np.max(session.running_speed.end_time)\n",
    "\n",
    "#here the timestamps are just the index\n",
    "plt.plot(pupil_data.index[incl_frames], pupil_data.pupil_width[incl_frames])\n",
    "plt.xlabel(\"Time (s)\")\n",
    "plt.ylabel(\"Pupil width\")"
   ]
  },
  {
   "cell_type": "markdown",
   "metadata": {},
   "source": [
    "Plot pupil diameter alongside running speed"
   ]
  },
  {
   "cell_type": "code",
   "execution_count": null,
   "metadata": {},
   "outputs": [],
   "source": [
    "plt.figure()\n",
    "ax=plt.subplot(2,1,1)\n",
    "ax.plot(pupil_data.index[incl_frames], pupil_data.pupil_width[incl_frames])\n",
    "ax.set_ylabel(\"Pupil width\")\n",
    "ax.set_ylim(0,100)\n",
    "\n",
    "ax=plt.subplot(2,1,2)\n",
    "ax.plot(session.running_speed.end_time, session.running_speed.velocity)\n",
    "ax.set_xlabel(\"Time (s)\")\n",
    "ax.set_ylabel(\"Running speed\")\n"
   ]
  },
  {
   "cell_type": "markdown",
   "metadata": {},
   "source": [
    "<div style=\"background: #DFF0D8; border-radius: 3px; padding: 10px;\">\n",
    "<p><b>Task 3.4:</b> Stimulus presentations\n",
    "\n",
    "<p> Now let's go back and learn more about the stimulus that was presented. The session object has a function that returns a table for a given stimulus called `get_stimulus_table`.\n",
    "    \n",
    "In some cases, you might instead want the information for all types of stimulus in one table - this is stored in 'session.stimulus_presentations', although it takes a while to load.\n",
    "\n",
    "Use this to get the stimulus table for drifting gratings and for natural scenes. What information do these tables provide? How are they different?\n",
    "\n",
    "</div>\n"
   ]
  },
  {
   "cell_type": "code",
   "execution_count": null,
   "metadata": {},
   "outputs": [],
   "source": [
    "stim_table = session.get_stimulus_table('drifting_gratings')"
   ]
  },
  {
   "cell_type": "code",
   "execution_count": null,
   "metadata": {},
   "outputs": [],
   "source": [
    "stim_table.head()"
   ]
  },
  {
   "cell_type": "markdown",
   "metadata": {},
   "source": [
    "Now get the stimulus table for natural scenes. What is different about these tables?"
   ]
  },
  {
   "cell_type": "code",
   "execution_count": null,
   "metadata": {},
   "outputs": [],
   "source": [
    "stim_table_ns = session.get_stimulus_table('natural_scenes')"
   ]
  },
  {
   "cell_type": "code",
   "execution_count": null,
   "metadata": {},
   "outputs": [],
   "source": [
    "stim_table_ns.head()"
   ]
  },
  {
   "cell_type": "markdown",
   "metadata": {},
   "source": [
    "<div style=\"background: #DFF0D8; border-radius: 3px; padding: 10px;\">\n",
    "<p><b>Task 3.5:</b> Drifting gratings stimulus parameters\n",
    "\n",
    "<p> Use the drifting grating stimulus table to determine what are the unique parameters for the different stimulus conditions of this stimulus.\n",
    "\n",
    "</div>\n"
   ]
  },
  {
   "cell_type": "code",
   "execution_count": null,
   "metadata": {},
   "outputs": [],
   "source": [
    "stim_table.orientation.unique()"
   ]
  },
  {
   "cell_type": "code",
   "execution_count": null,
   "metadata": {},
   "outputs": [],
   "source": [
    "stim_table.spatial_frequency.unique()"
   ]
  },
  {
   "cell_type": "code",
   "execution_count": null,
   "metadata": {},
   "outputs": [],
   "source": [
    "stim_table.temporal_frequency.unique()"
   ]
  },
  {
   "cell_type": "code",
   "execution_count": null,
   "metadata": {},
   "outputs": [],
   "source": [
    "stim_table.contrast.unique()"
   ]
  },
  {
   "cell_type": "markdown",
   "metadata": {},
   "source": [
    "What do you think the 'null' conditions are?"
   ]
  },
  {
   "cell_type": "markdown",
   "metadata": {},
   "source": [
    "<div style=\"background: #DFF0D8; border-radius: 3px; padding: 10px;\">\n",
    "<p><b>Task 3.6:</b> Natural scenes stimulus\n",
    "\n",
    "<p> Use the stimulus table for natural scenes to find all the times when a particular image is presented during the session, and add it to the plot of activity in V1.  Pick the first image that was presented in this session.\n",
    "</div>\n"
   ]
  },
  {
   "cell_type": "code",
   "execution_count": null,
   "metadata": {},
   "outputs": [],
   "source": [
    "stim_table_ns[stim_table_ns.frame==stim_table_ns.frame.iloc[0]].head()"
   ]
  },
  {
   "cell_type": "markdown",
   "metadata": {},
   "source": [
    "How many times was it presented?"
   ]
  },
  {
   "cell_type": "code",
   "execution_count": null,
   "metadata": {},
   "outputs": [],
   "source": [
    "len(stim_table_ns[stim_table_ns.frame==stim_table_ns.frame.iloc[0]])"
   ]
  },
  {
   "cell_type": "markdown",
   "metadata": {},
   "source": [
    "Mark the times when this particular scene was presented on our plot of the activity (without the epochs and running speed)."
   ]
  },
  {
   "cell_type": "code",
   "execution_count": null,
   "metadata": {},
   "outputs": [],
   "source": [
    "plt.figure(figsize=(20,10))\n",
    "for i in range(numunits):\n",
    "    plt.plot(i+(v1_binned[i,:]/30.), color='gray')\n",
    "    \n",
    "stim_subset = stim_table_ns[stim_table_ns.frame==stim_table_ns.frame.iloc[0]]\n",
    "for j in range(len(stim_subset)):\n",
    "    plt.axvspan(xmin=stim_subset.start_time.iloc[j], xmax=stim_subset.stop_time.iloc[j], color='r', alpha=0.5)\n",
    "plt.xlim(5000,9000)"
   ]
  },
  {
   "cell_type": "markdown",
   "metadata": {},
   "source": [
    "<div style=\"background: #DFF0D8; border-radius: 3px; padding: 10px;\">\n",
    "<p><b>Task 3.7: Stimulus template</b> \n",
    "\n",
    "<p> What is this image? The `stimulus template` provides the images and movies that were presented to the mouse. These are only provided for stimuli that are images (natural scenes, natural movies) - parametric stimuli (eg. gratings) do not have templates.\n",
    "</div>\n"
   ]
  },
  {
   "cell_type": "code",
   "execution_count": null,
   "metadata": {},
   "outputs": [],
   "source": [
    "image_num = 96\n",
    "image_template = cache.get_natural_scene_template(image_num)\n",
    "\n",
    "plt.imshow(image_template, cmap='gray')"
   ]
  },
  {
   "cell_type": "markdown",
   "metadata": {},
   "source": [
    "<div style=\"background: #DFF0D8; border-radius: 3px; padding: 10px;\">\n",
    "<p><b>Task 3.8: </b> Single trial raster plots for all units.\n",
    "\n",
    "<p>Now that we've seen the pieces of data, we can explore the neural activity in greater detail. Make a raster plot for a single presentation of the drifting grating stimulus at orientation=45 degrees and temporal frequency = 2 Hz.\n",
    "\n",
    "To start, make a function to make a raster plot of all the units in the experiment.\n",
    "\n",
    "</div>\n"
   ]
  },
  {
   "cell_type": "code",
   "execution_count": null,
   "metadata": {},
   "outputs": [],
   "source": [
    "def plot_raster(spike_times, start, end):\n",
    "    num_units = len(spike_times)\n",
    "    ystep = 1 / num_units\n",
    "\n",
    "    ymin = 0\n",
    "    ymax = ystep\n",
    "\n",
    "    for unit_id, unit_spike_times in spike_times.items():\n",
    "        unit_spike_times = unit_spike_times[np.logical_and(unit_spike_times >= start, unit_spike_times < end)]\n",
    "        plt.vlines(unit_spike_times, ymin=ymin, ymax=ymax)\n",
    "\n",
    "        ymin += ystep\n",
    "        ymax += ystep\n",
    "        "
   ]
  },
  {
   "cell_type": "markdown",
   "metadata": {},
   "source": [
    "Find the first presentation of our chosen grating condition."
   ]
  },
  {
   "cell_type": "code",
   "execution_count": null,
   "metadata": {},
   "outputs": [],
   "source": [
    "stim_table = session.get_stimulus_table('drifting_gratings')\n",
    "subset = stim_table[(stim_table.orientation==45)&(stim_table.temporal_frequency==2)]\n",
    "start = stim_table.start_time.iloc[0]\n",
    "end = stim_table.stop_time.iloc[0]"
   ]
  },
  {
   "cell_type": "markdown",
   "metadata": {},
   "source": [
    "Use the plot_raster function to plot the response of all units to this trial. Pad the raster plot with half a second before and after the trial, and shade the trial red (with an alpha of 0.1)"
   ]
  },
  {
   "cell_type": "code",
   "execution_count": null,
   "metadata": {},
   "outputs": [],
   "source": [
    "plt.figure(figsize=(8,6))\n",
    "plot_raster(session.spike_times, start-0.5, end+0.5)\n",
    "plt.axvspan(start, end, color='red', alpha=0.1)\n",
    "plt.xlabel('Time (sec)', fontsize=16)\n",
    "plt.ylabel('Units', fontsize=16)\n",
    "plt.tick_params(axis=\"y\", labelleft=False, left=False)\n",
    "plt.show()"
   ]
  },
  {
   "cell_type": "markdown",
   "metadata": {},
   "source": [
    "<div style=\"background: #DFF0D8; border-radius: 3px; padding: 10px;\">\n",
    "<p><b>Task 3.9: </b> Single trial raster plots for all units.\n",
    "\n",
    "<p>Use the `unit` dataframe to arrange the neurons in the raster plot according to their overall firing rate. \n",
    "\n",
    "</div>\n"
   ]
  },
  {
   "cell_type": "code",
   "execution_count": null,
   "metadata": {
    "scrolled": true
   },
   "outputs": [],
   "source": [
    "session.units.sort_values(by=\"firing_rate\", ascending=False).head()"
   ]
  },
  {
   "cell_type": "code",
   "execution_count": null,
   "metadata": {},
   "outputs": [],
   "source": [
    "plt.plot(session.units.sort_values(by=\"firing_rate\", ascending=False).firing_rate.values, 'o')\n",
    "plt.ylabel(\"Firing rate (Hz)\")\n",
    "plt.xlabel(\"Unit #\")"
   ]
  },
  {
   "cell_type": "code",
   "execution_count": null,
   "metadata": {},
   "outputs": [],
   "source": [
    "by_fr = session.units.sort_values(by=\"firing_rate\", ascending=False)\n",
    "spike_times_by_firing_rate = {\n",
    "    uid: session.spike_times[uid] for uid in by_fr.index.values\n",
    "}\n",
    "\n",
    "plt.figure(figsize=(8,6))\n",
    "plot_raster(spike_times_by_firing_rate, start-0.5, end+0.5)\n",
    "plt.axvspan(start, end, color='red', alpha=0.1)\n",
    "plt.ylabel('Units', fontsize=16)\n",
    "plt.xlabel('Time (sec)', fontsize=16)\n",
    "plt.tick_params(axis=\"y\", labelleft=False, left=False)\n",
    "plt.show()\n"
   ]
  },
  {
   "cell_type": "markdown",
   "metadata": {},
   "source": [
    "<div style=\"border-left: 3px solid #000; padding: 1px; padding-left: 10px; background: #F0FAFF; \">\n",
    "\n",
    "<h2> 4. Unit waveforms</h2>\n",
    "\n",
    "<p> For each unit, the average action potential waveform has been recorded from each channel of the probe. This is contained in the `mean_waveforms` object. This is the characteristic pattern that distinguishes each unit in spike sorting, and it can also help inform us regarding differences between cell types. \n",
    "\n",
    "<p>We will use this in conjuction with the `channel_structure_intervals` function which tells us where each channel is located in the brain. This will let us get a feel for the spatial extent of the extracellular action potential waveforms in relation to specific structures.\n",
    "\n",
    "\n",
    "</div>\n"
   ]
  },
  {
   "cell_type": "markdown",
   "metadata": {},
   "source": [
    "<div style=\"background: #DFF0D8; border-radius: 3px; padding: 10px;\">\n",
    "<p><b>Task 4.0: Unit waveforms</b> \n",
    "\n",
    "<p> \n",
    "\n",
    "Get the waveform for one unit.\n",
    "</div>"
   ]
  },
  {
   "cell_type": "code",
   "execution_count": null,
   "metadata": {},
   "outputs": [],
   "source": [
    "waveforms = session.mean_waveforms"
   ]
  },
  {
   "cell_type": "markdown",
   "metadata": {},
   "source": [
    "What type of object is this?"
   ]
  },
  {
   "cell_type": "code",
   "execution_count": null,
   "metadata": {},
   "outputs": [],
   "source": [
    "type(waveforms)"
   ]
  },
  {
   "cell_type": "markdown",
   "metadata": {},
   "source": [
    "What are the keys?"
   ]
  },
  {
   "cell_type": "code",
   "execution_count": null,
   "metadata": {},
   "outputs": [],
   "source": [
    "list(waveforms.keys())[:5]"
   ]
  },
  {
   "cell_type": "markdown",
   "metadata": {},
   "source": [
    "Get the waveform for one unit"
   ]
  },
  {
   "cell_type": "code",
   "execution_count": null,
   "metadata": {},
   "outputs": [],
   "source": [
    "unit = session.units.index.values[400]\n",
    "wf = session.mean_waveforms[unit]"
   ]
  },
  {
   "cell_type": "markdown",
   "metadata": {},
   "source": [
    "What type of object is this? What is its shape?"
   ]
  },
  {
   "cell_type": "code",
   "execution_count": null,
   "metadata": {},
   "outputs": [],
   "source": [
    "type(wf)"
   ]
  },
  {
   "cell_type": "code",
   "execution_count": null,
   "metadata": {},
   "outputs": [],
   "source": [
    "wf.coords"
   ]
  },
  {
   "cell_type": "code",
   "execution_count": null,
   "metadata": {},
   "outputs": [],
   "source": [
    "wf.shape"
   ]
  },
  {
   "cell_type": "code",
   "execution_count": null,
   "metadata": {},
   "outputs": [],
   "source": [
    "plt.imshow(wf, aspect=0.2, origin='lower')\n",
    "plt.xlabel('Time steps')\n",
    "plt.ylabel('Channel #')"
   ]
  },
  {
   "cell_type": "markdown",
   "metadata": {},
   "source": [
    "<div style=\"background: #DFF0D8; border-radius: 3px; padding: 10px;\">\n",
    "<p><b>Task 4.1: Unit waveforms</b> \n",
    "\n",
    "<p> \n",
    "Use the `channel_structure_intervals` to get information about where each channel is located.\n",
    "\n",
    "We need to pass this function a list of channel ids, and it will identify channels that mark boundaries between identified brain regions. \n",
    "\n",
    "<p>We can use this information to add some context to our visualization.\n",
    "</div>\n"
   ]
  },
  {
   "cell_type": "code",
   "execution_count": null,
   "metadata": {},
   "outputs": [],
   "source": [
    "# pass in the list of channels from the waveforms data\n",
    "structure_acronyms, intervals = session.channel_structure_intervals(wf.channel_id.values)\n",
    "print(structure_acronyms)\n",
    "print(intervals)"
   ]
  },
  {
   "cell_type": "markdown",
   "metadata": {},
   "source": [
    "Place tick marks at the interval boundaries, and labels at the interval midpoints."
   ]
  },
  {
   "cell_type": "code",
   "execution_count": null,
   "metadata": {},
   "outputs": [],
   "source": [
    "fig, ax = plt.subplots()\n",
    "plt.imshow(wf, aspect=0.2, origin='lower')\n",
    "plt.colorbar(ax=ax)\n",
    "\n",
    "ax.set_xlabel(\"time (s)\")\n",
    "ax.set_yticks(intervals)\n",
    "# construct a list of midpoints by averaging adjacent endpoints\n",
    "interval_midpoints = [ (aa + bb) / 2 for aa, bb in zip(intervals[:-1], intervals[1:])]\n",
    "ax.set_yticks(interval_midpoints, minor=True)\n",
    "ax.set_yticklabels(structure_acronyms, minor=True)\n",
    "plt.tick_params(\"y\", which=\"major\", labelleft=False, length=40)\n",
    "\n",
    "plt.show()"
   ]
  },
  {
   "cell_type": "markdown",
   "metadata": {},
   "source": [
    "Let's see if this matches the structure information saved in the units table:"
   ]
  },
  {
   "cell_type": "code",
   "execution_count": null,
   "metadata": {},
   "outputs": [],
   "source": [
    "session.units.loc[unit, \"ecephys_structure_acronym\"]"
   ]
  },
  {
   "cell_type": "markdown",
   "metadata": {},
   "source": [
    "<div style=\"background: #DFF0D8; border-radius: 3px; padding: 10px;\">\n",
    "<p><b>Task 4.2: </b>Plot the mean waveform for the peak channel for each unit in the dentate gyrus (DG)\n",
    "\n",
    "<p> Start by plotting the mean waveform for the peak channel for the unit we just looked at. \n",
    "Then do this for all the units in DG, making a heatmap of these waveforms\n",
    "</div>"
   ]
  },
  {
   "cell_type": "markdown",
   "metadata": {},
   "source": [
    "Find the peak channel for this unit, and plot the mean waveform for just that channel"
   ]
  },
  {
   "cell_type": "code",
   "execution_count": null,
   "metadata": {},
   "outputs": [],
   "source": [
    "channel_id = session.units.loc[unit, 'peak_channel_id']\n",
    "print(channel_id)"
   ]
  },
  {
   "cell_type": "code",
   "execution_count": null,
   "metadata": {},
   "outputs": [],
   "source": [
    "plt.plot(wf.loc[{\"channel_id\": channel_id}])"
   ]
  },
  {
   "cell_type": "code",
   "execution_count": null,
   "metadata": {},
   "outputs": [],
   "source": [
    "fig, ax = plt.subplots()\n",
    "\n",
    "th_unit_ids = good_units[good_units.ecephys_structure_acronym==\"DG\"].index.values\n",
    "\n",
    "peak_waveforms = []\n",
    "\n",
    "for unit_id in th_unit_ids:\n",
    "\n",
    "    peak_ch = good_units.loc[unit_id, \"peak_channel_id\"]\n",
    "    unit_mean_waveforms = session.mean_waveforms[unit_id]\n",
    "\n",
    "    peak_waveforms.append(unit_mean_waveforms.loc[{\"channel_id\": peak_ch}])\n",
    "    \n",
    "    \n",
    "time_domain = unit_mean_waveforms[\"time\"]\n",
    "\n",
    "peak_waveforms = np.array(peak_waveforms)\n",
    "plt.pcolormesh(peak_waveforms)"
   ]
  },
  {
   "cell_type": "markdown",
   "metadata": {},
   "source": [
    "<div style=\"border-left: 3px solid #000; padding: 1px; padding-left: 10px; background: #F0FAFF; \">\n",
    "\n",
    "<h2> 5. Stimulus responses</h2>\n",
    "\n",
    "<p> A lot of the analysis of these data will requires comparing responses of neurons to different stimulus conditions and presentations. The SDK has functions to help access these, sorting the spike data into responses for each stimulus presentations and converting from spike times to binned spike counts. This spike histogram representation is more useful for many computations, since it can be treated as a timeseries and directly averaged across presentations. \n",
    "\n",
    "<p>The `presentationwise_spike_counts` provides the histograms for specified stimulus presentation trials for specified units. The function requires <b>stimulus_presentation_ids</b> for the stimulus in question, <b>unit_ids</b> for the relevant units, and <b>bin_edges</b> to specify the time bins to count spikes in (relative to stimulus onset).\n",
    "\n",
    "<p>The `conditionwise_spike_statistics` creates a summary of specified units responses to specified stimulus conditions, including the mean spike count, standard deviation, and standard error of the mean.\n",
    "\n",
    "</div>\n"
   ]
  },
  {
   "cell_type": "markdown",
   "metadata": {},
   "source": [
    "<div style=\"background: #DFF0D8; border-radius: 3px; padding: 10px;\">\n",
    "<p><b>Task 5.1: Presentation-wise analysis for drifting gratings</b>\n",
    "\n",
    "<p>  \n",
    "\n",
    "Pick  a specific condition of the drifting grating stimulus and create spike histograms for the units in V1.\n",
    "<p>Create bins at a 10 ms resolution so we can see dynamics on a fast timescale.\n",
    "\n",
    "</div>"
   ]
  },
  {
   "cell_type": "code",
   "execution_count": null,
   "metadata": {},
   "outputs": [],
   "source": [
    "stim_table.head()"
   ]
  },
  {
   "cell_type": "code",
   "execution_count": null,
   "metadata": {},
   "outputs": [],
   "source": [
    "# specify the time bins in seconds, relative to stimulus onset\n",
    "time_step = 1/100.\n",
    "duration = stim_table.duration.iloc[0]\n",
    "time_domain = np.arange(0, duration+time_step, time_step)\n",
    "print(time_domain.shape)"
   ]
  },
  {
   "cell_type": "code",
   "execution_count": null,
   "metadata": {},
   "outputs": [],
   "source": [
    "stim_ids = stim_table[(stim_table.orientation==90)&(stim_table.temporal_frequency==1)].index\n",
    "print(stim_ids.shape)"
   ]
  },
  {
   "cell_type": "code",
   "execution_count": null,
   "metadata": {},
   "outputs": [],
   "source": [
    "histograms = session.presentationwise_spike_counts(bin_edges=time_domain, \n",
    "                                                   stimulus_presentation_ids=stim_ids, \n",
    "                                                   unit_ids=v1_units.index)"
   ]
  },
  {
   "cell_type": "markdown",
   "metadata": {},
   "source": [
    "What type of object is this? What is its shape?"
   ]
  },
  {
   "cell_type": "code",
   "execution_count": null,
   "metadata": {},
   "outputs": [],
   "source": [
    "type(histograms)"
   ]
  },
  {
   "cell_type": "code",
   "execution_count": null,
   "metadata": {},
   "outputs": [],
   "source": [
    "histograms.shape"
   ]
  },
  {
   "cell_type": "markdown",
   "metadata": {},
   "source": [
    "<div style=\"border-left: 3px solid #000; padding: 1px; padding-left: 10px; background: #F0FAFF; \">\n",
    "<h3>Xarray</h3>\n",
    "\n",
    "This has returned a new (to this notebook) data structure, the `xarray.DataArray`. You can think of this as similar to a 3+D `pandas.DataFrame`, or as a `numpy.ndarray` with labeled axes and indices. See the [xarray documentation](http://xarray.pydata.org/en/stable/index.html) for more information. In the mean time, the salient features are:\n",
    "\n",
    "- Dimensions : Each axis on each data variable is associated with a named dimension. This lets us see unambiguously what the axes of our array mean.\n",
    "- Coordinates : Arrays of labels for each sample on each dimension.\n",
    "\n",
    "xarray is nice because it forces code to be explicit about dimensions and coordinates, improving readability and avoiding bugs. However, you can always convert to numpy or pandas data structures as follows:\n",
    "\n",
    "- to pandas: `histograms.to_dataframe()` produces a multiindexed dataframe\n",
    "- to numpy: `histograms.values` gives you access to the underlying numpy array\n",
    "\n",
    "</div>"
   ]
  },
  {
   "cell_type": "markdown",
   "metadata": {},
   "source": [
    "<div style=\"background: #DFF0D8; border-radius: 3px; padding: 10px;\">\n",
    "<p><b>Task 5.2:</b> Plot the response of the first unit to all 15 trials\n",
    "\n",
    "<p> \n",
    "\n",
    "</div>"
   ]
  },
  {
   "cell_type": "code",
   "execution_count": null,
   "metadata": {},
   "outputs": [],
   "source": [
    "for i in range(15):\n",
    "    plt.plot(histograms.time_relative_to_stimulus_onset, i+histograms[i,:,0])\n",
    "plt.xlabel(\"Time (s)\", fontsize=16)\n",
    "plt.ylabel(\"Trials\", fontsize=16)"
   ]
  },
  {
   "cell_type": "markdown",
   "metadata": {},
   "source": [
    "<div style=\"background: #DFF0D8; border-radius: 3px; padding: 10px;\">\n",
    "<p><b>Task 5.2:</b> Compute the mean of the trials for all units, and plot a heatmap of mean response for all units in V1\n",
    "\n",
    "<p> \n",
    "\n",
    "</div>"
   ]
  },
  {
   "cell_type": "code",
   "execution_count": null,
   "metadata": {},
   "outputs": [],
   "source": [
    "mean_histograms = histograms.mean(dim=\"stimulus_presentation_id\")"
   ]
  },
  {
   "cell_type": "code",
   "execution_count": null,
   "metadata": {},
   "outputs": [],
   "source": [
    "mean_histograms.coords"
   ]
  },
  {
   "cell_type": "code",
   "execution_count": null,
   "metadata": {},
   "outputs": [],
   "source": [
    "import xarray.plot as xrplot\n",
    "xrplot.imshow(darray=mean_histograms, x=\"time_relative_to_stimulus_onset\",\n",
    "                                      y=\"unit_id\")"
   ]
  },
  {
   "cell_type": "markdown",
   "metadata": {},
   "source": [
    "<div style=\"background: #DFF0D8; border-radius: 3px; padding: 10px;\">\n",
    "<p><b>Task 5.3: Conditionwise analysis</b> \n",
    "\n",
    "In order to compute a tuning curve that summarizes the responses of a unit to each stimulus condition of a stimulus, use the `conditionwise_spike_statistics` to summarize the activity of specific units to the different stimulus conditions.\n",
    "\n",
    "<p> \n",
    "\n",
    "</div>"
   ]
  },
  {
   "cell_type": "code",
   "execution_count": null,
   "metadata": {},
   "outputs": [],
   "source": [
    "stim_ids = stim_table.index.values"
   ]
  },
  {
   "cell_type": "code",
   "execution_count": null,
   "metadata": {},
   "outputs": [],
   "source": [
    "dg_stats = session.conditionwise_spike_statistics(stimulus_presentation_ids=stim_ids, unit_ids=v1_units.index)"
   ]
  },
  {
   "cell_type": "markdown",
   "metadata": {},
   "source": [
    "What type of object is this? What is its shape?"
   ]
  },
  {
   "cell_type": "code",
   "execution_count": null,
   "metadata": {},
   "outputs": [],
   "source": [
    "type(dg_stats)"
   ]
  },
  {
   "cell_type": "code",
   "execution_count": null,
   "metadata": {},
   "outputs": [],
   "source": [
    "dg_stats.shape"
   ]
  },
  {
   "cell_type": "markdown",
   "metadata": {},
   "source": [
    "What are its columns?"
   ]
  },
  {
   "cell_type": "code",
   "execution_count": null,
   "metadata": {},
   "outputs": [],
   "source": [
    "dg_stats.columns"
   ]
  },
  {
   "cell_type": "markdown",
   "metadata": {},
   "source": [
    "Can you explain the first dimension?"
   ]
  },
  {
   "cell_type": "code",
   "execution_count": null,
   "metadata": {},
   "outputs": [],
   "source": [
    "dg_stats.head()"
   ]
  },
  {
   "cell_type": "markdown",
   "metadata": {},
   "source": [
    "<div style=\"background: #DFF0D8; border-radius: 3px; padding: 10px;\">\n",
    "<p><b>Task 5.4: </b> Merge the conditionwise statistics with stimulus information\n",
    "\n",
    "In order to link the stimulus responses with the stimulus conditions, merge the spike_statistics output with the stimulus table using `pd.merge()`.\n",
    "\n",
    "<p> \n",
    "\n",
    "</div>"
   ]
  },
  {
   "cell_type": "code",
   "execution_count": null,
   "metadata": {},
   "outputs": [],
   "source": [
    "dg_stats_stim = pd.merge(dg_stats, session.stimulus_conditions, on='stimulus_condition_id', right_index=True)"
   ]
  },
  {
   "cell_type": "markdown",
   "metadata": {},
   "source": [
    "<div style=\"border-left: 3px solid #000; padding: 1px; padding-left: 10px; background: #F0FAFF; \">\n",
    "\n",
    "This dataframe currently has a *multi-index*, meaning that each row is indexed by the pair of unit_id and stimulus_condition_id, rather than a single identifier. There are several ways to use this index:\n",
    "\n",
    "- specify the pair of identifiers as a tuple: `dg_stats_stim.loc[(unit_id, stim_id)]`\n",
    "- specifying the axis makes it easier to get all rows for one unit: `dg_stats_stim.loc(axis=0)[unit_id, :]`\n",
    "- or you can use `dg_stats_stim.reset_index()` to move the index to regular columns\n",
    "\n",
    "</div>"
   ]
  },
  {
   "cell_type": "code",
   "execution_count": null,
   "metadata": {},
   "outputs": [],
   "source": [
    "dg_stats_stim.head()"
   ]
  },
  {
   "cell_type": "markdown",
   "metadata": {},
   "source": [
    "<div style=\"background: #DFF0D8; border-radius: 3px; padding: 10px;\">\n",
    "<p><b>Task 5.5: </b> Plot a 2D tuning curve for the first unit, comparing responses across temporal frequency and orientation.\n",
    "\n",
    "\n",
    "<p> \n",
    "\n",
    "</div>"
   ]
  },
  {
   "cell_type": "code",
   "execution_count": null,
   "metadata": {},
   "outputs": [],
   "source": [
    "unit_id = v1_units.index[1]"
   ]
  },
  {
   "cell_type": "code",
   "execution_count": null,
   "metadata": {},
   "outputs": [],
   "source": [
    "stim_ids = stim_table.index.values\n",
    "session.get_stimulus_parameter_values(stimulus_presentation_ids=stim_ids, drop_nulls=True)"
   ]
  },
  {
   "cell_type": "code",
   "execution_count": null,
   "metadata": {},
   "outputs": [],
   "source": [
    "\n",
    "orivals = session.get_stimulus_parameter_values(stimulus_presentation_ids=stim_ids, drop_nulls=True)['orientation']\n",
    "tfvals = session.get_stimulus_parameter_values(stimulus_presentation_ids=stim_ids, drop_nulls=True)['temporal_frequency']"
   ]
  },
  {
   "cell_type": "code",
   "execution_count": null,
   "metadata": {},
   "outputs": [],
   "source": [
    "response_mean = np.empty((len(orivals), len(tfvals)))\n",
    "response_sem = np.empty((len(orivals), len(tfvals)))\n",
    "for i,ori in enumerate(orivals):\n",
    "    for j,tf in enumerate(tfvals):\n",
    "        stim_id = stim_table[(stim_table.orientation==ori)&(stim_table.temporal_frequency==tf)].stimulus_condition_id.iloc[0]\n",
    "        response_mean[i,j] = dg_stats_stim.loc[(unit_id, stim_id)].spike_mean\n",
    "        response_sem[i,j] = dg_stats_stim.loc[(unit_id, stim_id)].spike_sem\n"
   ]
  },
  {
   "cell_type": "code",
   "execution_count": null,
   "metadata": {},
   "outputs": [],
   "source": [
    "plt.imshow(response_mean)\n",
    "plt.xlabel(\"Temporal frequency (Hz)\")\n",
    "plt.ylabel(\"Direction (deg)\")\n",
    "plt.xticks(range(5), tfvals)\n",
    "plt.yticks(range(8), orivals)\n",
    "plt.show()"
   ]
  },
  {
   "cell_type": "markdown",
   "metadata": {},
   "source": [
    "## **optotagging??"
   ]
  },
  {
   "cell_type": "markdown",
   "metadata": {},
   "source": [
    "<div style=\"border-left: 3px solid #000; padding: 1px; padding-left: 10px; background: #F0FAFF; \">\n",
    "\n",
    "<h2> 6. Local Field Potential (LFP)</h2>\n",
    "<p>\n",
    "The final aspect of a Neuropixels probe recording we will investigate is the local field potential (LFP). An LFP signal is a direct recordings of extracellular voltage from which individual spike contributions have been removed by low-pass filtering. The remaining signal reflects the population activity of a large number of cells in the vicinity of the probe, primarily through the electrical field effects of synaptic currents (along with other trans-membrane currents).\n",
    "</p>\n",
    "<p>\n",
    "LFP can be especially informative for understanding rhythmic activity or oscillations in neural circuits, which can be identified by some simple time-series analysis of the LFP signals.\n",
    "</p>\n",
    "</div>\n"
   ]
  },
  {
   "cell_type": "markdown",
   "metadata": {},
   "source": [
    "<div style=\"background: #DFF0D8; border-radius: 3px; padding: 10px;\">\n",
    "<b>Task 6.1: Accessing LFP data</b>\n",
    "<br>\n",
    "We'll start by loading the LFP data from one of the probes in our session, using the `get_lfp` function.\n",
    "<br>\n",
    "We need to provide this function with a probe id, which we can pull out of the `session.probes` table. \n",
    "<br>\n",
    "(Note that the \"id\" column is the index of the dataframe, and thus must be accessed differently than other columns.)\n",
    "\n",
    "</div>\n",
    "\n",
    "\n"
   ]
  },
  {
   "cell_type": "code",
   "execution_count": null,
   "metadata": {},
   "outputs": [],
   "source": [
    "probe_id = session.probes.index[0]\n",
    "lfp = session.get_lfp(probe_id)\n",
    "print(lfp)"
   ]
  },
  {
   "cell_type": "markdown",
   "metadata": {},
   "source": [
    "<div style=\"background: #DFF0D8; border-radius: 3px; padding: 10px;\">\n",
    "<b>Task 6.2: Plot the LFP data array</b>\n",
    "<br>\n",
    "To visualize this data, we'll first use the built-in xarray plotting to generate a quick plot. This is too much data to plot all at once, so we select a subset first. Just as in pandas, we use the `loc` property, but since xarray has named dimensions, we can specify our selections by name rather than by order, using a dict.\n",
    "<br>\n",
    "We'll also add the structure boundaries to this plot, as we did with unit waveforms.\n",
    "\n",
    "</div>\n",
    "\n",
    "\n"
   ]
  },
  {
   "cell_type": "code",
   "execution_count": null,
   "metadata": {},
   "outputs": [],
   "source": [
    "fig, ax = plt.subplots()\n",
    "lfp_plot = lfp.loc[dict(time=slice(5,20))]\n",
    "x, y = lfp_plot.time, range(len(lfp_plot.channel))\n",
    "plt.pcolormesh(x, y, lfp_plot.values.T)\n",
    "plt.colorbar(ax=ax)\n",
    "\n",
    "ax.set_xlabel(\"time (s)\")\n",
    "\n",
    "# include the structure data\n",
    "structure_acronyms, intervals = session.channel_structure_intervals(lfp.channel.values)\n",
    "ax.set_yticks(intervals)\n",
    "interval_midpoints = [ (aa + bb) / 2 for aa, bb in zip(intervals[:-1], intervals[1:])]\n",
    "ax.set_yticks(interval_midpoints, minor=True)\n",
    "ax.set_yticklabels(structure_acronyms, minor=True)\n",
    "plt.tick_params(\"y\", which=\"major\", labelleft=False, length=40)\n",
    "plt.show()"
   ]
  },
  {
   "cell_type": "markdown",
   "metadata": {},
   "source": [
    "<div style=\"background: #DFF0D8; border-radius: 3px; padding: 10px;\">\n",
    "<p><b>Task 6.3: Plot and filter single-channel LFP timeseries</b>\n",
    "\n",
    "</div>\n",
    "\n",
    "\n"
   ]
  },
  {
   "cell_type": "markdown",
   "metadata": {},
   "source": [
    "We'll start by plotting the timeseries of a single channel."
   ]
  },
  {
   "cell_type": "code",
   "execution_count": null,
   "metadata": {},
   "outputs": [],
   "source": [
    "channel = lfp.channel[0]\n",
    "lfp_subset = lfp.loc[dict(channel=channel, time=slice(5,20))]\n",
    "\n",
    "# you might then want to clear the full LFP from memory if not using it\n",
    "# lfp = None\n",
    "\n",
    "plt.figure(figsize=(12,3))\n",
    "lfp_subset.plot()\n",
    "plt.show()"
   ]
  },
  {
   "cell_type": "markdown",
   "metadata": {},
   "source": [
    "We might also want to visualize a specific frequency band by filtering. To do this we'll want to convert our data into standard numpy arrays for easier processing using the DataArray object's `values` property."
   ]
  },
  {
   "cell_type": "code",
   "execution_count": null,
   "metadata": {},
   "outputs": [],
   "source": [
    "t = lfp_subset.time.values\n",
    "v = lfp_subset.values"
   ]
  },
  {
   "cell_type": "code",
   "execution_count": null,
   "metadata": {},
   "outputs": [],
   "source": [
    "import scipy.signal\n",
    "freq_window = (4, 10)\n",
    "filt_order = 3\n",
    "fs = 1/(t[1]-t[0])\n",
    "b, a = scipy.signal.butter(filt_order, freq_window, btype='bandpass', fs=fs)\n",
    "v_alpha = scipy.signal.lfilter(b, a, v)\n",
    "\n",
    "\n",
    "plt.figure(figsize=(12,3))\n",
    "plt.plot(t, v)\n",
    "plt.plot(t, v_alpha,'k')"
   ]
  },
  {
   "cell_type": "markdown",
   "metadata": {},
   "source": [
    "<div style=\"background: #DFF0D8; border-radius: 3px; padding: 10px;\">\n",
    "<p><b>Task 6.4: LFP Power spectral density (PSD)</b>\n",
    "\n",
    "\n",
    "<p> Next we're going to analyze some spectral properties of this signal using the `scipy.signal` library. \"Spectral\" refers to decomposing a signal into a sum of simpler components identified by their frequencies. The set of frequencies of the components forms a *spectrum* that tells us about the complete signal. You can see a full list of spectral analysis functions in scipy here: https://docs.scipy.org/doc/scipy/reference/signal.html#spectral-analysis\n",
    "\n",
    "</div>\n",
    "\n",
    "\n"
   ]
  },
  {
   "cell_type": "markdown",
   "metadata": {},
   "source": [
    "We first import the package, and inspect the `periodogram` function, which estimates the size of the different frequency components of the signal."
   ]
  },
  {
   "cell_type": "code",
   "execution_count": null,
   "metadata": {},
   "outputs": [],
   "source": [
    "import scipy.signal\n",
    "help(scipy.signal.periodogram)"
   ]
  },
  {
   "cell_type": "markdown",
   "metadata": {},
   "source": [
    "There are a number of options that we won't go into here for refining the analysis. The one piece of information we do need is `fs`, the sampling frequency. If we used the default value `fs=1.0` our results would not match the true frequencies of the signal."
   ]
  },
  {
   "cell_type": "code",
   "execution_count": null,
   "metadata": {},
   "outputs": [],
   "source": [
    "fs = 1/(t[1]-t[0])\n",
    "\n",
    "f, psd = scipy.signal.periodogram(v, fs)"
   ]
  },
  {
   "cell_type": "markdown",
   "metadata": {},
   "source": [
    "We'll plot the power spectrum on a semilog plot, since power can vary over many orders of magnitude across frequencies."
   ]
  },
  {
   "cell_type": "code",
   "execution_count": null,
   "metadata": {},
   "outputs": [],
   "source": [
    "plt.figure(figsize=(6,3))\n",
    "plt.semilogy(f,psd,'k')\n",
    "plt.xlim((0,100))\n",
    "plt.yticks(size=15)\n",
    "plt.xticks(size=15)\n",
    "plt.ylabel('Power ($uV^{2}/Hz$)',size=20)\n",
    "plt.xlabel('Frequency (Hz)',size=20)\n",
    "plt.show()"
   ]
  },
  {
   "cell_type": "markdown",
   "metadata": {},
   "source": [
    "We see that this representation of the power spectrum is extremely noisy. Luckily, many people have come up with solutions to this problem. Scipy includes a function for Welch's method, which averages out noise by computing many estimates of the power spectrum from overlapping windows of the data. You can find some more references for this approach in the Scipy documentation: https://docs.scipy.org/doc/scipy/reference/generated/scipy.signal.welch.html#scipy.signal.welch"
   ]
  },
  {
   "cell_type": "code",
   "execution_count": null,
   "metadata": {},
   "outputs": [],
   "source": [
    "f, psd = scipy.signal.welch(v, fs, nperseg=1000)\n",
    "\n",
    "plt.figure(figsize=(6,3))\n",
    "plt.semilogy(f,psd,'k')\n",
    "plt.xlim((0,100))\n",
    "plt.yticks(size=15)\n",
    "plt.xticks(size=15)\n",
    "plt.ylabel('Power ($uV^{2}/Hz$)',size=20)\n",
    "plt.xlabel('Frequency (Hz)',size=20)\n",
    "plt.show()"
   ]
  },
  {
   "cell_type": "markdown",
   "metadata": {},
   "source": [
    "<div style=\"background: #DFF0D8; border-radius: 3px; padding: 10px;\">\n",
    "<p><b>Task 6.5: Calculate and plot the time-frequency profile (\"spectrogram\")</b>\n",
    "\n",
    "\n",
    "<p> We might also be interested in how the frequency content of the signal varies over time. In a neural context, power in different frequency bands is often linked to specific types of processing, so we might explore whether changes in the spectrum coincide with specific behaviors or stimuli.</p>\n",
    "<p>\n",
    "The *spectrogram* is essentially an estimate of the power spectrum computed in a sliding time window, producing a 2D representation of the signal power across frequency and time.</p>\n",
    "\n",
    "</div>\n",
    "\n",
    "\n"
   ]
  },
  {
   "cell_type": "code",
   "execution_count": null,
   "metadata": {},
   "outputs": [],
   "source": [
    "f, t_spec, spec = scipy.signal.spectrogram(v, fs=fs, window='hanning',\n",
    "                            nperseg=1000, noverlap=1000-1, mode='psd')\n",
    "# Scipy assumes our signal starts at time=0, so we need to provide the offset\n",
    "t_spec = t_spec + t[0]"
   ]
  },
  {
   "cell_type": "markdown",
   "metadata": {},
   "source": [
    "We'll use the matplotlib `pcolormesh` function to visualize this data as an image. We can pass this function x and y coordinates to get the axis labeling right. We also log-transform the power spectrum and restrict to frequencies less than 100 Hz."
   ]
  },
  {
   "cell_type": "code",
   "execution_count": null,
   "metadata": {},
   "outputs": [],
   "source": [
    "fmax = 80\n",
    "x, y = t_spec, f[f<fmax]\n",
    "plot_data = np.log10(spec[f<fmax])"
   ]
  },
  {
   "cell_type": "markdown",
   "metadata": {},
   "source": [
    "We'll plot the spectrum together with the raw signal in subplots. Note that we explicitly set the x-axis limits to align the plots. (Alternatively, it's possible to directly couple the limits of different subplots.)"
   ]
  },
  {
   "cell_type": "code",
   "execution_count": null,
   "metadata": {},
   "outputs": [],
   "source": [
    "from matplotlib import cm\n",
    "plt.figure(figsize=(10,4))\n",
    "\n",
    "plt.subplot(2,1,1)\n",
    "plt.pcolormesh(x, y, plot_data, cmap=cm.jet)\n",
    "window = [5,20]\n",
    "plt.xlim(window)\n",
    "plt.ylabel('Frequency (Hz)')\n",
    "\n",
    "plt.subplot(2,1,2)\n",
    "plt.plot(t, v, 'k')\n",
    "plt.xlim(window)\n",
    "plt.xlabel('Time (s)')\n",
    "plt.ylabel('Voltage (a.u.)')\n",
    "plt.show()"
   ]
  },
  {
   "cell_type": "markdown",
   "metadata": {},
   "source": [
    "## **Current source density?"
   ]
  },
  {
   "cell_type": "markdown",
   "metadata": {},
   "source": [
    "<div style=\"border-left: 3px solid #000; padding: 1px; padding-left: 10px; background: #F0FAFF; \">\n",
    "\n",
    "<h2> 7. Optotagging </h2>\n",
    "<p>\n",
    "At the end of each session is a period of optogenetic stimulation, when lights are shone onto the cortical surface and stimulate neurons that are Cre+.\n",
    "</p>\n",
    "<p>\n",
    "In this section, we will take a look at what data is available - for a longer treatment of using this data to classify neurons as Cre+, see the link below\n",
    "</p>\n",
    "</div>\n",
    "\n",
    "[optotagging tutorial](https://allensdk.readthedocs.io/en/latest/_static/examples/nb/ecephys_optotagging.html)"
   ]
  },
  {
   "cell_type": "markdown",
   "metadata": {},
   "source": [
    "<div style=\"background: #DFF0D8; border-radius: 3px; padding: 10px;\">\n",
    "<p><b>Task 7.1:</b> Pick a new session from a transgenic mouse, and see what optotagging data is available. </p>\n",
    "\n",
    "</div>"
   ]
  },
  {
   "cell_type": "code",
   "execution_count": null,
   "metadata": {},
   "outputs": [],
   "source": [
    "session_id = sessions[sessions.full_genotype.str.match('Pvalb')].index[-3]\n",
    "session = cache.get_session_data(session_id)\n",
    "print(session.full_genotype)"
   ]
  },
  {
   "cell_type": "markdown",
   "metadata": {},
   "source": [
    "What type of information is available about optotagging?"
   ]
  },
  {
   "cell_type": "code",
   "execution_count": null,
   "metadata": {},
   "outputs": [],
   "source": [
    "opto_stim_table = session.optogenetic_stimulation_epochs\n",
    "opto_stim_table.head()"
   ]
  },
  {
   "cell_type": "markdown",
   "metadata": {},
   "source": [
    "What different types of stimulus are used, and how many times?"
   ]
  },
  {
   "cell_type": "code",
   "execution_count": null,
   "metadata": {},
   "outputs": [],
   "source": [
    "opto_stim_table.value_counts(subset=['stimulus_name','duration','level'])"
   ]
  },
  {
   "cell_type": "markdown",
   "metadata": {},
   "source": [
    "<div style=\"background: #DFF0D8; border-radius: 3px; padding: 10px;\">\n",
    "<p><b>Task 7.2:</b> Plot spike rasters around a single optogenetic stimulus epoch </p>\n",
    "\n",
    "</div>"
   ]
  },
  {
   "cell_type": "code",
   "execution_count": null,
   "metadata": {},
   "outputs": [],
   "source": [
    "# epoch = opto_stim_table[(opto_stim_table.stimulus_name=='pulse')&(opto_stim_table.duration>0.006)&(opto_stim_table.level==2.0)].iloc[0]\n",
    "epoch = opto_stim_table[(opto_stim_table.stimulus_name=='raised_cosine')&(opto_stim_table.level==2.0)].iloc[0]\n",
    "epoch"
   ]
  },
  {
   "cell_type": "code",
   "execution_count": null,
   "metadata": {},
   "outputs": [],
   "source": [
    "plt.figure(figsize=(8,6))\n",
    "plot_raster(session.spike_times, epoch.start_time-0.1, epoch.stop_time+0.1)\n",
    "plt.axvspan(epoch.start_time, epoch.stop_time, color='red', alpha=0.1)\n",
    "plt.xlabel('Time (sec)', fontsize=16)\n",
    "plt.ylabel('Units', fontsize=16)\n",
    "plt.tick_params(axis=\"y\", labelleft=False, left=False)\n",
    "plt.show()"
   ]
  },
  {
   "cell_type": "markdown",
   "metadata": {},
   "source": [
    "<div style=\"background: #DFF0D8; border-radius: 3px; padding: 10px;\">\n",
    "<p><b>Task 7.3:</b> Plot rasters of only the 30 most active </p>\n",
    "\n",
    "</div>"
   ]
  },
  {
   "cell_type": "code",
   "execution_count": null,
   "metadata": {},
   "outputs": [],
   "source": [
    "by_fr = session.units.sort_values(by=\"firing_rate\", ascending=False)\n",
    "spike_times_by_firing_rate = {\n",
    "    uid: session.spike_times[uid] for uid in by_fr.index.values[:30]\n",
    "}\n",
    "\n",
    "plt.figure(figsize=(8,6))\n",
    "plot_raster(spike_times_by_firing_rate, epoch.start_time-0.3, epoch.stop_time+0.3)\n",
    "plt.axvspan(epoch.start_time, epoch.stop_time, color='red', alpha=0.1)\n",
    "plt.xlabel('Time (sec)', fontsize=16)\n",
    "plt.ylabel('Units', fontsize=16)\n",
    "plt.tick_params(axis=\"y\", labelleft=False, left=False)\n",
    "plt.show()"
   ]
  },
  {
   "cell_type": "code",
   "execution_count": null,
   "metadata": {},
   "outputs": [],
   "source": []
  }
 ],
 "metadata": {
  "kernelspec": {
   "display_name": "Python 3",
   "language": "python",
   "name": "python3"
  },
  "language_info": {
   "codemirror_mode": {
    "name": "ipython",
    "version": 3
   },
   "file_extension": ".py",
   "mimetype": "text/x-python",
   "name": "python",
   "nbconvert_exporter": "python",
   "pygments_lexer": "ipython3",
   "version": "3.7.10"
  }
 },
 "nbformat": 4,
 "nbformat_minor": 2
}
