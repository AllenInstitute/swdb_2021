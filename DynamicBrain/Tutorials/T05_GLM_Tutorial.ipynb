{
 "cells": [
  {
   "cell_type": "markdown",
   "metadata": {},
   "source": [
    "<img src=\"../../resources/cropped-SummerWorkshop_Header.png\">  \n",
    "\n",
    "<h1 align=\"center\">Tutorial on Generalized Linear Models (GLM) </h1> \n",
    "<h2 align=\"center\">Summer Workshop on the Dynamic Brain </h2> \n",
    "<h3 align=\"center\">Wednesday, September 1, 2021</h3> \n",
    "\n"
   ]
  },
  {
   "cell_type": "markdown",
   "metadata": {},
   "source": [
    "<div style=\"border-left: 3px solid #000; padding: 1px; padding-left: 10px; background: #F0FAFF; \">\n",
    "\n",
    "<p> As scientists, we want to build models of data that are as simple as possible, and are able to explain the data as well as possible. Sometimes, when linear regression doesn't cut it and more complicated nonlinear models are too difficult to fit and/or analyze, Genaralized Linear Models (GLM) can be a good choice. They have also been used a lot to model neural responses to stimuli, as we will do in this notebook.</p>\n",
    "\n",
    "<p>\n",
    "The GLM is defined as follows for some input $\\vec{x}_i$ and output $y_i$:\n",
    "</p>\n",
    "<p>\n",
    "$P(y_i|\\vec{x}_i;\\vec{w}) = F(g^{-1}(\\vec{w}\\cdot\\vec{x}_i))$\n",
    "</p>\n",
    "    \n",
    "<p>\n",
    "Where $g$ is called the \"link function\", $F(m)$ represents some probability distribution with mean $m$, and $\\vec{w}$ is a vector of fitted parameters. These parameters are fitted by finding the $\\vec{w}$ that maximizes $\\prod_{i=1}^N P(y_i|\\vec{x}_i;\\vec{w})$ for some dataset of $N$ samples. Note that when $g$ is the identity, and $F$ is the normal distribution with some fixed variance, this is just a linear regression problem.\n",
    "</p>\n",
    "   \n",
    "<p>\n",
    "In this tutorial, we will use the statsmodels package (https://www.statsmodels.org/stable/glm.html) to fit parameters for GLMs, since it is simple and fast. However, note that doing more complicated things, like fitting GLMs with regularization, requires a more complicated solution.\n",
    "</p> \n",
    "    \n",
    "<p>\n",
    "In order to use this package, we must supply $y_i$ and $\\vec{x}_i$ for all $i$. Statsmodels expects a \"design matrix\" of inputs, </p>\n",
    "    \n",
    "$$\\begin{bmatrix} \\vec{x}_1^T \\\\ \\vdots \\\\ \\vec{x}_N^T \\end{bmatrix}$$\n",
    "<p> and a vector of outputs, </p>\n",
    "$$\\begin{bmatrix} y_{1} \\\\ \\vdots \\\\ y_{N}\\end{bmatrix}$$\n",
    "    \n",
    "</div>"
   ]
  },
  {
   "cell_type": "code",
   "execution_count": 1,
   "metadata": {},
   "outputs": [],
   "source": [
    "import numpy as np\n",
    "from matplotlib import pyplot as plt\n",
    "import os\n",
    "import pandas as pd\n",
    "\n",
    "# we will use this package to fit GLMs to data\n",
    "import statsmodels.api as sm\n",
    "\n",
    "%matplotlib inline\n",
    "\n",
    "# tab completion in the notebook sometimes has trouble with large dataframes\n",
    "# this will fix it\n",
    "%config Completer.use_jedi = False"
   ]
  },
  {
   "cell_type": "code",
   "execution_count": 2,
   "metadata": {},
   "outputs": [],
   "source": [
    "df = pd.read_csv('../../PythonBootcamp/support_files/pokemon_alopez247.csv')"
   ]
  },
  {
   "cell_type": "code",
   "execution_count": 3,
   "metadata": {},
   "outputs": [
    {
     "data": {
      "text/html": [
       "<div>\n",
       "<style scoped>\n",
       "    .dataframe tbody tr th:only-of-type {\n",
       "        vertical-align: middle;\n",
       "    }\n",
       "\n",
       "    .dataframe tbody tr th {\n",
       "        vertical-align: top;\n",
       "    }\n",
       "\n",
       "    .dataframe thead th {\n",
       "        text-align: right;\n",
       "    }\n",
       "</style>\n",
       "<table border=\"1\" class=\"dataframe\">\n",
       "  <thead>\n",
       "    <tr style=\"text-align: right;\">\n",
       "      <th></th>\n",
       "      <th>Number</th>\n",
       "      <th>Name</th>\n",
       "      <th>Type_1</th>\n",
       "      <th>Type_2</th>\n",
       "      <th>Total</th>\n",
       "      <th>HP</th>\n",
       "      <th>Attack</th>\n",
       "      <th>Defense</th>\n",
       "      <th>Sp_Atk</th>\n",
       "      <th>Sp_Def</th>\n",
       "      <th>...</th>\n",
       "      <th>Color</th>\n",
       "      <th>hasGender</th>\n",
       "      <th>Pr_Male</th>\n",
       "      <th>Egg_Group_1</th>\n",
       "      <th>Egg_Group_2</th>\n",
       "      <th>hasMegaEvolution</th>\n",
       "      <th>Height_m</th>\n",
       "      <th>Weight_kg</th>\n",
       "      <th>Catch_Rate</th>\n",
       "      <th>Body_Style</th>\n",
       "    </tr>\n",
       "  </thead>\n",
       "  <tbody>\n",
       "    <tr>\n",
       "      <th>0</th>\n",
       "      <td>1</td>\n",
       "      <td>Bulbasaur</td>\n",
       "      <td>Grass</td>\n",
       "      <td>Poison</td>\n",
       "      <td>318</td>\n",
       "      <td>45</td>\n",
       "      <td>49</td>\n",
       "      <td>49</td>\n",
       "      <td>65</td>\n",
       "      <td>65</td>\n",
       "      <td>...</td>\n",
       "      <td>Green</td>\n",
       "      <td>True</td>\n",
       "      <td>0.875</td>\n",
       "      <td>Monster</td>\n",
       "      <td>Grass</td>\n",
       "      <td>False</td>\n",
       "      <td>0.71</td>\n",
       "      <td>6.9</td>\n",
       "      <td>45</td>\n",
       "      <td>quadruped</td>\n",
       "    </tr>\n",
       "    <tr>\n",
       "      <th>1</th>\n",
       "      <td>2</td>\n",
       "      <td>Ivysaur</td>\n",
       "      <td>Grass</td>\n",
       "      <td>Poison</td>\n",
       "      <td>405</td>\n",
       "      <td>60</td>\n",
       "      <td>62</td>\n",
       "      <td>63</td>\n",
       "      <td>80</td>\n",
       "      <td>80</td>\n",
       "      <td>...</td>\n",
       "      <td>Green</td>\n",
       "      <td>True</td>\n",
       "      <td>0.875</td>\n",
       "      <td>Monster</td>\n",
       "      <td>Grass</td>\n",
       "      <td>False</td>\n",
       "      <td>0.99</td>\n",
       "      <td>13.0</td>\n",
       "      <td>45</td>\n",
       "      <td>quadruped</td>\n",
       "    </tr>\n",
       "    <tr>\n",
       "      <th>2</th>\n",
       "      <td>3</td>\n",
       "      <td>Venusaur</td>\n",
       "      <td>Grass</td>\n",
       "      <td>Poison</td>\n",
       "      <td>525</td>\n",
       "      <td>80</td>\n",
       "      <td>82</td>\n",
       "      <td>83</td>\n",
       "      <td>100</td>\n",
       "      <td>100</td>\n",
       "      <td>...</td>\n",
       "      <td>Green</td>\n",
       "      <td>True</td>\n",
       "      <td>0.875</td>\n",
       "      <td>Monster</td>\n",
       "      <td>Grass</td>\n",
       "      <td>True</td>\n",
       "      <td>2.01</td>\n",
       "      <td>100.0</td>\n",
       "      <td>45</td>\n",
       "      <td>quadruped</td>\n",
       "    </tr>\n",
       "    <tr>\n",
       "      <th>3</th>\n",
       "      <td>4</td>\n",
       "      <td>Charmander</td>\n",
       "      <td>Fire</td>\n",
       "      <td>NaN</td>\n",
       "      <td>309</td>\n",
       "      <td>39</td>\n",
       "      <td>52</td>\n",
       "      <td>43</td>\n",
       "      <td>60</td>\n",
       "      <td>50</td>\n",
       "      <td>...</td>\n",
       "      <td>Red</td>\n",
       "      <td>True</td>\n",
       "      <td>0.875</td>\n",
       "      <td>Monster</td>\n",
       "      <td>Dragon</td>\n",
       "      <td>False</td>\n",
       "      <td>0.61</td>\n",
       "      <td>8.5</td>\n",
       "      <td>45</td>\n",
       "      <td>bipedal_tailed</td>\n",
       "    </tr>\n",
       "    <tr>\n",
       "      <th>4</th>\n",
       "      <td>5</td>\n",
       "      <td>Charmeleon</td>\n",
       "      <td>Fire</td>\n",
       "      <td>NaN</td>\n",
       "      <td>405</td>\n",
       "      <td>58</td>\n",
       "      <td>64</td>\n",
       "      <td>58</td>\n",
       "      <td>80</td>\n",
       "      <td>65</td>\n",
       "      <td>...</td>\n",
       "      <td>Red</td>\n",
       "      <td>True</td>\n",
       "      <td>0.875</td>\n",
       "      <td>Monster</td>\n",
       "      <td>Dragon</td>\n",
       "      <td>False</td>\n",
       "      <td>1.09</td>\n",
       "      <td>19.0</td>\n",
       "      <td>45</td>\n",
       "      <td>bipedal_tailed</td>\n",
       "    </tr>\n",
       "  </tbody>\n",
       "</table>\n",
       "<p>5 rows × 23 columns</p>\n",
       "</div>"
      ],
      "text/plain": [
       "   Number        Name Type_1  Type_2  Total  HP  Attack  Defense  Sp_Atk  \\\n",
       "0       1   Bulbasaur  Grass  Poison    318  45      49       49      65   \n",
       "1       2     Ivysaur  Grass  Poison    405  60      62       63      80   \n",
       "2       3    Venusaur  Grass  Poison    525  80      82       83     100   \n",
       "3       4  Charmander   Fire     NaN    309  39      52       43      60   \n",
       "4       5  Charmeleon   Fire     NaN    405  58      64       58      80   \n",
       "\n",
       "   Sp_Def  ...  Color  hasGender  Pr_Male Egg_Group_1  Egg_Group_2  \\\n",
       "0      65  ...  Green       True    0.875     Monster        Grass   \n",
       "1      80  ...  Green       True    0.875     Monster        Grass   \n",
       "2     100  ...  Green       True    0.875     Monster        Grass   \n",
       "3      50  ...    Red       True    0.875     Monster       Dragon   \n",
       "4      65  ...    Red       True    0.875     Monster       Dragon   \n",
       "\n",
       "   hasMegaEvolution Height_m Weight_kg  Catch_Rate      Body_Style  \n",
       "0             False     0.71       6.9          45       quadruped  \n",
       "1             False     0.99      13.0          45       quadruped  \n",
       "2              True     2.01     100.0          45       quadruped  \n",
       "3             False     0.61       8.5          45  bipedal_tailed  \n",
       "4             False     1.09      19.0          45  bipedal_tailed  \n",
       "\n",
       "[5 rows x 23 columns]"
      ]
     },
     "execution_count": 3,
     "metadata": {},
     "output_type": "execute_result"
    }
   ],
   "source": [
    "df.head()"
   ]
  },
  {
   "cell_type": "code",
   "execution_count": 4,
   "metadata": {
    "scrolled": true
   },
   "outputs": [
    {
     "name": "stderr",
     "output_type": "stream",
     "text": [
      "/Users/danielzdeblick/anaconda3/envs/allensdk/lib/python3.7/site-packages/statsmodels/tsa/tsatools.py:142: FutureWarning: In a future version of pandas all arguments of concat except for the argument 'objs' will be keyword-only\n",
      "  x = pd.concat(x[::order], 1)\n"
     ]
    },
    {
     "data": {
      "text/plain": [
       "<matplotlib.image.AxesImage at 0x10b15b490>"
      ]
     },
     "execution_count": 4,
     "metadata": {},
     "output_type": "execute_result"
    },
    {
     "data": {
      "image/png": "[encoded data removed]",
      "text/plain": [
       "<Figure size 432x288 with 1 Axes>"
      ]
     },
     "metadata": {
      "needs_background": "light"
     },
     "output_type": "display_data"
    }
   ],
   "source": [
    "y = df.hasGender\n",
    "X_df = df[df.columns[(df.dtypes!='object')&(~df.columns.isin(['Pr_Male','hasGender','Total','Number']))]]\n",
    "# X_dsn = pd.get_dummies(df.drop(['Name','Pr_Male','hasGender'],axis='columns'))\n",
    "X_df.head()\n",
    "\n",
    "y = y.values\n",
    "X_dsn = sm.add_constant(X_df.astype(float))\n",
    "X_dsn = X_dsn/X_dsn.max(axis=0)\n",
    "plt.imshow(X_dsn.values[:30,:])"
   ]
  },
  {
   "cell_type": "code",
   "execution_count": 5,
   "metadata": {
    "scrolled": true
   },
   "outputs": [
    {
     "name": "stdout",
     "output_type": "stream",
     "text": [
      "                 Generalized Linear Model Regression Results                  \n",
      "==============================================================================\n",
      "Dep. Variable:                      y   No. Observations:                  721\n",
      "Model:                            GLM   Df Residuals:                      708\n",
      "Model Family:                Binomial   Df Model:                           12\n",
      "Link Function:                  logit   Scale:                          1.0000\n",
      "Method:                          IRLS   Log-Likelihood:                -135.17\n",
      "Date:                Tue, 31 Aug 2021   Deviance:                       270.35\n",
      "Time:                        17:31:35   Pearson chi2:                     881.\n",
      "No. Iterations:                     7                                         \n",
      "Covariance Type:            nonrobust                                         \n",
      "====================================================================================\n",
      "                       coef    std err          z      P>|z|      [0.025      0.975]\n",
      "------------------------------------------------------------------------------------\n",
      "const                4.2214      1.447      2.917      0.004       1.385       7.057\n",
      "HP                   5.7535      2.907      1.979      0.048       0.055      11.452\n",
      "Attack               0.6058      1.474      0.411      0.681      -2.282       3.494\n",
      "Defense             -2.3399      1.599     -1.464      0.143      -5.473       0.793\n",
      "Sp_Atk              -2.9851      1.166     -2.561      0.010      -5.270      -0.700\n",
      "Sp_Def              -3.1065      1.661     -1.870      0.061      -6.363       0.150\n",
      "Speed               -1.8864      1.245     -1.515      0.130      -4.327       0.555\n",
      "Generation           0.6909      0.608      1.137      0.256      -0.500       1.882\n",
      "isLegendary         -3.9195      0.681     -5.755      0.000      -5.254      -2.585\n",
      "hasMegaEvolution     2.1060      0.866      2.433      0.015       0.409       3.803\n",
      "Height_m            10.4754      4.223      2.481      0.013       2.199      18.752\n",
      "Weight_kg           -9.4866      2.426     -3.911      0.000     -14.241      -4.733\n",
      "Catch_Rate           0.5129      0.972      0.528      0.598      -1.392       2.418\n",
      "====================================================================================\n"
     ]
    },
    {
     "data": {
      "image/png": "[encoded data removed]",
      "text/plain": [
       "<Figure size 432x288 with 1 Axes>"
      ]
     },
     "metadata": {
      "needs_background": "light"
     },
     "output_type": "display_data"
    }
   ],
   "source": [
    "glm = sm.GLM(y,X_dsn,family=sm.families.Binomial())\n",
    "param_ticks = np.arange(X_dsn.shape[1])\n",
    "results = glm.fit()\n",
    "plt.errorbar(param_ticks,results.params,yerr=results.bse,fmt='*')\n",
    "plt.axhline(0,color='k')\n",
    "plt.xticks(ticks = param_ticks,labels = X_dsn.columns, rotation=90)\n",
    "print(results.summary())\n"
   ]
  },
  {
   "cell_type": "code",
   "execution_count": 6,
   "metadata": {},
   "outputs": [
    {
     "name": "stdout",
     "output_type": "stream",
     "text": [
      "Accuracy:  0.9361997226074896\n",
      "Average likelihood:  0.8290442917904213\n"
     ]
    }
   ],
   "source": [
    "y_pred = results.predict(X_dsn)>0.5\n",
    "accuracy = np.mean(y_pred==y)\n",
    "print('Accuracy: ', accuracy)\n",
    "print('Average likelihood: ', np.exp(results.llf/X_dsn.shape[0]))"
   ]
  },
  {
   "cell_type": "markdown",
   "metadata": {},
   "source": [
    "<div style=\"border-left: 3px solid #000; padding: 1px; padding-left: 10px; background: #F0FAFF; \">\n",
    "<p>\n",
    "    To model neural spiking, $y_i$ will be the number of spikes a neuron fires in time bin $i$, and $\\vec{x}_i$ will be a vector of all the predictors used to predict $y_i$. This will include three types of predictors:</p>\n",
    "   \n",
    "\n",
    " 1. The stimulus incident on our neuron during time bin $i$, and for $d-1$ time bins leading up to it\n",
    "    \n",
    " 2. The spiking history of our neuron for $d$ time bins leading up to time bin $i$\n",
    "    \n",
    " 3. A constant $1$ - the corresponding element of $\\vec{w}$ will be an offset term\n",
    "\n",
    "<p>\n",
    "Each vector will therefore look like this: \n",
    "    $\\vec{x}_i = [stimulus_i,...,stimulus_{i-d+1},y_{i-1},...,y_{i-d},1]^T$\n",
    "</p>\n",
    "\n",
    "<img src=\"../../resources/GLM_Pillow.png\" width=\"480\">  \n",
    "\n",
    "\n",
    "   \n",
    "<p>   \n",
    "We refer to the corresponding parts of $\\vec{w}$ as the \"stimulus filter\", \"spike history filter\", and \"offset\". Traditionally, when using GLMs to model neural spiking, we use a log link function, i.e. $g^{-1}(a) = e^a$, and a Poisson distribution.\n",
    "</p>\n",
    "\n",
    "<p>\n",
    "For this model, the design matrix looks like this: </p>\n",
    "    \n",
    "$$\\begin{bmatrix} \\vec{x}_1^T \\\\ \\vdots \\\\ \\vec{x}_N^T \\end{bmatrix} = \\begin{bmatrix} stimulus_{d+1} & stimulus_{d} & ... & stimulus_{3} & stimulus_{2} & y_{d} & y_{d-1} & ... & y_{2} & y_{1} & 1 \\\\ stimulus_{d+2} & stimulus_{d+1} & ... & stimulus_{4} & stimulus_{3} & y_{d+1} & y_{d} & ... & y_{3} & y_{2} & 1 \\\\ \\vdots &\\vdots & \\ddots & \\vdots &\\vdots &\\vdots &\\vdots& \\ddots & \\vdots &\\vdots &\\vdots\\\\ stimulus_{d+N} & stimulus_{d+N-1} & ... & stimulus_{N+2} & stimulus_{N+1} & y_{d+N-1} & y_{d+N-2} & ... & y_{N+1} & y_{N} & 1 \\end{bmatrix}$$\n",
    "\n",
    "<p> And the vector of outputs is: </p>\n",
    "$$\\begin{bmatrix} y_{d+1} \\\\ \\vdots \\\\ y_{d+N}\\end{bmatrix}$$\n",
    "    \n",
    "</div>"
   ]
  },
  {
   "cell_type": "markdown",
   "metadata": {},
   "source": [
    "Several helper functions to take care of simulating the spiking output of a GLM and fitting a spiking GLM to data (including constructing the design matrix)"
   ]
  },
  {
   "cell_type": "code",
   "execution_count": 7,
   "metadata": {},
   "outputs": [],
   "source": [
    "\"\"\"\n",
    "Simulate a GLM's response to a 1D stimulus\n",
    "Inputs:\n",
    "stim: The stimulus - np array with shape (T,) \n",
    "stim_filt: Stimulus filter - np array with shape (d,)\n",
    "spk_filt: Spike history filter - np array with shape (d,)\n",
    "offset: Offset term - scalar\n",
    "max_spikes_per_bin: Maximum number of spikes allowed in a single time bin\n",
    "\n",
    "Outputs:\n",
    "spks: the spiking response - (T,) ndarray\n",
    "\"\"\"\n",
    "\n",
    "def sim_GLM(stim, stim_filt, spk_filt, offset,max_spikes_per_bin=5):\n",
    "    d = stim_filt.size\n",
    "    T = stim.size\n",
    "    spks = np.zeros((T,)) # starts at time step d\n",
    "    rate = np.zeros((T,))\n",
    "    for i in range(d,T):\n",
    "        rate[i] = np.exp(np.flip(stim_filt,-1).dot(stim[i-d+1:i+1])+np.flip(spk_filt,-1).dot(spks[i-d:i])+offset)\n",
    "        spks[i] = np.random.poisson(rate[i])\n",
    "        spks[i] = min(spks[i],max_spikes_per_bin)\n",
    "    return spks\n",
    "\n",
    "\n",
    "\"\"\"\n",
    "Construct the design matrix for a given stimulus and spiking response\n",
    "Inputs:\n",
    "flat_stimulus: the stimulus - an (MxT) ndarray, M is the dimension of the stimulus, T is the number of time samples\n",
    "binned_spikes: the spiking response - a (T,) ndarray \n",
    "d: integer - how many time bins of history to use as predictors\n",
    "\n",
    "Outputs:\n",
    "y: the dependent variable to be predicted (spiking response) - (T-d,) ndarray\n",
    "X_dsn: the design matrix of independent variables - 2D ndarray\n",
    "\"\"\"\n",
    "\n",
    "def construct_Xdsn(flat_stimulus, binned_spikes, d):\n",
    "    T = binned_spikes.size # T is number of time bins\n",
    "    sh = flat_stimulus.shape # M is the size of a stimulus\n",
    "    if len(sh)==1:\n",
    "        M = 1\n",
    "        T1 = sh[0]\n",
    "        flat_stimulus = np.expand_dims(flat_stimulus,axis=0)\n",
    "    else:\n",
    "        (M,T1) = sh  \n",
    "    assert T==T1, \"arrays have a different number of time samples\"\n",
    "    \n",
    "    y = binned_spikes[d:]\n",
    "    X_dsn = np.ones((T-d,M*d+d+1))\n",
    "    for t in range(T-d):\n",
    "        X_dsn[t,:M*d] = np.flip(flat_stimulus[:,t+1:t+d+1],-1).reshape((1,-1))  #stimulus inputs\n",
    "        X_dsn[t,M*d:-1] = np.flip(binned_spikes[t:t+d],-1).reshape((1,-1)) #spike inputs\n",
    "    return y, X_dsn\n",
    "\n",
    "\n",
    "\"\"\"\n",
    "Fit GLM parameters for a given stimulus and spiking response\n",
    "Inputs:\n",
    "flat_stimulus: the stimulus - an (MxT) ndarray, M is the dimension of the stimulus, T is the number of time samples\n",
    "binned_spikes: the spiking response - a (T,) ndarray \n",
    "d: integer - how many time bins of history to use as predictors\n",
    "\n",
    "Outputs:\n",
    "stim_filt, spk_filt, b: the stimulus filter, spike history filter, and offset term\n",
    "stim_se, spk_se, b_se: the standard errors for these parameter estimates\n",
    "\"\"\"\n",
    "def fit_GLM(flat_stimulus, binned_spikes, d):\n",
    "    y, Xdsn = construct_Xdsn(flat_stimulus,binned_spikes,d)\n",
    "    model =  sm.GLM(y,Xdsn,family = sm.families.Poisson())\n",
    "    model_results = model.fit()\n",
    "    p = model_results.params\n",
    "    se = model_results.bse\n",
    "    \n",
    "    b = p[-1]\n",
    "    b_se = se[-1]\n",
    "    stim_filt = p[:-1-d]\n",
    "    stim_se = se[:-1-d]\n",
    "    spk_filt = p[-1-d:-1]\n",
    "    spk_se = se[-1-d:-1]\n",
    "    if stim_filt.size>d:\n",
    "        stim_filt = stim_filt.reshape([-1,d])\n",
    "        stim_se = stim_se.reshape([-1,d])\n",
    "    return stim_filt, spk_filt, b, stim_se, spk_se, b_se"
   ]
  },
  {
   "cell_type": "markdown",
   "metadata": {},
   "source": [
    "Now let's play around with simulating a GLM with some hand-picked parameters"
   ]
  },
  {
   "cell_type": "code",
   "execution_count": 8,
   "metadata": {},
   "outputs": [
    {
     "data": {
      "text/plain": [
       "(-20.0, 2.0)"
      ]
     },
     "execution_count": 8,
     "metadata": {},
     "output_type": "execute_result"
    },
    {
     "data": {
      "image/png": "[encoded data removed]",
      "text/plain": [
       "<Figure size 432x288 with 2 Axes>"
      ]
     },
     "metadata": {
      "needs_background": "light"
     },
     "output_type": "display_data"
    }
   ],
   "source": [
    "d = 15\n",
    "t_f = np.arange(d)\n",
    "spk_filt = -200*np.exp(-t_f/1.0)\n",
    "stim_filt = 20*np.exp(-t_f/1.0)\n",
    "b = -15.5\n",
    "\n",
    "plt.subplot(2,1,1)\n",
    "plt.plot(stim_filt,label='true')\n",
    "plt.ylabel('Stimulus filter')\n",
    "plt.subplot(2,1,2)\n",
    "plt.plot(spk_filt,label='true')\n",
    "plt.ylabel('Spike history filter')\n",
    "plt.ylim([-20,2])"
   ]
  },
  {
   "cell_type": "markdown",
   "metadata": {},
   "source": [
    "Let's simulate a random Gaussian stimulus to feed into our GLM, and simulate the spiking response"
   ]
  },
  {
   "cell_type": "code",
   "execution_count": 9,
   "metadata": {},
   "outputs": [
    {
     "data": {
      "text/plain": [
       "Text(0.5, 0, 'time (samples)')"
      ]
     },
     "execution_count": 9,
     "metadata": {},
     "output_type": "execute_result"
    },
    {
     "data": {
      "image/png": "[encoded data removed]",
      "text/plain": [
       "<Figure size 432x288 with 2 Axes>"
      ]
     },
     "metadata": {
      "needs_background": "light"
     },
     "output_type": "display_data"
    }
   ],
   "source": [
    "T = 20000\n",
    "stim = np.random.normal(loc=0.3, scale=0.1,size=(T,))\n",
    "# stim = (1+np.sin(np.arange(T)/200))*0.2\n",
    "stim[0:T//10] = 0\n",
    "spks = sim_GLM(stim,stim_filt,spk_filt,b)\n",
    "\n",
    "plt.subplot(2,1,1)\n",
    "plt.plot(stim)\n",
    "plt.ylabel('stimulus',fontsize=18)\n",
    "plt.subplot(2,1,2)\n",
    "plt.plot(spks)\n",
    "plt.ylabel('spiking response',fontsize=14)\n",
    "plt.xlabel('time (samples)',fontsize=14)"
   ]
  },
  {
   "cell_type": "markdown",
   "metadata": {},
   "source": [
    "Now let's use our fit_GLM function to see how well we can recover the true parameters"
   ]
  },
  {
   "cell_type": "code",
   "execution_count": 10,
   "metadata": {},
   "outputs": [
    {
     "data": {
      "text/plain": [
       "Text(0, 0.5, 'sample')"
      ]
     },
     "execution_count": 10,
     "metadata": {},
     "output_type": "execute_result"
    },
    {
     "data": {
      "image/png": "[encoded data removed]",
      "text/plain": [
       "<Figure size 432x288 with 1 Axes>"
      ]
     },
     "metadata": {
      "needs_background": "light"
     },
     "output_type": "display_data"
    }
   ],
   "source": [
    "y, Xdsn = construct_Xdsn(stim,spks,d)\n",
    "plt.imshow(Xdsn[6000:6050,:])\n",
    "plt.xlabel('input dimension')\n",
    "plt.ylabel('sample')"
   ]
  },
  {
   "cell_type": "markdown",
   "metadata": {},
   "source": [
    "**Question:** If we wanted to split our data into train, validation, and test sets, should we shuffle the time points?"
   ]
  },
  {
   "cell_type": "code",
   "execution_count": 11,
   "metadata": {},
   "outputs": [
    {
     "name": "stdout",
     "output_type": "stream",
     "text": [
      "true offset = -15.5  fit offset = -15.432843109206232 +/- 0.6860436128812105\n"
     ]
    },
    {
     "data": {
      "image/png": "[encoded data removed]",
      "text/plain": [
       "<Figure size 432x288 with 2 Axes>"
      ]
     },
     "metadata": {
      "needs_background": "light"
     },
     "output_type": "display_data"
    }
   ],
   "source": [
    "stim_filt_fit, spk_filt_fit, b_fit, stim_se, spk_se, b_se = fit_GLM(stim,spks,d)\n",
    "plt.subplot(2,1,1)\n",
    "plt.plot(stim_filt,label='true')\n",
    "plt.errorbar(np.arange(d),stim_filt_fit,yerr=stim_se,label='estimated')\n",
    "plt.legend(fontsize=14)\n",
    "plt.ylabel('stimulus filter',fontsize=14)\n",
    "plt.ylim(-5,25)\n",
    "\n",
    "plt.subplot(2,1,2)\n",
    "plt.plot(spk_filt,label='true')\n",
    "plt.errorbar(np.arange(d),spk_filt_fit,yerr=spk_se,label='estimated')\n",
    "plt.legend(fontsize=14)\n",
    "plt.ylabel('spike filter',fontsize=14)\n",
    "plt.ylim([-15,3])\n",
    "\n",
    "print('true offset =', b, ' fit offset =', b_fit, '+/-', b_se)\n"
   ]
  },
  {
   "cell_type": "markdown",
   "metadata": {},
   "source": [
    "**Question:** Why is the estimated spike filter \"bottoming out\"?"
   ]
  },
  {
   "cell_type": "markdown",
   "metadata": {},
   "source": [
    "Now let's practice fitting a GLM to Neuropixels data"
   ]
  },
  {
   "cell_type": "code",
   "execution_count": 12,
   "metadata": {},
   "outputs": [],
   "source": [
    "import platform\n",
    "platstring = platform.platform()\n",
    "\n",
    "if 'Darwin' in platstring:\n",
    "    # OS X \n",
    "    data_root = \"/Volumes/Brain2021/\"\n",
    "elif 'Windows'  in platstring:\n",
    "    # Windows (replace with the drive letter of USB drive)\n",
    "    data_root = \"E:/\"\n",
    "elif ('amzn1' in platstring):\n",
    "    # then on AWS\n",
    "    data_root = \"/data/allen-brain-observatory/visual-coding-neuropixels\"\n",
    "else:\n",
    "    # then your own linux platform\n",
    "    # EDIT location where you mounted hard drive\n",
    "    data_root = \"/media/$USERNAME/Brain2021/\"\n",
    "\n",
    "manifest_path = os.path.join(data_root, \"ecephys-cache/manifest.json\")"
   ]
  },
  {
   "cell_type": "code",
   "execution_count": 13,
   "metadata": {},
   "outputs": [],
   "source": [
    "from allensdk.brain_observatory.ecephys.ecephys_project_cache import EcephysProjectCache\n",
    "from allensdk.brain_observatory.ecephys import ecephys_session\n",
    "\n",
    "cache = EcephysProjectCache(manifest=manifest_path)"
   ]
  },
  {
   "cell_type": "code",
   "execution_count": 14,
   "metadata": {},
   "outputs": [],
   "source": [
    "session_id=750749662\n",
    "session = cache.get_session_data(session_id)"
   ]
  },
  {
   "cell_type": "markdown",
   "metadata": {},
   "source": [
    "For now, let's stick with a simple stimulus, flashes"
   ]
  },
  {
   "cell_type": "code",
   "execution_count": 15,
   "metadata": {},
   "outputs": [],
   "source": [
    "stim_table = session.get_stimulus_table('flashes')"
   ]
  },
  {
   "cell_type": "code",
   "execution_count": 16,
   "metadata": {},
   "outputs": [
    {
     "data": {
      "text/plain": [
       "150"
      ]
     },
     "execution_count": 16,
     "metadata": {},
     "output_type": "execute_result"
    }
   ],
   "source": [
    "len(stim_table)"
   ]
  },
  {
   "cell_type": "code",
   "execution_count": 17,
   "metadata": {},
   "outputs": [
    {
     "data": {
      "text/html": [
       "<div>\n",
       "<style scoped>\n",
       "    .dataframe tbody tr th:only-of-type {\n",
       "        vertical-align: middle;\n",
       "    }\n",
       "\n",
       "    .dataframe tbody tr th {\n",
       "        vertical-align: top;\n",
       "    }\n",
       "\n",
       "    .dataframe thead th {\n",
       "        text-align: right;\n",
       "    }\n",
       "</style>\n",
       "<table border=\"1\" class=\"dataframe\">\n",
       "  <thead>\n",
       "    <tr style=\"text-align: right;\">\n",
       "      <th></th>\n",
       "      <th>color</th>\n",
       "      <th>contrast</th>\n",
       "      <th>orientation</th>\n",
       "      <th>phase</th>\n",
       "      <th>size</th>\n",
       "      <th>spatial_frequency</th>\n",
       "      <th>start_time</th>\n",
       "      <th>stimulus_block</th>\n",
       "      <th>stimulus_name</th>\n",
       "      <th>stop_time</th>\n",
       "      <th>duration</th>\n",
       "      <th>stimulus_condition_id</th>\n",
       "    </tr>\n",
       "    <tr>\n",
       "      <th>stimulus_presentation_id</th>\n",
       "      <th></th>\n",
       "      <th></th>\n",
       "      <th></th>\n",
       "      <th></th>\n",
       "      <th></th>\n",
       "      <th></th>\n",
       "      <th></th>\n",
       "      <th></th>\n",
       "      <th></th>\n",
       "      <th></th>\n",
       "      <th></th>\n",
       "      <th></th>\n",
       "    </tr>\n",
       "  </thead>\n",
       "  <tbody>\n",
       "    <tr>\n",
       "      <th>3647</th>\n",
       "      <td>-1.0</td>\n",
       "      <td>0.8</td>\n",
       "      <td>0.0</td>\n",
       "      <td>[0.0, 0.0]</td>\n",
       "      <td>[300.0, 300.0]</td>\n",
       "      <td>[0.0, 0.0]</td>\n",
       "      <td>1285.319199</td>\n",
       "      <td>1.0</td>\n",
       "      <td>flashes</td>\n",
       "      <td>1285.569407</td>\n",
       "      <td>0.250208</td>\n",
       "      <td>244</td>\n",
       "    </tr>\n",
       "    <tr>\n",
       "      <th>3648</th>\n",
       "      <td>-1.0</td>\n",
       "      <td>0.8</td>\n",
       "      <td>0.0</td>\n",
       "      <td>[0.0, 0.0]</td>\n",
       "      <td>[300.0, 300.0]</td>\n",
       "      <td>[0.0, 0.0]</td>\n",
       "      <td>1287.320839</td>\n",
       "      <td>1.0</td>\n",
       "      <td>flashes</td>\n",
       "      <td>1287.571055</td>\n",
       "      <td>0.250216</td>\n",
       "      <td>244</td>\n",
       "    </tr>\n",
       "    <tr>\n",
       "      <th>3649</th>\n",
       "      <td>1.0</td>\n",
       "      <td>0.8</td>\n",
       "      <td>0.0</td>\n",
       "      <td>[0.0, 0.0]</td>\n",
       "      <td>[300.0, 300.0]</td>\n",
       "      <td>[0.0, 0.0]</td>\n",
       "      <td>1289.322569</td>\n",
       "      <td>1.0</td>\n",
       "      <td>flashes</td>\n",
       "      <td>1289.572772</td>\n",
       "      <td>0.250203</td>\n",
       "      <td>245</td>\n",
       "    </tr>\n",
       "    <tr>\n",
       "      <th>3650</th>\n",
       "      <td>1.0</td>\n",
       "      <td>0.8</td>\n",
       "      <td>0.0</td>\n",
       "      <td>[0.0, 0.0]</td>\n",
       "      <td>[300.0, 300.0]</td>\n",
       "      <td>[0.0, 0.0]</td>\n",
       "      <td>1291.324229</td>\n",
       "      <td>1.0</td>\n",
       "      <td>flashes</td>\n",
       "      <td>1291.574432</td>\n",
       "      <td>0.250203</td>\n",
       "      <td>245</td>\n",
       "    </tr>\n",
       "    <tr>\n",
       "      <th>3651</th>\n",
       "      <td>1.0</td>\n",
       "      <td>0.8</td>\n",
       "      <td>0.0</td>\n",
       "      <td>[0.0, 0.0]</td>\n",
       "      <td>[300.0, 300.0]</td>\n",
       "      <td>[0.0, 0.0]</td>\n",
       "      <td>1293.325909</td>\n",
       "      <td>1.0</td>\n",
       "      <td>flashes</td>\n",
       "      <td>1293.576112</td>\n",
       "      <td>0.250203</td>\n",
       "      <td>245</td>\n",
       "    </tr>\n",
       "  </tbody>\n",
       "</table>\n",
       "</div>"
      ],
      "text/plain": [
       "                         color contrast orientation       phase  \\\n",
       "stimulus_presentation_id                                          \n",
       "3647                      -1.0      0.8         0.0  [0.0, 0.0]   \n",
       "3648                      -1.0      0.8         0.0  [0.0, 0.0]   \n",
       "3649                       1.0      0.8         0.0  [0.0, 0.0]   \n",
       "3650                       1.0      0.8         0.0  [0.0, 0.0]   \n",
       "3651                       1.0      0.8         0.0  [0.0, 0.0]   \n",
       "\n",
       "                                    size spatial_frequency   start_time  \\\n",
       "stimulus_presentation_id                                                  \n",
       "3647                      [300.0, 300.0]        [0.0, 0.0]  1285.319199   \n",
       "3648                      [300.0, 300.0]        [0.0, 0.0]  1287.320839   \n",
       "3649                      [300.0, 300.0]        [0.0, 0.0]  1289.322569   \n",
       "3650                      [300.0, 300.0]        [0.0, 0.0]  1291.324229   \n",
       "3651                      [300.0, 300.0]        [0.0, 0.0]  1293.325909   \n",
       "\n",
       "                         stimulus_block stimulus_name    stop_time  duration  \\\n",
       "stimulus_presentation_id                                                       \n",
       "3647                                1.0       flashes  1285.569407  0.250208   \n",
       "3648                                1.0       flashes  1287.571055  0.250216   \n",
       "3649                                1.0       flashes  1289.572772  0.250203   \n",
       "3650                                1.0       flashes  1291.574432  0.250203   \n",
       "3651                                1.0       flashes  1293.576112  0.250203   \n",
       "\n",
       "                          stimulus_condition_id  \n",
       "stimulus_presentation_id                         \n",
       "3647                                        244  \n",
       "3648                                        244  \n",
       "3649                                        245  \n",
       "3650                                        245  \n",
       "3651                                        245  "
      ]
     },
     "execution_count": 17,
     "metadata": {},
     "output_type": "execute_result"
    }
   ],
   "source": [
    "stim_table.head()"
   ]
  },
  {
   "cell_type": "markdown",
   "metadata": {},
   "source": [
    "We need to make a choice about how represent the stimulus during each time bin as a vector. for now, we'll choose 10ms bins with a scalar value:\n",
    " - +1 if a bright flash takes up most of the bin\n",
    " - -1 if a dark flash takes up most of the bin\n",
    " - 0 otherwise"
   ]
  },
  {
   "cell_type": "code",
   "execution_count": 18,
   "metadata": {},
   "outputs": [
    {
     "name": "stdout",
     "output_type": "stream",
     "text": [
      "1285.02 1584.12 29909\n"
     ]
    }
   ],
   "source": [
    "flashes = 150\n",
    "start = np.round(stim_table.start_time.iloc[0]-0.3,decimals=2)\n",
    "stop = np.round(stim_table.stop_time.iloc[flashes-1]+0.3,decimals=2)\n",
    "dt = 0.01\n",
    "T = int((stop-start)/dt)\n",
    "print(start,stop,T)"
   ]
  },
  {
   "cell_type": "code",
   "execution_count": 19,
   "metadata": {},
   "outputs": [
    {
     "data": {
      "text/plain": [
       "(1285.02, 1315.02)"
      ]
     },
     "execution_count": 19,
     "metadata": {},
     "output_type": "execute_result"
    },
    {
     "data": {
      "image/png": "[encoded data removed]",
      "text/plain": [
       "<Figure size 432x288 with 1 Axes>"
      ]
     },
     "metadata": {
      "needs_background": "light"
     },
     "output_type": "display_data"
    }
   ],
   "source": [
    "time_vector = np.arange(T)*dt+start\n",
    "stim_vector = np.zeros((T,))\n",
    "stim_matrix = np.zeros((2,T))\n",
    "for flash in range(flashes):\n",
    "    start_bin = int(np.round((stim_table.start_time.iloc[flash]-start)/dt))\n",
    "    stop_bin = int(np.round((stim_table.stop_time.iloc[flash]-start)/dt))\n",
    "    stim_vector[start_bin:stop_bin] = stim_table.color.iloc[flash]\n",
    "    stim_matrix[int(stim_table.color.iloc[flash]>0),start_bin:stop_bin] = 1\n",
    "plt.plot(time_vector,stim_matrix.T)\n",
    "plt.xlabel('time (s)')\n",
    "plt.ylabel('stimulus')\n",
    "plt.xlim(time_vector[0],time_vector[0]+30)"
   ]
  },
  {
   "cell_type": "markdown",
   "metadata": {},
   "source": [
    "Now let's pick a single neuron and count how many times it spikes in each of these bins"
   ]
  },
  {
   "cell_type": "code",
   "execution_count": 20,
   "metadata": {},
   "outputs": [],
   "source": [
    "unit_id = session.units[session.units.ecephys_structure_acronym=='VISp'].index[2] #Some interesting units: 2,6,12,17\n",
    "# print(unit_id)"
   ]
  },
  {
   "cell_type": "code",
   "execution_count": 21,
   "metadata": {},
   "outputs": [
    {
     "data": {
      "text/plain": [
       "(1285.02, 1315.02)"
      ]
     },
     "execution_count": 21,
     "metadata": {},
     "output_type": "execute_result"
    },
    {
     "data": {
      "image/png": "[encoded data removed]",
      "text/plain": [
       "<Figure size 432x288 with 1 Axes>"
      ]
     },
     "metadata": {
      "needs_background": "light"
     },
     "output_type": "display_data"
    }
   ],
   "source": [
    "spk_vector = np.zeros_like(stim_vector)\n",
    "for spike_time in session.spike_times[unit_id]:\n",
    "    if (spike_time>start) and (spike_time<stop):\n",
    "        spk_bin = int((spike_time-start)/dt)\n",
    "        spk_vector[spk_bin] += 1   \n",
    "\n",
    "plt.xlabel('time (s)')\n",
    "plt.plot(time_vector,spk_vector,label='spikes')\n",
    "plt.plot(time_vector,stim_vector,label='stimulus')\n",
    "plt.legend()\n",
    "plt.xlim(time_vector[0],time_vector[0]+30)"
   ]
  },
  {
   "cell_type": "markdown",
   "metadata": {},
   "source": [
    "Now let's fit a GLM to this data and see what the parameters look like"
   ]
  },
  {
   "cell_type": "code",
   "execution_count": 22,
   "metadata": {},
   "outputs": [
    {
     "name": "stdout",
     "output_type": "stream",
     "text": [
      "estimated offset =  -4.509431319407467  +/-  0.058915798766972005\n"
     ]
    },
    {
     "data": {
      "image/png": "[encoded data removed]",
      "text/plain": [
       "<Figure size 432x288 with 2 Axes>"
      ]
     },
     "metadata": {
      "needs_background": "light"
     },
     "output_type": "display_data"
    }
   ],
   "source": [
    "d = 15\n",
    "stim_filt_fit, spk_filt_fit, b_fit, stim_se, spk_se, b_se = fit_GLM(stim_matrix,spk_vector,d)\n",
    "plt.subplot(2,1,1)\n",
    "\n",
    "if len(stim_filt_fit.shape)>1:\n",
    "    plt.errorbar(np.arange(d)*dt,stim_filt_fit[0,:],yerr=stim_se[0,:],label='black')\n",
    "    plt.errorbar(np.arange(d)*dt,stim_filt_fit[1,:],yerr=stim_se[1,:],label='white')\n",
    "    plt.legend()\n",
    "else:\n",
    "    plt.errorbar(np.arange(d)*dt,stim_filt_fit,yerr=stim_se)\n",
    "plt.axhline(c='k')\n",
    "plt.ylabel('stimulus filter',fontsize=14)\n",
    "\n",
    "plt.subplot(2,1,2)\n",
    "plt.errorbar(np.arange(d)*dt,spk_filt_fit,yerr=spk_se,label='estimated')\n",
    "plt.axhline(c='k')\n",
    "plt.ylabel('spike filter',fontsize=14)\n",
    "plt.xlabel('time (s)',fontsize=14)\n",
    "\n",
    "print('estimated offset = ', b_fit, ' +/- ', b_se)"
   ]
  },
  {
   "cell_type": "code",
   "execution_count": null,
   "metadata": {},
   "outputs": [],
   "source": []
  }
 ],
 "metadata": {
  "anaconda-cloud": {},
  "kernelspec": {
   "display_name": "Python [conda env:allensdk]",
   "language": "python",
   "name": "conda-env-allensdk-py"
  },
  "language_info": {
   "codemirror_mode": {
    "name": "ipython",
    "version": 3
   },
   "file_extension": ".py",
   "mimetype": "text/x-python",
   "name": "python",
   "nbconvert_exporter": "python",
   "pygments_lexer": "ipython3",
   "version": "3.7.10"
  }
 },
 "nbformat": 4,
 "nbformat_minor": 2
}
