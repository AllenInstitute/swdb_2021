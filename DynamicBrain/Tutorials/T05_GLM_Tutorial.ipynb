{
 "cells": [
  {
   "cell_type": "markdown",
   "metadata": {},
   "source": [
    "<img src=\"../../resources/cropped-SummerWorkshop_Header.png\">  \n",
    "\n",
    "<h1 align=\"center\">Tutorial on Generalized Linear Models (GLM) </h1> \n",
    "<h2 align=\"center\">Summer Workshop on the Dynamic Brain </h2> \n",
    "<h3 align=\"center\">Friday, August 27, 2021</h3> \n",
    "\n"
   ]
  },
  {
   "attachments": {},
   "cell_type": "markdown",
   "metadata": {},
   "source": [
    "<div style=\"border-left: 3px solid #000; padding: 1px; padding-left: 10px; background: #F0FAFF; \">\n",
    "\n",
    "<p> As scientists, we want to build models of data that are as simple as possible, and are able to explain the data as well as possible. Sometimes, when linear regression doesn't cut it and more complicated nonlinear models are too difficult to fit and/or analyze, Genaralized Linear Models (GLM) can be a good choice. They have also been used a lot to model neural responses to stimuli, as we will do in this notebook.</p>\n",
    "\n",
    "<p>\n",
    "The GLM is defined as follows for some input $\\vec{x}_i$ and output $y_i$:\n",
    "</p>\n",
    "<p>\n",
    "$P(y_i|\\vec{x}_i;\\vec{w}) = F(g^{-1}(\\vec{w}\\cdot\\vec{x}_i))$\n",
    "</p>\n",
    "    \n",
    "<p>\n",
    "Where $g$ is called the \"link function\", $F(m)$ represents some probability distribution with mean $m$, and $\\vec{w}$ is a vector of fitted parameters. These parameters are fitted by finding the $\\vec{w}$ that maximizes $\\prod_{i=1}^N P(y_i|\\vec{x}_i;\\vec{w})$ for some dataset of $N$ samples. Note that when $g$ is the identity, and $F$ is the normal distribution with some fixed variance, this is just a linear regression problem.\n",
    "</p>\n",
    "\n",
    "<img src=\"../../resources/GLM_Pillow.png\" width=\"480\">  \n",
    "\n",
    "<p>\n",
    "    To model neural spiking, $y_i$ will be the number of spikes a neuron fires in time bin $i$, and $\\vec{x}_i$ will be a vector of all the predictors used to predict $y_i$. This will include three types of predictors:</p>\n",
    "   \n",
    "\n",
    " 1. The stimulus incident on our neuron during time bin $i$, and for $d-1$ time bins leading up to it\n",
    "    \n",
    " 2. The spiking history of our neuron for $d$ time bins leading up to time bin $i$\n",
    "    \n",
    " 3. A constant $1$ - the corresponding element of $\\vec{w}$ will be an offset term\n",
    "\n",
    "<p>\n",
    "Each vector will therefore look like this: \n",
    "    $\\vec{x}_i = [stimulus_i,...,stimulus_{i-d+1},y_{i-1},...,y_{i-d},1]^T$\n",
    "</p>\n",
    "   \n",
    "<p>   \n",
    "We refer to the corresponding parts of $\\vec{w}$ as the \"stimulus filter\", \"spike history filter\", and \"offset\". Traditionally, for using GLMs to model neural spiking, we use a log link function, i.e. $g^{-1}(a) = e^a$, and a Poisson distribution.\n",
    "</p>\n",
    "   \n",
    "<p>\n",
    "In this tutorial, we will use the statsmodels package (https://www.statsmodels.org/stable/glm.html) to fit parameters for GLMs, since it is simple and fast. However, note that doing more complicated things, like fitting GLMs with regularization, requires a more complicated solution.\n",
    "</p> \n",
    "    \n",
    "<p>\n",
    "In order to use this package, we must supply $y_i$ and $\\vec{x}_i$ for all $i$. Statsmodels expects a \"design matrix\" of inputs, </p>\n",
    "    \n",
    "$$\\begin{bmatrix} \\vec{x}_1^T \\\\ \\vdots \\\\ \\vec{x}_N^T \\end{bmatrix} = \\begin{bmatrix} stimulus_{d+1} & stimulus_{d} & ... & stimulus_{3} & stimulus_{2} & y_{d} & y_{d-1} & ... & y_{2} & y_{1} & 1 \\\\ stimulus_{d+2} & stimulus_{d+1} & ... & stimulus_{4} & stimulus_{3} & y_{d+1} & y_{d} & ... & y_{3} & y_{2} & 1 \\\\ \\vdots &\\vdots & \\ddots & \\vdots &\\vdots &\\vdots &\\vdots& \\ddots & \\vdots &\\vdots &\\vdots\\\\ stimulus_{d+N} & stimulus_{d+N-1} & ... & stimulus_{N+2} & stimulus_{N+1} & y_{d+N-1} & y_{d+N-2} & ... & y_{N+1} & y_{N} & 1 \\end{bmatrix}$$\n",
    "\n",
    "<p> and a vector of outputs, </p>\n",
    "$$\\begin{bmatrix} y_{d+1} \\\\ \\vdots \\\\ y_{d+N}\\end{bmatrix}$$\n",
    "    \n",
    "</div>"
   ]
  },
  {
   "cell_type": "code",
   "execution_count": 1,
   "metadata": {},
   "outputs": [],
   "source": [
    "import numpy as np\n",
    "from matplotlib import pyplot as plt\n",
    "import os\n",
    "import pandas as pd\n",
    "\n",
    "# we will use this package to fit GLMs to data\n",
    "import statsmodels.api as sm\n",
    "\n",
    "%matplotlib inline\n",
    "\n",
    "# tab completion in the notebook sometimes has trouble with large dataframes\n",
    "# this will fix it\n",
    "%config Completer.use_jedi = False"
   ]
  },
  {
   "cell_type": "markdown",
   "metadata": {},
   "source": [
    "Several helper functions to take care of simulating the output of a GLM and fitting a GLM to data (including constructing the design matrix)"
   ]
  },
  {
   "cell_type": "code",
   "execution_count": 2,
   "metadata": {},
   "outputs": [],
   "source": [
    "\"\"\"\n",
    "Simulate a GLM's response to a 1D stimulus\n",
    "Inputs:\n",
    "stim: The stimulus - np array with shape (T,) \n",
    "stim_filt: Stimulus filter - np array with shape (d,)\n",
    "spk_filt: Spike history filter - np array with shape (d,)\n",
    "offset: Offset term - scalar\n",
    "max_spikes_per_bin: Maximum number of spikes allowed in a single time bin\n",
    "\n",
    "Outputs:\n",
    "spks: the spiking response - (T,) ndarray\n",
    "\"\"\"\n",
    "\n",
    "def sim_GLM(stim, stim_filt, spk_filt, offset,max_spikes_per_bin=5):\n",
    "    d = stim_filt.size\n",
    "    T = stim.size\n",
    "    spks = np.zeros((T,)) # starts at time step d\n",
    "    rate = np.zeros((T,))\n",
    "    for i in range(d,T):\n",
    "        rate[i] = np.exp(np.flip(stim_filt,-1).dot(stim[i-d+1:i+1])+np.flip(spk_filt,-1).dot(spks[i-d:i])+offset)\n",
    "        spks[i] = np.random.poisson(rate[i])\n",
    "        spks[i] = min(spks[i],max_spikes_per_bin)\n",
    "    return spks\n",
    "\n",
    "\n",
    "\"\"\"\n",
    "Construct the design matrix for a given stimulus and spiking response\n",
    "Inputs:\n",
    "flat_stimulus: the stimulus - an (MxT) ndarray, M is the dimension of the stimulus, T is the number of time samples\n",
    "binned_spikes: the spiking response - a (T,) ndarray \n",
    "d: integer - how many time bins of history to use as predictors\n",
    "\n",
    "Outputs:\n",
    "y: the dependent variable to be predicted (spiking response) - (T-d,) ndarray\n",
    "X_dsn: the design matrix of independent variables - 2D ndarray\n",
    "\"\"\"\n",
    "\n",
    "def construct_Xdsn(flat_stimulus, binned_spikes, d):\n",
    "    T = binned_spikes.size # T is number of time bins\n",
    "    sh = flat_stimulus.shape # M is the size of a stimulus\n",
    "    if len(sh)==1:\n",
    "        M = 1\n",
    "        T1 = sh[0]\n",
    "        flat_stimulus = np.expand_dims(flat_stimulus,axis=0)\n",
    "    else:\n",
    "        (M,T1) = sh  \n",
    "    assert T==T1, \"arrays have a different number of time samples\"\n",
    "    \n",
    "    y = binned_spikes[d:]\n",
    "    X_dsn = np.ones((T-d,M*d+d+1))\n",
    "    for t in range(T-d):\n",
    "        X_dsn[t,:M*d] = np.flip(flat_stimulus[:,t+1:t+d+1],-1).reshape((1,-1))  #stimulus inputs\n",
    "        X_dsn[t,M*d:-1] = np.flip(binned_spikes[t:t+d],-1).reshape((1,-1)) #spike inputs\n",
    "    return y, X_dsn\n",
    "\n",
    "\n",
    "\"\"\"\n",
    "Fit GLM parameters for a given stimulus and spiking response\n",
    "Inputs:\n",
    "flat_stimulus: the stimulus - an (MxT) ndarray, M is the dimension of the stimulus, T is the number of time samples\n",
    "binned_spikes: the spiking response - a (T,) ndarray \n",
    "d: integer - how many time bins of history to use as predictors\n",
    "\n",
    "Outputs:\n",
    "stim_filt, spk_filt, b: the stimulus filter, spike history filter, and offset term\n",
    "stim_se, spk_se, b_se: the standard errors for these parameter estimates\n",
    "\"\"\"\n",
    "def fit_GLM(flat_stimulus, binned_spikes, d):\n",
    "    y, Xdsn = construct_Xdsn(flat_stimulus,binned_spikes,d)\n",
    "    model =  sm.GLM(y,Xdsn,family = sm.families.Poisson())\n",
    "    model_results = model.fit()\n",
    "    p = model_results.params\n",
    "    se = model_results.bse\n",
    "    \n",
    "    b = p[-1]\n",
    "    b_se = se[-1]\n",
    "    stim_filt = p[:-1-d]\n",
    "    if stim_filt.size>d:\n",
    "        stim_filt = stim_filt.reshape([-1,d])\n",
    "    stim_se = se[:-1-d]\n",
    "    spk_filt = p[-1-d:-1]\n",
    "    spk_se = se[-1-d:-1]\n",
    "    return stim_filt, spk_filt, b, stim_se, spk_se, b_se"
   ]
  },
  {
   "cell_type": "markdown",
   "metadata": {},
   "source": [
    "Now let's play around with simulating a GLM with some hand-picked parameters"
   ]
  },
  {
   "cell_type": "code",
   "execution_count": 3,
   "metadata": {},
   "outputs": [
    {
     "data": {
      "text/plain": [
       "(-20.0, 2.0)"
      ]
     },
     "execution_count": 3,
     "metadata": {},
     "output_type": "execute_result"
    },
    {
     "data": {
      "image/png": "[encoded data removed]",
      "text/plain": [
       "<Figure size 432x288 with 2 Axes>"
      ]
     },
     "metadata": {
      "needs_background": "light"
     },
     "output_type": "display_data"
    }
   ],
   "source": [
    "d = 15\n",
    "t_f = np.arange(d)\n",
    "spk_filt = -200*np.exp(-t_f/1.0)\n",
    "stim_filt = 20*np.exp(-t_f/1.0)\n",
    "b = -15.5\n",
    "\n",
    "plt.subplot(2,1,1)\n",
    "plt.plot(stim_filt,label='true')\n",
    "plt.ylabel('Stimulus filter')\n",
    "plt.subplot(2,1,2)\n",
    "plt.plot(spk_filt,label='true')\n",
    "plt.ylabel('Spike history filter')\n",
    "plt.ylim([-20,2])"
   ]
  },
  {
   "cell_type": "markdown",
   "metadata": {},
   "source": [
    "Let's simulate a random Gaussian stimulus to feed into our GLM, and simulate the spiking response"
   ]
  },
  {
   "cell_type": "code",
   "execution_count": 4,
   "metadata": {},
   "outputs": [
    {
     "data": {
      "text/plain": [
       "Text(0.5, 0, 'time (samples)')"
      ]
     },
     "execution_count": 4,
     "metadata": {},
     "output_type": "execute_result"
    },
    {
     "data": {
      "image/png": "[encoded data removed]",
      "text/plain": [
       "<Figure size 432x288 with 2 Axes>"
      ]
     },
     "metadata": {
      "needs_background": "light"
     },
     "output_type": "display_data"
    }
   ],
   "source": [
    "T = 20000\n",
    "stim = np.random.normal(loc=0.3, scale=0.1,size=(T,))\n",
    "# stim = (1+np.sin(np.arange(T)/200))*0.2\n",
    "stim[0:T//10] = 0\n",
    "spks = sim_GLM(stim,stim_filt,spk_filt,b)\n",
    "\n",
    "plt.subplot(2,1,1)\n",
    "plt.plot(stim)\n",
    "plt.ylabel('stimulus',fontsize=18)\n",
    "plt.subplot(2,1,2)\n",
    "plt.plot(spks)\n",
    "plt.ylabel('spiking response',fontsize=14)\n",
    "plt.xlabel('time (samples)',fontsize=14)"
   ]
  },
  {
   "cell_type": "markdown",
   "metadata": {},
   "source": [
    "Now let's use our fit_GLM function to see how well we can recover the true parameters"
   ]
  },
  {
   "cell_type": "code",
   "execution_count": 5,
   "metadata": {},
   "outputs": [
    {
     "data": {
      "text/plain": [
       "Text(0, 0.5, 'sample')"
      ]
     },
     "execution_count": 5,
     "metadata": {},
     "output_type": "execute_result"
    },
    {
     "data": {
      "image/png": "[encoded data removed]",
      "text/plain": [
       "<Figure size 432x288 with 1 Axes>"
      ]
     },
     "metadata": {
      "needs_background": "light"
     },
     "output_type": "display_data"
    }
   ],
   "source": [
    "y, Xdsn = construct_Xdsn(stim,spks,d)\n",
    "plt.imshow(Xdsn[6000:6050,:])\n",
    "plt.axis('tight')\n",
    "plt.xlabel('input dimension')\n",
    "plt.ylabel('sample')"
   ]
  },
  {
   "cell_type": "markdown",
   "metadata": {},
   "source": [
    "**Question:** If we wanted to split our data into train, validation, and test sets, should we shuffle the time points?"
   ]
  },
  {
   "cell_type": "code",
   "execution_count": 6,
   "metadata": {},
   "outputs": [
    {
     "name": "stdout",
     "output_type": "stream",
     "text": [
      "true offset = -15.5  fit offset = -15.788228118437198 +/- 0.8281456724377547\n"
     ]
    },
    {
     "data": {
      "image/png": "[encoded data removed]",
      "text/plain": [
       "<Figure size 432x288 with 2 Axes>"
      ]
     },
     "metadata": {
      "needs_background": "light"
     },
     "output_type": "display_data"
    }
   ],
   "source": [
    "stim_filt_fit, spk_filt_fit, b_fit, stim_se, spk_se, b_se = fit_GLM(stim,spks,d)\n",
    "plt.subplot(2,1,1)\n",
    "plt.plot(stim_filt,label='true')\n",
    "plt.errorbar(np.arange(d),stim_filt_fit,yerr=stim_se,label='estimated')\n",
    "plt.legend(fontsize=14)\n",
    "plt.ylabel('stimulus filter',fontsize=14)\n",
    "plt.ylim(-5,25)\n",
    "\n",
    "plt.subplot(2,1,2)\n",
    "plt.plot(spk_filt,label='true')\n",
    "plt.errorbar(np.arange(d),spk_filt_fit,yerr=spk_se,label='estimated')\n",
    "plt.legend(fontsize=14)\n",
    "plt.ylabel('spike filter',fontsize=14)\n",
    "plt.ylim([-15,3])\n",
    "\n",
    "print('true offset =', b, ' fit offset =', b_fit, '+/-', b_se)\n"
   ]
  },
  {
   "cell_type": "markdown",
   "metadata": {},
   "source": [
    "**Question:** Why is the estimated spike filter \"bottoming out\"?"
   ]
  },
  {
   "cell_type": "markdown",
   "metadata": {},
   "source": [
    "Now let's practice fitting a GLM to Neuropixels data"
   ]
  },
  {
   "cell_type": "code",
   "execution_count": 7,
   "metadata": {},
   "outputs": [],
   "source": [
    "import platform\n",
    "platstring = platform.platform()\n",
    "\n",
    "if 'Darwin' in platstring:\n",
    "    # OS X \n",
    "    data_root = \"/Volumes/Brain2021/\"\n",
    "elif 'Windows'  in platstring:\n",
    "    # Windows (replace with the drive letter of USB drive)\n",
    "    data_root = \"E:/\"\n",
    "elif ('amzn1' in platstring):\n",
    "    # then on AWS\n",
    "    data_root = \"/data/allen-brain-observatory/visual-coding-neuropixels\"\n",
    "else:\n",
    "    # then your own linux platform\n",
    "    # EDIT location where you mounted hard drive\n",
    "    data_root = \"/media/$USERNAME/Brain2021/\"\n",
    "\n",
    "manifest_path = os.path.join(data_root, \"ecephys-cache/manifest.json\")"
   ]
  },
  {
   "cell_type": "code",
   "execution_count": 8,
   "metadata": {},
   "outputs": [],
   "source": [
    "from allensdk.brain_observatory.ecephys.ecephys_project_cache import EcephysProjectCache\n",
    "from allensdk.brain_observatory.ecephys import ecephys_session\n",
    "\n",
    "cache = EcephysProjectCache(manifest=manifest_path)"
   ]
  },
  {
   "cell_type": "code",
   "execution_count": 9,
   "metadata": {},
   "outputs": [],
   "source": [
    "session_id=750749662\n",
    "session = cache.get_session_data(session_id)"
   ]
  },
  {
   "cell_type": "markdown",
   "metadata": {},
   "source": [
    "For now, let's stick with a simple stimulus, flashes"
   ]
  },
  {
   "cell_type": "code",
   "execution_count": 10,
   "metadata": {},
   "outputs": [],
   "source": [
    "stim_table = session.get_stimulus_table('flashes')"
   ]
  },
  {
   "cell_type": "code",
   "execution_count": 11,
   "metadata": {},
   "outputs": [
    {
     "data": {
      "text/plain": [
       "150"
      ]
     },
     "execution_count": 11,
     "metadata": {},
     "output_type": "execute_result"
    }
   ],
   "source": [
    "len(stim_table)"
   ]
  },
  {
   "cell_type": "code",
   "execution_count": 12,
   "metadata": {},
   "outputs": [
    {
     "data": {
      "text/html": [
       "<div>\n",
       "<style scoped>\n",
       "    .dataframe tbody tr th:only-of-type {\n",
       "        vertical-align: middle;\n",
       "    }\n",
       "\n",
       "    .dataframe tbody tr th {\n",
       "        vertical-align: top;\n",
       "    }\n",
       "\n",
       "    .dataframe thead th {\n",
       "        text-align: right;\n",
       "    }\n",
       "</style>\n",
       "<table border=\"1\" class=\"dataframe\">\n",
       "  <thead>\n",
       "    <tr style=\"text-align: right;\">\n",
       "      <th></th>\n",
       "      <th>color</th>\n",
       "      <th>contrast</th>\n",
       "      <th>orientation</th>\n",
       "      <th>phase</th>\n",
       "      <th>size</th>\n",
       "      <th>spatial_frequency</th>\n",
       "      <th>start_time</th>\n",
       "      <th>stimulus_block</th>\n",
       "      <th>stimulus_name</th>\n",
       "      <th>stop_time</th>\n",
       "      <th>duration</th>\n",
       "      <th>stimulus_condition_id</th>\n",
       "    </tr>\n",
       "    <tr>\n",
       "      <th>stimulus_presentation_id</th>\n",
       "      <th></th>\n",
       "      <th></th>\n",
       "      <th></th>\n",
       "      <th></th>\n",
       "      <th></th>\n",
       "      <th></th>\n",
       "      <th></th>\n",
       "      <th></th>\n",
       "      <th></th>\n",
       "      <th></th>\n",
       "      <th></th>\n",
       "      <th></th>\n",
       "    </tr>\n",
       "  </thead>\n",
       "  <tbody>\n",
       "    <tr>\n",
       "      <th>3647</th>\n",
       "      <td>-1</td>\n",
       "      <td>0.8</td>\n",
       "      <td>0</td>\n",
       "      <td>[0.0, 0.0]</td>\n",
       "      <td>[300.0, 300.0]</td>\n",
       "      <td>[0.0, 0.0]</td>\n",
       "      <td>1285.319199</td>\n",
       "      <td>1</td>\n",
       "      <td>flashes</td>\n",
       "      <td>1285.569407</td>\n",
       "      <td>0.250208</td>\n",
       "      <td>244</td>\n",
       "    </tr>\n",
       "    <tr>\n",
       "      <th>3648</th>\n",
       "      <td>-1</td>\n",
       "      <td>0.8</td>\n",
       "      <td>0</td>\n",
       "      <td>[0.0, 0.0]</td>\n",
       "      <td>[300.0, 300.0]</td>\n",
       "      <td>[0.0, 0.0]</td>\n",
       "      <td>1287.320839</td>\n",
       "      <td>1</td>\n",
       "      <td>flashes</td>\n",
       "      <td>1287.571055</td>\n",
       "      <td>0.250216</td>\n",
       "      <td>244</td>\n",
       "    </tr>\n",
       "    <tr>\n",
       "      <th>3649</th>\n",
       "      <td>1</td>\n",
       "      <td>0.8</td>\n",
       "      <td>0</td>\n",
       "      <td>[0.0, 0.0]</td>\n",
       "      <td>[300.0, 300.0]</td>\n",
       "      <td>[0.0, 0.0]</td>\n",
       "      <td>1289.322569</td>\n",
       "      <td>1</td>\n",
       "      <td>flashes</td>\n",
       "      <td>1289.572772</td>\n",
       "      <td>0.250203</td>\n",
       "      <td>245</td>\n",
       "    </tr>\n",
       "    <tr>\n",
       "      <th>3650</th>\n",
       "      <td>1</td>\n",
       "      <td>0.8</td>\n",
       "      <td>0</td>\n",
       "      <td>[0.0, 0.0]</td>\n",
       "      <td>[300.0, 300.0]</td>\n",
       "      <td>[0.0, 0.0]</td>\n",
       "      <td>1291.324229</td>\n",
       "      <td>1</td>\n",
       "      <td>flashes</td>\n",
       "      <td>1291.574432</td>\n",
       "      <td>0.250203</td>\n",
       "      <td>245</td>\n",
       "    </tr>\n",
       "    <tr>\n",
       "      <th>3651</th>\n",
       "      <td>1</td>\n",
       "      <td>0.8</td>\n",
       "      <td>0</td>\n",
       "      <td>[0.0, 0.0]</td>\n",
       "      <td>[300.0, 300.0]</td>\n",
       "      <td>[0.0, 0.0]</td>\n",
       "      <td>1293.325909</td>\n",
       "      <td>1</td>\n",
       "      <td>flashes</td>\n",
       "      <td>1293.576112</td>\n",
       "      <td>0.250203</td>\n",
       "      <td>245</td>\n",
       "    </tr>\n",
       "  </tbody>\n",
       "</table>\n",
       "</div>"
      ],
      "text/plain": [
       "                         color contrast orientation       phase  \\\n",
       "stimulus_presentation_id                                          \n",
       "3647                        -1      0.8           0  [0.0, 0.0]   \n",
       "3648                        -1      0.8           0  [0.0, 0.0]   \n",
       "3649                         1      0.8           0  [0.0, 0.0]   \n",
       "3650                         1      0.8           0  [0.0, 0.0]   \n",
       "3651                         1      0.8           0  [0.0, 0.0]   \n",
       "\n",
       "                                    size spatial_frequency   start_time  \\\n",
       "stimulus_presentation_id                                                  \n",
       "3647                      [300.0, 300.0]        [0.0, 0.0]  1285.319199   \n",
       "3648                      [300.0, 300.0]        [0.0, 0.0]  1287.320839   \n",
       "3649                      [300.0, 300.0]        [0.0, 0.0]  1289.322569   \n",
       "3650                      [300.0, 300.0]        [0.0, 0.0]  1291.324229   \n",
       "3651                      [300.0, 300.0]        [0.0, 0.0]  1293.325909   \n",
       "\n",
       "                         stimulus_block stimulus_name    stop_time  duration  \\\n",
       "stimulus_presentation_id                                                       \n",
       "3647                                  1       flashes  1285.569407  0.250208   \n",
       "3648                                  1       flashes  1287.571055  0.250216   \n",
       "3649                                  1       flashes  1289.572772  0.250203   \n",
       "3650                                  1       flashes  1291.574432  0.250203   \n",
       "3651                                  1       flashes  1293.576112  0.250203   \n",
       "\n",
       "                          stimulus_condition_id  \n",
       "stimulus_presentation_id                         \n",
       "3647                                        244  \n",
       "3648                                        244  \n",
       "3649                                        245  \n",
       "3650                                        245  \n",
       "3651                                        245  "
      ]
     },
     "execution_count": 12,
     "metadata": {},
     "output_type": "execute_result"
    }
   ],
   "source": [
    "stim_table.head()"
   ]
  },
  {
   "cell_type": "markdown",
   "metadata": {},
   "source": [
    "We need to make a choice about how represent the stimulus during each time bin as a vector. for now, we'll choose 10ms bins with a scalar value:\n",
    " - +1 if a bright flash takes up most of the bin\n",
    " - -1 if a dark flash takes up most of the bin\n",
    " - 0 otherwise"
   ]
  },
  {
   "cell_type": "code",
   "execution_count": 13,
   "metadata": {},
   "outputs": [
    {
     "name": "stdout",
     "output_type": "stream",
     "text": [
      "1285.02 1584.12 29909\n"
     ]
    }
   ],
   "source": [
    "flashes = 150\n",
    "start = np.round(stim_table.start_time.iloc[0]-0.3,decimals=2)\n",
    "stop = np.round(stim_table.stop_time.iloc[flashes-1]+0.3,decimals=2)\n",
    "dt = 0.01\n",
    "T = int((stop-start)/dt)\n",
    "print(start,stop,T)"
   ]
  },
  {
   "cell_type": "code",
   "execution_count": 14,
   "metadata": {},
   "outputs": [
    {
     "data": {
      "text/plain": [
       "Text(0, 0.5, 'stimulus')"
      ]
     },
     "execution_count": 14,
     "metadata": {},
     "output_type": "execute_result"
    },
    {
     "data": {
      "image/png": "[encoded data removed]",
      "text/plain": [
       "<Figure size 432x288 with 1 Axes>"
      ]
     },
     "metadata": {
      "needs_background": "light"
     },
     "output_type": "display_data"
    }
   ],
   "source": [
    "time_vector = np.arange(T)*dt+start\n",
    "stim_vector = np.zeros((T,))\n",
    "for flash in range(flashes):\n",
    "    start_bin = int(np.round((stim_table.start_time.iloc[flash]-start)/dt))\n",
    "    stop_bin = int(np.round((stim_table.stop_time.iloc[flash]-start)/dt))\n",
    "    stim_vector[start_bin:stop_bin] = stim_table.color.iloc[flash]\n",
    "plt.plot(time_vector,stim_vector)\n",
    "plt.xlabel('time (s)')\n",
    "plt.ylabel('stimulus')"
   ]
  },
  {
   "cell_type": "markdown",
   "metadata": {},
   "source": [
    "Now let's pick a single neuron and count how many times it spikes in each of these bins"
   ]
  },
  {
   "cell_type": "code",
   "execution_count": 15,
   "metadata": {},
   "outputs": [],
   "source": [
    "unit_id = session.units[session.units.ecephys_structure_acronym=='VISp'].index[2] #Some interesting units: 2,6,12,17\n",
    "# print(unit_id)"
   ]
  },
  {
   "cell_type": "code",
   "execution_count": 16,
   "metadata": {},
   "outputs": [
    {
     "data": {
      "text/plain": [
       "<matplotlib.legend.Legend at 0x7f9a7986e8d0>"
      ]
     },
     "execution_count": 16,
     "metadata": {},
     "output_type": "execute_result"
    },
    {
     "data": {
      "image/png": "[encoded data removed]",
      "text/plain": [
       "<Figure size 432x288 with 1 Axes>"
      ]
     },
     "metadata": {
      "needs_background": "light"
     },
     "output_type": "display_data"
    }
   ],
   "source": [
    "spk_vector = np.zeros_like(stim_vector)\n",
    "for spike_time in session.spike_times[unit_id]:\n",
    "    if (spike_time>start) and (spike_time<stop):\n",
    "        spk_bin = int((spike_time-start)/dt)\n",
    "        spk_vector[spk_bin] += 1   \n",
    "\n",
    "plt.xlabel('time (s)')\n",
    "plt.plot(time_vector,spk_vector,label='spikes')\n",
    "plt.plot(time_vector,stim_vector,label='stimulus')\n",
    "plt.legend()\n"
   ]
  },
  {
   "cell_type": "markdown",
   "metadata": {},
   "source": [
    "Now let's fit a GLM to this data and see what the parameters look like"
   ]
  },
  {
   "cell_type": "code",
   "execution_count": 17,
   "metadata": {},
   "outputs": [
    {
     "name": "stdout",
     "output_type": "stream",
     "text": [
      "estimated offset =  -4.531973990321373  +/-  0.05948847546789154\n"
     ]
    },
    {
     "data": {
      "image/png": "[encoded data removed]",
      "text/plain": [
       "<Figure size 432x288 with 2 Axes>"
      ]
     },
     "metadata": {
      "needs_background": "light"
     },
     "output_type": "display_data"
    }
   ],
   "source": [
    "d = 30 #30*10ms = 300ms, longer than a flash\n",
    "stim_filt_fit, spk_filt_fit, b_fit, stim_se, spk_se, b_se = fit_GLM(stim_vector,spk_vector,d)\n",
    "plt.subplot(2,1,1)\n",
    "plt.errorbar(np.arange(d)*dt,stim_filt_fit,yerr=stim_se,label='estimated')\n",
    "plt.axhline(c='k')\n",
    "# plt.xlabel('time (s)',fontsize=14)\n",
    "plt.ylabel('stimulus filter',fontsize=14)\n",
    "# plt.ylim(-5,25)\n",
    "\n",
    "plt.subplot(2,1,2)\n",
    "plt.errorbar(np.arange(d)*dt,spk_filt_fit,yerr=spk_se,label='estimated')\n",
    "plt.axhline(c='k')\n",
    "plt.ylabel('spike filter',fontsize=14)\n",
    "plt.xlabel('time (s)',fontsize=14)\n",
    "# plt.ylim([-15,3])\n",
    "\n",
    "print('estimated offset = ', b_fit, ' +/- ', b_se)"
   ]
  },
  {
   "cell_type": "code",
   "execution_count": null,
   "metadata": {},
   "outputs": [],
   "source": []
  }
 ],
 "metadata": {
  "anaconda-cloud": {},
  "kernelspec": {
   "display_name": "Custom (python37_allensdk)",
   "language": "python",
   "name": "python37_allensdk"
  },
  "language_info": {
   "codemirror_mode": {
    "name": "ipython",
    "version": 3
   },
   "file_extension": ".py",
   "mimetype": "text/x-python",
   "name": "python",
   "nbconvert_exporter": "python",
   "pygments_lexer": "ipython3",
   "version": "3.7.10"
  }
 },
 "nbformat": 4,
 "nbformat_minor": 2
}
