{
 "cells": [
  {
   "cell_type": "markdown",
   "metadata": {},
   "source": [
    "<img src=\"../../resources/cropped-SummerWorkshop_Header.png\">  \n",
    "\n",
    "<h1 align=\"center\">Brain Observatory - Visual Behavior </h1> \n",
    "<h2 align=\"center\">Summer Workshop on the Dynamic Brain </h2> \n",
    "<h3 align=\"center\">Monday, August 23, 2021</h3> \n"
   ]
  },
  {
   "cell_type": "markdown",
   "metadata": {},
   "source": [
    "<div style=\"border-left: 3px solid #000; padding: 1px; padding-left: 10px; background: #F0FAFF; \">\n",
    "<h2>Visual Behavior Exercises Overview </h2>\n",
    "    \n",
    "<p> This notebook contains exercises covering several topics including behavior performance, single cell physiology and across session analysis.\n",
    "  \n",
    "<p> The exercises can be done in sequential order, or you can skip around to the exercises that interest you most. \n",
    "    \n",
    "<p> If you get stuck, please ask a TA for help, look it up on stackoverflow, or check the solutions notebook. \n",
    "    We dont expect you to know everything already - the goal is to learn, and learning requires making mistakes and asking questions. \n",
    "\n",
    "<h3>Outline </h3>\n",
    "\n",
    "<p><b>Behavior Exercises</b>\n",
    "<ul><li>Exercise 1.1: Plot the distribution of reaction times for go trials from one session\n",
    "    <li>Exercise 1.2: Plot reward rate over time during a session\n",
    "<li>Exercise 1.3: Compute and plot hit rate over time during a session\n",
    "<li>Exercise 1.4: Plot the average hit rate for each image\n",
    "<li>Exercise 1.5: Plot the response probability for all image transitions\n",
    "</ul>\n",
    "<p><b>Single Cell Physiology Exercises</b> - this section requires response_analysis to be in utilities\n",
    "<ul><li>Exercise 2.1: Plot activity across stimulus repetitions using the flash response dataframe\n",
    "<li>Exercise 2.2: Correlate neural activity with running speed on a flash by flash basis\n",
    "<li>Exercise 2.3: Plot the trial averaged response across images for one cell using the trial response dataframe\n",
    "<li>Exercise 2.4: Create a heatmap of all cells' trial averaged responses following an image change\n",
    "<li>Exercise 2.5: Compute a sparseness metric for one cell\n",
    "<li>Exercise 2.6: Identify image responsive cells and the mean lifetime sparseness across the population\n",
    "</ul>\n",
    "<p><b>Across Session Physiology Exercises</b>\n",
    "<ul><li>Exercise 3.1: Follow along to learn some useful pandas tricks for multi session data comparison\n",
    "<li>Exercise 3.2: Compare the activity of matched cells across sessions\n",
    "<li>Exercise 3.3: Merge all the experiments from a single container and plot the mean response for different image sets\n",
    "<li>Exercise 3.4: Plot the trial averaged response for passive vs. active sessions from one container\n",
    "</ul>\n",
    "</div>"
   ]
  },
  {
   "cell_type": "code",
   "execution_count": 1,
   "metadata": {},
   "outputs": [],
   "source": [
    "# you will need these libraries for computation & data manipulation\n",
    "import os\n",
    "import numpy as np\n",
    "import pandas as pd\n",
    "\n",
    "# matplotlib is a standard python visualization package\n",
    "import matplotlib.pyplot as plt\n",
    "%matplotlib inline\n",
    "\n",
    "# seaborn is another library for statistical data visualization\n",
    "# seaborn style & context settings make plots pretty & legible automatically\n",
    "import seaborn as sns\n",
    "sns.set_context('notebook', font_scale=1.5, rc={'lines.markeredgewidth': 2})\n",
    "sns.set_style('white');\n",
    "sns.set_palette('deep');"
   ]
  },
  {
   "cell_type": "code",
   "execution_count": 2,
   "metadata": {},
   "outputs": [],
   "source": [
    "# Import allensdk modules for loading and interacting with the data\n",
    "from allensdk.brain_observatory.behavior.behavior_project_cache import VisualBehaviorOphysProjectCache\n",
    "# Import allensdk utilities for Visual Behavior\n",
    "#import allensdk.brain_observatory.behavior.swdb.utilities as tools"
   ]
  },
  {
   "cell_type": "code",
   "execution_count": 3,
   "metadata": {},
   "outputs": [],
   "source": [
    "# This cell will find the appropriate path to the data based on your platform.\n",
    "# You may need to edit the strings in this cell based on your configuration.\n",
    "\n",
    "import platform\n",
    "platstring = platform.platform()\n",
    "\n",
    "if 'Darwin' in platstring:\n",
    "    # macOS\n",
    "    data_root = \"/Volumes/Brain2019/\"\n",
    "elif 'Windows'  in platstring:\n",
    "    # Windows (replace with the drive letter of the hard drive)\n",
    "    data_root = \"E:/\"\n",
    "elif ('amzn1' in platstring):\n",
    "    # then on AWS\n",
    "    data_root = \"/data/\"\n",
    "else:\n",
    "    # then linux (default here is for Ubuntu - insert your username; your distribution may differ)\n",
    "    data_root = \"/media/$USERNAME/Brain2019\"\n",
    "    \n",
    "cache_path = os.path.join(data_root, 'dynamic-brain-workshop/visual_behavior/2021')"
   ]
  },
  {
   "cell_type": "code",
   "execution_count": 5,
   "metadata": {},
   "outputs": [],
   "source": [
    "data_storage_directory = \"/temp\" # Note: this path must exist on your local drive\n",
    "#cache = VisualBehaviorOphysProjectCache.from_s3_cache(cache_dir=data_storage_directory)\n",
    "cache = VisualBehaviorOphysProjectCache.from_lims()"
   ]
  },
  {
   "cell_type": "markdown",
   "metadata": {},
   "source": [
    "<div style=\"background: #DFF0D8; border-radius: 3px; padding: 10px;\">\n",
    "<p><b>Pick an experiment session based on its <code>cre_line</code>, <code>imaging_depth</code>, <code>session_number</code> and with no <code>prior_exposure_to_session_type</code></b> (aka not a retake of a session)</p>\n",
    "    \n",
    "<p>1) Filter the experiments table according to your metadata of interest and get the <code>ophys_experiment_id</code> for a session of your choosing. </p>\n",
    "    \n",
    "<p>Hint: use pandas Boolean indexing to filter by multiple column values.</p>\n",
    "    \n",
    " __[Documentation for Boolean indexing](https://pandas.pydata.org/pandas-docs/stable/user_guide/indexing.html)__\n",
    "</div>"
   ]
  },
  {
   "cell_type": "code",
   "execution_count": 6,
   "metadata": {},
   "outputs": [],
   "source": [
    "experiments = cache.get_ophys_experiment_table()"
   ]
  },
  {
   "cell_type": "code",
   "execution_count": 7,
   "metadata": {},
   "outputs": [
    {
     "data": {
      "text/html": [
       "<div>\n",
       "<style scoped>\n",
       "    .dataframe tbody tr th:only-of-type {\n",
       "        vertical-align: middle;\n",
       "    }\n",
       "\n",
       "    .dataframe tbody tr th {\n",
       "        vertical-align: top;\n",
       "    }\n",
       "\n",
       "    .dataframe thead th {\n",
       "        text-align: right;\n",
       "    }\n",
       "</style>\n",
       "<table border=\"1\" class=\"dataframe\">\n",
       "  <thead>\n",
       "    <tr style=\"text-align: right;\">\n",
       "      <th></th>\n",
       "      <th>equipment_name</th>\n",
       "      <th>donor_id</th>\n",
       "      <th>full_genotype</th>\n",
       "      <th>mouse_id</th>\n",
       "      <th>reporter_line</th>\n",
       "      <th>driver_line</th>\n",
       "      <th>sex</th>\n",
       "      <th>age_in_days</th>\n",
       "      <th>foraging_id</th>\n",
       "      <th>session_type</th>\n",
       "      <th>...</th>\n",
       "      <th>ophys_container_id</th>\n",
       "      <th>project_code</th>\n",
       "      <th>container_workflow_state</th>\n",
       "      <th>experiment_workflow_state</th>\n",
       "      <th>session_name</th>\n",
       "      <th>isi_experiment_id</th>\n",
       "      <th>imaging_depth</th>\n",
       "      <th>targeted_structure</th>\n",
       "      <th>published_at</th>\n",
       "      <th>date_of_acquisition</th>\n",
       "    </tr>\n",
       "    <tr>\n",
       "      <th>ophys_experiment_id</th>\n",
       "      <th></th>\n",
       "      <th></th>\n",
       "      <th></th>\n",
       "      <th></th>\n",
       "      <th></th>\n",
       "      <th></th>\n",
       "      <th></th>\n",
       "      <th></th>\n",
       "      <th></th>\n",
       "      <th></th>\n",
       "      <th></th>\n",
       "      <th></th>\n",
       "      <th></th>\n",
       "      <th></th>\n",
       "      <th></th>\n",
       "      <th></th>\n",
       "      <th></th>\n",
       "      <th></th>\n",
       "      <th></th>\n",
       "      <th></th>\n",
       "      <th></th>\n",
       "    </tr>\n",
       "  </thead>\n",
       "  <tbody>\n",
       "    <tr>\n",
       "      <th>958527471</th>\n",
       "      <td>MESO.1</td>\n",
       "      <td>850862423</td>\n",
       "      <td>Sst-IRES-Cre/wt;Ai148(TIT2L-GC6f-ICL-tTA2)/wt</td>\n",
       "      <td>457841</td>\n",
       "      <td>Ai148(TIT2L-GC6f-ICL-tTA2)</td>\n",
       "      <td>[Sst-IRES-Cre]</td>\n",
       "      <td>F</td>\n",
       "      <td>210.0</td>\n",
       "      <td>0210d6f7-93f7-4bc1-a622-5c22b1daa11c</td>\n",
       "      <td>OPHYS_3_images_A</td>\n",
       "      <td>...</td>\n",
       "      <td>1018028345</td>\n",
       "      <td>VisualBehaviorMultiscope</td>\n",
       "      <td>published</td>\n",
       "      <td>passed</td>\n",
       "      <td>20190924_457841_3imagesA</td>\n",
       "      <td>858992726</td>\n",
       "      <td>225</td>\n",
       "      <td>VISp</td>\n",
       "      <td>2021-03-25</td>\n",
       "      <td>2019-09-24 16:00:00</td>\n",
       "    </tr>\n",
       "    <tr>\n",
       "      <th>958527477</th>\n",
       "      <td>MESO.1</td>\n",
       "      <td>850862423</td>\n",
       "      <td>Sst-IRES-Cre/wt;Ai148(TIT2L-GC6f-ICL-tTA2)/wt</td>\n",
       "      <td>457841</td>\n",
       "      <td>Ai148(TIT2L-GC6f-ICL-tTA2)</td>\n",
       "      <td>[Sst-IRES-Cre]</td>\n",
       "      <td>F</td>\n",
       "      <td>210.0</td>\n",
       "      <td>0210d6f7-93f7-4bc1-a622-5c22b1daa11c</td>\n",
       "      <td>OPHYS_3_images_A</td>\n",
       "      <td>...</td>\n",
       "      <td>1018028348</td>\n",
       "      <td>VisualBehaviorMultiscope</td>\n",
       "      <td>failed</td>\n",
       "      <td>failed</td>\n",
       "      <td>20190924_457841_3imagesA</td>\n",
       "      <td>858992726</td>\n",
       "      <td>300</td>\n",
       "      <td>VISp</td>\n",
       "      <td>NaT</td>\n",
       "      <td>2019-09-24 16:00:00</td>\n",
       "    </tr>\n",
       "    <tr>\n",
       "      <th>958527474</th>\n",
       "      <td>MESO.1</td>\n",
       "      <td>850862423</td>\n",
       "      <td>Sst-IRES-Cre/wt;Ai148(TIT2L-GC6f-ICL-tTA2)/wt</td>\n",
       "      <td>457841</td>\n",
       "      <td>Ai148(TIT2L-GC6f-ICL-tTA2)</td>\n",
       "      <td>[Sst-IRES-Cre]</td>\n",
       "      <td>F</td>\n",
       "      <td>210.0</td>\n",
       "      <td>0210d6f7-93f7-4bc1-a622-5c22b1daa11c</td>\n",
       "      <td>OPHYS_3_images_A</td>\n",
       "      <td>...</td>\n",
       "      <td>1018028339</td>\n",
       "      <td>VisualBehaviorMultiscope</td>\n",
       "      <td>published</td>\n",
       "      <td>passed</td>\n",
       "      <td>20190924_457841_3imagesA</td>\n",
       "      <td>858992726</td>\n",
       "      <td>75</td>\n",
       "      <td>VISp</td>\n",
       "      <td>2021-03-25</td>\n",
       "      <td>2019-09-24 16:00:00</td>\n",
       "    </tr>\n",
       "    <tr>\n",
       "      <th>958527485</th>\n",
       "      <td>MESO.1</td>\n",
       "      <td>850862423</td>\n",
       "      <td>Sst-IRES-Cre/wt;Ai148(TIT2L-GC6f-ICL-tTA2)/wt</td>\n",
       "      <td>457841</td>\n",
       "      <td>Ai148(TIT2L-GC6f-ICL-tTA2)</td>\n",
       "      <td>[Sst-IRES-Cre]</td>\n",
       "      <td>F</td>\n",
       "      <td>210.0</td>\n",
       "      <td>0210d6f7-93f7-4bc1-a622-5c22b1daa11c</td>\n",
       "      <td>OPHYS_3_images_A</td>\n",
       "      <td>...</td>\n",
       "      <td>1018028351</td>\n",
       "      <td>VisualBehaviorMultiscope</td>\n",
       "      <td>published</td>\n",
       "      <td>passed</td>\n",
       "      <td>20190924_457841_3imagesA</td>\n",
       "      <td>858992726</td>\n",
       "      <td>75</td>\n",
       "      <td>VISl</td>\n",
       "      <td>2021-03-25</td>\n",
       "      <td>2019-09-24 16:00:00</td>\n",
       "    </tr>\n",
       "    <tr>\n",
       "      <th>958527479</th>\n",
       "      <td>MESO.1</td>\n",
       "      <td>850862423</td>\n",
       "      <td>Sst-IRES-Cre/wt;Ai148(TIT2L-GC6f-ICL-tTA2)/wt</td>\n",
       "      <td>457841</td>\n",
       "      <td>Ai148(TIT2L-GC6f-ICL-tTA2)</td>\n",
       "      <td>[Sst-IRES-Cre]</td>\n",
       "      <td>F</td>\n",
       "      <td>210.0</td>\n",
       "      <td>0210d6f7-93f7-4bc1-a622-5c22b1daa11c</td>\n",
       "      <td>OPHYS_3_images_A</td>\n",
       "      <td>...</td>\n",
       "      <td>1018028354</td>\n",
       "      <td>VisualBehaviorMultiscope</td>\n",
       "      <td>published</td>\n",
       "      <td>passed</td>\n",
       "      <td>20190924_457841_3imagesA</td>\n",
       "      <td>858992726</td>\n",
       "      <td>150</td>\n",
       "      <td>VISl</td>\n",
       "      <td>2021-03-25</td>\n",
       "      <td>2019-09-24 16:00:00</td>\n",
       "    </tr>\n",
       "  </tbody>\n",
       "</table>\n",
       "<p>5 rows × 28 columns</p>\n",
       "</div>"
      ],
      "text/plain": [
       "                    equipment_name   donor_id  \\\n",
       "ophys_experiment_id                             \n",
       "958527471                   MESO.1  850862423   \n",
       "958527477                   MESO.1  850862423   \n",
       "958527474                   MESO.1  850862423   \n",
       "958527485                   MESO.1  850862423   \n",
       "958527479                   MESO.1  850862423   \n",
       "\n",
       "                                                     full_genotype mouse_id  \\\n",
       "ophys_experiment_id                                                           \n",
       "958527471            Sst-IRES-Cre/wt;Ai148(TIT2L-GC6f-ICL-tTA2)/wt   457841   \n",
       "958527477            Sst-IRES-Cre/wt;Ai148(TIT2L-GC6f-ICL-tTA2)/wt   457841   \n",
       "958527474            Sst-IRES-Cre/wt;Ai148(TIT2L-GC6f-ICL-tTA2)/wt   457841   \n",
       "958527485            Sst-IRES-Cre/wt;Ai148(TIT2L-GC6f-ICL-tTA2)/wt   457841   \n",
       "958527479            Sst-IRES-Cre/wt;Ai148(TIT2L-GC6f-ICL-tTA2)/wt   457841   \n",
       "\n",
       "                                  reporter_line     driver_line sex  \\\n",
       "ophys_experiment_id                                                   \n",
       "958527471            Ai148(TIT2L-GC6f-ICL-tTA2)  [Sst-IRES-Cre]   F   \n",
       "958527477            Ai148(TIT2L-GC6f-ICL-tTA2)  [Sst-IRES-Cre]   F   \n",
       "958527474            Ai148(TIT2L-GC6f-ICL-tTA2)  [Sst-IRES-Cre]   F   \n",
       "958527485            Ai148(TIT2L-GC6f-ICL-tTA2)  [Sst-IRES-Cre]   F   \n",
       "958527479            Ai148(TIT2L-GC6f-ICL-tTA2)  [Sst-IRES-Cre]   F   \n",
       "\n",
       "                     age_in_days                           foraging_id  \\\n",
       "ophys_experiment_id                                                      \n",
       "958527471                  210.0  0210d6f7-93f7-4bc1-a622-5c22b1daa11c   \n",
       "958527477                  210.0  0210d6f7-93f7-4bc1-a622-5c22b1daa11c   \n",
       "958527474                  210.0  0210d6f7-93f7-4bc1-a622-5c22b1daa11c   \n",
       "958527485                  210.0  0210d6f7-93f7-4bc1-a622-5c22b1daa11c   \n",
       "958527479                  210.0  0210d6f7-93f7-4bc1-a622-5c22b1daa11c   \n",
       "\n",
       "                         session_type  ... ophys_container_id  \\\n",
       "ophys_experiment_id                    ...                      \n",
       "958527471            OPHYS_3_images_A  ...         1018028345   \n",
       "958527477            OPHYS_3_images_A  ...         1018028348   \n",
       "958527474            OPHYS_3_images_A  ...         1018028339   \n",
       "958527485            OPHYS_3_images_A  ...         1018028351   \n",
       "958527479            OPHYS_3_images_A  ...         1018028354   \n",
       "\n",
       "                                 project_code  container_workflow_state  \\\n",
       "ophys_experiment_id                                                       \n",
       "958527471            VisualBehaviorMultiscope                 published   \n",
       "958527477            VisualBehaviorMultiscope                    failed   \n",
       "958527474            VisualBehaviorMultiscope                 published   \n",
       "958527485            VisualBehaviorMultiscope                 published   \n",
       "958527479            VisualBehaviorMultiscope                 published   \n",
       "\n",
       "                     experiment_workflow_state              session_name  \\\n",
       "ophys_experiment_id                                                        \n",
       "958527471                               passed  20190924_457841_3imagesA   \n",
       "958527477                               failed  20190924_457841_3imagesA   \n",
       "958527474                               passed  20190924_457841_3imagesA   \n",
       "958527485                               passed  20190924_457841_3imagesA   \n",
       "958527479                               passed  20190924_457841_3imagesA   \n",
       "\n",
       "                     isi_experiment_id  imaging_depth  targeted_structure  \\\n",
       "ophys_experiment_id                                                         \n",
       "958527471                    858992726            225                VISp   \n",
       "958527477                    858992726            300                VISp   \n",
       "958527474                    858992726             75                VISp   \n",
       "958527485                    858992726             75                VISl   \n",
       "958527479                    858992726            150                VISl   \n",
       "\n",
       "                     published_at date_of_acquisition  \n",
       "ophys_experiment_id                                    \n",
       "958527471              2021-03-25 2019-09-24 16:00:00  \n",
       "958527477                     NaT 2019-09-24 16:00:00  \n",
       "958527474              2021-03-25 2019-09-24 16:00:00  \n",
       "958527485              2021-03-25 2019-09-24 16:00:00  \n",
       "958527479              2021-03-25 2019-09-24 16:00:00  \n",
       "\n",
       "[5 rows x 28 columns]"
      ]
     },
     "execution_count": 7,
     "metadata": {},
     "output_type": "execute_result"
    }
   ],
   "source": [
    "experiments.head()"
   ]
  },
  {
   "cell_type": "code",
   "execution_count": 8,
   "metadata": {},
   "outputs": [
    {
     "data": {
      "text/html": [
       "<div>\n",
       "<style scoped>\n",
       "    .dataframe tbody tr th:only-of-type {\n",
       "        vertical-align: middle;\n",
       "    }\n",
       "\n",
       "    .dataframe tbody tr th {\n",
       "        vertical-align: top;\n",
       "    }\n",
       "\n",
       "    .dataframe thead th {\n",
       "        text-align: right;\n",
       "    }\n",
       "</style>\n",
       "<table border=\"1\" class=\"dataframe\">\n",
       "  <thead>\n",
       "    <tr style=\"text-align: right;\">\n",
       "      <th></th>\n",
       "      <th>equipment_name</th>\n",
       "      <th>donor_id</th>\n",
       "      <th>full_genotype</th>\n",
       "      <th>mouse_id</th>\n",
       "      <th>reporter_line</th>\n",
       "      <th>driver_line</th>\n",
       "      <th>sex</th>\n",
       "      <th>age_in_days</th>\n",
       "      <th>foraging_id</th>\n",
       "      <th>session_type</th>\n",
       "      <th>...</th>\n",
       "      <th>ophys_container_id</th>\n",
       "      <th>project_code</th>\n",
       "      <th>container_workflow_state</th>\n",
       "      <th>experiment_workflow_state</th>\n",
       "      <th>session_name</th>\n",
       "      <th>isi_experiment_id</th>\n",
       "      <th>imaging_depth</th>\n",
       "      <th>targeted_structure</th>\n",
       "      <th>published_at</th>\n",
       "      <th>date_of_acquisition</th>\n",
       "    </tr>\n",
       "    <tr>\n",
       "      <th>ophys_experiment_id</th>\n",
       "      <th></th>\n",
       "      <th></th>\n",
       "      <th></th>\n",
       "      <th></th>\n",
       "      <th></th>\n",
       "      <th></th>\n",
       "      <th></th>\n",
       "      <th></th>\n",
       "      <th></th>\n",
       "      <th></th>\n",
       "      <th></th>\n",
       "      <th></th>\n",
       "      <th></th>\n",
       "      <th></th>\n",
       "      <th></th>\n",
       "      <th></th>\n",
       "      <th></th>\n",
       "      <th></th>\n",
       "      <th></th>\n",
       "      <th></th>\n",
       "      <th></th>\n",
       "    </tr>\n",
       "  </thead>\n",
       "  <tbody>\n",
       "    <tr>\n",
       "      <th>795953296</th>\n",
       "      <td>CAM2P.4</td>\n",
       "      <td>744911447</td>\n",
       "      <td>Vip-IRES-Cre/wt;Ai148(TIT2L-GC6f-ICL-tTA2)/wt</td>\n",
       "      <td>412036</td>\n",
       "      <td>Ai148(TIT2L-GC6f-ICL-tTA2)</td>\n",
       "      <td>[Vip-IRES-Cre]</td>\n",
       "      <td>F</td>\n",
       "      <td>152.0</td>\n",
       "      <td>7b725c5e-e68b-4bf5-a6d2-2a9879ca729b</td>\n",
       "      <td>OPHYS_4_images_B</td>\n",
       "      <td>...</td>\n",
       "      <td>791352433</td>\n",
       "      <td>VisualBehavior</td>\n",
       "      <td>published</td>\n",
       "      <td>passed</td>\n",
       "      <td>20181214_412036_4imagesB</td>\n",
       "      <td>754116317</td>\n",
       "      <td>175</td>\n",
       "      <td>VISp</td>\n",
       "      <td>2021-03-25</td>\n",
       "      <td>2018-12-14 20:17:05.000000</td>\n",
       "    </tr>\n",
       "    <tr>\n",
       "      <th>830093338</th>\n",
       "      <td>CAM2P.4</td>\n",
       "      <td>791756316</td>\n",
       "      <td>Vip-IRES-Cre/wt;Ai148(TIT2L-GC6f-ICL-tTA2)/wt</td>\n",
       "      <td>429952</td>\n",
       "      <td>Ai148(TIT2L-GC6f-ICL-tTA2)</td>\n",
       "      <td>[Vip-IRES-Cre]</td>\n",
       "      <td>M</td>\n",
       "      <td>138.0</td>\n",
       "      <td>45b8639c-e529-41ec-8963-c78fac2dc6c5</td>\n",
       "      <td>OPHYS_4_images_B</td>\n",
       "      <td>...</td>\n",
       "      <td>825183217</td>\n",
       "      <td>VisualBehavior</td>\n",
       "      <td>published</td>\n",
       "      <td>passed</td>\n",
       "      <td>20190227_429952_4imagesB</td>\n",
       "      <td>802841369</td>\n",
       "      <td>175</td>\n",
       "      <td>VISp</td>\n",
       "      <td>2021-03-25</td>\n",
       "      <td>2019-02-27 16:09:43.000000</td>\n",
       "    </tr>\n",
       "    <tr>\n",
       "      <th>935426822</th>\n",
       "      <td>CAM2P.3</td>\n",
       "      <td>879064131</td>\n",
       "      <td>Vip-IRES-Cre/wt;Ai148(TIT2L-GC6f-ICL-tTA2)/wt</td>\n",
       "      <td>467951</td>\n",
       "      <td>Ai148(TIT2L-GC6f-ICL-tTA2)</td>\n",
       "      <td>[Vip-IRES-Cre]</td>\n",
       "      <td>M</td>\n",
       "      <td>135.0</td>\n",
       "      <td>db87c2a1-ea6d-4356-b044-6decb73be2d4</td>\n",
       "      <td>OPHYS_4_images_A</td>\n",
       "      <td>...</td>\n",
       "      <td>928325203</td>\n",
       "      <td>VisualBehaviorTask1B</td>\n",
       "      <td>published</td>\n",
       "      <td>failed</td>\n",
       "      <td>20190829_467951_4imagesA</td>\n",
       "      <td>888237949</td>\n",
       "      <td>175</td>\n",
       "      <td>VISp</td>\n",
       "      <td>2021-03-25</td>\n",
       "      <td>2019-08-29 17:37:55.000000</td>\n",
       "    </tr>\n",
       "    <tr>\n",
       "      <th>1010556655</th>\n",
       "      <td>MESO.1</td>\n",
       "      <td>990779712</td>\n",
       "      <td>Vip-IRES-Cre/wt;Ai148(TIT2L-GC6f-ICL-tTA2)/wt</td>\n",
       "      <td>499478</td>\n",
       "      <td>Ai148(TIT2L-GC6f-ICL-tTA2)</td>\n",
       "      <td>[Vip-IRES-Cre]</td>\n",
       "      <td>F</td>\n",
       "      <td>142.0</td>\n",
       "      <td>d4e7b1c5-969e-45b8-a8df-fb5646b29ab8</td>\n",
       "      <td>OPHYS_4_images_H</td>\n",
       "      <td>...</td>\n",
       "      <td>1018027809</td>\n",
       "      <td>VisualBehaviorMultiscope4areasx2d</td>\n",
       "      <td>published</td>\n",
       "      <td>passed</td>\n",
       "      <td>20200226_499478_4imagesH</td>\n",
       "      <td>994736136</td>\n",
       "      <td>175</td>\n",
       "      <td>VISal</td>\n",
       "      <td>2021-08-12</td>\n",
       "      <td>2020-02-26 08:55:03.479109</td>\n",
       "    </tr>\n",
       "    <tr>\n",
       "      <th>968651977</th>\n",
       "      <td>CAM2P.4</td>\n",
       "      <td>880255009</td>\n",
       "      <td>Vip-IRES-Cre/wt;Ai148(TIT2L-GC6f-ICL-tTA2)/wt</td>\n",
       "      <td>467953</td>\n",
       "      <td>Ai148(TIT2L-GC6f-ICL-tTA2)</td>\n",
       "      <td>[Vip-IRES-Cre]</td>\n",
       "      <td>M</td>\n",
       "      <td>183.0</td>\n",
       "      <td>9a74ba11-c701-48cc-a7fb-b179cec788b5</td>\n",
       "      <td>OPHYS_4_images_A</td>\n",
       "      <td>...</td>\n",
       "      <td>957570596</td>\n",
       "      <td>VisualBehaviorTask1B</td>\n",
       "      <td>published</td>\n",
       "      <td>passed</td>\n",
       "      <td>20191016_467953_4imagesA</td>\n",
       "      <td>888943558</td>\n",
       "      <td>175</td>\n",
       "      <td>VISp</td>\n",
       "      <td>2021-03-25</td>\n",
       "      <td>2019-10-16 15:28:20.000000</td>\n",
       "    </tr>\n",
       "  </tbody>\n",
       "</table>\n",
       "<p>5 rows × 28 columns</p>\n",
       "</div>"
      ],
      "text/plain": [
       "                    equipment_name   donor_id  \\\n",
       "ophys_experiment_id                             \n",
       "795953296                  CAM2P.4  744911447   \n",
       "830093338                  CAM2P.4  791756316   \n",
       "935426822                  CAM2P.3  879064131   \n",
       "1010556655                  MESO.1  990779712   \n",
       "968651977                  CAM2P.4  880255009   \n",
       "\n",
       "                                                     full_genotype mouse_id  \\\n",
       "ophys_experiment_id                                                           \n",
       "795953296            Vip-IRES-Cre/wt;Ai148(TIT2L-GC6f-ICL-tTA2)/wt   412036   \n",
       "830093338            Vip-IRES-Cre/wt;Ai148(TIT2L-GC6f-ICL-tTA2)/wt   429952   \n",
       "935426822            Vip-IRES-Cre/wt;Ai148(TIT2L-GC6f-ICL-tTA2)/wt   467951   \n",
       "1010556655           Vip-IRES-Cre/wt;Ai148(TIT2L-GC6f-ICL-tTA2)/wt   499478   \n",
       "968651977            Vip-IRES-Cre/wt;Ai148(TIT2L-GC6f-ICL-tTA2)/wt   467953   \n",
       "\n",
       "                                  reporter_line     driver_line sex  \\\n",
       "ophys_experiment_id                                                   \n",
       "795953296            Ai148(TIT2L-GC6f-ICL-tTA2)  [Vip-IRES-Cre]   F   \n",
       "830093338            Ai148(TIT2L-GC6f-ICL-tTA2)  [Vip-IRES-Cre]   M   \n",
       "935426822            Ai148(TIT2L-GC6f-ICL-tTA2)  [Vip-IRES-Cre]   M   \n",
       "1010556655           Ai148(TIT2L-GC6f-ICL-tTA2)  [Vip-IRES-Cre]   F   \n",
       "968651977            Ai148(TIT2L-GC6f-ICL-tTA2)  [Vip-IRES-Cre]   M   \n",
       "\n",
       "                     age_in_days                           foraging_id  \\\n",
       "ophys_experiment_id                                                      \n",
       "795953296                  152.0  7b725c5e-e68b-4bf5-a6d2-2a9879ca729b   \n",
       "830093338                  138.0  45b8639c-e529-41ec-8963-c78fac2dc6c5   \n",
       "935426822                  135.0  db87c2a1-ea6d-4356-b044-6decb73be2d4   \n",
       "1010556655                 142.0  d4e7b1c5-969e-45b8-a8df-fb5646b29ab8   \n",
       "968651977                  183.0  9a74ba11-c701-48cc-a7fb-b179cec788b5   \n",
       "\n",
       "                         session_type  ... ophys_container_id  \\\n",
       "ophys_experiment_id                    ...                      \n",
       "795953296            OPHYS_4_images_B  ...          791352433   \n",
       "830093338            OPHYS_4_images_B  ...          825183217   \n",
       "935426822            OPHYS_4_images_A  ...          928325203   \n",
       "1010556655           OPHYS_4_images_H  ...         1018027809   \n",
       "968651977            OPHYS_4_images_A  ...          957570596   \n",
       "\n",
       "                                          project_code  \\\n",
       "ophys_experiment_id                                      \n",
       "795953296                               VisualBehavior   \n",
       "830093338                               VisualBehavior   \n",
       "935426822                         VisualBehaviorTask1B   \n",
       "1010556655           VisualBehaviorMultiscope4areasx2d   \n",
       "968651977                         VisualBehaviorTask1B   \n",
       "\n",
       "                     container_workflow_state  experiment_workflow_state  \\\n",
       "ophys_experiment_id                                                        \n",
       "795953296                           published                     passed   \n",
       "830093338                           published                     passed   \n",
       "935426822                           published                     failed   \n",
       "1010556655                          published                     passed   \n",
       "968651977                           published                     passed   \n",
       "\n",
       "                                 session_name  isi_experiment_id  \\\n",
       "ophys_experiment_id                                                \n",
       "795953296            20181214_412036_4imagesB          754116317   \n",
       "830093338            20190227_429952_4imagesB          802841369   \n",
       "935426822            20190829_467951_4imagesA          888237949   \n",
       "1010556655           20200226_499478_4imagesH          994736136   \n",
       "968651977            20191016_467953_4imagesA          888943558   \n",
       "\n",
       "                     imaging_depth  targeted_structure  published_at  \\\n",
       "ophys_experiment_id                                                    \n",
       "795953296                      175                VISp    2021-03-25   \n",
       "830093338                      175                VISp    2021-03-25   \n",
       "935426822                      175                VISp    2021-03-25   \n",
       "1010556655                     175               VISal    2021-08-12   \n",
       "968651977                      175                VISp    2021-03-25   \n",
       "\n",
       "                           date_of_acquisition  \n",
       "ophys_experiment_id                             \n",
       "795953296           2018-12-14 20:17:05.000000  \n",
       "830093338           2019-02-27 16:09:43.000000  \n",
       "935426822           2019-08-29 17:37:55.000000  \n",
       "1010556655          2020-02-26 08:55:03.479109  \n",
       "968651977           2019-10-16 15:28:20.000000  \n",
       "\n",
       "[5 rows x 28 columns]"
      ]
     },
     "execution_count": 8,
     "metadata": {},
     "output_type": "execute_result"
    }
   ],
   "source": [
    "selected_experiments = experiments[(experiments.cre_line == 'Vip-IRES-Cre') &\n",
    "                                   (experiments.imaging_depth == 175) & \n",
    "                                   (experiments.session_number == 4) &\n",
    "                                   (experiments.prior_exposures_to_session_type == 0)]\n",
    "selected_experiments.head()"
   ]
  },
  {
   "cell_type": "code",
   "execution_count": 9,
   "metadata": {},
   "outputs": [],
   "source": [
    "experiment_id = selected_experiments.index.values[0]"
   ]
  },
  {
   "cell_type": "markdown",
   "metadata": {},
   "source": [
    "<div style=\"background: #DFF0D8; border-radius: 3px; padding: 10px;\">\n",
    "<p>Load the experiment object for your experiment\n",
    "\n",
    "</div>"
   ]
  },
  {
   "cell_type": "code",
   "execution_count": 23,
   "metadata": {},
   "outputs": [],
   "source": [
    "ophys_experiment = cache.get_behavior_ophys_experiment(experiment_id)"
   ]
  },
  {
   "cell_type": "markdown",
   "metadata": {},
   "source": [
    "<div style=\"border-left: 3px solid #000; padding: 1px; padding-left: 10px; background: #F0FAFF; \">\n",
    "<h2>Behavior Exercises</h2>\n",
    "\n",
    "<p> This set of exercises explores basic behavior metrics, using the 'trials' dataframe. The 'trials' dataframe is organized around the times of stimulus identity changes (go trials) and sham change times (catch trials). It contains data and metadata for each trial, including lick times, reward times, and image identity.\n",
    "    \n",
    "</div>"
   ]
  },
  {
   "cell_type": "markdown",
   "metadata": {},
   "source": [
    "<div style=\"background: #DFF0D8; border-radius: 3px; padding: 10px;\">\n",
    "<p><b>Exercise 1.1: Plot the distribution of reaction times for go trials from one session</b>\n",
    "\n",
    "<p> 1) get the <code>trials</code> dataframe from the session object. \n",
    "    \n",
    "<p> 2) Filter the trials dataframe to get go trials only. \n",
    "    \n",
    "<p> 3) Use the values of the <code>response_latency</code> column to plot a histogram of reaction times. \n",
    "    \n",
    "<p> <code>response_latency</code> is the first lick time, in seconds, relative to the change time. \n",
    "    \n",
    "</div>"
   ]
  },
  {
   "cell_type": "code",
   "execution_count": 20,
   "metadata": {},
   "outputs": [
    {
     "data": {
      "text/html": [
       "<div>\n",
       "<style scoped>\n",
       "    .dataframe tbody tr th:only-of-type {\n",
       "        vertical-align: middle;\n",
       "    }\n",
       "\n",
       "    .dataframe tbody tr th {\n",
       "        vertical-align: top;\n",
       "    }\n",
       "\n",
       "    .dataframe thead th {\n",
       "        text-align: right;\n",
       "    }\n",
       "</style>\n",
       "<table border=\"1\" class=\"dataframe\">\n",
       "  <thead>\n",
       "    <tr style=\"text-align: right;\">\n",
       "      <th></th>\n",
       "      <th>lick_times</th>\n",
       "      <th>reward_time</th>\n",
       "      <th>reward_volume</th>\n",
       "      <th>hit</th>\n",
       "      <th>false_alarm</th>\n",
       "      <th>miss</th>\n",
       "      <th>stimulus_change</th>\n",
       "      <th>aborted</th>\n",
       "      <th>go</th>\n",
       "      <th>catch</th>\n",
       "      <th>...</th>\n",
       "      <th>correct_reject</th>\n",
       "      <th>start_time</th>\n",
       "      <th>stop_time</th>\n",
       "      <th>trial_length</th>\n",
       "      <th>response_time</th>\n",
       "      <th>change_frame</th>\n",
       "      <th>change_time</th>\n",
       "      <th>response_latency</th>\n",
       "      <th>initial_image_name</th>\n",
       "      <th>change_image_name</th>\n",
       "    </tr>\n",
       "    <tr>\n",
       "      <th>trials_id</th>\n",
       "      <th></th>\n",
       "      <th></th>\n",
       "      <th></th>\n",
       "      <th></th>\n",
       "      <th></th>\n",
       "      <th></th>\n",
       "      <th></th>\n",
       "      <th></th>\n",
       "      <th></th>\n",
       "      <th></th>\n",
       "      <th></th>\n",
       "      <th></th>\n",
       "      <th></th>\n",
       "      <th></th>\n",
       "      <th></th>\n",
       "      <th></th>\n",
       "      <th></th>\n",
       "      <th></th>\n",
       "      <th></th>\n",
       "      <th></th>\n",
       "      <th></th>\n",
       "    </tr>\n",
       "  </thead>\n",
       "  <tbody>\n",
       "    <tr>\n",
       "      <th>687</th>\n",
       "      <td>[]</td>\n",
       "      <td>NaN</td>\n",
       "      <td>0.0</td>\n",
       "      <td>False</td>\n",
       "      <td>False</td>\n",
       "      <td>True</td>\n",
       "      <td>True</td>\n",
       "      <td>False</td>\n",
       "      <td>True</td>\n",
       "      <td>False</td>\n",
       "      <td>...</td>\n",
       "      <td>False</td>\n",
       "      <td>3866.36363</td>\n",
       "      <td>3874.37003</td>\n",
       "      <td>8.00640</td>\n",
       "      <td>NaN</td>\n",
       "      <td>231597.0</td>\n",
       "      <td>3870.137861</td>\n",
       "      <td>inf</td>\n",
       "      <td>im054</td>\n",
       "      <td>im045</td>\n",
       "    </tr>\n",
       "    <tr>\n",
       "      <th>688</th>\n",
       "      <td>[]</td>\n",
       "      <td>NaN</td>\n",
       "      <td>0.0</td>\n",
       "      <td>False</td>\n",
       "      <td>False</td>\n",
       "      <td>True</td>\n",
       "      <td>True</td>\n",
       "      <td>False</td>\n",
       "      <td>True</td>\n",
       "      <td>False</td>\n",
       "      <td>...</td>\n",
       "      <td>False</td>\n",
       "      <td>3874.62042</td>\n",
       "      <td>3881.87591</td>\n",
       "      <td>7.25549</td>\n",
       "      <td>NaN</td>\n",
       "      <td>232047.0</td>\n",
       "      <td>3877.643651</td>\n",
       "      <td>inf</td>\n",
       "      <td>im045</td>\n",
       "      <td>im031</td>\n",
       "    </tr>\n",
       "    <tr>\n",
       "      <th>689</th>\n",
       "      <td>[]</td>\n",
       "      <td>NaN</td>\n",
       "      <td>0.0</td>\n",
       "      <td>False</td>\n",
       "      <td>False</td>\n",
       "      <td>True</td>\n",
       "      <td>True</td>\n",
       "      <td>False</td>\n",
       "      <td>True</td>\n",
       "      <td>False</td>\n",
       "      <td>...</td>\n",
       "      <td>False</td>\n",
       "      <td>3882.12612</td>\n",
       "      <td>3890.88339</td>\n",
       "      <td>8.75727</td>\n",
       "      <td>NaN</td>\n",
       "      <td>232587.0</td>\n",
       "      <td>3886.650991</td>\n",
       "      <td>inf</td>\n",
       "      <td>im031</td>\n",
       "      <td>im035</td>\n",
       "    </tr>\n",
       "    <tr>\n",
       "      <th>690</th>\n",
       "      <td>[]</td>\n",
       "      <td>NaN</td>\n",
       "      <td>0.0</td>\n",
       "      <td>False</td>\n",
       "      <td>False</td>\n",
       "      <td>False</td>\n",
       "      <td>False</td>\n",
       "      <td>False</td>\n",
       "      <td>False</td>\n",
       "      <td>True</td>\n",
       "      <td>...</td>\n",
       "      <td>True</td>\n",
       "      <td>3891.13345</td>\n",
       "      <td>3899.13998</td>\n",
       "      <td>8.00653</td>\n",
       "      <td>NaN</td>\n",
       "      <td>233082.0</td>\n",
       "      <td>3894.907701</td>\n",
       "      <td>inf</td>\n",
       "      <td>im035</td>\n",
       "      <td>im035</td>\n",
       "    </tr>\n",
       "    <tr>\n",
       "      <th>691</th>\n",
       "      <td>[]</td>\n",
       "      <td>NaN</td>\n",
       "      <td>0.0</td>\n",
       "      <td>False</td>\n",
       "      <td>False</td>\n",
       "      <td>True</td>\n",
       "      <td>True</td>\n",
       "      <td>False</td>\n",
       "      <td>True</td>\n",
       "      <td>False</td>\n",
       "      <td>...</td>\n",
       "      <td>False</td>\n",
       "      <td>3899.39020</td>\n",
       "      <td>3911.90046</td>\n",
       "      <td>12.51026</td>\n",
       "      <td>NaN</td>\n",
       "      <td>233847.0</td>\n",
       "      <td>3907.668131</td>\n",
       "      <td>inf</td>\n",
       "      <td>im035</td>\n",
       "      <td>im106</td>\n",
       "    </tr>\n",
       "  </tbody>\n",
       "</table>\n",
       "<p>5 rows × 21 columns</p>\n",
       "</div>"
      ],
      "text/plain": [
       "          lick_times  reward_time  reward_volume    hit  false_alarm   miss  \\\n",
       "trials_id                                                                     \n",
       "687               []          NaN            0.0  False        False   True   \n",
       "688               []          NaN            0.0  False        False   True   \n",
       "689               []          NaN            0.0  False        False   True   \n",
       "690               []          NaN            0.0  False        False  False   \n",
       "691               []          NaN            0.0  False        False   True   \n",
       "\n",
       "           stimulus_change  aborted     go  catch  ...  correct_reject  \\\n",
       "trials_id                                          ...                   \n",
       "687                   True    False   True  False  ...           False   \n",
       "688                   True    False   True  False  ...           False   \n",
       "689                   True    False   True  False  ...           False   \n",
       "690                  False    False  False   True  ...            True   \n",
       "691                   True    False   True  False  ...           False   \n",
       "\n",
       "           start_time   stop_time  trial_length  response_time  change_frame  \\\n",
       "trials_id                                                                      \n",
       "687        3866.36363  3874.37003       8.00640            NaN      231597.0   \n",
       "688        3874.62042  3881.87591       7.25549            NaN      232047.0   \n",
       "689        3882.12612  3890.88339       8.75727            NaN      232587.0   \n",
       "690        3891.13345  3899.13998       8.00653            NaN      233082.0   \n",
       "691        3899.39020  3911.90046      12.51026            NaN      233847.0   \n",
       "\n",
       "           change_time  response_latency  initial_image_name change_image_name  \n",
       "trials_id                                                                       \n",
       "687        3870.137861               inf               im054             im045  \n",
       "688        3877.643651               inf               im045             im031  \n",
       "689        3886.650991               inf               im031             im035  \n",
       "690        3894.907701               inf               im035             im035  \n",
       "691        3907.668131               inf               im035             im106  \n",
       "\n",
       "[5 rows x 21 columns]"
      ]
     },
     "execution_count": 20,
     "metadata": {},
     "output_type": "execute_result"
    }
   ],
   "source": [
    "# copy trials df\n",
    "trials_df = ophys_experiment.trials.copy()\n",
    "# display columns of trials df\n",
    "trials_df.tail()"
   ]
  },
  {
   "cell_type": "code",
   "execution_count": 24,
   "metadata": {},
   "outputs": [
    {
     "data": {
      "text/plain": [
       "Index(['lick_times', 'reward_time', 'reward_volume', 'hit', 'false_alarm',\n",
       "       'miss', 'stimulus_change', 'aborted', 'go', 'catch', 'auto_rewarded',\n",
       "       'correct_reject', 'start_time', 'stop_time', 'trial_length',\n",
       "       'response_time', 'change_frame', 'change_time', 'response_latency',\n",
       "       'initial_image_name', 'change_image_name'],\n",
       "      dtype='object')"
      ]
     },
     "execution_count": 24,
     "metadata": {},
     "output_type": "execute_result"
    }
   ],
   "source": [
    "trials_df.keys()"
   ]
  },
  {
   "cell_type": "markdown",
   "metadata": {},
   "source": [
    "`trials_df` contains many columns:\n",
    "* `lick_times` -  if the animal licked during a trial, timestamps of licks in seconds\n",
    "* `reward_time` - if the animal was rewarded during a trial, timestamps of reward in seconds\n",
    "* `reward_volumn` - volume of water disposed if rewarded, in ml\n",
    "* `hit` - if it was a hit trial, meaning a go trial that animal got correctly\n",
    "* `false_alarm` - if it was a false alarm trial, meaning a no-go trial when animal licked\n",
    "* `miss` - if it was a miss trial, a go trial but animal did not lick\n",
    "* `stimulus_change` if the stimulus changed on this trial\n",
    "* `aborted` - if the animal licked too quickly when the trials started, the trial was aborted\n",
    "* `go` - if it was a go trials, True or False\n",
    "* `catch` - if it was a catch trial, True or False (catch trial is a trial that would have been a go, but the image did not change\n",
    "* `auto_rewarded` - if the trial was autorewarded; the first 5 go trials in the session are autorewarded to prime the animals for the task\n",
    "* `correct_reject` - if the trial was a catch trial and the animal did not lick\n",
    "* `start_time`\n",
    "* `stop_time`\n",
    "* `trial_length`\n",
    "* `response_time`\n",
    "* `change_frame`\n",
    "* `change_time`\n",
    "* `response_latency`\n",
    "* `initial_image_name`\n",
    "* `change_image_name`\n"
   ]
  },
  {
   "cell_type": "code",
   "execution_count": 26,
   "metadata": {},
   "outputs": [
    {
     "data": {
      "text/plain": [
       "trials_id\n",
       "3           inf\n",
       "5      0.779499\n",
       "6           inf\n",
       "8      0.612649\n",
       "10     1.029649\n",
       "         ...   \n",
       "685         inf\n",
       "687         inf\n",
       "688         inf\n",
       "689         inf\n",
       "691         inf\n",
       "Name: response_latency, Length: 214, dtype: float64"
      ]
     },
     "execution_count": 26,
     "metadata": {},
     "output_type": "execute_result"
    }
   ],
   "source": [
    "# display values in response latency column for go trials\n",
    "trials_df[trials_df['go']==True].response_latency"
   ]
  },
  {
   "cell_type": "markdown",
   "metadata": {},
   "source": [
    "***Note***:\n",
    "`go` trials during which the animals did not respond have `inf` as a reponse latency value. This can be an inssue for plotting, because many functions expect finate values. We can replace `inf` with `NaN`."
   ]
  },
  {
   "cell_type": "code",
   "execution_count": 27,
   "metadata": {},
   "outputs": [],
   "source": [
    "# replace 'inf' with 'NaN'\n",
    "trials_df['response_latency'].replace(to_replace=np.inf, value=np.nan, inplace=True)"
   ]
  },
  {
   "cell_type": "code",
   "execution_count": 28,
   "metadata": {},
   "outputs": [
    {
     "data": {
      "text/plain": [
       "trials_id\n",
       "3           NaN\n",
       "5      0.779499\n",
       "6           NaN\n",
       "8      0.612649\n",
       "10     1.029649\n",
       "         ...   \n",
       "685         NaN\n",
       "687         NaN\n",
       "688         NaN\n",
       "689         NaN\n",
       "691         NaN\n",
       "Name: response_latency, Length: 214, dtype: float64"
      ]
     },
     "execution_count": 28,
     "metadata": {},
     "output_type": "execute_result"
    }
   ],
   "source": [
    "trials_df[trials_df['go']==True]['response_latency']"
   ]
  },
  {
   "cell_type": "code",
   "execution_count": 29,
   "metadata": {},
   "outputs": [
    {
     "name": "stderr",
     "output_type": "stream",
     "text": [
      "C:\\Users\\iryna.yavorska\\Anaconda3\\envs\\neuromatch\\lib\\site-packages\\numpy\\lib\\histograms.py:839: RuntimeWarning: invalid value encountered in greater_equal\n",
      "  keep = (tmp_a >= first_edge)\n",
      "C:\\Users\\iryna.yavorska\\Anaconda3\\envs\\neuromatch\\lib\\site-packages\\numpy\\lib\\histograms.py:840: RuntimeWarning: invalid value encountered in less_equal\n",
      "  keep &= (tmp_a <= last_edge)\n"
     ]
    },
    {
     "data": {
      "text/plain": [
       "Text(0.5, 0, 'time after change (sec)')"
      ]
     },
     "execution_count": 29,
     "metadata": {},
     "output_type": "execute_result"
    },
    {
     "data": {
      "image/png": "[encoded data removed]",
      "text/plain": [
       "<Figure size 432x288 with 1 Axes>"
      ]
     },
     "metadata": {},
     "output_type": "display_data"
    }
   ],
   "source": [
    "# plot histogram of response latencies\n",
    "plt.hist(trials_df[trials_df['go']==True].response_latency.values, bins=50);\n",
    "plt.ylabel('count')\n",
    "plt.xlabel('time after change (sec)')"
   ]
  },
  {
   "cell_type": "markdown",
   "metadata": {},
   "source": [
    "<div style=\"background: #DFF0D8; border-radius: 3px; padding: 10px;\">\n",
    "<p><b>Exercise 1.2: Plot reward volumn over time during a session</b>\n",
    "\n",
    "<p> 1) Use <code>calculate_reward_rate</code> in AllenSDK's <code>trial_processing</code> module to create a column <code>reward_rate</code> and <code>change_time</code> columns of the trials dataframe to plot reward rate over time. \n",
    "   \n",
    "<p> Was the mouse actively performing the task and earning rewards during the entire session? \n",
    "    \n",
    "</div>"
   ]
  },
  {
   "cell_type": "code",
   "execution_count": 30,
   "metadata": {},
   "outputs": [],
   "source": [
    "from allensdk.brain_observatory.behavior.trials_processing import calculate_reward_rate"
   ]
  },
  {
   "cell_type": "code",
   "execution_count": 32,
   "metadata": {},
   "outputs": [],
   "source": [
    "trials_df['reward_rate'] = calculate_reward_rate(trials_df.response_latency.values, \n",
    "                                              trials_df.start_time, window = 1.5)"
   ]
  },
  {
   "cell_type": "code",
   "execution_count": 33,
   "metadata": {},
   "outputs": [
    {
     "data": {
      "image/png": "[encoded data removed]",
      "text/plain": [
       "<Figure size 432x288 with 1 Axes>"
      ]
     },
     "metadata": {},
     "output_type": "display_data"
    }
   ],
   "source": [
    "plt.plot(trials_df.change_time, trials_df.reward_rate)\n",
    "plt.xlabel('time in session (sec)');\n",
    "plt.ylabel('reward rate (rewards/min)');"
   ]
  },
  {
   "cell_type": "markdown",
   "metadata": {},
   "source": [
    "<div style=\"background: #DFF0D8; border-radius: 3px; padding: 10px;\">\n",
    "<p><b>Exercise 1.3: Compute and plot hit rate over time during a session</b>\n",
    "\n",
    "<p> 1) Filter the trials dataframe to get the <code>hit</code> column for <code>go</code> trials only. Assign this to a new variable called <code>go_responses</code> for further computation. Note: Make sure that you get <code>go_responses</code> as a pandas series, without calling <code>.values</code>, so that the next step will work properly. \n",
    "    \n",
    "<p> The <code>hit</code> column of the trials dataframe contains <i>True</i> for all trials where there was a licking response within the 750ms reward window and <i>False</i> where there was not. \n",
    "\n",
    "<p> 2) Apply the pandas <code>rolling()</code> method to <code>go_responses</code> followed by <code>.mean()</code> to take a rolling mean across go trials. Set <code>window = 25, center = True</code> in the call to <code>rolling()</code> for a centered window over 25 trials. Set the output of this step to a variable called <code>rolling_hit_rate</code>. \n",
    "\n",
    " __[Documentation for pandas.rolling()](https://pandas.pydata.org/pandas-docs/stable/reference/api/pandas.DataFrame.rolling.html)__\n",
    "       \n",
    "</div>"
   ]
  },
  {
   "cell_type": "code",
   "execution_count": 34,
   "metadata": {},
   "outputs": [
    {
     "data": {
      "text/plain": [
       "False    119\n",
       "True      95\n",
       "Name: hit, dtype: int64"
      ]
     },
     "execution_count": 34,
     "metadata": {},
     "output_type": "execute_result"
    }
   ],
   "source": [
    "# total number of hits (True) and misses (False) in the go trials\n",
    "trials_df[trials_df['go']==True].hit.value_counts()"
   ]
  },
  {
   "cell_type": "code",
   "execution_count": 35,
   "metadata": {
    "scrolled": true
   },
   "outputs": [],
   "source": [
    "go_responses = trials_df[trials_df['go']==True].hit\n",
    "rolling_hit_rate = go_responses.rolling(window=25, center=True).mean()"
   ]
  },
  {
   "cell_type": "markdown",
   "metadata": {},
   "source": [
    "<div style=\"background: #DFF0D8; border-radius: 3px; padding: 10px;\">\n",
    "\n",
    "<p> 3) Plot the <code>rolling_hit_rate</code>. Label your axes.\n",
    "       \n",
    "</div>"
   ]
  },
  {
   "cell_type": "code",
   "execution_count": 36,
   "metadata": {},
   "outputs": [
    {
     "data": {
      "image/png": "[encoded data removed]",
      "text/plain": [
       "<Figure size 432x288 with 1 Axes>"
      ]
     },
     "metadata": {},
     "output_type": "display_data"
    }
   ],
   "source": [
    "plt.plot(rolling_hit_rate)\n",
    "plt.xlabel('trial #')\n",
    "plt.ylabel('hit rate');\n",
    "plt.grid()"
   ]
  },
  {
   "cell_type": "markdown",
   "metadata": {},
   "source": [
    "<div style=\"background: #DFF0D8; border-radius: 3px; padding: 10px;\">\n",
    "<p><b>Exercise 1.4: Plot the average hit rate for each image</b>\n",
    "\n",
    "<p>1) Loop through the 8 images in this session and quantify the fraction of go trials where there was a correct response for each image to get the mean hit rate across the session. \n",
    "    Hint: Use <code>ophys_experiment.trials.change_image_name.unique()</code> to get the image names.\n",
    "\n",
    "<p>2) Plot the average hit rate for each image, with image names along the x-axis. \n",
    "    \n",
    "<p> Bonus: Sort hit rate values in ascending order and apply the same sorting to the image names along the x-axis. Hint: Useful functions include np.sort() and np.argsort()\n",
    "    \n",
    "</div>"
   ]
  },
  {
   "cell_type": "code",
   "execution_count": 37,
   "metadata": {},
   "outputs": [],
   "source": [
    "# get the hit rate for each image\n",
    "hit_rates = []\n",
    "images = trials_df['change_image_name'].unique()\n",
    "for image in images:\n",
    "    image_change_trials = trials_df[(trials_df['change_image_name'] == image) & \n",
    "                                 (trials_df['go'] == True)]\n",
    "    hit_rates.append(np.sum(image_change_trials.hit)/len(image_change_trials))"
   ]
  },
  {
   "cell_type": "code",
   "execution_count": 38,
   "metadata": {},
   "outputs": [],
   "source": [
    "# sort the hit rates in ascending order and sort the image labels in the same order\n",
    "hit_rates_sorted = np.sort(hit_rates)\n",
    "sorted_order = np.argsort(hit_rates)\n",
    "images_sorted = images[sorted_order]"
   ]
  },
  {
   "cell_type": "code",
   "execution_count": 39,
   "metadata": {},
   "outputs": [
    {
     "data": {
      "image/png": "[encoded data removed]",
      "text/plain": [
       "<Figure size 432x288 with 1 Axes>"
      ]
     },
     "metadata": {},
     "output_type": "display_data"
    }
   ],
   "source": [
    "# plot hit rate by image with image names on the x-axis\n",
    "fig, ax = plt.subplots()\n",
    "plt.plot(hit_rates_sorted, 'o')\n",
    "ax.set_xticks(np.arange(0,len(images_sorted),1));\n",
    "ax.set_xticklabels(images_sorted, rotation=90);\n",
    "ax.set_ylabel('hit rate');\n",
    "ax.set_ylim(0,1);"
   ]
  },
  {
   "cell_type": "markdown",
   "metadata": {},
   "source": [
    "<div style=\"background: #DFF0D8; border-radius: 3px; padding: 10px;\">\n",
    "<p><b>Exercise 1.5: Plot the response probability for all image transitions</b>\n",
    "\n",
    "<p> The task cycles through 8 different images, resulting in 64 possible image transitions. Some image transitions might be easier for the mouse to detect than others. \n",
    "\n",
    "<p> 1) Use pandas <code>pivot_table</code> on the trials table to aggregate and average the <code>response_binary</code> values by <code>initial_image_name</code> and <code>change_image_name</code>. This will create a matrix of response probability for all image transitions. \n",
    "    \n",
    " __[Documentation for pandas.pivot_table()](https://pandas.pydata.org/pandas-docs/stable/reference/api/pandas.pivot_table.html)__ \n",
    " \n",
    "</div>"
   ]
  },
  {
   "cell_type": "code",
   "execution_count": 41,
   "metadata": {},
   "outputs": [
    {
     "data": {
      "text/html": [
       "<div>\n",
       "<style scoped>\n",
       "    .dataframe tbody tr th:only-of-type {\n",
       "        vertical-align: middle;\n",
       "    }\n",
       "\n",
       "    .dataframe tbody tr th {\n",
       "        vertical-align: top;\n",
       "    }\n",
       "\n",
       "    .dataframe thead th {\n",
       "        text-align: right;\n",
       "    }\n",
       "</style>\n",
       "<table border=\"1\" class=\"dataframe\">\n",
       "  <thead>\n",
       "    <tr style=\"text-align: right;\">\n",
       "      <th>change_image_name</th>\n",
       "      <th>im000</th>\n",
       "      <th>im031</th>\n",
       "      <th>im035</th>\n",
       "      <th>im045</th>\n",
       "      <th>im054</th>\n",
       "      <th>im073</th>\n",
       "      <th>im075</th>\n",
       "      <th>im106</th>\n",
       "    </tr>\n",
       "    <tr>\n",
       "      <th>initial_image_name</th>\n",
       "      <th></th>\n",
       "      <th></th>\n",
       "      <th></th>\n",
       "      <th></th>\n",
       "      <th></th>\n",
       "      <th></th>\n",
       "      <th></th>\n",
       "      <th></th>\n",
       "    </tr>\n",
       "  </thead>\n",
       "  <tbody>\n",
       "    <tr>\n",
       "      <th>im000</th>\n",
       "      <td>0.000000</td>\n",
       "      <td>0.25</td>\n",
       "      <td>0.50</td>\n",
       "      <td>0.500000</td>\n",
       "      <td>0.500000</td>\n",
       "      <td>0.00</td>\n",
       "      <td>0.666667</td>\n",
       "      <td>0.000000</td>\n",
       "    </tr>\n",
       "    <tr>\n",
       "      <th>im031</th>\n",
       "      <td>0.500000</td>\n",
       "      <td>0.00</td>\n",
       "      <td>0.25</td>\n",
       "      <td>0.500000</td>\n",
       "      <td>0.500000</td>\n",
       "      <td>0.25</td>\n",
       "      <td>0.250000</td>\n",
       "      <td>0.250000</td>\n",
       "    </tr>\n",
       "    <tr>\n",
       "      <th>im035</th>\n",
       "      <td>0.500000</td>\n",
       "      <td>0.50</td>\n",
       "      <td>0.00</td>\n",
       "      <td>0.666667</td>\n",
       "      <td>0.750000</td>\n",
       "      <td>0.25</td>\n",
       "      <td>0.500000</td>\n",
       "      <td>0.500000</td>\n",
       "    </tr>\n",
       "    <tr>\n",
       "      <th>im045</th>\n",
       "      <td>0.666667</td>\n",
       "      <td>0.00</td>\n",
       "      <td>0.50</td>\n",
       "      <td>0.000000</td>\n",
       "      <td>0.500000</td>\n",
       "      <td>0.00</td>\n",
       "      <td>0.500000</td>\n",
       "      <td>0.500000</td>\n",
       "    </tr>\n",
       "    <tr>\n",
       "      <th>im054</th>\n",
       "      <td>0.666667</td>\n",
       "      <td>0.50</td>\n",
       "      <td>0.25</td>\n",
       "      <td>0.500000</td>\n",
       "      <td>0.000000</td>\n",
       "      <td>0.25</td>\n",
       "      <td>0.500000</td>\n",
       "      <td>0.500000</td>\n",
       "    </tr>\n",
       "    <tr>\n",
       "      <th>im073</th>\n",
       "      <td>0.250000</td>\n",
       "      <td>0.50</td>\n",
       "      <td>0.50</td>\n",
       "      <td>0.500000</td>\n",
       "      <td>0.250000</td>\n",
       "      <td>0.00</td>\n",
       "      <td>0.250000</td>\n",
       "      <td>0.666667</td>\n",
       "    </tr>\n",
       "    <tr>\n",
       "      <th>im075</th>\n",
       "      <td>0.250000</td>\n",
       "      <td>0.50</td>\n",
       "      <td>0.75</td>\n",
       "      <td>0.500000</td>\n",
       "      <td>0.500000</td>\n",
       "      <td>0.50</td>\n",
       "      <td>0.000000</td>\n",
       "      <td>0.333333</td>\n",
       "    </tr>\n",
       "    <tr>\n",
       "      <th>im106</th>\n",
       "      <td>0.500000</td>\n",
       "      <td>0.50</td>\n",
       "      <td>1.00</td>\n",
       "      <td>1.000000</td>\n",
       "      <td>0.666667</td>\n",
       "      <td>0.50</td>\n",
       "      <td>0.500000</td>\n",
       "      <td>0.000000</td>\n",
       "    </tr>\n",
       "  </tbody>\n",
       "</table>\n",
       "</div>"
      ],
      "text/plain": [
       "change_image_name      im000  im031  im035     im045     im054  im073  \\\n",
       "initial_image_name                                                      \n",
       "im000               0.000000   0.25   0.50  0.500000  0.500000   0.00   \n",
       "im031               0.500000   0.00   0.25  0.500000  0.500000   0.25   \n",
       "im035               0.500000   0.50   0.00  0.666667  0.750000   0.25   \n",
       "im045               0.666667   0.00   0.50  0.000000  0.500000   0.00   \n",
       "im054               0.666667   0.50   0.25  0.500000  0.000000   0.25   \n",
       "im073               0.250000   0.50   0.50  0.500000  0.250000   0.00   \n",
       "im075               0.250000   0.50   0.75  0.500000  0.500000   0.50   \n",
       "im106               0.500000   0.50   1.00  1.000000  0.666667   0.50   \n",
       "\n",
       "change_image_name      im075     im106  \n",
       "initial_image_name                      \n",
       "im000               0.666667  0.000000  \n",
       "im031               0.250000  0.250000  \n",
       "im035               0.500000  0.500000  \n",
       "im045               0.500000  0.500000  \n",
       "im054               0.500000  0.500000  \n",
       "im073               0.250000  0.666667  \n",
       "im075               0.000000  0.333333  \n",
       "im106               0.500000  0.000000  "
      ]
     },
     "execution_count": 41,
     "metadata": {},
     "output_type": "execute_result"
    }
   ],
   "source": [
    "# use pivot table to make a matrix of respones probability\n",
    "response_matrix = pd.pivot_table(trials_df,  \n",
    "                                 values='hit', \n",
    "                                 index='initial_image_name',\n",
    "                                 columns='change_image_name')\n",
    "response_matrix"
   ]
  },
  {
   "cell_type": "markdown",
   "metadata": {},
   "source": [
    "<div style=\"background: #DFF0D8; border-radius: 3px; padding: 10px;\">\n",
    "<p> 2) Plot the hit transition matrix as a heatmap. Try using seaborn's heatmap function.\n",
    "\n",
    " __[Documentation for seaborn.heatmap()](https://seaborn.pydata.org/generated/seaborn.heatmap.html#seaborn.heatmap)__ \n",
    "    \n",
    "\n",
    "<p> Did the mouse respond similarly for image changes compared to the same image repeated on catch trials? Are some image transitions more detectable than others? \n",
    "\n",
    "</div>"
   ]
  },
  {
   "cell_type": "code",
   "execution_count": 42,
   "metadata": {},
   "outputs": [
    {
     "data": {
      "text/plain": [
       "<AxesSubplot:xlabel='change_image_name', ylabel='initial_image_name'>"
      ]
     },
     "execution_count": 42,
     "metadata": {},
     "output_type": "execute_result"
    },
    {
     "data": {
      "image/png": "[encoded data removed]",
      "text/plain": [
       "<Figure size 504x504 with 2 Axes>"
      ]
     },
     "metadata": {},
     "output_type": "display_data"
    }
   ],
   "source": [
    "fig, ax = plt.subplots(figsize=(7,7))\n",
    "sns.heatmap(response_matrix, vmin=0, vmax=1, cmap='magma',\n",
    "            square=True, annot=True, linewidths=0.01, cbar_kws={\"shrink\": 0.7, \"label\": 'response probability'}, ax=ax)"
   ]
  },
  {
   "cell_type": "markdown",
   "metadata": {},
   "source": [
    "<div style=\"background: #DFF0D8; border-radius: 3px; padding: 10px;\">\n",
    "<p>Bonus: Plot response probability across image transitions for engaged trials only\n",
    "\n",
    "\n",
    "<p> 1) Filter out trials where the mouse wasn't reliably performing the task using the value of the <code>reward_rate</code> column, with a threshold of 2 rewards per minute to distinguish engaged from disengaged periods, then plot the transition heatmap again. \n",
    "\n",
    "<p> Does varying engagement influence how we should analyze neural activity?\n",
    "\n",
    "</div>"
   ]
  },
  {
   "cell_type": "code",
   "execution_count": 44,
   "metadata": {},
   "outputs": [
    {
     "data": {
      "text/plain": [
       "<AxesSubplot:xlabel='change_image_name', ylabel='initial_image_name'>"
      ]
     },
     "execution_count": 44,
     "metadata": {},
     "output_type": "execute_result"
    },
    {
     "data": {
      "image/png": "[encoded data removed]",
      "text/plain": [
       "<Figure size 504x504 with 2 Axes>"
      ]
     },
     "metadata": {},
     "output_type": "display_data"
    }
   ],
   "source": [
    "response_matrix = pd.pivot_table(trials_df[trials_df.reward_rate>2],  \n",
    "                                 values='hit', \n",
    "                                 index='initial_image_name',\n",
    "                                 columns='change_image_name')\n",
    "\n",
    "fig, ax = plt.subplots(figsize=(7,7))\n",
    "sns.heatmap(response_matrix, vmin=0, vmax=1, cmap='magma',\n",
    "            square=True, annot=True, linewidths=0.01,\n",
    "            cbar_kws={\"shrink\": 0.7, \"label\": 'response probability'}, ax=ax)"
   ]
  },
  {
   "cell_type": "markdown",
   "metadata": {},
   "source": [
    "<div style=\"border-left: 3px solid #000; padding: 1px; padding-left: 10px; background: #F0FAFF; \">\n",
    "<h2> Single Cell Physiology Exercises</h2>\n",
    "    \n",
    "<p> These exercises explore neural activity aligned to trials or to all stimulus flashes. They make use of the 'trial_response_df' and 'flash_response_df' dataframes that have been pre-computed for you, after temporal alignment between ophys and stimulus data streams. \n",
    "\n",
    "</div>"
   ]
  },
  {
   "cell_type": "markdown",
   "metadata": {},
   "source": [
    "<div style=\"border-left: 3px solid #000; padding: 1px; padding-left: 10px; background: #FF0000; \"> (#F0FAFF)\n",
    "<p><b>Info about trial and flash response dataframes</b>\n",
    "    \n",
    "<p> The <code>trial_response_df</code> contains the response of each cell to each behavioral trial during the task.  \n",
    "    \n",
    "<p> The <code>flash_response_df</code> contains the response of each cell to each individual stimulus presentation during the session. \n",
    "    \n",
    "<p> Both dataframes have a column called <code>dff_trace</code> that contains a segment of each cell's fluorescence trace over a window of time. For the <code>trial_response_df</code> this window is [-4,8] seconds relative to the <code>change_time</code> for each trial. For the <code>flash_response_df</code> this window is [-0.5, 0.75] seconds relative to the stimulus <code>start_time</code> for for each flash. \n",
    "    \n",
    "<p> The duration of the window over which the <code>dff_trace</code> was extracted can be found in the <code>analysis_files_metadata</code> attribute of the cache object. \n",
    "    \n",
    "<p> Both dataframes also have a column called <code>mean_response</code> that contains each cell's response averaged over  500ms after the <code>change_time</code> or the <code>start_time</code>. The period of time used for averaging to get the <code>mean_response</code> is also stored in the <code>analysis_files_metadata</code> attribute of the cache object. \n",
    "    \n",
    "<p> Examine the <code>analysis_files_metadata</code> to get a better understanding of how <code>trial_response_df</code> and <code>flash_response_df</code> were created. \n",
    "\n",
    "</div>"
   ]
  },
  {
   "cell_type": "markdown",
   "metadata": {},
   "source": [
    "<div style=\"background: #DFF0D8; border-radius: 3px; padding: 10px;\">\n",
    "\n",
    "<p> Examine the <code>analysis_files_metadata</code> to get a better understanding of how <code>trial_response_df</code> and <code>flash_response_df</code> were created. \n",
    "\n",
    "</div>"
   ]
  },
  {
   "cell_type": "code",
   "execution_count": 45,
   "metadata": {},
   "outputs": [],
   "source": [
    "import mindscope_utilities\n",
    "import mindscope_utilities.visual_behavior_ophys as ophys"
   ]
  },
  {
   "cell_type": "markdown",
   "metadata": {},
   "source": [
    "<div style=\"background: #DFF0D8; border-radius: 3px; padding: 10px;\">\n",
    "<p><b>Exercise 2.1: Plot activity across stimulus repetitions using the flash response dataframe</b>\n",
    "\n",
    "<p> 1) Assign session.flash_response_df to a variable called <code>fr</code>. Use .copy() when you assign the variable to avoid accidentally changing values of the original dataframe. \n",
    "\n",
    "<p> 2) Pick a cell and get all flashes of the preferred image for that cell by filtering <code>fr</code> by both the <code>cell_specimen_id</code> column and the <code>pref_stim</code> column. The preferred stimulus for each cell was pre-computed as the image that evoked the largest average response for that cell.\n",
    "\n",
    "</div>"
   ]
  },
  {
   "cell_type": "code",
   "execution_count": 47,
   "metadata": {},
   "outputs": [
    {
     "name": "stderr",
     "output_type": "stream",
     "text": [
      "C:\\Users\\iryna.yavorska\\AppData\\Roaming\\Python\\Python37\\site-packages\\allensdk\\brain_observatory\\sync_dataset.py:109: UserWarning: The loaded sync file contains the following deprecated line label keys: {'eye_tracking', 'behavior_monitoring'}. Consider updating the sync file line labels.\n",
      "  self._check_line_labels()\n",
      "C:\\Users\\iryna.yavorska\\AppData\\Roaming\\Python\\Python37\\site-packages\\allensdk\\brain_observatory\\sync_dataset.py:109: UserWarning: The loaded sync file contains the following deprecated line label keys: {'eye_tracking', 'behavior_monitoring'}. Consider updating the sync file line labels.\n",
      "  self._check_line_labels()\n",
      "WARNING:root:Could not find valid lines for the following data sources\n",
      "WARNING:root:acquiring (valid line label(s) = ['2p_acquiring']\n",
      "100%|██████████████████████████████████████████████████████████████████████████████████| 33/33 [01:44<00:00,  3.16s/it]\n"
     ]
    }
   ],
   "source": [
    "# assign flash_response_df to a shorter variable name\n",
    "stimulus_response_xr = ophys.get_stimulus_response_xr(ophys_experiment)"
   ]
  },
  {
   "cell_type": "code",
   "execution_count": 54,
   "metadata": {},
   "outputs": [
    {
     "ename": "KeyError",
     "evalue": "0",
     "output_type": "error",
     "traceback": [
      "\u001b[1;31m---------------------------------------------------------------------------\u001b[0m",
      "\u001b[1;31mKeyError\u001b[0m                                  Traceback (most recent call last)",
      "\u001b[1;32m~\\Anaconda3\\envs\\neuromatch\\lib\\site-packages\\xarray\\core\\dataset.py\u001b[0m in \u001b[0;36m_construct_dataarray\u001b[1;34m(self, name)\u001b[0m\n\u001b[0;32m   1163\u001b[0m         \u001b[1;32mtry\u001b[0m\u001b[1;33m:\u001b[0m\u001b[1;33m\u001b[0m\u001b[1;33m\u001b[0m\u001b[0m\n\u001b[1;32m-> 1164\u001b[1;33m             \u001b[0mvariable\u001b[0m \u001b[1;33m=\u001b[0m \u001b[0mself\u001b[0m\u001b[1;33m.\u001b[0m\u001b[0m_variables\u001b[0m\u001b[1;33m[\u001b[0m\u001b[0mname\u001b[0m\u001b[1;33m]\u001b[0m\u001b[1;33m\u001b[0m\u001b[1;33m\u001b[0m\u001b[0m\n\u001b[0m\u001b[0;32m   1165\u001b[0m         \u001b[1;32mexcept\u001b[0m \u001b[0mKeyError\u001b[0m\u001b[1;33m:\u001b[0m\u001b[1;33m\u001b[0m\u001b[1;33m\u001b[0m\u001b[0m\n",
      "\u001b[1;31mKeyError\u001b[0m: 0",
      "\nDuring handling of the above exception, another exception occurred:\n",
      "\u001b[1;31mKeyError\u001b[0m                                  Traceback (most recent call last)",
      "\u001b[1;32mC:\\Users\\IRYNA~1.YAV\\AppData\\Local\\Temp/ipykernel_7516/892365481.py\u001b[0m in \u001b[0;36m<module>\u001b[1;34m\u001b[0m\n\u001b[1;32m----> 1\u001b[1;33m \u001b[0mstimulus_response_xr\u001b[0m\u001b[1;33m.\u001b[0m\u001b[0mdata_vars\u001b[0m\u001b[1;33m[\u001b[0m\u001b[1;36m0\u001b[0m\u001b[1;33m]\u001b[0m\u001b[1;33m\u001b[0m\u001b[1;33m\u001b[0m\u001b[0m\n\u001b[0m",
      "\u001b[1;32m~\\Anaconda3\\envs\\neuromatch\\lib\\site-packages\\xarray\\core\\dataset.py\u001b[0m in \u001b[0;36m__getitem__\u001b[1;34m(self, key)\u001b[0m\n\u001b[0;32m    390\u001b[0m     \u001b[1;32mdef\u001b[0m \u001b[0m__getitem__\u001b[0m\u001b[1;33m(\u001b[0m\u001b[0mself\u001b[0m\u001b[1;33m,\u001b[0m \u001b[0mkey\u001b[0m\u001b[1;33m:\u001b[0m \u001b[0mHashable\u001b[0m\u001b[1;33m)\u001b[0m \u001b[1;33m->\u001b[0m \u001b[1;34m\"DataArray\"\u001b[0m\u001b[1;33m:\u001b[0m\u001b[1;33m\u001b[0m\u001b[1;33m\u001b[0m\u001b[0m\n\u001b[0;32m    391\u001b[0m         \u001b[1;32mif\u001b[0m \u001b[0mkey\u001b[0m \u001b[1;32mnot\u001b[0m \u001b[1;32min\u001b[0m \u001b[0mself\u001b[0m\u001b[1;33m.\u001b[0m\u001b[0m_dataset\u001b[0m\u001b[1;33m.\u001b[0m\u001b[0m_coord_names\u001b[0m\u001b[1;33m:\u001b[0m\u001b[1;33m\u001b[0m\u001b[1;33m\u001b[0m\u001b[0m\n\u001b[1;32m--> 392\u001b[1;33m             \u001b[1;32mreturn\u001b[0m \u001b[0mcast\u001b[0m\u001b[1;33m(\u001b[0m\u001b[1;34m\"DataArray\"\u001b[0m\u001b[1;33m,\u001b[0m \u001b[0mself\u001b[0m\u001b[1;33m.\u001b[0m\u001b[0m_dataset\u001b[0m\u001b[1;33m[\u001b[0m\u001b[0mkey\u001b[0m\u001b[1;33m]\u001b[0m\u001b[1;33m)\u001b[0m\u001b[1;33m\u001b[0m\u001b[1;33m\u001b[0m\u001b[0m\n\u001b[0m\u001b[0;32m    393\u001b[0m         \u001b[1;32mraise\u001b[0m \u001b[0mKeyError\u001b[0m\u001b[1;33m(\u001b[0m\u001b[0mkey\u001b[0m\u001b[1;33m)\u001b[0m\u001b[1;33m\u001b[0m\u001b[1;33m\u001b[0m\u001b[0m\n\u001b[0;32m    394\u001b[0m \u001b[1;33m\u001b[0m\u001b[0m\n",
      "\u001b[1;32m~\\Anaconda3\\envs\\neuromatch\\lib\\site-packages\\xarray\\core\\dataset.py\u001b[0m in \u001b[0;36m__getitem__\u001b[1;34m(self, key)\u001b[0m\n\u001b[0;32m   1252\u001b[0m \u001b[1;33m\u001b[0m\u001b[0m\n\u001b[0;32m   1253\u001b[0m         \u001b[1;32mif\u001b[0m \u001b[0mhashable\u001b[0m\u001b[1;33m(\u001b[0m\u001b[0mkey\u001b[0m\u001b[1;33m)\u001b[0m\u001b[1;33m:\u001b[0m\u001b[1;33m\u001b[0m\u001b[1;33m\u001b[0m\u001b[0m\n\u001b[1;32m-> 1254\u001b[1;33m             \u001b[1;32mreturn\u001b[0m \u001b[0mself\u001b[0m\u001b[1;33m.\u001b[0m\u001b[0m_construct_dataarray\u001b[0m\u001b[1;33m(\u001b[0m\u001b[0mkey\u001b[0m\u001b[1;33m)\u001b[0m\u001b[1;33m\u001b[0m\u001b[1;33m\u001b[0m\u001b[0m\n\u001b[0m\u001b[0;32m   1255\u001b[0m         \u001b[1;32melse\u001b[0m\u001b[1;33m:\u001b[0m\u001b[1;33m\u001b[0m\u001b[1;33m\u001b[0m\u001b[0m\n\u001b[0;32m   1256\u001b[0m             \u001b[1;32mreturn\u001b[0m \u001b[0mself\u001b[0m\u001b[1;33m.\u001b[0m\u001b[0m_copy_listed\u001b[0m\u001b[1;33m(\u001b[0m\u001b[0mnp\u001b[0m\u001b[1;33m.\u001b[0m\u001b[0masarray\u001b[0m\u001b[1;33m(\u001b[0m\u001b[0mkey\u001b[0m\u001b[1;33m)\u001b[0m\u001b[1;33m)\u001b[0m\u001b[1;33m\u001b[0m\u001b[1;33m\u001b[0m\u001b[0m\n",
      "\u001b[1;32m~\\Anaconda3\\envs\\neuromatch\\lib\\site-packages\\xarray\\core\\dataset.py\u001b[0m in \u001b[0;36m_construct_dataarray\u001b[1;34m(self, name)\u001b[0m\n\u001b[0;32m   1165\u001b[0m         \u001b[1;32mexcept\u001b[0m \u001b[0mKeyError\u001b[0m\u001b[1;33m:\u001b[0m\u001b[1;33m\u001b[0m\u001b[1;33m\u001b[0m\u001b[0m\n\u001b[0;32m   1166\u001b[0m             _, name, variable = _get_virtual_variable(\n\u001b[1;32m-> 1167\u001b[1;33m                 \u001b[0mself\u001b[0m\u001b[1;33m.\u001b[0m\u001b[0m_variables\u001b[0m\u001b[1;33m,\u001b[0m \u001b[0mname\u001b[0m\u001b[1;33m,\u001b[0m \u001b[0mself\u001b[0m\u001b[1;33m.\u001b[0m\u001b[0m_level_coords\u001b[0m\u001b[1;33m,\u001b[0m \u001b[0mself\u001b[0m\u001b[1;33m.\u001b[0m\u001b[0mdims\u001b[0m\u001b[1;33m\u001b[0m\u001b[1;33m\u001b[0m\u001b[0m\n\u001b[0m\u001b[0;32m   1168\u001b[0m             )\n\u001b[0;32m   1169\u001b[0m \u001b[1;33m\u001b[0m\u001b[0m\n",
      "\u001b[1;32m~\\Anaconda3\\envs\\neuromatch\\lib\\site-packages\\xarray\\core\\dataset.py\u001b[0m in \u001b[0;36m_get_virtual_variable\u001b[1;34m(variables, key, level_vars, dim_sizes)\u001b[0m\n\u001b[0;32m    150\u001b[0m \u001b[1;33m\u001b[0m\u001b[0m\n\u001b[0;32m    151\u001b[0m     \u001b[1;32mif\u001b[0m \u001b[1;32mnot\u001b[0m \u001b[0misinstance\u001b[0m\u001b[1;33m(\u001b[0m\u001b[0mkey\u001b[0m\u001b[1;33m,\u001b[0m \u001b[0mstr\u001b[0m\u001b[1;33m)\u001b[0m\u001b[1;33m:\u001b[0m\u001b[1;33m\u001b[0m\u001b[1;33m\u001b[0m\u001b[0m\n\u001b[1;32m--> 152\u001b[1;33m         \u001b[1;32mraise\u001b[0m \u001b[0mKeyError\u001b[0m\u001b[1;33m(\u001b[0m\u001b[0mkey\u001b[0m\u001b[1;33m)\u001b[0m\u001b[1;33m\u001b[0m\u001b[1;33m\u001b[0m\u001b[0m\n\u001b[0m\u001b[0;32m    153\u001b[0m \u001b[1;33m\u001b[0m\u001b[0m\n\u001b[0;32m    154\u001b[0m     \u001b[0msplit_key\u001b[0m \u001b[1;33m=\u001b[0m \u001b[0mkey\u001b[0m\u001b[1;33m.\u001b[0m\u001b[0msplit\u001b[0m\u001b[1;33m(\u001b[0m\u001b[1;34m\".\"\u001b[0m\u001b[1;33m,\u001b[0m \u001b[1;36m1\u001b[0m\u001b[1;33m)\u001b[0m\u001b[1;33m\u001b[0m\u001b[1;33m\u001b[0m\u001b[0m\n",
      "\u001b[1;31mKeyError\u001b[0m: 0"
     ]
    }
   ],
   "source": [
    "stimulus_response_xr.data_vars"
   ]
  },
  {
   "cell_type": "code",
   "execution_count": null,
   "metadata": {},
   "outputs": [],
   "source": [
    "# get all flashes of preferred image for one cell\n",
    "cell_specimen_ids = fr.cell_specimen_id.unique()\n",
    "cell_specimen_id = cell_specimen_ids[0]\n",
    "\n",
    "pref_stim_flashes = fr[(fr.cell_specimen_id==cell_specimen_id)&(fr.pref_stim==True)]\n",
    "pref_stim_flashes.head()"
   ]
  },
  {
   "cell_type": "markdown",
   "metadata": {},
   "source": [
    "<div style=\"background: #DFF0D8; border-radius: 3px; padding: 10px;\">\n",
    "<p> 3) Get the values of the <code>dff_trace</code> column from your filtered dataframe. Loop through these values and plot the traces for all flashes of the preferred image. Set color='gray. \n",
    "    \n",
    "Bonus: Plot with time relative to the stimulus onset, in seconds, on the x-axis. Hint: Use the <code>dff_trace_timestamps</code> and <code>start_time</code> columns to get time relative to stimulus onset for one flash.\n",
    "    \n",
    "<p> 4) Take the mean of the <code>dff_trace</code> values and plot the average response on the same figure as the individual trials, this time setting color='b'.\n",
    "\n",
    "Does this cell have a reliable response to its preferred image? "
   ]
  },
  {
   "cell_type": "code",
   "execution_count": null,
   "metadata": {},
   "outputs": [],
   "source": [
    "# plot for one cell\n",
    "time_seconds = fr.iloc[0].dff_trace_timestamps  - fr.iloc[0].start_time\n",
    "for trace in pref_stim_flashes.dff_trace.values: \n",
    "    plt.plot(time_seconds, trace, color='gray')\n",
    "plt.xlabel('time (sec)')\n",
    "plt.ylabel('dF/F')\n",
    "mean_trace = np.mean(pref_stim_flashes.dff_trace.values)\n",
    "plt.plot(time_seconds, mean_trace, color='b');"
   ]
  },
  {
   "cell_type": "markdown",
   "metadata": {},
   "source": [
    "<div style=\"background: #DFF0D8; border-radius: 3px; padding: 10px;\">   \n",
    "\n",
    "<p> 5) Create this plot for multiple cells. How do different cells respond?\n",
    "    \n",
    "Bonus: Plot multiple cells in one figure on different axes. Use <code>fig, ax = plt.subplots()</code> followed by <code>ax = ax.ravel()</code> to create iterable axes. \n",
    "\n",
    " __[Documentation for matplotlib.pyplot.subplots()](https://matplotlib.org/3.1.1/api/_as_gen/matplotlib.pyplot.subplots.html)__ \n",
    "    \n",
    " __[Why use fig, ax = plt.subplots() ? ](https://stackoverflow.com/questions/34162443/why-do-many-examples-use-fig-ax-plt-subplots-in-matplotlib-pyplot-python )__ \n",
    "\n",
    "</div>"
   ]
  },
  {
   "cell_type": "code",
   "execution_count": null,
   "metadata": {},
   "outputs": [],
   "source": [
    "# plot for 15 cells\n",
    "cell_specimen_ids = fr.cell_specimen_id.unique()\n",
    "fig, ax = plt.subplots(3,5, figsize=(15,8))\n",
    "ax = ax.ravel()\n",
    "for i,cell_specimen_id in enumerate(cell_specimen_ids[:15]): \n",
    "    pref_stim_flashes = fr[(fr.cell_specimen_id==cell_specimen_id)&(fr.pref_stim==True)]\n",
    "    time_seconds = fr.iloc[0].dff_trace_timestamps  - fr.iloc[0].start_time\n",
    "    for trace in pref_stim_flashes.dff_trace.values: \n",
    "        ax[i].plot(time_seconds, trace, color='gray')\n",
    "    ax[i].set_xlabel('time (sec)')\n",
    "    ax[i].set_ylabel('dF/F')\n",
    "    mean_trace = np.mean(pref_stim_flashes.dff_trace.values)\n",
    "    ax[i].plot(time_seconds, mean_trace, color='b')\n",
    "fig.tight_layout()"
   ]
  },
  {
   "cell_type": "markdown",
   "metadata": {},
   "source": [
    "<div style=\"background: #DFF0D8; border-radius: 3px; padding: 10px;\">\n",
    "<p><b>Exercise 2.2: Correlate neural activity with running speed on a flash by flash basis</b>\n",
    "\n",
    "<p> Trial to trial variability could arise from differences in animal behavior. One possibility is modulation by running speed. \n",
    "\n",
    "<p> 1) Pick a cell and select all flashes of its preferred stimulus. \n",
    "    \n",
    "<p> 2) Create a scatterplot of running speed vs neural response magnitude using the <code>mean_response</code> and <code>mean_running_speed</code> columns of the <code>flash_response_df</code>. \n",
    "\n",
    "<p> The <code>mean_running_speed</code> is the average of the running_speed trace during the 250ms stimulus presentation for each image flash. \n",
    "    \n",
    "</div>"
   ]
  },
  {
   "cell_type": "code",
   "execution_count": null,
   "metadata": {},
   "outputs": [],
   "source": [
    "fr = session.flash_response_df.copy()"
   ]
  },
  {
   "cell_type": "code",
   "execution_count": null,
   "metadata": {},
   "outputs": [],
   "source": [
    "# get preferred stimulus flashes for one cell\n",
    "cell_specimen_ids = fr.cell_specimen_id.unique()\n",
    "cell_specimen_id = cell_specimen_ids[4]\n",
    "\n",
    "pref_stim_flashes = fr[(fr.cell_specimen_id==cell_specimen_id)&(fr.pref_stim==True)]\n",
    "pref_stim_flashes.head()"
   ]
  },
  {
   "cell_type": "code",
   "execution_count": null,
   "metadata": {},
   "outputs": [],
   "source": [
    "# plot scatter plot of mean response vs. running speed\n",
    "fig, ax = plt.subplots()\n",
    "ax = sns.scatterplot(data=pref_stim_flashes, x='mean_response', y='mean_running_speed', ax=ax)"
   ]
  },
  {
   "cell_type": "markdown",
   "metadata": {},
   "source": [
    "<div style=\"background: #DFF0D8; border-radius: 3px; padding: 10px;\">\n",
    "<p> 2) Compute the Pearson correlation between the flash-wise <code>mean_response</code> and <code>mean_running_speed</code> using <code>scipy.stats.pearsonr()</code>. Is there a correlation? \n",
    "\n",
    "</div>"
   ]
  },
  {
   "cell_type": "code",
   "execution_count": null,
   "metadata": {},
   "outputs": [],
   "source": [
    "# get pearson correlation \n",
    "import scipy.stats as st\n",
    "r, p = st.pearsonr(pref_stim_flashes['mean_response'].values, pref_stim_flashes['mean_running_speed'].values)\n",
    "print('r = ', np.round(r,3))"
   ]
  },
  {
   "cell_type": "markdown",
   "metadata": {},
   "source": [
    "<div style=\"background: #DFF0D8; border-radius: 3px; padding: 10px;\">\n",
    "\n",
    "<p> Bonus: Compute the running correlation for all cells in the session and plot a histogram of the values. \n",
    "\n",
    "</div>"
   ]
  },
  {
   "cell_type": "code",
   "execution_count": null,
   "metadata": {},
   "outputs": [],
   "source": [
    "# get pearson correlation values for all cells\n",
    "r_values = []\n",
    "for cell_specimen_id in cell_specimen_ids:\n",
    "    pref_stim_flashes = fr[(fr.cell_specimen_id==cell_specimen_id)&(fr.pref_stim==True)]\n",
    "    r, p = st.pearsonr(pref_stim_flashes['mean_response'].values, pref_stim_flashes['mean_running_speed'].values)\n",
    "    r_values.append(r)"
   ]
  },
  {
   "cell_type": "code",
   "execution_count": null,
   "metadata": {},
   "outputs": [],
   "source": [
    "# plot distribution of pearson r values\n",
    "plt.hist(r_values, bins=50);\n",
    "plt.xlabel('r value');\n",
    "plt.ylabel('count');"
   ]
  },
  {
   "cell_type": "markdown",
   "metadata": {},
   "source": [
    "<div style=\"background: #DFF0D8; border-radius: 3px; padding: 10px;\">\n",
    "<p><b>Exercise 2.3: Plot the trial averaged response across images for one cell using the trial response dataframe</b>\n",
    "   \n",
    "<p> 1) Assign the <code>trial_response_df</code> to a variable called <code>tr</code>. Dont forget to use <code>.copy()</code>\n",
    "    \n",
    "<p> 2) Which cell had the largest <code>mean_response</code>? What image was shown on that trial? Was it a go trial or a catch trial?  \n",
    "    \n",
    "</div>"
   ]
  },
  {
   "cell_type": "code",
   "execution_count": null,
   "metadata": {},
   "outputs": [],
   "source": [
    "# get trial_response_df\n",
    "tr = session.trial_response_df.copy()"
   ]
  },
  {
   "cell_type": "code",
   "execution_count": null,
   "metadata": {},
   "outputs": [],
   "source": [
    "# get the trial with the largest value of mean_response\n",
    "max_response_trial = tr[tr.mean_response==np.amax(tr.mean_response)]\n",
    "# get info for that trial\n",
    "cell_specimen_id = max_response_trial.cell_specimen_id.values[0]\n",
    "change_image_name = max_response_trial.change_image_name.values[0]\n",
    "go = max_response_trial.go.values[0]\n",
    "catch = max_response_trial.catch.values[0]\n",
    "# display info\n",
    "print('cell_specimen_id: ' + str(cell_specimen_id))\n",
    "print('change_image_name: ' + str(change_image_name))\n",
    "print('go trial: ' + str(go))\n",
    "print('catch trial: ' + str(catch))"
   ]
  },
  {
   "cell_type": "markdown",
   "metadata": {},
   "source": [
    "<div style=\"background: #DFF0D8; border-radius: 3px; padding: 10px;\">\n",
    "<p> 3) Plot the average <code>dff_trace</code> across trials for the cell, image name, and trial type identified in the step above. Plot the x-axis in seconds relative to the <code>change_time</code>. \n",
    "    \n",
    "Bonus: Show the the time of the change flash (from 0 to .25 seconds after the change time) using ax.vspan(). \n",
    "</div>"
   ]
  },
  {
   "cell_type": "code",
   "execution_count": null,
   "metadata": {},
   "outputs": [],
   "source": [
    "# plot the trial averaged trace for the conditions identified above\n",
    "cell_data = tr[(tr.cell_specimen_id==cell_specimen_id)&(tr.change_image_name==change_image_name)&(tr.go==go)]\n",
    "mean_trace = cell_data.dff_trace.mean()\n",
    "timestamps = tr.iloc[0].dff_trace_timestamps  - tr.iloc[0].change_time\n",
    "plt.plot(timestamps ,mean_trace, 'k')\n",
    "plt.axvspan(0, 0.25 ,alpha=0.3,facecolor='blue')\n",
    "plt.ylabel('mean dF/F');\n",
    "plt.xlabel('time relative to change (sec)');"
   ]
  },
  {
   "cell_type": "markdown",
   "metadata": {},
   "source": [
    "<div style=\"background: #DFF0D8; border-radius: 3px; padding: 10px;\">\n",
    " \n",
    "<p> 4) Loop through the 8 images shown in this session and plot the average dF/F trace for each image for this cell.\n",
    "    \n",
    "</div>"
   ]
  },
  {
   "cell_type": "code",
   "execution_count": null,
   "metadata": {},
   "outputs": [],
   "source": [
    "unique_images = tr.change_image_name.unique()\n",
    "for change_image_name in unique_images:\n",
    "    cell_data = tr[(tr.cell_specimen_id==cell_specimen_id)&(tr.change_image_name==change_image_name)&(tr.go==go)]\n",
    "    mean_trace = cell_data.dff_trace.mean()\n",
    "    plt.plot(timestamps, mean_trace)\n",
    "plt.axvspan(0, 0.25, alpha=0.3, facecolor='blue')\n",
    "plt.ylabel('mean dF/F')\n",
    "plt.xlabel('time relative to change (sec)');"
   ]
  },
  {
   "cell_type": "markdown",
   "metadata": {},
   "source": [
    "<div style=\"background: #DFF0D8; border-radius: 3px; padding: 10px;\">\n",
    "<p><b>Exercise 2.4: Create a heatmap of all cells' trial averaged responses following an image change</b>\n",
    "\n",
    "<p> The SDK has utilities functions to make some computations easier. Import the utilities using the code below, then run help() on the function <code>get_mean_df</code>. What are it's inputs and outputs? \n",
    "    \n",
    "</div>"
   ]
  },
  {
   "cell_type": "code",
   "execution_count": null,
   "metadata": {},
   "outputs": [],
   "source": [
    "# import SDK utilities \n",
    "import allensdk.brain_observatory.behavior.swdb.utilities as tools\n",
    "\n",
    "help(tools.get_mean_df)"
   ]
  },
  {
   "cell_type": "markdown",
   "metadata": {},
   "source": [
    "<div style=\"background: #DFF0D8; border-radius: 3px; padding: 10px;\">\n",
    "\n",
    "<p> 1) Filter the <code>trial_response_df</code> to get only go trials, then pass to the <code>get_mean_df</code> function. Set <code>conditions = ['cell_specimen_id', 'change_image_name']</code>. Assign the output of the function to <code>mean_df</code>. \n",
    "\n",
    "</div>"
   ]
  },
  {
   "cell_type": "code",
   "execution_count": null,
   "metadata": {},
   "outputs": [],
   "source": [
    "mean_df = tools.get_mean_df(tr[tr.go], conditions=['cell_specimen_id', 'change_image_name'])\n",
    "mean_df.head()"
   ]
  },
  {
   "cell_type": "markdown",
   "metadata": {},
   "source": [
    "<div style=\"background: #DFF0D8; border-radius: 3px; padding: 10px;\"> \n",
    "<p> 2) Filter <code>mean_df</code> by <code>pref_stim</code> = True to limit the data to each cell's preferred image. \n",
    "    \n",
    "<p> 3) Get the values in the <code>mean_trace</code> column and convert to an array using <code>np.stack()</code>.  This response array should be m x n where m is the number of unique cells in the session and n is the length of the <code>mean_trace</code> in frames.\n",
    "    \n",
    "</div>"
   ]
  },
  {
   "cell_type": "code",
   "execution_count": null,
   "metadata": {},
   "outputs": [],
   "source": [
    "# create a matrix of the mean dF/F traces for the preferred image for all cells\n",
    "mean_df = mean_df[mean_df.pref_stim==True]\n",
    "response_matrix = mean_df.mean_trace.values\n",
    "response_matrix = np.stack(response_matrix, axis=0)\n",
    "response_matrix.shape"
   ]
  },
  {
   "cell_type": "markdown",
   "metadata": {},
   "source": [
    "<div style=\"background: #DFF0D8; border-radius: 3px; padding: 10px;\"> \n",
    "<p> 4) Plot a heatmap of all cells' mean trace for their preferred image. Set the vmax of the heatmap equal to the 95% percentile value of the response array using <code>np.percentile()</code>. Set vmin to 0. \n",
    "    \n",
    " __[Documentation for numpy.percentile()](https://docs.scipy.org/doc/numpy/reference/generated/numpy.percentile.html)__ \n",
    "\n",
    "<p> What structure do you see in this population? Bonus: Sort the cells to help see structure in the data.\n",
    "\n",
    "<p> Extra bonus: Set xticklabels to display time in seconds relative to the change time. Hint: You can use the <code>ophys_frame_rate</code> to convert between ophys frames (the units of the <code>mean_trace</code>) and time in seconds. <code>ophys_frame_rate</code> can be obtained using the <code>metadata</code> attribute of the session object, or in the <code>analysis_files_metadata</code> attribute of the cache object. You may also need to know the window around the change time that was used in the creation of the <code>trial_response_df</code>. This can be found in <code>cache.analysis_files_metadata</code>, or you can recall the default value of [-4, 8].\n",
    "\n",
    "</div>"
   ]
  },
  {
   "cell_type": "code",
   "execution_count": null,
   "metadata": {},
   "outputs": [],
   "source": [
    "# sort cells in descending order\n",
    "order = np.argsort(np.max(response_matrix,1))\n",
    "response_matrix_sorted = response_matrix[order,:]\n",
    "\n",
    "# create the plot\n",
    "fig, ax = plt.subplots(figsize=(4,6))\n",
    "ax.pcolormesh(response_matrix_sorted, cmap='magma', vmin=0, vmax=np.percentile(response_matrix, 95))\n",
    "ax.set_ylabel('cells')\n",
    "\n",
    "# fix up the axes\n",
    "# get the window around the change_time used for trial_response_df creation\n",
    "trial_response_range = cache.analysis_files_metadata['trial_response_df_params']['window_around_timepoint_seconds']\n",
    "# ophys frame rate to convert between frames and seconds\n",
    "ophys_frame_rate = cache.analysis_files_metadata['ophys_frame_rate'] \n",
    "# interval in seconds for x-axis labels\n",
    "x_interval = 2 \n",
    "# set xticks and xticklabels\n",
    "ax.set_xticks(np.arange(0, response_matrix.shape[1], x_interval*ophys_frame_rate))\n",
    "ax.set_xticklabels(np.arange(trial_response_range[0], trial_response_range[1], 2))\n",
    "ax.set_xlabel('time relative to change (sec)');\n",
    "fig.tight_layout()"
   ]
  },
  {
   "cell_type": "markdown",
   "metadata": {},
   "source": [
    "<div style=\"background: #DFF0D8; border-radius: 3px; padding: 10px;\">\n",
    "<p><b>Exercise 2.5: Compute a sparseness metric for one cell</b>\n",
    "\n",
    "<p>lifetime sparseness is a metric for how selective and sparse a cell's activity is across conditions, bounded between 0 and 1. A high value of this metric indicates high selectivity - a differential response to one or a few stimulus conditions over others. A low value of this metric indicates a similar response across all conditions. \n",
    "\n",
    "<p> 1) Create an array containing the mean response across all flashes for each of the 8 images in the session for one cell. Hint: Use the <code>get_mean_df</code> function introduced in Exercise 2.4 to create a dataframe with the mean response by image for all cells, using the <code>flash_response_df</code>. \n",
    "    \n",
    "<p> 2) Plot this array to visualize the cell's tuning for images. \n",
    "    \n",
    "</div>"
   ]
  },
  {
   "cell_type": "code",
   "execution_count": null,
   "metadata": {},
   "outputs": [],
   "source": [
    "fr = session.flash_response_df.copy()"
   ]
  },
  {
   "cell_type": "code",
   "execution_count": null,
   "metadata": {},
   "outputs": [],
   "source": [
    "# get mean_df\n",
    "mean_df = tools.get_mean_df(fr, conditions=['cell_specimen_id', 'image_name'])"
   ]
  },
  {
   "cell_type": "code",
   "execution_count": null,
   "metadata": {},
   "outputs": [],
   "source": [
    "# get array of image responses for one cell\n",
    "cell_data = mean_df[mean_df.cell_specimen_id==cell_specimen_id]\n",
    "image_responses = cell_data.mean_response.values\n",
    "images = cell_data.image_name.values\n",
    "# plot it\n",
    "plt.plot(image_responses, 'o')\n",
    "plt.xticks(np.arange(0,len(images),1), labels=images, rotation=90);\n",
    "plt.ylabel('mean dF/F')"
   ]
  },
  {
   "cell_type": "markdown",
   "metadata": {},
   "source": [
    "<div style=\"background: #DFF0D8; border-radius: 3px; padding: 10px;\">\n",
    "\n",
    "<p> 2) Provide the image response array to the function below to compute the lifetime sparseness metric for your cell. How selective is this cell? \n",
    "    \n",
    "</div>"
   ]
  },
  {
   "cell_type": "code",
   "execution_count": null,
   "metadata": {},
   "outputs": [],
   "source": [
    "def compute_lifetime_sparseness(image_responses):\n",
    "    # image responses should be an array of the trial averaged responses to each image\n",
    "    # sparseness = 1-(sum of trial averaged responses to images / N)squared / (sum of (squared mean responses / n)) / (1-(1/N))\n",
    "    # N = number of images\n",
    "    # after Vinje & Gallant, 2000; Froudarakis et al., 2014\n",
    "    N = float(len(image_responses))\n",
    "    ls = ((1-(1/N) * ((np.power(image_responses.sum(axis=0),2)) / (np.power(image_responses,2).sum(axis=0)))) / (1-(1/N)))\n",
    "    return ls"
   ]
  },
  {
   "cell_type": "code",
   "execution_count": null,
   "metadata": {},
   "outputs": [],
   "source": [
    "# compute lifetime sparseness\n",
    "ls = compute_lifetime_sparseness(image_responses)\n",
    "print(ls)"
   ]
  },
  {
   "cell_type": "markdown",
   "metadata": {},
   "source": [
    "<div style=\"background: #DFF0D8; border-radius: 3px; padding: 10px;\">\n",
    "<p><b>Exercise 2.6: Identify image responsive cells and the mean lifetime sparseness across the population</b>\n",
    "    \n",
    "<p> We only want to quantify lifetime sparseness for cells with a significant image response, otherwise we would be including noise in our measurement. Before taking a population average, lets first identify responsive cells. \n",
    "    \n",
    "<p> The <code>p_value</code> column of the <code>flash_response_df</code> is computed as a one-way ANOVA comparing the values of the dF/F trace in the 500ms after the flash with the activity during the spontaneous activity period. \n",
    "\n",
    "<p> Let's define responsive cells as having at least 10% of trials with a <code>p_value</code> < 0.005\n",
    "\n",
    "</div>"
   ]
  },
  {
   "cell_type": "markdown",
   "metadata": {},
   "source": [
    "<div style=\"background: #DFF0D8; border-radius: 3px; padding: 10px;\">\n",
    "<p> 1) Loop through all cells in the <code>flash_response_df</code>, evaluate the fraction of trials with <code>p_value</code> < 0.005 and make a list of the indicies of responsive cells. Assign the list to a variable called <code>responsive_cells</code>.\n",
    "                                                                                                              <p> Alternatively, you can use the output of <code>get_mean_df()</code>, which includes a column called <code>fraction_signifiant_responses</code> where this value was computed for each cell for the given conditions. Provide  <code>conditions=['cell_specimen_id']</code> to get the <code>fraction_significant_responses</code> across all images for each cell.\n",
    "                                                                                                           \n",
    "<p>What fraction of cells in this experiment were responsive following a stimulus change? \n",
    "\n",
    "</div>"
   ]
  },
  {
   "cell_type": "code",
   "execution_count": null,
   "metadata": {},
   "outputs": [],
   "source": [
    "# get responsive cells with get_mean_df\n",
    "mean_df = tools.get_mean_df(session.flash_response_df, conditions=['cell_specimen_id'])\n",
    "responsive_cells = mean_df[mean_df.fraction_significant_responses>0.01].cell_specimen_id.unique()\n",
    "print('fraction responsive cells =',len(responsive_cells)/float(len(mean_df.cell_specimen_id.unique())))"
   ]
  },
  {
   "cell_type": "markdown",
   "metadata": {},
   "source": [
    "<div style=\"background: #DFF0D8; border-radius: 3px; padding: 10px;\">\n",
    "<p>2) Loop through each cell in <code>responsive_cells</code>, compute lifetime sparseness as you did above, and add the value to a list. \n",
    "\n",
    "<p>3) Convert the list to an array and take the mean. How does the average selectivity across the population compare with your single cell measured in the previous Exercise? \n",
    "\n",
    "</div>"
   ]
  },
  {
   "cell_type": "code",
   "execution_count": null,
   "metadata": {},
   "outputs": [],
   "source": [
    "# create mean_df for each cell and image pair\n",
    "mean_fr = tools.get_mean_df(fr, conditions=['cell_specimen_id','image_name'])\n",
    "# create pandas multi-index\n",
    "mean_fr = mean_fr.set_index(['cell_specimen_id','image_name'])\n",
    "\n",
    "# iterate through the responsive cells, and compute lifetime sparseness\n",
    "all_ls= []\n",
    "for cell in responsive_cells:\n",
    "    image_responses =[]\n",
    "    for i,image in  enumerate(images):\n",
    "        cell_image = mean_fr.loc[(cell,image)]\n",
    "        image_responses.append(cell_image.mean_response)        \n",
    "    ls = compute_lifetime_sparseness(np.array(image_responses))\n",
    "    all_ls.append(ls) "
   ]
  },
  {
   "cell_type": "code",
   "execution_count": null,
   "metadata": {},
   "outputs": [],
   "source": [
    "# turn into an array and take the mean\n",
    "all_ls = np.array(all_ls)\n",
    "np.mean(all_ls)"
   ]
  },
  {
   "cell_type": "markdown",
   "metadata": {},
   "source": [
    "<div style=\"border-left: 3px solid #000; padding: 1px; padding-left: 10px; background: #F0FAFF; \">\n",
    "<h2> Across Session Physiology Exercises</h2>\n",
    "  \n",
    "<p>This section deals with comparing neural activity across different experiment sessions, both at the single cell and population level. It also teaches you some neat pandas tricks for reformatting data in useful ways.  \n",
    "    \n",
    "</div>"
   ]
  },
  {
   "cell_type": "markdown",
   "metadata": {},
   "source": [
    "<div style=\"background: #DFF0D8; border-radius: 3px; padding: 10px;\">\n",
    "<p><b>Exercise 3.1: Follow along to learn some useful pandas tricks for multi session data comparison</b>\n",
    "\n",
    "</div>"
   ]
  },
  {
   "cell_type": "markdown",
   "metadata": {},
   "source": [
    "<div style=\"border-left: 3px solid #000; padding: 1px; padding-left: 10px; background: #F0FAFF; \">\n",
    "One interesting aspect of this dataset is that there are multiple behavior + ophys sessions from each animal. In some cases we might want to perform analyses that compare multiple sessions from the same container to know how behavior or neural responses change with each stage of the task.     \n",
    "\n",
    "</div>"
   ]
  },
  {
   "cell_type": "code",
   "execution_count": null,
   "metadata": {},
   "outputs": [],
   "source": [
    "experiments = cache.experiment_table\n",
    "experiments.head(15)[['container_id','stage_name','ophys_experiment_id']]"
   ]
  },
  {
   "cell_type": "markdown",
   "metadata": {},
   "source": [
    "<div style=\"border-left: 3px solid #000; padding: 1px; padding-left: 10px; background: #F0FAFF; \">\n",
    "From there, we can select two experiment dataframes we wish to analyze from the same container.\n",
    "</div>"
   ]
  },
  {
   "cell_type": "code",
   "execution_count": null,
   "metadata": {},
   "outputs": [],
   "source": [
    "#an active, image_set A dataset\n",
    "a_trials = cache.get_session(792815735).trials\n",
    "#an active, image_set B dataset\n",
    "b_trials = cache.get_session(795953296).trials"
   ]
  },
  {
   "cell_type": "markdown",
   "metadata": {},
   "source": [
    "<div style=\"border-left: 3px solid #000; padding: 1px; padding-left: 10px; background: #F0FAFF; \">\n",
    "We can compare many metrics between these two sessions, as an example, the hit rate between each session using code developed above\n",
    "</div>"
   ]
  },
  {
   "cell_type": "code",
   "execution_count": null,
   "metadata": {},
   "outputs": [],
   "source": [
    "fig, ax = plt.subplots(2,figsize=(10,4))\n",
    "\n",
    "ax[0].plot(a_trials.change_time, a_trials.reward_rate)\n",
    "ax[0].set_title('image set A session')\n",
    "ax[0].set_ylabel ('reward rate')\n",
    "\n",
    "ax[1].plot(b_trials.change_time, b_trials.reward_rate)\n",
    "ax[1].set_xlabel ('time in session (sec)')\n",
    "ax[1].set_title('image set B session')\n",
    "ax[1].set_ylabel ('reward rate');\n",
    "plt.tight_layout()"
   ]
  },
  {
   "cell_type": "markdown",
   "metadata": {},
   "source": [
    "<div style=\"border-left: 3px solid #000; padding: 1px; padding-left: 10px; background: #F0FAFF; \">\n",
    "For more in-depth analysis and to ease plotting, we can merge the two dataframes, passing keys to keep their labels\n",
    "</div>"
   ]
  },
  {
   "cell_type": "code",
   "execution_count": null,
   "metadata": {},
   "outputs": [],
   "source": [
    "a_b = pd.concat([a_trials,b_trials], keys=['a', 'b'])\n",
    "a_b.head()"
   ]
  },
  {
   "cell_type": "markdown",
   "metadata": {},
   "source": [
    "<div style=\"border-left: 3px solid #000; padding: 1px; padding-left: 10px; background: #F0FAFF; \">\n",
    "Note that looking at the tail lets you see the b trial dataframe that was just merged\n",
    "</div>"
   ]
  },
  {
   "cell_type": "code",
   "execution_count": null,
   "metadata": {},
   "outputs": [],
   "source": [
    "a_b.tail()"
   ]
  },
  {
   "cell_type": "markdown",
   "metadata": {},
   "source": [
    "<div style=\"border-left: 3px solid #000; padding: 1px; padding-left: 10px; background: #F0FAFF; \">\n",
    "We can calculate simple metrics by grouping by the index. In a multi-index dataframe, these can be referenced by their level\n",
    "</div>"
   ]
  },
  {
   "cell_type": "code",
   "execution_count": null,
   "metadata": {},
   "outputs": [],
   "source": [
    "a_b.groupby(level=0).trial_length.mean()"
   ]
  },
  {
   "cell_type": "markdown",
   "metadata": {},
   "source": [
    "<div style=\"border-left: 3px solid #000; padding: 1px; padding-left: 10px; background: #F0FAFF; \">\n",
    "We can also quickly plot metrics across the two sessions\n",
    "</div>"
   ]
  },
  {
   "cell_type": "code",
   "execution_count": null,
   "metadata": {},
   "outputs": [],
   "source": [
    "ax = sns.boxplot(data=a_b[a_b.go].reset_index(),x='level_0', y='response_latency')\n",
    "ax.set_xlabel('image set')"
   ]
  },
  {
   "cell_type": "markdown",
   "metadata": {},
   "source": [
    "<div style=\"border-left: 3px solid #000; padding: 1px; padding-left: 10px; background: #F0FAFF; \">\n",
    "We can also get an idea if there are different numbers of trials, in this instance hit trials\n",
    "</div>"
   ]
  },
  {
   "cell_type": "code",
   "execution_count": null,
   "metadata": {},
   "outputs": [],
   "source": [
    "sns.countplot(data=a_b.reset_index()[['level_0','hit']],x='hit',hue='level_0')"
   ]
  },
  {
   "cell_type": "markdown",
   "metadata": {},
   "source": [
    "<div style=\"background: #DFF0D8; border-radius: 3px; padding: 10px;\">\n",
    "<p> <b>Exercise 3.2: Compare the activity of matched cells across sessions</b>\n",
    "   \n",
    "<p> In our experimental design, the same 2-photon field of view is imaged across multiple sessions. A cell may be observed in one or more sessions, dependending on whether or not it is active on different days. Cells that are identified across multiple days have the same 'cell_specimen_id' in all sessions in which they were observed. \n",
    "    \n",
    "<p> To compare activity across multiple sessions, you can use another useful tool provided in the SDK utilities - the <code>create_multi_session_mean_df</code> function.      \n",
    "    \n",
    "<p> 1) Run help on  <code>create_multi_session_mean_df</code>. What are its inputs and outputs? \n",
    "    \n",
    "<p> 2) Create a multi session df using the same 2 experiment sessions that were used above (<code>experiment_ids = [792815735, 795953296]</code>) and assign the output to variable called <code>multi_session_df</code>. Set <code>flashes = True</code> to merge across the <code>flash_response_df</code> for the 2 sessions. Note: If <code>flashes = False</code> (the default setting), the function will merge the <code>trial_response_df</code>. \n",
    "    \n",
    "</div>"
   ]
  },
  {
   "cell_type": "code",
   "execution_count": null,
   "metadata": {},
   "outputs": [],
   "source": [
    "help(tools.create_multi_session_mean_df)"
   ]
  },
  {
   "cell_type": "code",
   "execution_count": null,
   "metadata": {},
   "outputs": [],
   "source": [
    "multi_session_df = tools.create_multi_session_mean_df(cache, [792815735,795953296], flashes=True, conditions=['cell_specimen_id','image_name'])"
   ]
  },
  {
   "cell_type": "code",
   "execution_count": null,
   "metadata": {},
   "outputs": [],
   "source": [
    "multi_session_df.columns"
   ]
  },
  {
   "cell_type": "markdown",
   "metadata": {},
   "source": [
    "<div style=\"border-left: 3px solid #000; padding: 1px; padding-left: 10px; background: #F0FAFF; \">\n",
    "By using the <code>groupby()</code> command you can quickly generate comparisons of the same cells across sessions. \n",
    "</div>"
   ]
  },
  {
   "cell_type": "code",
   "execution_count": null,
   "metadata": {},
   "outputs": [],
   "source": [
    "# get the mean response across images for each experiment session, for each cell_specimen_id\n",
    "multi_session_df.groupby(['cell_specimen_id','experiment_id'])['mean_response'].mean()"
   ]
  },
  {
   "cell_type": "markdown",
   "metadata": {},
   "source": [
    "<iv style=\"background: #DFF0D8; border-radius: 3px; padding: 10px;\">"
   ]
  },
  {
   "cell_type": "markdown",
   "metadata": {},
   "source": [
    "<div style=\"border-left: 3px solid #000; padding: 1px; padding-left: 10px; background: #F0FAFF; \">\n",
    "<p> Using the <code>unstack()</code> command you can regroup these values by cell\n",
    "    \n",
    "<p> How can you tell if a cell was identified in both sessions?\n",
    "</div>"
   ]
  },
  {
   "cell_type": "code",
   "execution_count": null,
   "metadata": {
    "scrolled": true
   },
   "outputs": [],
   "source": [
    "# unstack the grouped dataframe to get each cell's mean_response for different experiments as columns\n",
    "cell_exp_mean = multi_session_df.groupby(['cell_specimen_id','experiment_id'])['mean_response'].mean()\n",
    "cell_exp_mean.unstack(level=-1).head()"
   ]
  },
  {
   "cell_type": "markdown",
   "metadata": {},
   "source": [
    "<div style=\"border-left: 3px solid #000; padding: 1px; padding-left: 10px; background: #F0FAFF; \">\n",
    "If the function you want to apply after the <code>groupby()</code> command operates on something other than a numeric value, such as the <code>mean_trace</code> array, you might need to use the <code>.apply(<function>)</code>command. \n",
    "    \n",
    "</div>"
   ]
  },
  {
   "cell_type": "code",
   "execution_count": null,
   "metadata": {},
   "outputs": [],
   "source": [
    "# get the mean trace across images for each experiment, for each cell\n",
    "mean_trace = multi_session_df.groupby(['cell_specimen_id','experiment_id'])['mean_trace'].apply(np.mean)\n",
    "mean_trace.head()"
   ]
  },
  {
   "cell_type": "code",
   "execution_count": null,
   "metadata": {},
   "outputs": [],
   "source": [
    "# unstack to get experiments as columns\n",
    "mean_trace = mean_trace.unstack(level=-1)\n",
    "mean_trace.head()"
   ]
  },
  {
   "cell_type": "markdown",
   "metadata": {},
   "source": [
    "<div style=\"background: #DFF0D8; border-radius: 3px; padding: 10px;\"> \n",
    "<p> 3) Use the <code>mean_trace</code> dataframe generated above to plot the dF/F trace for one cell across the 2 experiment sessions. Include the <code>experiment_id</code> that each trace came from in the figure legend. Make sure it is a cell that has a <code>mean_trace</code> in both sessions. \n",
    "    \n",
    "<p> How does the response differ across days? \n",
    "    \n",
    "</div>"
   ]
  },
  {
   "cell_type": "code",
   "execution_count": null,
   "metadata": {},
   "outputs": [],
   "source": [
    "mean_trace.head()"
   ]
  },
  {
   "cell_type": "code",
   "execution_count": null,
   "metadata": {},
   "outputs": [],
   "source": [
    "cell_data = mean_trace.iloc[0]\n",
    "# hacky way to get timestamps for now\n",
    "flash_timestamps = session.flash_response_df.iloc[0]['dff_trace_timestamps'] - session.flash_response_df.iloc[0]['start_time']\n",
    "for experiment_id in cell_data.keys():\n",
    "    plt.plot(flash_timestamps, cell_data[experiment_id], label=str(experiment_id))\n",
    "plt.legend(loc='upper left');\n",
    "plt.xlabel('time relative to stimulus onset (sec)');\n",
    "plt.ylabel('dF/F');"
   ]
  },
  {
   "cell_type": "markdown",
   "metadata": {},
   "source": [
    "<div style=\"background: #DFF0D8; border-radius: 3px; padding: 10px;\">\n",
    "<p> <b>Exercise 3.3: Merge all the experiments from a single container and plot the mean response for different image sets</b>   \n",
    "    \n",
    "<p> 1) Get all experiment_ids for a single container_id. \n",
    "\n",
    "<p> 2) Merge the trial_response_dfs across sessions using <code>create_multi_session_mean_df</code> and assign the output to 'container_trial_mean_df'. \n",
    "</div>"
   ]
  },
  {
   "cell_type": "code",
   "execution_count": null,
   "metadata": {},
   "outputs": [],
   "source": [
    "# get experiment_ids for one container\n",
    "experiment_ids = experiments[experiments.container_id == 803517529].ophys_experiment_id.values"
   ]
  },
  {
   "cell_type": "code",
   "execution_count": null,
   "metadata": {},
   "outputs": [],
   "source": [
    "# create multi_session dataframe with experiments from this container\n",
    "container_trial_mean_df = tools.create_multi_session_mean_df(cache, experiment_ids)"
   ]
  },
  {
   "cell_type": "code",
   "execution_count": null,
   "metadata": {},
   "outputs": [],
   "source": [
    "# group by experiment_id and stage_name to get the mean response across different session types\n",
    "container_trial_mean_df.groupby(['experiment_id','stage_name']).mean_response.mean()"
   ]
  },
  {
   "cell_type": "code",
   "execution_count": null,
   "metadata": {},
   "outputs": [],
   "source": [
    "# group by experiment_id and image_set to get the mean response across different image sets\n",
    "container_trial_mean_df.groupby(['experiment_id','image_set']).mean_response.mean()"
   ]
  },
  {
   "cell_type": "markdown",
   "metadata": {},
   "source": [
    "<div style=\"background: #DFF0D8; border-radius: 3px; padding: 10px;\">    \n",
    "<p> 3) Plot the mean response for image set A vs. image set B for each cell as a scatter plot. Hint: use <code>groupby()</code> and <code>unstack()</code> as demonstrated above to make it more efficient. \n",
    "</div>"
   ]
  },
  {
   "cell_type": "code",
   "execution_count": null,
   "metadata": {},
   "outputs": [],
   "source": [
    "# ineffient but intuitive way\n",
    "fig, ax = plt.subplots()\n",
    "for cell_specimen_id in container_trial_mean_df.cell_specimen_id.unique():\n",
    "    df = container_trial_mean_df[container_trial_mean_df.cell_specimen_id==cell_specimen_id].copy()\n",
    "    a_response = df[df.image_set=='A'].mean_response.mean()\n",
    "    b_response = df[df.image_set=='B'].mean_response.mean()\n",
    "    ax.plot(a_response, b_response, 'ok')\n",
    "ax.plot([0,0.4],[0,0.4],'k--')\n",
    "ax.set_xlabel('mean dF/F image set A');\n",
    "ax.set_ylabel('mean dF/F image set B');"
   ]
  },
  {
   "cell_type": "code",
   "execution_count": null,
   "metadata": {},
   "outputs": [],
   "source": [
    "# efficient pandas magic way\n",
    "# plot the mean response of each cell to image set A vs image set B\n",
    "cell_image = container_trial_mean_df.groupby(['cell_specimen_id','image_set']).mean_response.mean().unstack(level=1)\n",
    "plt.plot(cell_image.values[:,0],cell_image.values[:,1],'ko')\n",
    "plt.plot([0,0.25],[0,0.25],'k--');\n",
    "plt.xlabel('mean dF/F image set A');\n",
    "plt.ylabel('mean dF/F image set B');"
   ]
  },
  {
   "cell_type": "markdown",
   "metadata": {},
   "source": [
    "<div style=\"background: #DFF0D8; border-radius: 3px; padding: 10px;\">    \n",
    "<p> 4) Plot the population average trace across cells for image set A vs. image set B using the values of the <code>mean_trace</code> column. Indicate the image set for each trace in a figure legend. \n",
    "<p> Bonus: plot the x-axis in seconds. \n",
    "<p> Which image set evokes stronger activity across the population? \n",
    "</div>"
   ]
  },
  {
   "cell_type": "code",
   "execution_count": null,
   "metadata": {},
   "outputs": [],
   "source": [
    "# solution method 1\n",
    "fig, ax = plt.subplots()\n",
    "df = container_trial_mean_df.copy()\n",
    "# get population average trace for both image sets\n",
    "a_response = df[df.image_set=='A'].mean_trace.mean()\n",
    "b_response = df[df.image_set=='B'].mean_trace.mean()\n",
    "# get timestamps to plot\n",
    "tr = session.trial_response_df.copy()\n",
    "timestamps = tr.iloc[0].dff_trace_timestamps - tr.iloc[0].change_time\n",
    "# plot both traces\n",
    "ax.plot(timestamps, a_response, color='r', label='A')\n",
    "ax.plot(timestamps, b_response, color='b', label='B')\n",
    "plt.xlabel('time relative to change (sec)')\n",
    "plt.ylabel('mean dF/F')\n",
    "plt.legend();"
   ]
  },
  {
   "cell_type": "code",
   "execution_count": null,
   "metadata": {},
   "outputs": [],
   "source": [
    "# solution method 2\n",
    "# plot the average trace for all cells by image_set\n",
    "image_set_trace= container_trial_mean_df.groupby('image_set').mean_trace.apply(np.mean)\n",
    "tr = session.trial_response_df.copy()\n",
    "timestamps = tr.iloc[0].dff_trace_timestamps - tr.iloc[0].change_time\n",
    "plt.plot(timestamps, image_set_trace.loc['A'],'r',label='A')\n",
    "plt.plot(timestamps, image_set_trace.loc['B'],'b',label='B')\n",
    "plt.xlabel('time relative to change (sec)')\n",
    "plt.ylabel('mean dF/F')\n",
    "plt.legend();"
   ]
  },
  {
   "cell_type": "markdown",
   "metadata": {},
   "source": [
    "<div style=\"background: #DFF0D8; border-radius: 3px; padding: 10px;\">\n",
    "<p><b>Exercise 3.4: Plot the trial averaged response for passive vs. active sessions from one container</b>\n",
    "   \n",
    "<p> Use the pandas skills learned above to plot the mean response on passive vs. active sessions. \n",
    "    \n",
    "<p> 1) Plot the cell by cell mean response for passive vs. active as a scatterplot. Use the <code>passive</code> column of the <code>container_trial_mean_df</code> dataframe to differentiate passive vs. active.  \n",
    "</div>"
   ]
  },
  {
   "cell_type": "code",
   "execution_count": null,
   "metadata": {},
   "outputs": [],
   "source": [
    "# mean across the entire session\n",
    "container_trial_mean_df.groupby('passive').mean_response.mean()"
   ]
  },
  {
   "cell_type": "code",
   "execution_count": null,
   "metadata": {},
   "outputs": [],
   "source": [
    "# cell by cell plot\n",
    "cell_passive = container_trial_mean_df.groupby(['cell_specimen_id','passive']).mean_response.mean().unstack(level=1)\n",
    "plt.plot(cell_passive.values[:,0],cell_passive.values[:,1],'ko')\n",
    "plt.plot([0,0.2],[0,0.2],'k--');\n",
    "plt.xlabel('mean dF/F active sessions');\n",
    "plt.ylabel('mean dF/F passive sessions');"
   ]
  },
  {
   "cell_type": "code",
   "execution_count": null,
   "metadata": {},
   "outputs": [],
   "source": [
    "# plot the average trace across all cells by active/passive\n",
    "passive = container_trial_mean_df.groupby('passive').mean_trace.apply(np.mean)\n",
    "timestamps = tr.iloc[0].dff_trace_timestamps - tr.iloc[0].change_time\n",
    "plt.plot(timestamps,passive.loc[False],'r',label='Active')\n",
    "plt.plot(timestamps,passive.loc[True],'b',label='Passive')\n",
    "plt.xlabel('time relative to change (sec)')\n",
    "plt.ylabel('mean dF/F')\n",
    "plt.legend()"
   ]
  },
  {
   "cell_type": "code",
   "execution_count": null,
   "metadata": {},
   "outputs": [],
   "source": []
  }
 ],
 "metadata": {
  "anaconda-cloud": {},
  "kernelspec": {
   "display_name": "vba",
   "language": "python",
   "name": "vba"
  },
  "language_info": {
   "codemirror_mode": {
    "name": "ipython",
    "version": 3
   },
   "file_extension": ".py",
   "mimetype": "text/x-python",
   "name": "python",
   "nbconvert_exporter": "python",
   "pygments_lexer": "ipython3",
   "version": "3.8.8"
  }
 },
 "nbformat": 4,
 "nbformat_minor": 2
}
