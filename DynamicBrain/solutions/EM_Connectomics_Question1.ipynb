{
 "cells": [
  {
   "cell_type": "markdown",
   "metadata": {},
   "source": [
    "\n",
    "<img src=\"resources/cropped-SummerWorkshop_Header.png\">  \n",
    "\n",
    "<h1 align=\"center\">EM Connectomics - Question 1</h1> \n",
    "<h2 align=\"center\">Summer Workshop on the Dynamic Brain </h2> \n",
    "<h3 align=\"center\">XXX, August XX, XXXX</h3> \n",
    "\n",
    "<div style=\"border-left: 3px solid #000; padding: 1px; padding-left: 10px; background: #F0FAFF; \">\n",
    "\n",
    "\n",
    "</div>\n",
    "\n"
   ]
  },
  {
   "cell_type": "markdown",
   "metadata": {},
   "source": [
    "<div style=\"border-left: 3px solid #000; padding: 1px; padding-left: 10px; background: #F0FAFF; \">\n",
    "    <p><b>Task 1:</b> This question explores some of basic functionality needed for investigating the EM dataset.\n",
    "</div>"
   ]
  },
  {
   "cell_type": "markdown",
   "metadata": {},
   "source": [
    "<div style=\"background: #DFF0D8; border-radius: 3px; padding: 10px;\">\n",
    "<p><b>Task 1.1:</b> Import the key modules and set parameters\n",
    "\n",
    "</div>"
   ]
  },
  {
   "cell_type": "code",
   "execution_count": 36,
   "metadata": {},
   "outputs": [],
   "source": [
    "from caveclient import CAVEclient\n",
    "from meshparty import trimesh_io, trimesh_vtk\n",
    "import pandas as pd\n",
    "import numpy as np\n",
    "client = CAVEclient('minnie65_public_v117')\n"
   ]
  },
  {
   "cell_type": "code",
   "execution_count": 33,
   "metadata": {},
   "outputs": [],
   "source": [
    "syn_table_resolution = client.materialize.get_table_metadata(client.materialize.synapse_table)['voxel_resolution']"
   ]
  },
  {
   "cell_type": "markdown",
   "metadata": {},
   "source": [
    "<div style=\"background: #DFF0D8; border-radius: 3px; padding: 10px;\">\n",
    "    <p><b> Task 1.2:</b> From the database, find all the 'cleaned' axons that are predicted to be inhibitory cells. \n",
    "      </div>"
   ]
  },
  {
   "cell_type": "code",
   "execution_count": 3,
   "metadata": {},
   "outputs": [
    {
     "data": {
      "text/plain": [
       "['nucleus_detection_v0',\n",
       " 'synapses_pni_2',\n",
       " 'nucleus_neuron_svm',\n",
       " 'proofreading_status_public_release',\n",
       " 'func_unit_em_match_release',\n",
       " 'allen_soma_ei_class_model_v1',\n",
       " 'allen_visp_column_soma_coarse_types_v1']"
      ]
     },
     "execution_count": 3,
     "metadata": {},
     "output_type": "execute_result"
    }
   ],
   "source": [
    "client.materialize.get_tables()"
   ]
  },
  {
   "cell_type": "code",
   "execution_count": 17,
   "metadata": {},
   "outputs": [],
   "source": [
    "cln_df=client.materialize.query_table('proofreading_status_public_release', \n",
    "                              filter_equal_dict={'status_axon': 'clean'})\n",
    "ei_df = client.materialize.query_table('allen_soma_ei_class_model_v1')\n"
   ]
  },
  {
   "cell_type": "code",
   "execution_count": 18,
   "metadata": {},
   "outputs": [],
   "source": [
    "cln_df = pd.merge(cln_df, ei_df, on='pt_root_id', how='left', suffixes=['_prf', '_ei'])\n",
    "inh_cln_df = cln_df.query(\"cell_type=='inhibitory'\")"
   ]
  },
  {
   "cell_type": "code",
   "execution_count": 20,
   "metadata": {},
   "outputs": [
    {
     "data": {
      "text/html": [
       "<div>\n",
       "<style scoped>\n",
       "    .dataframe tbody tr th:only-of-type {\n",
       "        vertical-align: middle;\n",
       "    }\n",
       "\n",
       "    .dataframe tbody tr th {\n",
       "        vertical-align: top;\n",
       "    }\n",
       "\n",
       "    .dataframe thead th {\n",
       "        text-align: right;\n",
       "    }\n",
       "</style>\n",
       "<table border=\"1\" class=\"dataframe\">\n",
       "  <thead>\n",
       "    <tr style=\"text-align: right;\">\n",
       "      <th></th>\n",
       "      <th>id_prf</th>\n",
       "      <th>valid_prf</th>\n",
       "      <th>pt_supervoxel_id_prf</th>\n",
       "      <th>pt_root_id</th>\n",
       "      <th>valid_id</th>\n",
       "      <th>status_dendrite</th>\n",
       "      <th>status_axon</th>\n",
       "      <th>pt_position_prf</th>\n",
       "      <th>id_ei</th>\n",
       "      <th>valid_ei</th>\n",
       "      <th>classification_system</th>\n",
       "      <th>cell_type</th>\n",
       "      <th>pt_supervoxel_id_ei</th>\n",
       "      <th>pt_position_ei</th>\n",
       "    </tr>\n",
       "  </thead>\n",
       "  <tbody>\n",
       "    <tr>\n",
       "      <th>67</th>\n",
       "      <td>498</td>\n",
       "      <td>t</td>\n",
       "      <td>88893591900128821</td>\n",
       "      <td>864691136041323862</td>\n",
       "      <td>864691136041323862</td>\n",
       "      <td>clean</td>\n",
       "      <td>clean</td>\n",
       "      <td>[175280, 194224, 22230]</td>\n",
       "      <td>267293.0</td>\n",
       "      <td>t</td>\n",
       "      <td>aibs_coarse_inhibitory</td>\n",
       "      <td>inhibitory</td>\n",
       "      <td>8.889359e+16</td>\n",
       "      <td>[175280, 194224, 22230]</td>\n",
       "    </tr>\n",
       "    <tr>\n",
       "      <th>68</th>\n",
       "      <td>499</td>\n",
       "      <td>t</td>\n",
       "      <td>91272797422269509</td>\n",
       "      <td>864691135771828043</td>\n",
       "      <td>864691135771828043</td>\n",
       "      <td>clean</td>\n",
       "      <td>clean</td>\n",
       "      <td>[192656, 94768, 20588]</td>\n",
       "      <td>291125.0</td>\n",
       "      <td>t</td>\n",
       "      <td>aibs_coarse_inhibitory</td>\n",
       "      <td>inhibitory</td>\n",
       "      <td>9.127280e+16</td>\n",
       "      <td>[192656, 94768, 20588]</td>\n",
       "    </tr>\n",
       "    <tr>\n",
       "      <th>69</th>\n",
       "      <td>500</td>\n",
       "      <td>t</td>\n",
       "      <td>88676713231585599</td>\n",
       "      <td>864691135697462549</td>\n",
       "      <td>864691135697462549</td>\n",
       "      <td>clean</td>\n",
       "      <td>clean</td>\n",
       "      <td>[173744, 151152, 22254]</td>\n",
       "      <td>260707.0</td>\n",
       "      <td>t</td>\n",
       "      <td>aibs_coarse_inhibitory</td>\n",
       "      <td>inhibitory</td>\n",
       "      <td>8.867671e+16</td>\n",
       "      <td>[173744, 151152, 22254]</td>\n",
       "    </tr>\n",
       "    <tr>\n",
       "      <th>70</th>\n",
       "      <td>501</td>\n",
       "      <td>t</td>\n",
       "      <td>90086012058979206</td>\n",
       "      <td>864691135754758610</td>\n",
       "      <td>864691135754758610</td>\n",
       "      <td>clean</td>\n",
       "      <td>clean</td>\n",
       "      <td>[184256, 165088, 20542]</td>\n",
       "      <td>298796.0</td>\n",
       "      <td>t</td>\n",
       "      <td>aibs_coarse_inhibitory</td>\n",
       "      <td>inhibitory</td>\n",
       "      <td>9.008601e+16</td>\n",
       "      <td>[184256, 165088, 20542]</td>\n",
       "    </tr>\n",
       "    <tr>\n",
       "      <th>71</th>\n",
       "      <td>502</td>\n",
       "      <td>t</td>\n",
       "      <td>89239800355525240</td>\n",
       "      <td>864691135761944374</td>\n",
       "      <td>864691135761944374</td>\n",
       "      <td>clean</td>\n",
       "      <td>clean</td>\n",
       "      <td>[178176, 152192, 20167]</td>\n",
       "      <td>260468.0</td>\n",
       "      <td>t</td>\n",
       "      <td>aibs_coarse_inhibitory</td>\n",
       "      <td>inhibitory</td>\n",
       "      <td>8.923980e+16</td>\n",
       "      <td>[178176, 152192, 20167]</td>\n",
       "    </tr>\n",
       "    <tr>\n",
       "      <th>...</th>\n",
       "      <td>...</td>\n",
       "      <td>...</td>\n",
       "      <td>...</td>\n",
       "      <td>...</td>\n",
       "      <td>...</td>\n",
       "      <td>...</td>\n",
       "      <td>...</td>\n",
       "      <td>...</td>\n",
       "      <td>...</td>\n",
       "      <td>...</td>\n",
       "      <td>...</td>\n",
       "      <td>...</td>\n",
       "      <td>...</td>\n",
       "      <td>...</td>\n",
       "    </tr>\n",
       "    <tr>\n",
       "      <th>163</th>\n",
       "      <td>594</td>\n",
       "      <td>t</td>\n",
       "      <td>88469661180018648</td>\n",
       "      <td>864691135584084344</td>\n",
       "      <td>864691135584084344</td>\n",
       "      <td>clean</td>\n",
       "      <td>clean</td>\n",
       "      <td>[172240, 181184, 20446]</td>\n",
       "      <td>264792.0</td>\n",
       "      <td>t</td>\n",
       "      <td>aibs_coarse_inhibitory</td>\n",
       "      <td>inhibitory</td>\n",
       "      <td>8.846966e+16</td>\n",
       "      <td>[172240, 181184, 20446]</td>\n",
       "    </tr>\n",
       "    <tr>\n",
       "      <th>164</th>\n",
       "      <td>595</td>\n",
       "      <td>t</td>\n",
       "      <td>89033642126703313</td>\n",
       "      <td>864691135463706181</td>\n",
       "      <td>864691135463706181</td>\n",
       "      <td>clean</td>\n",
       "      <td>clean</td>\n",
       "      <td>[176368, 188864, 21766]</td>\n",
       "      <td>264920.0</td>\n",
       "      <td>t</td>\n",
       "      <td>aibs_coarse_inhibitory</td>\n",
       "      <td>inhibitory</td>\n",
       "      <td>8.903364e+16</td>\n",
       "      <td>[176368, 188864, 21766]</td>\n",
       "    </tr>\n",
       "    <tr>\n",
       "      <th>165</th>\n",
       "      <td>596</td>\n",
       "      <td>t</td>\n",
       "      <td>88331122714745538</td>\n",
       "      <td>864691136483135020</td>\n",
       "      <td>864691136483135020</td>\n",
       "      <td>clean</td>\n",
       "      <td>clean</td>\n",
       "      <td>[171248, 197696, 20273]</td>\n",
       "      <td>266850.0</td>\n",
       "      <td>t</td>\n",
       "      <td>aibs_coarse_inhibitory</td>\n",
       "      <td>inhibitory</td>\n",
       "      <td>8.833112e+16</td>\n",
       "      <td>[171248, 197696, 20273]</td>\n",
       "    </tr>\n",
       "    <tr>\n",
       "      <th>169</th>\n",
       "      <td>600</td>\n",
       "      <td>t</td>\n",
       "      <td>88686746275324078</td>\n",
       "      <td>864691135809729740</td>\n",
       "      <td>864691135809729740</td>\n",
       "      <td>clean</td>\n",
       "      <td>clean</td>\n",
       "      <td>[174032, 225648, 22347]</td>\n",
       "      <td>271673.0</td>\n",
       "      <td>t</td>\n",
       "      <td>aibs_coarse_inhibitory</td>\n",
       "      <td>inhibitory</td>\n",
       "      <td>8.868675e+16</td>\n",
       "      <td>[174032, 225648, 22347]</td>\n",
       "    </tr>\n",
       "    <tr>\n",
       "      <th>170</th>\n",
       "      <td>601</td>\n",
       "      <td>t</td>\n",
       "      <td>90713695759696106</td>\n",
       "      <td>864691135303414951</td>\n",
       "      <td>864691135303414951</td>\n",
       "      <td>clean</td>\n",
       "      <td>clean</td>\n",
       "      <td>[188544, 123584, 20721]</td>\n",
       "      <td>292670.0</td>\n",
       "      <td>t</td>\n",
       "      <td>aibs_coarse_inhibitory</td>\n",
       "      <td>inhibitory</td>\n",
       "      <td>9.071370e+16</td>\n",
       "      <td>[188544, 123584, 20721]</td>\n",
       "    </tr>\n",
       "  </tbody>\n",
       "</table>\n",
       "<p>95 rows × 14 columns</p>\n",
       "</div>"
      ],
      "text/plain": [
       "     id_prf valid_prf  pt_supervoxel_id_prf          pt_root_id  \\\n",
       "67      498         t     88893591900128821  864691136041323862   \n",
       "68      499         t     91272797422269509  864691135771828043   \n",
       "69      500         t     88676713231585599  864691135697462549   \n",
       "70      501         t     90086012058979206  864691135754758610   \n",
       "71      502         t     89239800355525240  864691135761944374   \n",
       "..      ...       ...                   ...                 ...   \n",
       "163     594         t     88469661180018648  864691135584084344   \n",
       "164     595         t     89033642126703313  864691135463706181   \n",
       "165     596         t     88331122714745538  864691136483135020   \n",
       "169     600         t     88686746275324078  864691135809729740   \n",
       "170     601         t     90713695759696106  864691135303414951   \n",
       "\n",
       "               valid_id status_dendrite status_axon          pt_position_prf  \\\n",
       "67   864691136041323862           clean       clean  [175280, 194224, 22230]   \n",
       "68   864691135771828043           clean       clean   [192656, 94768, 20588]   \n",
       "69   864691135697462549           clean       clean  [173744, 151152, 22254]   \n",
       "70   864691135754758610           clean       clean  [184256, 165088, 20542]   \n",
       "71   864691135761944374           clean       clean  [178176, 152192, 20167]   \n",
       "..                  ...             ...         ...                      ...   \n",
       "163  864691135584084344           clean       clean  [172240, 181184, 20446]   \n",
       "164  864691135463706181           clean       clean  [176368, 188864, 21766]   \n",
       "165  864691136483135020           clean       clean  [171248, 197696, 20273]   \n",
       "169  864691135809729740           clean       clean  [174032, 225648, 22347]   \n",
       "170  864691135303414951           clean       clean  [188544, 123584, 20721]   \n",
       "\n",
       "        id_ei valid_ei   classification_system   cell_type  \\\n",
       "67   267293.0        t  aibs_coarse_inhibitory  inhibitory   \n",
       "68   291125.0        t  aibs_coarse_inhibitory  inhibitory   \n",
       "69   260707.0        t  aibs_coarse_inhibitory  inhibitory   \n",
       "70   298796.0        t  aibs_coarse_inhibitory  inhibitory   \n",
       "71   260468.0        t  aibs_coarse_inhibitory  inhibitory   \n",
       "..        ...      ...                     ...         ...   \n",
       "163  264792.0        t  aibs_coarse_inhibitory  inhibitory   \n",
       "164  264920.0        t  aibs_coarse_inhibitory  inhibitory   \n",
       "165  266850.0        t  aibs_coarse_inhibitory  inhibitory   \n",
       "169  271673.0        t  aibs_coarse_inhibitory  inhibitory   \n",
       "170  292670.0        t  aibs_coarse_inhibitory  inhibitory   \n",
       "\n",
       "     pt_supervoxel_id_ei           pt_position_ei  \n",
       "67          8.889359e+16  [175280, 194224, 22230]  \n",
       "68          9.127280e+16   [192656, 94768, 20588]  \n",
       "69          8.867671e+16  [173744, 151152, 22254]  \n",
       "70          9.008601e+16  [184256, 165088, 20542]  \n",
       "71          8.923980e+16  [178176, 152192, 20167]  \n",
       "..                   ...                      ...  \n",
       "163         8.846966e+16  [172240, 181184, 20446]  \n",
       "164         8.903364e+16  [176368, 188864, 21766]  \n",
       "165         8.833112e+16  [171248, 197696, 20273]  \n",
       "169         8.868675e+16  [174032, 225648, 22347]  \n",
       "170         9.071370e+16  [188544, 123584, 20721]  \n",
       "\n",
       "[95 rows x 14 columns]"
      ]
     },
     "execution_count": 20,
     "metadata": {},
     "output_type": "execute_result"
    }
   ],
   "source": [
    "inh_cln_df"
   ]
  },
  {
   "cell_type": "markdown",
   "metadata": {},
   "source": [
    "<div style=\"background: #DFF0D8; border-radius: 3px; padding: 10px;\">\n",
    "    <p><b> Task 1.3: </b> Pick an inhibitory cell from the list, and find all its outputs.\n",
    "        </div>"
   ]
  },
  {
   "cell_type": "code",
   "execution_count": 25,
   "metadata": {},
   "outputs": [
    {
     "data": {
      "text/plain": [
       "(9203, 10)"
      ]
     },
     "execution_count": 25,
     "metadata": {},
     "output_type": "execute_result"
    }
   ],
   "source": [
    "neuron_id = 864691135697462549\n",
    "out_df = client.materialize.synapse_query(pre_ids=neuron_id)\n",
    "out_df.shape"
   ]
  },
  {
   "cell_type": "markdown",
   "metadata": {},
   "source": [
    "<div style=\"background: #DFF0D8; border-radius: 3px; padding: 10px;\">\n",
    "    <p><b> Task 1.4:</b> Visualize this cell\n",
    "        </div>"
   ]
  },
  {
   "cell_type": "code",
   "execution_count": 29,
   "metadata": {},
   "outputs": [
    {
     "name": "stdout",
     "output_type": "stream",
     "text": [
      "setting up renderer\n",
      "done setting up\n",
      "actors added\n",
      "camera set\n",
      "render done\n",
      "finalizing..\n"
     ]
    },
    {
     "data": {
      "text/plain": [
       "(vtkRenderingOpenGL2Python.vtkOpenGLRenderer)0x1a3346a4c8"
      ]
     },
     "execution_count": 29,
     "metadata": {},
     "output_type": "execute_result"
    }
   ],
   "source": [
    "mm = trimesh_io.MeshMeta(cv_path =\"precomputed://gs://iarpa_microns/minnie/minnie65/seg\",\n",
    "                         disk_cache_path='./em/meshes/',\n",
    "                         cache_size=0)\n",
    "mesh = mm.mesh(seg_id=neuron_id, lod=2)\n",
    "\n",
    "ma = trimesh_vtk.mesh_actor(mesh, opacity=1.0)\n",
    "trimesh_vtk.render_actors([ma])"
   ]
  },
  {
   "cell_type": "markdown",
   "metadata": {},
   "source": [
    "<div style=\"background: #DFF0D8; border-radius: 3px; padding: 10px;\">\n",
    "    <p><b> Task 1.5: </b> Find the 10 largest synapses from this cell\n",
    "        </div>\n"
   ]
  },
  {
   "cell_type": "code",
   "execution_count": 32,
   "metadata": {},
   "outputs": [],
   "source": [
    "ten_big_df =out_df.sort_values('size', ascending=False).iloc[0:10]"
   ]
  },
  {
   "cell_type": "markdown",
   "metadata": {},
   "source": [
    "<div style=\"background: #DFF0D8; border-radius: 3px; padding: 10px;\">\n",
    "    <p><b> Task 1.6:</b> Visualize the cell and these 10 synapses, with the synapse radius corresponding to the synapse size.\n",
    "        </div>"
   ]
  },
  {
   "cell_type": "code",
   "execution_count": 42,
   "metadata": {},
   "outputs": [],
   "source": [
    "ten_big_pos = np.vstack(ten_big_df.ctr_pt_position.values)*syn_table_resolution\n",
    "pt_act = trimesh_vtk.point_cloud_actor(ten_big_pos, size=ten_big_df['size']*.05)"
   ]
  },
  {
   "cell_type": "code",
   "execution_count": 43,
   "metadata": {},
   "outputs": [
    {
     "name": "stdout",
     "output_type": "stream",
     "text": [
      "setting up renderer\n",
      "done setting up\n",
      "actors added\n",
      "camera set\n",
      "render done\n",
      "finalizing..\n"
     ]
    },
    {
     "data": {
      "text/plain": [
       "(vtkRenderingOpenGL2Python.vtkOpenGLRenderer)0x1a429de1c8"
      ]
     },
     "execution_count": 43,
     "metadata": {},
     "output_type": "execute_result"
    }
   ],
   "source": [
    "trimesh_vtk.render_actors([ma, pt_act])"
   ]
  },
  {
   "cell_type": "code",
   "execution_count": null,
   "metadata": {},
   "outputs": [],
   "source": []
  }
 ],
 "metadata": {
  "kernelspec": {
   "display_name": "Python 3",
   "language": "python",
   "name": "python3"
  },
  "language_info": {
   "codemirror_mode": {
    "name": "ipython",
    "version": 3
   },
   "file_extension": ".py",
   "mimetype": "text/x-python",
   "name": "python",
   "nbconvert_exporter": "python",
   "pygments_lexer": "ipython3",
   "version": "3.7.0"
  }
 },
 "nbformat": 4,
 "nbformat_minor": 2
}
