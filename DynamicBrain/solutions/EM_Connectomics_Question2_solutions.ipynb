{
 "cells": [
  {
   "cell_type": "markdown",
   "metadata": {},
   "source": [
    "\n",
    "<img src=\"resources/cropped-SummerWorkshop_Header.png\">  \n",
    "\n",
    "<h1 align=\"center\">EM Connectomics - Question 2</h1> \n",
    "<h2 align=\"center\">Summer Workshop on the Dynamic Brain </h2> \n",
    "<h3 align=\"center\">Wednesday, August 25, 2021</h3> \n",
    "\n",
    "<div style=\"border-left: 3px solid #000; padding: 1px; padding-left: 10px; background: #F0FAFF; \">\n",
    "\n",
    "\n",
    "</div>\n",
    "\n"
   ]
  },
  {
   "cell_type": "markdown",
   "metadata": {},
   "source": [
    "<div style=\"border-left: 3px solid #000; padding: 1px; padding-left: 10px; background: #F0FAFF; \">\n",
    "    <p><b>Task 1:</b> This question looks at the mapping what fraction of synapses map to cells inhibitory or excitatory cells.\n",
    "</div>"
   ]
  },
  {
   "cell_type": "markdown",
   "metadata": {},
   "source": [
    "<div style=\"background: #DFF0D8; border-radius: 3px; padding: 10px;\">\n",
    "<p><b>Task 1.1:</b> Import the key modules and set parameters\n",
    "\n",
    "</div>"
   ]
  },
  {
   "cell_type": "code",
   "execution_count": 1,
   "metadata": {},
   "outputs": [],
   "source": [
    "from caveclient import CAVEclient\n",
    "from meshparty import trimesh_io, trimesh_vtk\n",
    "import pandas as pd\n",
    "import numpy as np\n",
    "client = CAVEclient('minnie65_public_v117')\n"
   ]
  },
  {
   "cell_type": "code",
   "execution_count": 2,
   "metadata": {},
   "outputs": [],
   "source": [
    "syn_table_resolution = client.materialize.get_table_metadata(client.materialize.synapse_table)['voxel_resolution']"
   ]
  },
  {
   "cell_type": "markdown",
   "metadata": {},
   "source": [
    "<div style=\"background: #DFF0D8; border-radius: 3px; padding: 10px;\">\n",
    "    <p><b> Task 1.2:</b> Pick a neuron with a clean or extended axon\n",
    "      </div>"
   ]
  },
  {
   "cell_type": "code",
   "execution_count": 3,
   "metadata": {},
   "outputs": [
    {
     "data": {
      "text/plain": [
       "['nucleus_detection_v0',\n",
       " 'synapses_pni_2',\n",
       " 'nucleus_neuron_svm',\n",
       " 'proofreading_status_public_release',\n",
       " 'func_unit_em_match_release',\n",
       " 'allen_soma_ei_class_model_v1',\n",
       " 'allen_visp_column_soma_coarse_types_v1']"
      ]
     },
     "execution_count": 3,
     "metadata": {},
     "output_type": "execute_result"
    }
   ],
   "source": [
    "client.materialize.get_tables()"
   ]
  },
  {
   "cell_type": "code",
   "execution_count": 4,
   "metadata": {},
   "outputs": [],
   "source": [
    "cln_df=client.materialize.query_table('proofreading_status_public_release', \n",
    "                              filter_in_dict={'status_axon': ['clean', 'extended']})\n",
    "\n"
   ]
  },
  {
   "cell_type": "code",
   "execution_count": 5,
   "metadata": {},
   "outputs": [
    {
     "data": {
      "text/html": [
       "<div>\n",
       "<style scoped>\n",
       "    .dataframe tbody tr th:only-of-type {\n",
       "        vertical-align: middle;\n",
       "    }\n",
       "\n",
       "    .dataframe tbody tr th {\n",
       "        vertical-align: top;\n",
       "    }\n",
       "\n",
       "    .dataframe thead th {\n",
       "        text-align: right;\n",
       "    }\n",
       "</style>\n",
       "<table border=\"1\" class=\"dataframe\">\n",
       "  <thead>\n",
       "    <tr style=\"text-align: right;\">\n",
       "      <th></th>\n",
       "      <th>id</th>\n",
       "      <th>valid</th>\n",
       "      <th>pt_supervoxel_id</th>\n",
       "      <th>pt_root_id</th>\n",
       "      <th>valid_id</th>\n",
       "      <th>status_dendrite</th>\n",
       "      <th>status_axon</th>\n",
       "      <th>pt_position</th>\n",
       "    </tr>\n",
       "  </thead>\n",
       "  <tbody>\n",
       "    <tr>\n",
       "      <th>0</th>\n",
       "      <td>346</td>\n",
       "      <td>t</td>\n",
       "      <td>89660913577302088</td>\n",
       "      <td>864691136194248918</td>\n",
       "      <td>864691136194248918</td>\n",
       "      <td>extended</td>\n",
       "      <td>extended</td>\n",
       "      <td>[181147, 143788, 22167]</td>\n",
       "    </tr>\n",
       "    <tr>\n",
       "      <th>1</th>\n",
       "      <td>347</td>\n",
       "      <td>t</td>\n",
       "      <td>89941288908184714</td>\n",
       "      <td>864691135517422218</td>\n",
       "      <td>864691135517422218</td>\n",
       "      <td>extended</td>\n",
       "      <td>extended</td>\n",
       "      <td>[182993, 135610, 21130]</td>\n",
       "    </tr>\n",
       "    <tr>\n",
       "      <th>2</th>\n",
       "      <td>348</td>\n",
       "      <td>t</td>\n",
       "      <td>85369450370657325</td>\n",
       "      <td>864691135753932237</td>\n",
       "      <td>864691135753932237</td>\n",
       "      <td>extended</td>\n",
       "      <td>extended</td>\n",
       "      <td>[149711, 151738, 17565]</td>\n",
       "    </tr>\n",
       "    <tr>\n",
       "      <th>3</th>\n",
       "      <td>349</td>\n",
       "      <td>t</td>\n",
       "      <td>92129866602123648</td>\n",
       "      <td>864691135367058169</td>\n",
       "      <td>864691135367058169</td>\n",
       "      <td>extended</td>\n",
       "      <td>extended</td>\n",
       "      <td>[198949, 188854, 19772]</td>\n",
       "    </tr>\n",
       "    <tr>\n",
       "      <th>4</th>\n",
       "      <td>350</td>\n",
       "      <td>t</td>\n",
       "      <td>88815663879226337</td>\n",
       "      <td>864691135293126156</td>\n",
       "      <td>864691135293126156</td>\n",
       "      <td>extended</td>\n",
       "      <td>extended</td>\n",
       "      <td>[174921, 137614, 21123]</td>\n",
       "    </tr>\n",
       "    <tr>\n",
       "      <th>...</th>\n",
       "      <td>...</td>\n",
       "      <td>...</td>\n",
       "      <td>...</td>\n",
       "      <td>...</td>\n",
       "      <td>...</td>\n",
       "      <td>...</td>\n",
       "      <td>...</td>\n",
       "      <td>...</td>\n",
       "    </tr>\n",
       "    <tr>\n",
       "      <th>244</th>\n",
       "      <td>597</td>\n",
       "      <td>t</td>\n",
       "      <td>89387616151457371</td>\n",
       "      <td>864691135472222258</td>\n",
       "      <td>864691135472222258</td>\n",
       "      <td>clean</td>\n",
       "      <td>clean</td>\n",
       "      <td>[178752, 204992, 21876]</td>\n",
       "    </tr>\n",
       "    <tr>\n",
       "      <th>245</th>\n",
       "      <td>598</td>\n",
       "      <td>t</td>\n",
       "      <td>90867283790442087</td>\n",
       "      <td>864691136273892365</td>\n",
       "      <td>864691136273892365</td>\n",
       "      <td>clean</td>\n",
       "      <td>clean</td>\n",
       "      <td>[189888, 219168, 20920]</td>\n",
       "    </tr>\n",
       "    <tr>\n",
       "      <th>246</th>\n",
       "      <td>599</td>\n",
       "      <td>t</td>\n",
       "      <td>89249352362824046</td>\n",
       "      <td>864691135293200652</td>\n",
       "      <td>864691135293200652</td>\n",
       "      <td>clean</td>\n",
       "      <td>clean</td>\n",
       "      <td>[178160, 223344, 20216]</td>\n",
       "    </tr>\n",
       "    <tr>\n",
       "      <th>247</th>\n",
       "      <td>600</td>\n",
       "      <td>t</td>\n",
       "      <td>88686746275324078</td>\n",
       "      <td>864691135809729740</td>\n",
       "      <td>864691135809729740</td>\n",
       "      <td>clean</td>\n",
       "      <td>clean</td>\n",
       "      <td>[174032, 225648, 22347]</td>\n",
       "    </tr>\n",
       "    <tr>\n",
       "      <th>248</th>\n",
       "      <td>601</td>\n",
       "      <td>t</td>\n",
       "      <td>90713695759696106</td>\n",
       "      <td>864691135303414951</td>\n",
       "      <td>864691135303414951</td>\n",
       "      <td>clean</td>\n",
       "      <td>clean</td>\n",
       "      <td>[188544, 123584, 20721]</td>\n",
       "    </tr>\n",
       "  </tbody>\n",
       "</table>\n",
       "<p>249 rows × 8 columns</p>\n",
       "</div>"
      ],
      "text/plain": [
       "      id valid   pt_supervoxel_id          pt_root_id            valid_id  \\\n",
       "0    346     t  89660913577302088  864691136194248918  864691136194248918   \n",
       "1    347     t  89941288908184714  864691135517422218  864691135517422218   \n",
       "2    348     t  85369450370657325  864691135753932237  864691135753932237   \n",
       "3    349     t  92129866602123648  864691135367058169  864691135367058169   \n",
       "4    350     t  88815663879226337  864691135293126156  864691135293126156   \n",
       "..   ...   ...                ...                 ...                 ...   \n",
       "244  597     t  89387616151457371  864691135472222258  864691135472222258   \n",
       "245  598     t  90867283790442087  864691136273892365  864691136273892365   \n",
       "246  599     t  89249352362824046  864691135293200652  864691135293200652   \n",
       "247  600     t  88686746275324078  864691135809729740  864691135809729740   \n",
       "248  601     t  90713695759696106  864691135303414951  864691135303414951   \n",
       "\n",
       "    status_dendrite status_axon              pt_position  \n",
       "0          extended    extended  [181147, 143788, 22167]  \n",
       "1          extended    extended  [182993, 135610, 21130]  \n",
       "2          extended    extended  [149711, 151738, 17565]  \n",
       "3          extended    extended  [198949, 188854, 19772]  \n",
       "4          extended    extended  [174921, 137614, 21123]  \n",
       "..              ...         ...                      ...  \n",
       "244           clean       clean  [178752, 204992, 21876]  \n",
       "245           clean       clean  [189888, 219168, 20920]  \n",
       "246           clean       clean  [178160, 223344, 20216]  \n",
       "247           clean       clean  [174032, 225648, 22347]  \n",
       "248           clean       clean  [188544, 123584, 20721]  \n",
       "\n",
       "[249 rows x 8 columns]"
      ]
     },
     "execution_count": 5,
     "metadata": {},
     "output_type": "execute_result"
    }
   ],
   "source": [
    "cln_df"
   ]
  },
  {
   "cell_type": "code",
   "execution_count": 6,
   "metadata": {},
   "outputs": [],
   "source": [
    "neuron_id = 864691135293126156\n"
   ]
  },
  {
   "cell_type": "markdown",
   "metadata": {},
   "source": [
    "<div style=\"background: #DFF0D8; border-radius: 3px; padding: 10px;\">\n",
    "    <p><b> Task 2.3: </b> Which of the synapses from this cell map to IDs which have just one neuron nucleus?\n",
    "        </div>"
   ]
  },
  {
   "cell_type": "code",
   "execution_count": 7,
   "metadata": {},
   "outputs": [
    {
     "data": {
      "text/plain": [
       "(1308, 10)"
      ]
     },
     "execution_count": 7,
     "metadata": {},
     "output_type": "execute_result"
    }
   ],
   "source": [
    "# get all the synapses from this cell\n",
    "out_df = client.materialize.synapse_query(pre_ids=neuron_id)\n",
    "out_df.shape"
   ]
  },
  {
   "cell_type": "code",
   "execution_count": 8,
   "metadata": {},
   "outputs": [],
   "source": [
    "# get all the neurons\n",
    "nrn_df = client.materialize.query_table('nucleus_neuron_svm',\n",
    "                                        filter_equal_dict={'cell_type':'neuron'})"
   ]
  },
  {
   "cell_type": "code",
   "execution_count": 9,
   "metadata": {},
   "outputs": [],
   "source": [
    "# How many times does a root id appears in the table.\n",
    "# Since each row is a nucleus, this effectively counts the number of neuronal somata.\n",
    "\n",
    "soma_count_df = (\n",
    "    nrn_df\n",
    "        .query('cell_type == \"neuron\"')\n",
    "        .groupby('pt_root_id')\n",
    "        .count()\n",
    "        .rename(columns={'valid': 'num_soma'})\n",
    "    )[['num_soma']]"
   ]
  },
  {
   "cell_type": "code",
   "execution_count": 10,
   "metadata": {},
   "outputs": [
    {
     "data": {
      "text/plain": [
       "<AxesSubplot:>"
      ]
     },
     "execution_count": 10,
     "metadata": {},
     "output_type": "execute_result"
    },
    {
     "data": {
      "image/png": "[encoded data removed]",
      "text/plain": [
       "<Figure size 432x288 with 1 Axes>"
      ]
     },
     "metadata": {
      "needs_background": "light"
     },
     "output_type": "display_data"
    }
   ],
   "source": [
    "# make a histogram of the number of soma\n",
    "# use bins 0,1,2,3,4,5,6,7,8,9,10\n",
    "\n",
    "soma_count_df.num_soma.hist(bins=np.arange(0,10))"
   ]
  },
  {
   "cell_type": "code",
   "execution_count": 11,
   "metadata": {},
   "outputs": [],
   "source": [
    "# merge this with the synapses with the neuron table\n",
    "# hint use how='left' to keep all the synapses but drop unused nuclei\n",
    "pre_syn_df_cnt = out_df.merge(\n",
    "    soma_count_df,\n",
    "    left_on='post_pt_root_id',\n",
    "    right_index=True,\n",
    "    how='left',\n",
    ").fillna(0)"
   ]
  },
  {
   "cell_type": "code",
   "execution_count": 12,
   "metadata": {},
   "outputs": [],
   "source": [
    "# pull out the predictions about e vs i\n",
    "ei_df = client.materialize.query_table('allen_soma_ei_class_model_v1')\n",
    "# remove the predictions where there is more than one soma\n",
    "ei_df_single = ei_df.drop_duplicates(subset=['pt_root_id'])\n"
   ]
  },
  {
   "cell_type": "code",
   "execution_count": 13,
   "metadata": {},
   "outputs": [],
   "source": [
    "# merge in the e/i prediction into a dataframe\n",
    "target_cat_df = pre_syn_df_cnt.merge(\n",
    "    ei_df_single[['pt_root_id', 'cell_type']],\n",
    "    left_on='post_pt_root_id',\n",
    "    right_on='pt_root_id',\n",
    "    how='left',\n",
    ").drop(columns='pt_root_id')\n"
   ]
  },
  {
   "cell_type": "code",
   "execution_count": 14,
   "metadata": {},
   "outputs": [],
   "source": [
    "# write a function that takes a row of your dataframe\n",
    "# and returns a string describing what you know about that synapse\n",
    "# orphan: when you can't map it to a soma\n",
    "# merge error: when there is more than 1 soma\n",
    "# unclassified: when you there is no e/i prediction\n",
    "# inhibitory: when its a single soma inhibitory\n",
    "# excitatory: when its a single soma excitatory\n",
    "\n",
    "def _categorize_targets(row):\n",
    "    if row['num_soma'] == 0:\n",
    "        return 'orphan'\n",
    "    elif row['num_soma'] > 1:\n",
    "        return 'merge error'\n",
    "    elif pd.isna(row['cell_type']):\n",
    "        return 'unclassified'\n",
    "    else: \n",
    "        return row['cell_type']\n",
    "    \n",
    "# use apply (axis=1) to define a label for each synapse\n",
    "target_cat_df['syn_category'] = target_cat_df.apply(_categorize_targets, axis=1)\n",
    "\n",
    "# useful to use pd.CategoricalDtype to turn your label into a categorical variable in pandas\n",
    "syn_cat_dtype=pd.CategoricalDtype(categories=['inhibitory', 'excitatory', 'merge error', 'orphan', 'unclassified'], ordered=True)\n",
    "target_cat_df['syn_category'] = target_cat_df['syn_category'].astype(syn_cat_dtype)\n"
   ]
  },
  {
   "cell_type": "code",
   "execution_count": 15,
   "metadata": {},
   "outputs": [
    {
     "data": {
      "text/html": [
       "<div>\n",
       "<style scoped>\n",
       "    .dataframe tbody tr th:only-of-type {\n",
       "        vertical-align: middle;\n",
       "    }\n",
       "\n",
       "    .dataframe tbody tr th {\n",
       "        vertical-align: top;\n",
       "    }\n",
       "\n",
       "    .dataframe thead th {\n",
       "        text-align: right;\n",
       "    }\n",
       "</style>\n",
       "<table border=\"1\" class=\"dataframe\">\n",
       "  <thead>\n",
       "    <tr style=\"text-align: right;\">\n",
       "      <th></th>\n",
       "      <th>num cells</th>\n",
       "    </tr>\n",
       "    <tr>\n",
       "      <th>syn_category</th>\n",
       "      <th></th>\n",
       "    </tr>\n",
       "  </thead>\n",
       "  <tbody>\n",
       "    <tr>\n",
       "      <th>inhibitory</th>\n",
       "      <td>268</td>\n",
       "    </tr>\n",
       "    <tr>\n",
       "      <th>excitatory</th>\n",
       "      <td>587</td>\n",
       "    </tr>\n",
       "    <tr>\n",
       "      <th>merge error</th>\n",
       "      <td>105</td>\n",
       "    </tr>\n",
       "    <tr>\n",
       "      <th>orphan</th>\n",
       "      <td>333</td>\n",
       "    </tr>\n",
       "    <tr>\n",
       "      <th>unclassified</th>\n",
       "      <td>15</td>\n",
       "    </tr>\n",
       "  </tbody>\n",
       "</table>\n",
       "</div>"
      ],
      "text/plain": [
       "              num cells\n",
       "syn_category           \n",
       "inhibitory          268\n",
       "excitatory          587\n",
       "merge error         105\n",
       "orphan              333\n",
       "unclassified         15"
      ]
     },
     "execution_count": 15,
     "metadata": {},
     "output_type": "execute_result"
    }
   ],
   "source": [
    "# how many synapses fall into each category?\n",
    "target_cat_df.groupby('syn_category').count()[['valid']].rename(columns={'valid': 'num cells'})"
   ]
  },
  {
   "cell_type": "code",
   "execution_count": null,
   "metadata": {},
   "outputs": [],
   "source": []
  }
 ],
 "metadata": {
  "kernelspec": {
   "display_name": "Python 3",
   "language": "python",
   "name": "python3"
  },
  "language_info": {
   "codemirror_mode": {
    "name": "ipython",
    "version": 3
   },
   "file_extension": ".py",
   "mimetype": "text/x-python",
   "name": "python",
   "nbconvert_exporter": "python",
   "pygments_lexer": "ipython3",
   "version": "3.7.10"
  }
 },
 "nbformat": 4,
 "nbformat_minor": 2
}
