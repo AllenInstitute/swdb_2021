{
 "cells": [
  {
   "cell_type": "markdown",
   "metadata": {},
   "source": [
    "<center>\n",
    "    <h1>EM Connectomics - Question 3</h1>\n",
    "    <h2>Summer Workshop on the Dynamic Brain</h2>\n",
    "    <h3>Wednesday, August 25, 2021</h3>\n",
    "</center>"
   ]
  },
  {
   "cell_type": "markdown",
   "metadata": {},
   "source": [
    "**Task 3:** Do the targets of a pyramidal cell differ as you get farther away from the soma?\n",
    "\n",
    "Various studies have found that cortical excitatory neurons exhibit targeting preferences that change with distance along the axon. For example, in medial entorhinal cortex, [Schmidt et al.](https://pubmed.ncbi.nlm.nih.gov/28959971/) found that, closer to the soma, there was a bias toward targeting inhibitory neurons. We're going to look at this question from our EM dataset. This question will extend the E/I target analysis from Task 2 and add in spatial information about the synapse locations."
   ]
  },
  {
   "cell_type": "markdown",
   "metadata": {},
   "source": [
    "**Task 3.0:** Import the key modules and initialize a client"
   ]
  },
  {
   "cell_type": "code",
   "execution_count": 1,
   "metadata": {},
   "outputs": [],
   "source": [
    "# Import modules\n",
    "from meshparty import meshwork, trimesh_vtk\n",
    "from caveclient import CAVEclient\n",
    "import pandas as pd\n",
    "import numpy as np\n",
    "import matplotlib.pyplot as plt\n",
    "import seaborn as sns\n",
    "\n",
    "# Initialize a client for the \"minnie65_public_v117\" datastack.\n",
    "datastack = 'minnie65_public_v117'\n",
    "client = CAVEclient(datastack)"
   ]
  },
  {
   "cell_type": "markdown",
   "metadata": {},
   "source": [
    "**Task 3.1:** Find where the output synapses are on our neuron relative to the soma in both physical space and as a path along the arbor.\n",
    "\n",
    "For this step, for each axonal presynaptic site synapse compute the distance to the soma as both a euclidean value and a distance along the axon. As a check at the end, visualize the distribution of the two distances. For this example, use `root_id = 864691134884807418`, which is a proofread L2/3 pyramidal cell in one of the HVAs. If you have time, feel free to look at the same analysis with other neurons."
   ]
  },
  {
   "cell_type": "code",
   "execution_count": 2,
   "metadata": {},
   "outputs": [],
   "source": [
    "# Load the h5 file for the root id specified\n",
    "root_id = 864691134884807418\n",
    "\n",
    "# Get the filename for this root id on your computer\n",
    "filename = f\"{root_id}_axon_labeled.h5\"\n",
    "\n",
    "nrn = meshwork.load_meshwork(filename)"
   ]
  },
  {
   "cell_type": "code",
   "execution_count": 3,
   "metadata": {},
   "outputs": [],
   "source": [
    "# Extract synapse info into a dataframe\n",
    "presyn_df = nrn.anno.pre_syn.df[['ctr_pt_position', 'post_pt_root_id', 'pre_pt_mesh_ind', 'size']]\n",
    "\n",
    "# Extra-ideal answer: use a filter query to specify only synapses on the axon\n",
    "presyn_df = nrn.anno.pre_syn.filter_query(nrn.anno.is_axon.mesh_mask).df[['ctr_pt_position', 'post_pt_root_id', 'pre_pt_mesh_ind', 'size']]"
   ]
  },
  {
   "cell_type": "code",
   "execution_count": 4,
   "metadata": {},
   "outputs": [],
   "source": [
    "# Get euclidean distance for each synapse\n",
    "voxel_resolution = np.array([4,4,40])\n",
    "soma_position = nrn.vertices[nrn.root]\n",
    "synapse_position = np.vstack(presyn_df['ctr_pt_position']) * voxel_resolution\n",
    "\n",
    "syn_dist_euclidean = np.linalg.norm(synapse_position-soma_position, axis=1)/1000\n",
    "presyn_df['d_euclid'] = syn_dist_euclidean"
   ]
  },
  {
   "cell_type": "code",
   "execution_count": 5,
   "metadata": {},
   "outputs": [],
   "source": [
    "# Get on-arbor distance for each synapse\n",
    "syn_dist_arbor = nrn.distance_to_root(presyn_df['pre_pt_mesh_ind'])/1000"
   ]
  },
  {
   "cell_type": "code",
   "execution_count": 6,
   "metadata": {},
   "outputs": [],
   "source": [
    "presyn_df['d_arbor'] = syn_dist_arbor"
   ]
  },
  {
   "cell_type": "code",
   "execution_count": 7,
   "metadata": {},
   "outputs": [
    {
     "data": {
      "text/plain": [
       "count     553.000000\n",
       "mean      378.152062\n",
       "std       158.777735\n",
       "min        99.605184\n",
       "25%       274.966834\n",
       "50%       350.225932\n",
       "75%       435.685015\n",
       "max      1033.314306\n",
       "Name: d_arbor, dtype: float64"
      ]
     },
     "execution_count": 7,
     "metadata": {},
     "output_type": "execute_result"
    }
   ],
   "source": [
    "presyn_df['d_arbor'].describe()"
   ]
  },
  {
   "cell_type": "code",
   "execution_count": 8,
   "metadata": {},
   "outputs": [
    {
     "data": {
      "text/plain": [
       "<matplotlib.legend.Legend at 0x7fc3e8ec12e0>"
      ]
     },
     "execution_count": 8,
     "metadata": {},
     "output_type": "execute_result"
    },
    {
     "data": {
      "image/png": "[encoded data removed]",
      "text/plain": [
       "<Figure size 360x216 with 1 Axes>"
      ]
     },
     "metadata": {
      "needs_background": "light"
     },
     "output_type": "display_data"
    }
   ],
   "source": [
    "# Visualize the two distances as a histogram\n",
    "# For bins, use 50 micron bins up to a distance of 1000 microns.\n",
    "fig, ax = plt.subplots(figsize=(5,3))\n",
    "bins = np.linspace(0, 1000, 50)\n",
    "\n",
    "sns.histplot(x='d_euclid', data=presyn_df, bins=bins, color='r', element='step', fill=False)\n",
    "sns.histplot(x='d_arbor', data=presyn_df, bins=bins, color='b', element='step', fill=False)\n",
    "ax.legend(['Euclidean', 'Along Arbor'])\n"
   ]
  },
  {
   "cell_type": "markdown",
   "metadata": {},
   "source": [
    "**Task 3.2:** Compute what cell type (if known) does each synapse target.\n",
    "\n",
    "For this step, for each axonal presynaptic site synapse compute the target cell type if it is a single soma, or else label it 'unclassified'."
   ]
  },
  {
   "cell_type": "code",
   "execution_count": 9,
   "metadata": {},
   "outputs": [],
   "source": [
    "# Get the soma table and compute single soma root ids\n",
    "\n",
    "soma_table = client.info.get_datastack_info()['soma_table']\n",
    "soma_df = client.materialize.query_table(soma_table)\n",
    "\n",
    "nrn_soma_df = soma_df.query('cell_type == \"neuron\"').reset_index(drop=True)\n",
    "nrn_soma_df['num_soma'] = nrn_soma_df.groupby('pt_root_id').transform('count')['valid']\n",
    "\n",
    "nrn_single_soma_df = nrn_soma_df.query('num_soma==1').reset_index(drop=True)"
   ]
  },
  {
   "cell_type": "code",
   "execution_count": 10,
   "metadata": {},
   "outputs": [],
   "source": [
    "# Find which targets of our cell are onto single-soma neurons.\n",
    "\n",
    "single_soma_ids = nrn_single_soma_df['pt_root_id'].values\n",
    "\n",
    "presyn_df.loc[presyn_df.query('post_pt_root_id in @single_soma_ids').index, 'is_single'] = True\n",
    "presyn_df['is_single'].fillna(False, inplace=True)\n",
    "\n",
    "ss_targets = np.unique(presyn_df.query('is_single')['post_pt_root_id'].values)"
   ]
  },
  {
   "cell_type": "code",
   "execution_count": 11,
   "metadata": {},
   "outputs": [],
   "source": [
    "# Get the cell type of those single soma targets and add them as a labeled column\n",
    "\n",
    "ei_model_table = 'allen_soma_ei_class_model_v1'\n",
    "ei_df = client.materialize.query_table(ei_model_table)\n",
    "\n",
    "presyn_df = presyn_df.merge(ei_df.query('pt_root_id in @ss_targets')[['pt_root_id', 'cell_type']],\n",
    "                how='left', left_on='post_pt_root_id', right_on='pt_root_id').drop(columns='pt_root_id')\n",
    "\n",
    "presyn_df['cell_type'].fillna('unclassified', inplace=True)"
   ]
  },
  {
   "cell_type": "markdown",
   "metadata": {},
   "source": [
    "**Task 3.3:** Measure how the target cell type change with distance.\n",
    "\n",
    "Here, look at the distribution of target preference as a function of distance from soma. First, make histograms of targeting by cell type and distance from soma using both distances. How do they differ? Next, bin the data by distance and compute the fraction of targets that are excitatory, and plot this value as a function of distance. For bins, use a 50 micron bin width."
   ]
  },
  {
   "cell_type": "code",
   "execution_count": 12,
   "metadata": {},
   "outputs": [
    {
     "data": {
      "text/plain": [
       "Text(0.5, 1.0, 'Along arbor')"
      ]
     },
     "execution_count": 12,
     "metadata": {},
     "output_type": "execute_result"
    },
    {
     "data": {
      "image/png": "[encoded data removed]",
      "text/plain": [
       "<Figure size 576x216 with 2 Axes>"
      ]
     },
     "metadata": {
      "needs_background": "light"
     },
     "output_type": "display_data"
    }
   ],
   "source": [
    "# Visualize the two distances as a histogram\n",
    "fig, axes = plt.subplots(figsize=(8, 3), ncols=2)\n",
    "bins = np.arange(0, 800, 50)\n",
    "\n",
    "ax = axes[0]\n",
    "sns.histplot(\n",
    "    x='d_euclid',\n",
    "    hue='cell_type',\n",
    "    data=presyn_df.query('cell_type != \"unclassified\"'),\n",
    "    bins=bins,\n",
    "    element='step',\n",
    "    palette={'excitatory': 'k', 'inhibitory': 'm'},\n",
    "    fill=False,\n",
    "    ax=ax,\n",
    ")\n",
    "ax.set_title('Euclidean')\n",
    "\n",
    "ax = axes[1]\n",
    "sns.histplot(\n",
    "    x='d_arbor',\n",
    "    hue='cell_type',\n",
    "    data=presyn_df.query('cell_type != \"unclassified\"'),\n",
    "    bins=bins,\n",
    "    element='step',\n",
    "    palette={'excitatory': 'k', 'inhibitory': 'm'},\n",
    "    fill=False,\n",
    "    ax=ax,\n",
    ")\n",
    "ax.set_title('Along arbor')\n",
    "\n",
    "# By eye, there is a clear left shift of the inhibitory synpases on the \"along arbor\" version but not really the euclidean"
   ]
  },
  {
   "cell_type": "code",
   "execution_count": 13,
   "metadata": {},
   "outputs": [],
   "source": [
    "# Now we bin the data:\n",
    "\n",
    "presyn_df['d_arbor_bin'] = np.digitize(presyn_df['d_arbor'], bins)\n",
    "presyn_df['d_euclid_bin'] = np.digitize(presyn_df['d_euclid'], bins)"
   ]
  },
  {
   "cell_type": "code",
   "execution_count": 14,
   "metadata": {},
   "outputs": [],
   "source": [
    "# Find the fraction of synpases that are excitatory for that are excitatory in each bin.\n",
    "# If you want to get a confidence interval as well, look at the function `proportion_confint` in the statsmodels python package\n",
    "\n",
    "arbor_bin_df = presyn_df.query('cell_type!=\"unclassified\"').groupby(['d_arbor_bin', 'cell_type']).agg({'size': 'count'}).reset_index()\n",
    "\n",
    "arbor_bin_pivot_df = arbor_bin_df.pivot_table(index='d_arbor_bin', columns='cell_type', values='size')\n",
    "arbor_bin_pivot_df['total'] = arbor_bin_pivot_df['excitatory']+arbor_bin_pivot_df['inhibitory']\n",
    "arbor_bin_pivot_df['e_frac'] = arbor_bin_pivot_df['excitatory'] / arbor_bin_pivot_df['total']\n",
    "\n",
    "import statsmodels.api as sm\n",
    "conf_min, conf_max = sm.stats.proportion_confint(arbor_bin_pivot_df['excitatory'], arbor_bin_pivot_df['total'], method='wilson')\n",
    "\n",
    "arbor_bin_pivot_df['e_frac_min'] = conf_min\n",
    "arbor_bin_pivot_df['e_frac_max'] = conf_max"
   ]
  },
  {
   "cell_type": "code",
   "execution_count": 15,
   "metadata": {},
   "outputs": [
    {
     "data": {
      "text/html": [
       "<div>\n",
       "<style scoped>\n",
       "    .dataframe tbody tr th:only-of-type {\n",
       "        vertical-align: middle;\n",
       "    }\n",
       "\n",
       "    .dataframe tbody tr th {\n",
       "        vertical-align: top;\n",
       "    }\n",
       "\n",
       "    .dataframe thead th {\n",
       "        text-align: right;\n",
       "    }\n",
       "</style>\n",
       "<table border=\"1\" class=\"dataframe\">\n",
       "  <thead>\n",
       "    <tr style=\"text-align: right;\">\n",
       "      <th>cell_type</th>\n",
       "      <th>excitatory</th>\n",
       "      <th>inhibitory</th>\n",
       "      <th>total</th>\n",
       "      <th>e_frac</th>\n",
       "      <th>e_frac_min</th>\n",
       "      <th>e_frac_max</th>\n",
       "    </tr>\n",
       "    <tr>\n",
       "      <th>d_arbor_bin</th>\n",
       "      <th></th>\n",
       "      <th></th>\n",
       "      <th></th>\n",
       "      <th></th>\n",
       "      <th></th>\n",
       "      <th></th>\n",
       "    </tr>\n",
       "  </thead>\n",
       "  <tbody>\n",
       "    <tr>\n",
       "      <th>3</th>\n",
       "      <td>1</td>\n",
       "      <td>8</td>\n",
       "      <td>9</td>\n",
       "      <td>0.111111</td>\n",
       "      <td>0.019891</td>\n",
       "      <td>0.435000</td>\n",
       "    </tr>\n",
       "    <tr>\n",
       "      <th>4</th>\n",
       "      <td>6</td>\n",
       "      <td>17</td>\n",
       "      <td>23</td>\n",
       "      <td>0.260870</td>\n",
       "      <td>0.125486</td>\n",
       "      <td>0.464700</td>\n",
       "    </tr>\n",
       "    <tr>\n",
       "      <th>5</th>\n",
       "      <td>12</td>\n",
       "      <td>20</td>\n",
       "      <td>32</td>\n",
       "      <td>0.375000</td>\n",
       "      <td>0.229339</td>\n",
       "      <td>0.547456</td>\n",
       "    </tr>\n",
       "    <tr>\n",
       "      <th>6</th>\n",
       "      <td>24</td>\n",
       "      <td>17</td>\n",
       "      <td>41</td>\n",
       "      <td>0.585366</td>\n",
       "      <td>0.433671</td>\n",
       "      <td>0.722435</td>\n",
       "    </tr>\n",
       "    <tr>\n",
       "      <th>7</th>\n",
       "      <td>29</td>\n",
       "      <td>21</td>\n",
       "      <td>50</td>\n",
       "      <td>0.580000</td>\n",
       "      <td>0.442334</td>\n",
       "      <td>0.706250</td>\n",
       "    </tr>\n",
       "    <tr>\n",
       "      <th>8</th>\n",
       "      <td>31</td>\n",
       "      <td>12</td>\n",
       "      <td>43</td>\n",
       "      <td>0.720930</td>\n",
       "      <td>0.573090</td>\n",
       "      <td>0.832534</td>\n",
       "    </tr>\n",
       "    <tr>\n",
       "      <th>9</th>\n",
       "      <td>14</td>\n",
       "      <td>7</td>\n",
       "      <td>21</td>\n",
       "      <td>0.666667</td>\n",
       "      <td>0.453735</td>\n",
       "      <td>0.828052</td>\n",
       "    </tr>\n",
       "    <tr>\n",
       "      <th>10</th>\n",
       "      <td>16</td>\n",
       "      <td>5</td>\n",
       "      <td>21</td>\n",
       "      <td>0.761905</td>\n",
       "      <td>0.549088</td>\n",
       "      <td>0.893720</td>\n",
       "    </tr>\n",
       "    <tr>\n",
       "      <th>11</th>\n",
       "      <td>11</td>\n",
       "      <td>4</td>\n",
       "      <td>15</td>\n",
       "      <td>0.733333</td>\n",
       "      <td>0.480496</td>\n",
       "      <td>0.891025</td>\n",
       "    </tr>\n",
       "    <tr>\n",
       "      <th>12</th>\n",
       "      <td>5</td>\n",
       "      <td>2</td>\n",
       "      <td>7</td>\n",
       "      <td>0.714286</td>\n",
       "      <td>0.358934</td>\n",
       "      <td>0.917781</td>\n",
       "    </tr>\n",
       "    <tr>\n",
       "      <th>13</th>\n",
       "      <td>9</td>\n",
       "      <td>2</td>\n",
       "      <td>11</td>\n",
       "      <td>0.818182</td>\n",
       "      <td>0.523019</td>\n",
       "      <td>0.948632</td>\n",
       "    </tr>\n",
       "    <tr>\n",
       "      <th>14</th>\n",
       "      <td>3</td>\n",
       "      <td>3</td>\n",
       "      <td>6</td>\n",
       "      <td>0.500000</td>\n",
       "      <td>0.187616</td>\n",
       "      <td>0.812384</td>\n",
       "    </tr>\n",
       "    <tr>\n",
       "      <th>15</th>\n",
       "      <td>5</td>\n",
       "      <td>1</td>\n",
       "      <td>6</td>\n",
       "      <td>0.833333</td>\n",
       "      <td>0.436497</td>\n",
       "      <td>0.969947</td>\n",
       "    </tr>\n",
       "    <tr>\n",
       "      <th>16</th>\n",
       "      <td>11</td>\n",
       "      <td>1</td>\n",
       "      <td>12</td>\n",
       "      <td>0.916667</td>\n",
       "      <td>0.646120</td>\n",
       "      <td>0.985135</td>\n",
       "    </tr>\n",
       "  </tbody>\n",
       "</table>\n",
       "</div>"
      ],
      "text/plain": [
       "cell_type    excitatory  inhibitory  total    e_frac  e_frac_min  e_frac_max\n",
       "d_arbor_bin                                                                 \n",
       "3                     1           8      9  0.111111    0.019891    0.435000\n",
       "4                     6          17     23  0.260870    0.125486    0.464700\n",
       "5                    12          20     32  0.375000    0.229339    0.547456\n",
       "6                    24          17     41  0.585366    0.433671    0.722435\n",
       "7                    29          21     50  0.580000    0.442334    0.706250\n",
       "8                    31          12     43  0.720930    0.573090    0.832534\n",
       "9                    14           7     21  0.666667    0.453735    0.828052\n",
       "10                   16           5     21  0.761905    0.549088    0.893720\n",
       "11                   11           4     15  0.733333    0.480496    0.891025\n",
       "12                    5           2      7  0.714286    0.358934    0.917781\n",
       "13                    9           2     11  0.818182    0.523019    0.948632\n",
       "14                    3           3      6  0.500000    0.187616    0.812384\n",
       "15                    5           1      6  0.833333    0.436497    0.969947\n",
       "16                   11           1     12  0.916667    0.646120    0.985135"
      ]
     },
     "execution_count": 15,
     "metadata": {},
     "output_type": "execute_result"
    }
   ],
   "source": [
    "arbor_bin_pivot_df"
   ]
  },
  {
   "cell_type": "code",
   "execution_count": 16,
   "metadata": {},
   "outputs": [],
   "source": [
    "euclid_bin_df = presyn_df.query('cell_type!=\"unclassified\"').groupby(['d_euclid_bin', 'cell_type']).agg({'size': 'count'}).reset_index()\n",
    "euclid_bin_pivot_df = euclid_bin_df.pivot_table(index='d_euclid_bin', columns='cell_type', values='size')\n",
    "\n",
    "euclid_bin_pivot_df['total'] = euclid_bin_pivot_df['excitatory']+euclid_bin_pivot_df['inhibitory']\n",
    "\n",
    "euclid_bin_pivot_df['e_frac'] = euclid_bin_pivot_df['excitatory'] / euclid_bin_pivot_df['total']\n",
    "\n",
    "conf_min, conf_max = sm.stats.proportion_confint(euclid_bin_pivot_df['excitatory'], euclid_bin_pivot_df['total'], method='wilson')\n",
    "\n",
    "euclid_bin_pivot_df['e_frac_min'] = conf_min\n",
    "euclid_bin_pivot_df['e_frac_max'] = conf_max"
   ]
  },
  {
   "cell_type": "code",
   "execution_count": 17,
   "metadata": {},
   "outputs": [
    {
     "data": {
      "text/html": [
       "<div>\n",
       "<style scoped>\n",
       "    .dataframe tbody tr th:only-of-type {\n",
       "        vertical-align: middle;\n",
       "    }\n",
       "\n",
       "    .dataframe tbody tr th {\n",
       "        vertical-align: top;\n",
       "    }\n",
       "\n",
       "    .dataframe thead th {\n",
       "        text-align: right;\n",
       "    }\n",
       "</style>\n",
       "<table border=\"1\" class=\"dataframe\">\n",
       "  <thead>\n",
       "    <tr style=\"text-align: right;\">\n",
       "      <th>cell_type</th>\n",
       "      <th>excitatory</th>\n",
       "      <th>inhibitory</th>\n",
       "      <th>total</th>\n",
       "      <th>e_frac</th>\n",
       "      <th>e_frac_min</th>\n",
       "      <th>e_frac_max</th>\n",
       "    </tr>\n",
       "    <tr>\n",
       "      <th>d_euclid_bin</th>\n",
       "      <th></th>\n",
       "      <th></th>\n",
       "      <th></th>\n",
       "      <th></th>\n",
       "      <th></th>\n",
       "      <th></th>\n",
       "    </tr>\n",
       "  </thead>\n",
       "  <tbody>\n",
       "    <tr>\n",
       "      <th>1</th>\n",
       "      <td>4</td>\n",
       "      <td>5</td>\n",
       "      <td>9</td>\n",
       "      <td>0.444444</td>\n",
       "      <td>0.188779</td>\n",
       "      <td>0.733349</td>\n",
       "    </tr>\n",
       "    <tr>\n",
       "      <th>2</th>\n",
       "      <td>17</td>\n",
       "      <td>26</td>\n",
       "      <td>43</td>\n",
       "      <td>0.395349</td>\n",
       "      <td>0.263653</td>\n",
       "      <td>0.544209</td>\n",
       "    </tr>\n",
       "    <tr>\n",
       "      <th>3</th>\n",
       "      <td>27</td>\n",
       "      <td>21</td>\n",
       "      <td>48</td>\n",
       "      <td>0.562500</td>\n",
       "      <td>0.422750</td>\n",
       "      <td>0.692987</td>\n",
       "    </tr>\n",
       "    <tr>\n",
       "      <th>4</th>\n",
       "      <td>46</td>\n",
       "      <td>31</td>\n",
       "      <td>77</td>\n",
       "      <td>0.597403</td>\n",
       "      <td>0.485769</td>\n",
       "      <td>0.699780</td>\n",
       "    </tr>\n",
       "    <tr>\n",
       "      <th>5</th>\n",
       "      <td>44</td>\n",
       "      <td>12</td>\n",
       "      <td>56</td>\n",
       "      <td>0.785714</td>\n",
       "      <td>0.661805</td>\n",
       "      <td>0.872941</td>\n",
       "    </tr>\n",
       "    <tr>\n",
       "      <th>6</th>\n",
       "      <td>22</td>\n",
       "      <td>10</td>\n",
       "      <td>32</td>\n",
       "      <td>0.687500</td>\n",
       "      <td>0.514333</td>\n",
       "      <td>0.820475</td>\n",
       "    </tr>\n",
       "    <tr>\n",
       "      <th>7</th>\n",
       "      <td>9</td>\n",
       "      <td>8</td>\n",
       "      <td>17</td>\n",
       "      <td>0.529412</td>\n",
       "      <td>0.309632</td>\n",
       "      <td>0.738349</td>\n",
       "    </tr>\n",
       "    <tr>\n",
       "      <th>8</th>\n",
       "      <td>4</td>\n",
       "      <td>5</td>\n",
       "      <td>9</td>\n",
       "      <td>0.444444</td>\n",
       "      <td>0.188779</td>\n",
       "      <td>0.733349</td>\n",
       "    </tr>\n",
       "    <tr>\n",
       "      <th>9</th>\n",
       "      <td>4</td>\n",
       "      <td>2</td>\n",
       "      <td>6</td>\n",
       "      <td>0.666667</td>\n",
       "      <td>0.299993</td>\n",
       "      <td>0.903229</td>\n",
       "    </tr>\n",
       "  </tbody>\n",
       "</table>\n",
       "</div>"
      ],
      "text/plain": [
       "cell_type     excitatory  inhibitory  total    e_frac  e_frac_min  e_frac_max\n",
       "d_euclid_bin                                                                 \n",
       "1                      4           5      9  0.444444    0.188779    0.733349\n",
       "2                     17          26     43  0.395349    0.263653    0.544209\n",
       "3                     27          21     48  0.562500    0.422750    0.692987\n",
       "4                     46          31     77  0.597403    0.485769    0.699780\n",
       "5                     44          12     56  0.785714    0.661805    0.872941\n",
       "6                     22          10     32  0.687500    0.514333    0.820475\n",
       "7                      9           8     17  0.529412    0.309632    0.738349\n",
       "8                      4           5      9  0.444444    0.188779    0.733349\n",
       "9                      4           2      6  0.666667    0.299993    0.903229"
      ]
     },
     "execution_count": 17,
     "metadata": {},
     "output_type": "execute_result"
    }
   ],
   "source": [
    "euclid_bin_pivot_df"
   ]
  },
  {
   "cell_type": "code",
   "execution_count": 18,
   "metadata": {},
   "outputs": [
    {
     "data": {
      "text/plain": [
       "<matplotlib.legend.Legend at 0x7fc3d97cdfa0>"
      ]
     },
     "execution_count": 18,
     "metadata": {},
     "output_type": "execute_result"
    },
    {
     "data": {
      "image/png": "[encoded data removed]",
      "text/plain": [
       "<Figure size 360x360 with 1 Axes>"
      ]
     },
     "metadata": {
      "needs_background": "light"
     },
     "output_type": "display_data"
    }
   ],
   "source": [
    "# Visualize fraction of synpases that excitatory as a function of distance bins (with errorbars if you computed confidence intervals)\n",
    "\n",
    "euclid_y_error = euclid_bin_pivot_df[['e_frac_min', 'e_frac_max']].values.T\n",
    "euclid_y_error[1,:] = euclid_y_error[1,:]-euclid_bin_pivot_df['e_frac']\n",
    "euclid_y_error[0,:] = euclid_bin_pivot_df['e_frac']-euclid_y_error[0,:]\n",
    "\n",
    "arbor_y_error = arbor_bin_pivot_df[['e_frac_min', 'e_frac_max']].values.T\n",
    "arbor_y_error[1,:] = arbor_y_error[1,:]-arbor_bin_pivot_df['e_frac']\n",
    "arbor_y_error[0,:] = arbor_bin_pivot_df['e_frac']-arbor_y_error[0,:]\n",
    "\n",
    "fig, ax = plt.subplots(figsize=(5,5))\n",
    "ax.errorbar(euclid_bin_pivot_df.index*50-30, euclid_bin_pivot_df['e_frac'], yerr=euclid_y_error, marker='o', color='r')\n",
    "ax.errorbar(arbor_bin_pivot_df.index*50-20, arbor_bin_pivot_df['e_frac'], yerr=arbor_y_error, marker='o', color='b')\n",
    "ax.set_ylabel('Excitatory Fraction')\n",
    "ax.set_xlabel('Distance From Soma ($\\mu m$)')\n",
    "\n",
    "ax.legend(['Euclidean', 'Along Arbor'])\n",
    "\n",
    "# Sure enough, there's an increase in excitatory targeting as axons get farther from the cell body."
   ]
  }
 ],
 "metadata": {
  "kernelspec": {
   "display_name": "analysis",
   "language": "python",
   "name": "analysis"
  },
  "language_info": {
   "codemirror_mode": {
    "name": "ipython",
    "version": 3
   },
   "file_extension": ".py",
   "mimetype": "text/x-python",
   "name": "python",
   "nbconvert_exporter": "python",
   "pygments_lexer": "ipython3",
   "version": "3.8.6"
  }
 },
 "nbformat": 4,
 "nbformat_minor": 4
}
