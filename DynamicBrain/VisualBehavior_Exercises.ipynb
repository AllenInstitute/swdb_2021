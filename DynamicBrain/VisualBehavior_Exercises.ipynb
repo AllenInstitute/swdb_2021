{
 "cells": [
  {
   "cell_type": "markdown",
   "metadata": {},
   "source": [
    "<img src=\"../../resources/cropped-SummerWorkshop_Header.png\">  \n",
    "\n",
    "<h1 align=\"center\">Brain Observatory - Visual Behavior </h1> \n",
    "<h2 align=\"center\">Summer Workshop on the Dynamic Brain </h2> \n",
    "<h3 align=\"center\">Tuesday, August 24, 2021</h3> \n"
   ]
  },
  {
   "cell_type": "markdown",
   "metadata": {},
   "source": [
    "<div style=\"border-left: 3px solid #000; padding: 1px; padding-left: 10px; background: #F0FAFF; \">\n",
    "<h2>Visual Behavior Exercises Overview </h2>\n",
    "    \n",
    "<p> This notebook contains exercises covering several topics including behavior performance, single cell physiology and across session analysis.\n",
    "  \n",
    "<p> The exercises can be done in sequential order, or you can skip around to the exercises that interest you most. \n",
    "    \n",
    "<p> If you get stuck, please ask a TA for help, look it up on stackoverflow, or check the solutions notebook. \n",
    "    We dont expect you to know everything already - the goal is to learn, and learning requires making mistakes and asking questions. \n",
    "\n",
    "<h3>Outline </h3>\n",
    "\n",
    "<p><b>Behavior Exercises</b>\n",
    "<ul><li>Exercise 1.1: Plot the distribution of reaction times for go trials from one session\n",
    "    <li>Exercise 1.2: Plot reward rate over time during a session\n",
    "<li>Exercise 1.3: Compute and plot hit rate over time during a session\n",
    "<li>Exercise 1.4: Plot the average hit rate for each image. Dislay presented stimuli\n",
    "<li>Exercise 1.5: Plot the correct response probability for all image transitions\n",
    "</ul>\n",
    "<p><b>Single Cell Physiology Exercises</b> - this section requires stimulus_response_df as well as other mindscope_utilities functions\n",
    "<ul><li>Exercise 2.1: Plot neural activity during image changes using the stimulus response dataframe and stimulus_presentations\n",
    "<li>Exercise 2.2: Correlate neural activity with running speed on a trial by trial basis. Binarize trials into running and stationary\n",
    "<li>Exercise 2.3: Plot the trial averaged response across changes for one or all cells using the trial response dataframe. Examine pupil size effect on change responses\n",
    "<li>Exercise 2.4: Create a heatmap of all cells' averaged responses following an image change. \n",
    "</div>\n"
   ]
  },
  {
   "cell_type": "code",
   "execution_count": null,
   "metadata": {},
   "outputs": [],
   "source": [
    "# you will need these libraries for computation & data manipulation\n",
    "import os\n",
    "import numpy as np\n",
    "import pandas as pd\n",
    "\n",
    "# matplotlib is a standard python visualization package\n",
    "import matplotlib.pyplot as plt\n",
    "%matplotlib inline\n",
    "\n",
    "# seaborn is another library for statistical data visualization\n",
    "# seaborn style & context settings make plots pretty & legible automatically\n",
    "import seaborn as sns\n",
    "sns.set_context('notebook', font_scale=1.5, rc={'lines.markeredgewidth': 2})\n",
    "sns.set_style('white');\n",
    "sns.set_palette('deep');"
   ]
  },
  {
   "cell_type": "code",
   "execution_count": null,
   "metadata": {},
   "outputs": [],
   "source": [
    "# Import allensdk modules for loading and interacting with the data\n",
    "from allensdk.brain_observatory.behavior.behavior_project_cache \\\n",
    "import VisualBehaviorOphysProjectCache"
   ]
  },
  {
   "cell_type": "code",
   "execution_count": null,
   "metadata": {},
   "outputs": [],
   "source": [
    "import platform\n",
    "platstring = platform.platform()\n",
    "\n",
    "if ('amzn1' in platstring):\n",
    "    # for AWS\n",
    "    data_storage_directory = \"/data/visual-behavior-ophys_data\"\n",
    "    # use local cache for AWS\n",
    "    cache = VisualBehaviorOphysProjectCache.from_local_cache(cache_dir=data_storage_directory, use_static_cache=True)\n",
    "else:  \n",
    "    # for local drive, different operating systems\n",
    "    if 'Darwin' in platstring:\n",
    "        # OS X \n",
    "        data_root = \"/Volumes/Brain2021/\"\n",
    "    elif 'Windows'  in platstring:\n",
    "        # Windows (replace with the drive letter of USB drive)\n",
    "        data_root = \"E:/\"\n",
    "    else:\n",
    "        # your own linux platform\n",
    "        # EDIT location where you mounted hard drive\n",
    "        data_root = \"/media/$USERNAME/Brain2021/\"\n",
    "        data_root = \"/run/media/tom.chartrand/Brain2021\"\n",
    "        \n",
    "    # visual behavior cache directory\n",
    "    cache_dir = manifest_path = os.path.join(data_root, \"visual_behavior\")\n",
    "    # use from_s3_cache for loading from local directory\n",
    "    cache = VisualBehaviorOphysProjectCache.from_s3_cache(cache_dir=cache_dir)"
   ]
  },
  {
   "cell_type": "code",
   "execution_count": null,
   "metadata": {
    "scrolled": true
   },
   "outputs": [],
   "source": [
    "data_storage_directory = \"/temp\" # Note: this path must exist on your local drive\n",
    "cache = VisualBehaviorOphysProjectCache.from_s3_cache(cache_dir=data_storage_directory)\n"
   ]
  },
  {
   "cell_type": "markdown",
   "metadata": {},
   "source": [
    "<div style=\"background: #DFF0D8; border-radius: 3px; padding: 10px;\">\n",
    "<p><b>Pick an ophys experiment based on its <code>cre_line</code>, <code>imaging_depth</code>, <code>session_number</code> and with no <code>prior_exposure_to_session_type</code></b>\n",
    "    \n",
    "<p>1) Use <code>cache</code> to get ophys experiment table. Filter the experiments table according to your metadata of interest and get the <code>ophys_experiment_id</code> for a session of your choosing. \n",
    "    \n",
    "<p>Hint: use pandas Boolean indexing to filter by multiple column values.\n",
    "    \n",
    " __[Documentation for Boolean indexing](https://pandas.pydata.org/pandas-docs/stable/user_guide/indexing.html)__\n",
    "</div>"
   ]
  },
  {
   "cell_type": "code",
   "execution_count": null,
   "metadata": {},
   "outputs": [],
   "source": [
    "# load the experiments dataframe\n",
    "experiments_df = cache.get_ophys_experiment_table()\n",
    "# print first 5 rows to familiarize yourself with it\n",
    "experiments_df.head()"
   ]
  },
  {
   "cell_type": "markdown",
   "metadata": {},
   "source": [
    "<div style=\"background: #DFF0D8; border-radius: 3px; padding: 10px;\">\n",
    "Subselect experiments based on your selection criteria, and assign them to a new variable called `selected_experiments`. \n",
    "</div>"
   ]
  },
  {
   "cell_type": "code",
   "execution_count": null,
   "metadata": {},
   "outputs": [],
   "source": [
    "selected_experiments = experiments_df[(experiments_df['cre_line'] == ...) &\n",
    "                                   (experiments_df['imaging_depth'] <= ...) & \n",
    "                                   (experiments_df['session_number'] == ...) &\n",
    "                                   (experiments_df['prior_exposures_to_image_set'] == ..)]\n"
   ]
  },
  {
   "cell_type": "code",
   "execution_count": null,
   "metadata": {},
   "outputs": [],
   "source": [
    "# print first few rows of your new selected_experiments df\n",
    "selected_experiments.head()"
   ]
  },
  {
   "cell_type": "code",
   "execution_count": null,
   "metadata": {},
   "outputs": [],
   "source": [
    "print('There are {} experiments that met your criteria'.format(len(selected_experiments)))"
   ]
  },
  {
   "cell_type": "code",
   "execution_count": null,
   "metadata": {},
   "outputs": [],
   "source": [
    "# Select one experiment id\n",
    "experiment_id = ..."
   ]
  },
  {
   "cell_type": "markdown",
   "metadata": {},
   "source": [
    "<div style=\"background: #DFF0D8; border-radius: 3px; padding: 10px;\">\n",
    "<p>2) Load the experiment object for your experiment, and asign it to <code>ophys_experiment</code> variable. <b>Hint:</b> You can use <code>get_behavior_ophys_experiment()</code> method that can be found in <code>cache</code>.\n",
    "\n",
    "</div>"
   ]
  },
  {
   "cell_type": "code",
   "execution_count": null,
   "metadata": {},
   "outputs": [],
   "source": [
    "ophys_experiment = ..."
   ]
  },
  {
   "cell_type": "markdown",
   "metadata": {},
   "source": [
    "<div style=\"border-left: 3px solid #000; padding: 1px; padding-left: 10px; background: #F0FAFF; \">\n",
    "<h2>Behavior Exercises</h2>\n",
    "\n",
    "<p>This set of exercises explores precomputed behavior metrics, using the <code>trials</code> dataframe. The <code>trials</code> dataframe is organized around the times of stimulus identity changes (go trials) and sham change times (catch trials). It contains data and metadata for each behavioral trial, including lick times, reward times, and image identity. <p><b>Note:</b> the behavioral trials are not the same as stimulus presentations. One behavioral trial contains multiple stimulus presentations. \n",
    "    \n",
    "</div>"
   ]
  },
  {
   "cell_type": "markdown",
   "metadata": {},
   "source": [
    "<div style=\"background: #DFF0D8; border-radius: 3px; padding: 10px;\">.\n",
    "<p><b>Exercise 1.1: Plot the distribution of reaction times for go trials from one session</b>\n",
    "\n",
    "<p> 1) Get the <code>trials</code> dataframe from the <code>ophys_experiment</code> object. Remember to use <code>.copy()</code> method to avoid altering original dataframe.\n",
    "  \n",
    "</div>"
   ]
  },
  {
   "cell_type": "code",
   "execution_count": null,
   "metadata": {},
   "outputs": [],
   "source": [
    "# copy trials df and display last \n",
    "# few rows of the dataframe using .tail() method\n",
    "\n",
    "trials = ...\n",
    "trials.tail()"
   ]
  },
  {
   "cell_type": "code",
   "execution_count": null,
   "metadata": {},
   "outputs": [],
   "source": [
    "# you can also use .keys() method to deplay all column names\n",
    "trials.keys()"
   ]
  },
  {
   "cell_type": "markdown",
   "metadata": {},
   "source": [
    "`trials` contains many columns:\n",
    "* `lick_times` -  if the animal licked during a trial, timestamps of licks in seconds\n",
    "* `reward_time` - if the animal was rewarded during a trial, timestamps of reward in seconds\n",
    "* `reward_volumn` - volume of water disposed if rewarded, in ml\n",
    "* `hit` - if it was a hit trial, meaning a go trial that animal got correctly\n",
    "* `false_alarm` - if it was a false alarm trial, meaning a no-go trial when animal licked\n",
    "* `miss` - if it was a miss trial, a go trial but animal did not lick\n",
    "* `stimulus_change` if the stimulus changed on this trial\n",
    "* `aborted` - if the animal licked too quickly when the trials started, the trial was aborted\n",
    "* `go` - if it was a go trials, True or False\n",
    "* `catch` - if it was a catch trial, True or False (catch trial is a trial that would have been a go, but the image did not change\n",
    "* `auto_rewarded` - if the trial was autorewarded; the first 5 go trials in the session are autorewarded to prime the animals for the task\n",
    "* `correct_reject` - if the trial was a catch trial and the animal did not lick\n",
    "* `start_time` - in seconds, start time of a trial\n",
    "* `stop_time` -  in seconds, start time of a trial\n",
    "* `trial_length` - in seconds, length of the trial\n",
    "* `response_time` - in seconds, time of the animals response\n",
    "* `change_frame` - \n",
    "* `change_time` - in seconds, time of a change image\n",
    "* `response_latency` - in seconds, lick time post image change\n",
    "* `initial_image_name` - identity of a repeated image in this trial\n",
    "* `change_image_name` - identity of a change image in this trial\n"
   ]
  },
  {
   "cell_type": "markdown",
   "metadata": {},
   "source": [
    "<div style=\"background: #DFF0D8; border-radius: 3px; padding: 10px;\">.\n",
    "<p> 2) Filter the trials dataframe to get <code>go</code> trials only. \n",
    "</div>"
   ]
  },
  {
   "cell_type": "code",
   "execution_count": null,
   "metadata": {},
   "outputs": [],
   "source": [
    "# display values in response latency column for go trials\n"
   ]
  },
  {
   "cell_type": "markdown",
   "metadata": {},
   "source": [
    "<div style=\"background: #DFF0D8; border-radius: 3px; padding: 10px;\">\n",
    "    <b>Note:</b> <code>go</code> trials during which the animals did not respond have <code>inf</code> as a reponse latency value. This can be an inssue for plotting, because many functions expect finate values. We can replace <code>inf</code> with <code>NaN</code>.\n",
    "</div>    "
   ]
  },
  {
   "cell_type": "code",
   "execution_count": null,
   "metadata": {},
   "outputs": [],
   "source": [
    "# replace 'inf' with 'NaN'\n",
    "trials['response_latency'].replace(to_replace=np.inf, value=np.nan, inplace=True)"
   ]
  },
  {
   "cell_type": "code",
   "execution_count": null,
   "metadata": {
    "scrolled": true
   },
   "outputs": [],
   "source": [
    "# make sure that there are no inf in the column anymore\n",
    "# you can use .isin([np.inf]), which will give you bool output and .value_counts() to see how many True and False are there\n",
    "trials[trials['go']==True]['response_latency'].isin([np.inf]).value_counts()"
   ]
  },
  {
   "cell_type": "markdown",
   "metadata": {},
   "source": [
    "<div style=\"background: #DFF0D8; border-radius: 3px; padding: 10px;\">\n",
    "<p> 3) Use the values of the <code>response_latency</code> column to plot a histogram of reaction times. \n",
    "    \n",
    "<p> <code>response_latency</code> is defined as the first lick time, in seconds, relative to the change time. \n",
    "</div>"
   ]
  },
  {
   "cell_type": "code",
   "execution_count": null,
   "metadata": {},
   "outputs": [],
   "source": [
    "# plot histogram of response latencies\n",
    "...\n",
    "plt.ylabel('number of hit trials')\n",
    "plt.xlabel('time after change (sec)')\n",
    "plt.grid()"
   ]
  },
  {
   "cell_type": "markdown",
   "metadata": {},
   "source": [
    "<div style=\"background: #DFF0D8; border-radius: 3px; padding: 10px;\">\n",
    "<p><b>Exercise 1.2: Plot reward volumn over time during a session</b>\n",
    "\n",
    "<p> 1) Use <code>calculate_reward_rate</code> function in <code>allensdk.brain_observatory.behavior.trial_processing</code> module to create a column <code>reward_rate</code> and <code>change_time</code> columns of the trials dataframe to plot reward rate over time. Remember to use <code>help(function_name)</code> to learn about how to use it.\n",
    "\n",
    "<p> Was the mouse actively performing the task and earning rewards during the entire session? \n",
    "    \n",
    "</div>"
   ]
  },
  {
   "cell_type": "code",
   "execution_count": null,
   "metadata": {},
   "outputs": [],
   "source": [
    "from allensdk.brain_observatory.behavior.trials_processing import calculate_reward_rate"
   ]
  },
  {
   "cell_type": "code",
   "execution_count": null,
   "metadata": {},
   "outputs": [],
   "source": [
    "trials['reward_rate'] = calculate_reward_rate(...)"
   ]
  },
  {
   "cell_type": "code",
   "execution_count": null,
   "metadata": {},
   "outputs": [],
   "source": [
    "# remove behavioral trials that were aborted due to animal's premature licking\n",
    "trials_sel = trials[trials['aborted']==False]"
   ]
  },
  {
   "cell_type": "code",
   "execution_count": null,
   "metadata": {},
   "outputs": [],
   "source": [
    "...\n",
    "plt.xlabel('time in session (sec)');\n",
    "plt.ylabel('reward rate (rewards/min)');"
   ]
  },
  {
   "cell_type": "markdown",
   "metadata": {},
   "source": [
    "<div style=\"background: #DFF0D8; border-radius: 3px; padding: 10px;\">\n",
    "<p><b>Exercise 1.3: Compute and plot hit rate over time during a session</b>\n",
    "\n",
    "<p> 1) Filter the trials dataframe to get the <code>hit</code> column for <code>go</code> trials only. Assign this to a new variable called <code>go_responses</code> for further analysis. <b>Note:</b> Make sure that you get <code>go_responses</code> as a pandas series, without calling <code>.values</code>, so that the next step will work properly. \n",
    "    \n",
    "<p> The <code>hit</code> column of the trials dataframe contains <i>True</i> for all trials where there was a licking response within the 750ms reward window and <i>False</i> where there was not. \n",
    "       \n",
    "</div>"
   ]
  },
  {
   "cell_type": "code",
   "execution_count": null,
   "metadata": {},
   "outputs": [],
   "source": [
    "# use .value_counts() compute total number of hits (True) and misses (False) in the go trials\n",
    "trials[trials['go']==True]['hit'].value_counts()"
   ]
  },
  {
   "cell_type": "markdown",
   "metadata": {},
   "source": [
    "It's not uncommon for sessions to have more misses than hits. Not all mice do the task well during multiple days. It's also very common for mice to do the task well at the beginning of a session but not towards the end of a session. This trend is likely related to lack of motivation after receiving sufficient reward."
   ]
  },
  {
   "cell_type": "markdown",
   "metadata": {},
   "source": [
    "<div style=\"background: #DFF0D8; border-radius: 3px; padding: 10px;\">\n",
    "<p> 2) Apply the pandas <code>rolling()</code> method to <code>go_responses</code> followed by <code>.mean()</code> to take a rolling mean across go trials. Set <code>window = 25, center = True</code> in the call to <code>rolling()</code> for a centered window over 25 trials. Set the output of this step to a variable called <code>rolling_hit_rate</code>. \n",
    "\n",
    " __[Documentation for pandas.rolling()](https://pandas.pydata.org/pandas-docs/stable/reference/api/pandas.DataFrame.rolling.html)__\n",
    "</div>"
   ]
  },
  {
   "cell_type": "code",
   "execution_count": null,
   "metadata": {
    "scrolled": true
   },
   "outputs": [],
   "source": [
    "go_responses = ...\n",
    "rolling_hit_rate = ..."
   ]
  },
  {
   "cell_type": "markdown",
   "metadata": {},
   "source": [
    "<div style=\"background: #DFF0D8; border-radius: 3px; padding: 10px;\">\n",
    "\n",
    "<p> 3) Plot the <code>rolling_hit_rate</code>. Label your axes.\n",
    "       \n",
    "</div>"
   ]
  },
  {
   "cell_type": "code",
   "execution_count": null,
   "metadata": {},
   "outputs": [],
   "source": [
    "...\n",
    "plt.xlabel('trial #')\n",
    "plt.ylabel('hit rate')\n",
    "plt.grid()"
   ]
  },
  {
   "cell_type": "markdown",
   "metadata": {},
   "source": [
    "<div style=\"background: #DFF0D8; border-radius: 3px; padding: 10px;\">\n",
    "<p><b>Exercise 1.4: Plot the average hit rate for each image. Dislay presented stimuli.</b>\n",
    "\n",
    "<p>1) Loop through the 8 images in this session and quantify the fraction of go trials where there was a correct response for each image to get the mean hit rate across the session. <b>Hint:</b> Use <code>ophys_experiment.trials.change_image_name.unique()</code> to get the image names.\n",
    "        \n",
    "</div>"
   ]
  },
  {
   "cell_type": "code",
   "execution_count": null,
   "metadata": {},
   "outputs": [],
   "source": [
    "# get the hit rate for each image\n",
    "hit_rates = []\n",
    "images = ...\n",
    "for image in images:\n",
    "    image_change_trials = ...\n",
    "    hit_rates.append(...)"
   ]
  },
  {
   "cell_type": "markdown",
   "metadata": {},
   "source": [
    "<div style=\"background: #DFF0D8; border-radius: 3px; padding: 10px;\">\n",
    "<p>2) Plot the average hit rate for each image, with image names along the x-axis. \n",
    "    \n",
    "<p> <b>Bonus:</b> Sort hit rate values in ascending order and apply the same sorting to the image names along the x-axis. Hint: Useful functions include np.sort() and np.argsort()\n",
    "</div>"
   ]
  },
  {
   "cell_type": "code",
   "execution_count": null,
   "metadata": {},
   "outputs": [],
   "source": [
    "# sort the hit rates in ascending order and sort the image labels in the same order\n",
    "hit_rates_sorted = np.sort(hit_rates)\n",
    "sorted_order = np.argsort(hit_rates)\n",
    "images_sorted = images[sorted_order]"
   ]
  },
  {
   "cell_type": "code",
   "execution_count": null,
   "metadata": {
    "scrolled": true
   },
   "outputs": [],
   "source": [
    "# plot hit rate by image with image names on the x-axis\n",
    "fig, ax = plt.subplots()\n",
    "...\n",
    "ax.set_xticks(...);\n",
    "ax.set_xticklabels(..., rotation=90);\n",
    "ax.set_ylabel('hit rate');\n",
    "ax.set_ylim(0,1);\n",
    "ax.grid()"
   ]
  },
  {
   "cell_type": "markdown",
   "metadata": {},
   "source": [
    "<div style=\"background: #DFF0D8; border-radius: 3px; padding: 10px;\">\n",
    "<p> 3) Using <code>ophys_experiment.stimulus_template</code>, plot stimuli that were presented during this session.\n",
    "</div>"
   ]
  },
  {
   "cell_type": "code",
   "execution_count": null,
   "metadata": {},
   "outputs": [],
   "source": [
    "fig, ax = plt.subplots(2,4,figsize = (20,8), sharex = True, sharey=True)\n",
    "for ii,image_name in enumerate(ophys_experiment.stimulus_templates.index):\n",
    "    ax.flatten()[ii].imshow(...)\n",
    "    ax.flatten()[ii].set_title(image_name)\n",
    "fig.tight_layout()"
   ]
  },
  {
   "cell_type": "markdown",
   "metadata": {},
   "source": [
    "<div style=\"background: #DFF0D8; border-radius: 3px; padding: 10px;\">\n",
    "<p><b>Exercise 1.5: Plot the correct response probability for all image transitions</b>\n",
    "\n",
    "<p> The task cycles through 8 different images, resulting in 64 possible image transitions. Some image transitions might be easier for the mouse to detect than others. \n",
    "\n",
    "<p> 1) Use pandas <code>pivot_table()</code> on the trials table to count and average the <code>hit</code> values by <code>initial_image_name</code> as indices and <code>change_image_name</code> as columns. This will create a matrix of corrent response probability for all image transitions. \n",
    "    \n",
    " __[Documentation for pandas.pivot_table()](https://pandas.pydata.org/pandas-docs/stable/reference/api/pandas.pivot_table.html)__ \n",
    " \n",
    "</div>"
   ]
  },
  {
   "cell_type": "code",
   "execution_count": null,
   "metadata": {},
   "outputs": [],
   "source": [
    "# use pivot table to make a matrix of respones probability\n",
    "response_matrix = pd.pivot_table(...,  \n",
    "                                 values=..., \n",
    "                                 index=...,\n",
    "                                 columns=...)\n",
    "response_matrix"
   ]
  },
  {
   "cell_type": "markdown",
   "metadata": {},
   "source": [
    "<div style=\"background: #DFF0D8; border-radius: 3px; padding: 10px;\">\n",
    "<p> 2) Plot the hit transition matrix as a heatmap. Try using seaborn's heatmap function.\n",
    "\n",
    " __[Documentation for seaborn.heatmap()](https://seaborn.pydata.org/generated/seaborn.heatmap.html#seaborn.heatmap)__ \n",
    "    \n",
    "\n",
    "<p> Did the mouse respond similarly for image changes compared to the same image repeated on catch trials? Are some image transitions more detectable than others? \n",
    "\n",
    "</div>"
   ]
  },
  {
   "cell_type": "code",
   "execution_count": null,
   "metadata": {},
   "outputs": [],
   "source": [
    "fig, ax = plt.subplots(figsize=(7,7))\n",
    "sns.heatmap(..., vmin=0, vmax=1, cmap='magma',\n",
    "            square=True, annot=True, linewidths=0.01, cbar_kws={\"shrink\": 0.7, \"label\": 'response probability'}, ax=ax)"
   ]
  },
  {
   "cell_type": "markdown",
   "metadata": {},
   "source": [
    "<div style=\"background: #DFF0D8; border-radius: 3px; padding: 10px;\">\n",
    "<p><b>Bonus:</b> Plot response probability across image transitions for engaged trials only\n",
    "\n",
    "\n",
    "<p> Filter out trials where the mouse wasn't reliably performing the task using the value of the <code>reward_rate</code> column, with a threshold of 2 rewards per minute to distinguish engaged from disengaged periods, then plot the transition heatmap again. \n",
    "\n",
    "<p> Does varying engagement influence how we should analyze neural activity?\n",
    "\n",
    "</div>"
   ]
  },
  {
   "cell_type": "code",
   "execution_count": null,
   "metadata": {
    "scrolled": true
   },
   "outputs": [],
   "source": [
    "response_matrix = pd.pivot_table(...,  \n",
    "                                 values=..., \n",
    "                                 index=...,\n",
    "                                 columns=...)\n",
    "\n",
    "fig, ax = plt.subplots(figsize=(7,7))\n",
    "sns.heatmap(..., vmin=0, vmax=1, cmap='magma',\n",
    "            square=True, annot=True, linewidths=0.01,\n",
    "            cbar_kws={\"shrink\": 0.7, \"label\": 'response probability'}, ax=ax)"
   ]
  },
  {
   "cell_type": "markdown",
   "metadata": {},
   "source": [
    "<div style=\"border-left: 3px solid #000; padding: 1px; padding-left: 10px; background: #F0FAFF; \">\n",
    "<h2> Single Cell Physiology Exercises</h2>\n",
    "    \n",
    "<p> These exercises explore neural activity aligned to stimulus trials. They make use of the <code>get_stimulus_response_df()</code> function and <code>stimulus_presentations</code> dataframe, as well as additional help functions in mindscope utilities that can add additional columns to stimulus_presentations dataframe with information about licks, rewards, mean pupil area or running speed. \n",
    "\n",
    "</div>"
   ]
  },
  {
   "cell_type": "markdown",
   "metadata": {},
   "source": [
    "<div style=\"border-left: 3px solid #000; padding: 1px; padding-left: 10px; background: #F0FAFF;\"\n",
    "<p><b>Info about stimulus_presentations and stimulus_response dataframes</b>\n",
    "    \n",
    "<p> The <code>stimulus_presentations</code> contains metadata about each stimulus presentation in a given session. Additional steps are needed to add information about trials and animal behavior.\n",
    "    \n",
    "<p> The <code>stimulus_response_df</code> contains the response of each cell to each individual stimulus presentation during the session. \n",
    "    \n",
    "<p> Both dataframes have a column called <code>trace</code> that contains a segment of each cell's fluorescence trace over a window of time. The duration of the window over which the <code>trace</code> was extracted can be specified in <code>get_stimulus_response</code> using <code>time_window</code> input variable. \n",
    "    \n",
    "<p> If <code>compute_means</code> is True (default) in <code>get_stimulus_response</code>, you will have a column <code>mean_response</code> in the dataframe that contains each cell's response averaged over [0 time_window[1]] and <code>baseline_response</code> with pre stimulus activity mean.\n",
    "\n",
    "</div>"
   ]
  },
  {
   "cell_type": "markdown",
   "metadata": {},
   "source": [
    "<div style=\"background: #DFF0D8; border-radius: 3px; padding: 10px;\">\n",
    "<p>While AllenSDK provides geat tools for loading Visual Behavior Dataset, for aligned neural responses you can find additional functions in <code>mindscope_utilities</code>module. </p>\n",
    "    \n",
    "<p>You can add the tools to your notebook by running:\n",
    "<p><code> import mindscope_utilities</code></p>\n",
    "<p><code>import mindscope_utilities.visual_behavior_ophys as ophys</code></p>\n",
    "\n",
    "    \n",
    "<p>For Visual Behavior specific questions, you can use <code>visual_behavior_ophys</code> module's:</p>\n",
    "\n",
    "* <code>build_tidy_cell_df</code> \n",
    "* <code>get_stimulus_response_df</code>\n",
    "* functions that add additional meta data to stimulus_presentations table such as <code>add_mean_pupil_area_to_stimulus_presentations</code>, etc.\n",
    "    \n",
    "<p>For general alinging of neural and behavioral traces to events:</p>\n",
    "    \n",
    "* <code>event_triggered_response</code>\n",
    "    \n",
    "    \n",
    " __[Documentation for mindscope_utilities()](https://github.com/AllenInstitute/mindscope_utilities)__ \n",
    "\n",
    "</div> "
   ]
  },
  {
   "cell_type": "code",
   "execution_count": null,
   "metadata": {},
   "outputs": [],
   "source": [
    "import mindscope_utilities.visual_behavior_ophys as ophys\n"
   ]
  },
  {
   "cell_type": "markdown",
   "metadata": {},
   "source": [
    "<div style=\"background: #DFF0D8; border-radius: 3px; padding: 10px;\">\n",
    "<p><b>Exercise 2.1: Plot neural activity during image changes using the stimulus response dataframe and stimulus_presentations</b>\n",
    "\n",
    "<p> 1) Assign the output of <code>ophys.get_stimulus_response()</code> for image changes only to a variable called <code>stimulus_response</code>. Make sure to check out documentation for this function to learn how to use it. You can call <code>help(function_name)</code> or <code>function_name()?</code> to print documentation. Use <code>event_type</code> input option to subselect image changes only.\n",
    "\n",
    "</div>"
   ]
  },
  {
   "cell_type": "code",
   "execution_count": null,
   "metadata": {},
   "outputs": [],
   "source": [
    "# print documentation for ophys.get_stimulus_response_df\n"
   ]
  },
  {
   "cell_type": "code",
   "execution_count": null,
   "metadata": {
    "scrolled": false
   },
   "outputs": [],
   "source": [
    "# get stimulus response dataframe, for 'dff' traces and only image changes\n",
    "experiment_id = ...\n",
    "ophys_experiment = ...\n",
    "stimulus_response_df = ophys.get_stimulus_response_df(..., \n",
    "                                                     time_window = ...,\n",
    "                                                     data_type = ...,\n",
    "                                                     event_type = ...)"
   ]
  },
  {
   "cell_type": "code",
   "execution_count": null,
   "metadata": {
    "scrolled": true
   },
   "outputs": [],
   "source": [
    "# print a few rows of stimulus response df to check it out\n",
    "stimulus_response_df.head()"
   ]
  },
  {
   "cell_type": "markdown",
   "metadata": {},
   "source": [
    "<div style=\"background: #DFF0D8; border-radius: 3px; padding: 10px;\">\n",
    "    <p> 2) Assign <code>ophys_experiment.stimulus_presentations</code> to a variable called <code>stimulus_presentations</code>. Use <code>.copy()</code> to make a copy of the dataframe in order to avoid accidently editing the original.\n",
    "\n",
    "</div>"
   ]
  },
  {
   "cell_type": "code",
   "execution_count": null,
   "metadata": {},
   "outputs": [],
   "source": [
    "# get stimulus_presentations, print a few rows\n",
    "stimulus_presentations = ...\n",
    "stimulus_presentations.head()"
   ]
  },
  {
   "cell_type": "markdown",
   "metadata": {},
   "source": [
    "<div style=\"background: #DFF0D8; border-radius: 3px; padding: 10px;\">\n",
    "\n",
    "<p> 3) Use <code>.join()</code> method of pandas dataframe to merge <code>stimulus_presentations</code> onto <code>stimulus_response_df</code> using <code>stimulus_presentations_id</code> column as a key.  Pick a cell and get all change trials for that cell by filtering your new <code>stimulus_response_df</code> by both the <code>cell_specimen_id</code> column and the <code>is_change</code> column.\n",
    "</div>"
   ]
  },
  {
   "cell_type": "code",
   "execution_count": null,
   "metadata": {},
   "outputs": [],
   "source": [
    "# merge stimulus response df with stimulus presentations to a new df\n",
    "stimulus_response_df = stimulus_response_df.join(..., on=...)\n",
    "# print to make sure the dfs merged\n",
    "stimulus_response_df.head()"
   ]
  },
  {
   "cell_type": "code",
   "execution_count": null,
   "metadata": {},
   "outputs": [],
   "source": [
    "# get change stimulus trials for one cell only\n",
    "cell_specimen_ids = ...\n",
    "cell_specimen_id = ...\n",
    "\n",
    "stimulus_response_df_sel = ...\n",
    "stimulus_response_df_sel.head()"
   ]
  },
  {
   "cell_type": "markdown",
   "metadata": {},
   "source": [
    "<div style=\"background: #DFF0D8; border-radius: 3px; padding: 10px;\">\n",
    "<p> Get the values of the <code>trace</code> column from your selected dataframe. Loop through these values and plot the traces for all change trials. Set color='gray. \n",
    "    \n",
    "<b>Bonus:</b> Plot with time relative to the stimulus onset, in seconds, on the x-axis. Hint: Use the <code>trace_timestamps</code> column to get time relative to stimulus onset for one stimulus presentation.\n",
    "    \n",
    "<p> 4) Take the mean of the <code>trace</code> values and plot the average response on the same figure as the individual trials, this time setting color='b'.\n",
    "\n",
    "Does this cell have a reliable response to image changes? \n",
    "</div>"
   ]
  },
  {
   "cell_type": "code",
   "execution_count": null,
   "metadata": {
    "scrolled": true
   },
   "outputs": [],
   "source": [
    "# plot for one cell\n",
    "time_seconds = ...\n",
    "\n",
    "mean_trace = ...\n",
    "\n",
    "# loop through all trials and plot \n",
    "for trace in stimulus_response_df_sel['trace'].values: \n",
    "    plt.plot(..., ..., color='gray')\n",
    "plt.xlabel('time (sec)')\n",
    "plt.ylabel('dF/F')\n",
    "\n",
    "# plot trace average\n",
    "plt.plot(time_seconds, mean_trace, color='b');"
   ]
  },
  {
   "cell_type": "markdown",
   "metadata": {},
   "source": [
    "<div style=\"background: #DFF0D8; border-radius: 3px; padding: 10px;\">   \n",
    "\n",
    "<p> 5) Create this plot for multiple cells. How do different cells respond image changes?\n",
    "    \n",
    "<b>Bonus:</b> Plot multiple cells in one figure on different axes. Use <code>fig, ax = plt.subplots()</code> followed by <code>ax = ax.ravel()</code> to create iterable axes. \n",
    "\n",
    " __[Documentation for matplotlib.pyplot.subplots()](https://matplotlib.org/3.1.1/api/_as_gen/matplotlib.pyplot.subplots.html)__ \n",
    "    \n",
    " __[Why use fig, ax = plt.subplots() ? ](https://stackoverflow.com/questions/34162443/why-do-many-examples-use-fig-ax-plt-subplots-in-matplotlib-pyplot-python )__ \n",
    "\n",
    "</div>"
   ]
  },
  {
   "cell_type": "code",
   "execution_count": null,
   "metadata": {},
   "outputs": [],
   "source": [
    "# plot for 15 cells\n",
    "cell_specimen_ids = stimulus_response_df['cell_specimen_id'].unique()\n",
    "fig, ax = plt.subplots(3,5, figsize=(15,8))\n",
    "ax = ax.ravel()\n",
    "if len(cell_specimen_ids) >=15:\n",
    "    max_subplots = 15\n",
    "else:\n",
    "    max_subplots = len(cell_specimen_ids)\n",
    "    \n",
    "for i,cell_specimen_id in enumerate(cell_specimen_ids[:max_subplots]): \n",
    "    stimulus_response_df_sel = stimulus_response_df[(stimulus_response_df['cell_specimen_id']==cell_specimen_id) &\n",
    "                                             (stimulus_response_df['is_change']==True)] # this line is redundant if you set event_type='changes'\n",
    "    time_seconds = stimulus_response_df_sel.iloc[0]['trace_timestamps']\n",
    "    mean_trace = np.mean(stimulus_response_df_sel['trace'].values)\n",
    "    \n",
    "    for trace in stimulus_response_df_sel['trace'].values: \n",
    "        ax[i].plot(time_seconds, trace, color='gray')\n",
    "    ax[i].set_xlabel('time (sec)')\n",
    "    ax[i].set_ylabel('dF/F')\n",
    "    \n",
    "    ax[i].plot(time_seconds, mean_trace, color='b')\n",
    "fig.tight_layout()"
   ]
  },
  {
   "cell_type": "markdown",
   "metadata": {},
   "source": [
    "<div style=\"background: #DFF0D8; border-radius: 3px; padding: 10px;\">\n",
    "<p><b>Exercise 2.2: Correlate neural activity with running speed on a trial by trial basis</b>\n",
    "\n",
    "<p> Trial to trial variability could arise from differences in animal behavior. One possibility is modulation by running speed. \n",
    "\n",
    "<p> 1) Pick a cell and select all presentations of one image. \n",
    "    \n",
    "<p> 2) Create a scatterplot of running speed vs neural response magnitude using the <code>mean_response</code> in <code>stimulus_response_df</code> and <code>mean_running_speed</code> columns that can be added to <code>stimulus_presentations</code> dataframe using <code>add_mean_running_speed_to_stimulus_presentations</code>. \n",
    "\n",
    "<p> The <code>mean_running_speed</code> is the average of the running_speed trace during the 250ms stimulus presentation for each image presentation. \n",
    "    \n",
    "</div>"
   ]
  },
  {
   "cell_type": "code",
   "execution_count": null,
   "metadata": {
    "scrolled": false
   },
   "outputs": [],
   "source": [
    "# get stimulus response dataframe\n",
    "experiment_id = ...\n",
    "ophys_experiment = ...\n",
    "\n",
    "# get stimulus response df for image presentations only (excluding omissions)\n",
    "\n",
    "stimulus_response_df = ophys.get_stimulus_response_df(..., \n",
    "                                                     time_window = ...,\n",
    "                                                     data_type = ...,\n",
    "                                                     event_type = ...)\n",
    "\n",
    "# get stimulus_presentations\n",
    "stimulus_presentations = ...\n"
   ]
  },
  {
   "cell_type": "code",
   "execution_count": null,
   "metadata": {},
   "outputs": [],
   "source": [
    "# you can use the same time window to compute mean running speed as time window\n",
    "# used for neural trace slicing. If you are not sure about what time widnow was used, you can use \n",
    "# trace timestamps to figure it out\n",
    "time_window = [stimulus_response_df.loc[0]['trace_timestamps'].min(), \n",
    "               stimulus_response_df.loc[0]['trace_timestamps'].max()]"
   ]
  },
  {
   "cell_type": "code",
   "execution_count": null,
   "metadata": {},
   "outputs": [],
   "source": [
    "# print documentation for ophys.add_mean_running_speed_to_stimulus_presentations\n"
   ]
  },
  {
   "cell_type": "code",
   "execution_count": null,
   "metadata": {
    "scrolled": true
   },
   "outputs": [],
   "source": [
    "# add mean running speed\n",
    "running_speed = ...\n",
    "stimulus_presentations = ophys.add_mean_running_speed_to_stimulus_presentations(...,\n",
    "                                                                                  running_speed = ...,\n",
    "                                                                                  time_window = ...)"
   ]
  },
  {
   "cell_type": "code",
   "execution_count": null,
   "metadata": {
    "scrolled": true
   },
   "outputs": [],
   "source": [
    "#print first few rows\n"
   ]
  },
  {
   "cell_type": "code",
   "execution_count": null,
   "metadata": {},
   "outputs": [],
   "source": [
    "# merge stimulus_presentations with response df\n",
    "stimulus_response_df = stimulus_response_df.join(..., \n",
    "                                                on='...)"
   ]
  },
  {
   "cell_type": "code",
   "execution_count": null,
   "metadata": {},
   "outputs": [],
   "source": [
    "# print first few rows of stimulus_response_df\n"
   ]
  },
  {
   "cell_type": "code",
   "execution_count": null,
   "metadata": {},
   "outputs": [],
   "source": [
    "# get ids of cells in this experiment\n",
    "cell_specimen_ids = ...\n"
   ]
  },
  {
   "cell_type": "code",
   "execution_count": null,
   "metadata": {},
   "outputs": [],
   "source": [
    "# select one cell\n",
    "cell_specimen_id = ...\n",
    "\n",
    "# select response of the cell to one image type\n",
    "stimulus_response_df_sel = stimulus_response_df[...]\n",
    "\n",
    "# print stimulus_response_df_sel\n"
   ]
  },
  {
   "cell_type": "code",
   "execution_count": null,
   "metadata": {},
   "outputs": [],
   "source": [
    "# plot scatter plot of mean response vs. running speed\n",
    "fig, ax = plt.subplots()\n",
    "ax = sns.scatterplot(data=..., x=..., y=..., ax=ax)"
   ]
  },
  {
   "cell_type": "markdown",
   "metadata": {},
   "source": [
    "<div style=\"background: #DFF0D8; border-radius: 3px; padding: 10px;\">\n",
    "<p> 2) Compute the Pearson correlation between the image-trial-wise <code>mean_response</code> and <code>mean_running_speed</code> using <code>scipy.stats.pearsonr()</code>. Is there a correlation? \n",
    "\n",
    "</div>"
   ]
  },
  {
   "cell_type": "code",
   "execution_count": null,
   "metadata": {},
   "outputs": [],
   "source": [
    "# get pearson correlation \n",
    "import scipy.stats as st\n",
    "r, p = st.pearsonr(..., ...)\n",
    "print('r = ', np.round(r,3), 'p = ', np.round(p,3))"
   ]
  },
  {
   "cell_type": "markdown",
   "metadata": {},
   "source": [
    "<div style=\"background: #DFF0D8; border-radius: 3px; padding: 10px;\">\n",
    "\n",
    "<p> <b>Bonus:</b> Compute the running correlation for all cells in the session and plot a histogram of the values. \n",
    "\n",
    "</div>"
   ]
  },
  {
   "cell_type": "code",
   "execution_count": null,
   "metadata": {},
   "outputs": [],
   "source": [
    "# get pearson correlation values for all cells\n",
    "fig, ax = plt.subplots(1,1)\n",
    "image_numbers = ...\n",
    "for cell_specimen_id in cell_specimen_ids:\n",
    "    r_values = []\n",
    "    for image_number in image_numbers:\n",
    "        tmp = stimulus_response_df[...]\n",
    "        r, p = st.pearsonr(..., ...)\n",
    "        r_values.append(...)\n",
    "        \n",
    "    ax.hist(r_values, bins=50);\n",
    "    ax.set_xlabel('r value');\n",
    "    ax.set_ylabel('count');\n",
    "    \n",
    "    "
   ]
  },
  {
   "cell_type": "markdown",
   "metadata": {},
   "source": [
    "<div style=\"background: #DFF0D8; border-radius: 3px; padding: 10px;\">\n",
    "<p> 3) You can also binarize running speed into running and sitting trials. You can plot an average image response when the animals are running or sitting still. \n",
    "</div>\n"
   ]
  },
  {
   "cell_type": "code",
   "execution_count": null,
   "metadata": {},
   "outputs": [],
   "source": [
    "cell_specimen_id = ...\n",
    "\n",
    "# select response of the cell to one image type\n",
    "stimulus_response_df_sel = ..."
   ]
  },
  {
   "cell_type": "code",
   "execution_count": null,
   "metadata": {},
   "outputs": [],
   "source": [
    "plt.hist(...)\n",
    "plt.xlabel('running_speed')\n",
    "plt.ylabel('count')"
   ]
  },
  {
   "cell_type": "code",
   "execution_count": null,
   "metadata": {},
   "outputs": [],
   "source": [
    "# binarize\n",
    "stimulus_response_df_sel.loc[stimulus_response_df_sel['mean_running_speed'] > 10,'running_binary'] = 'running'\n",
    "stimulus_response_df_sel.loc[stimulus_response_df_sel['mean_running_speed'] <= 10,'running_binary'] = 'sitting'"
   ]
  },
  {
   "cell_type": "code",
   "execution_count": null,
   "metadata": {},
   "outputs": [],
   "source": [
    "stimulus_response_df_sel['running_binary'].value_counts()"
   ]
  },
  {
   "cell_type": "code",
   "execution_count": null,
   "metadata": {
    "scrolled": true
   },
   "outputs": [],
   "source": [
    "sns.barplot(data=...,\n",
    "            x=...,\n",
    "            y = ...,\n",
    "            hue = ...)"
   ]
  },
  {
   "cell_type": "markdown",
   "metadata": {},
   "source": [
    "Looks like although individual cells may not show strong correlation with running speed, population activity is modulated by animal's movements. "
   ]
  },
  {
   "cell_type": "markdown",
   "metadata": {},
   "source": [
    "<div style=\"background: #DFF0D8; border-radius: 3px; padding: 10px;\">\n",
    "<p><b>Exercise 2.3: Plot the image averaged response across changes for one or all cells using the simulus response dataframe. Examine pupil size effect on change responses.</b>\n",
    "   \n",
    "<p> 1) Using <code>get_stimulus_response_df</code> with stimuluse presentation to plot average responses to images that are non-changes and changes. Do images elicit a different response on the first presentation?\n",
    "\n",
    "</div>"
   ]
  },
  {
   "cell_type": "code",
   "execution_count": null,
   "metadata": {},
   "outputs": [],
   "source": [
    "# get stimulus response dataframe\n",
    "experiment_id = ...\n",
    "ophys_experiment = ...\n",
    "\n",
    "# get stimulus response df for image presentations only (excluding omissions)\n",
    "time_window = ...\n",
    "stimulus_response_df = ophys.get_stimulus_response_df(..., \n",
    "                                                     time_window = ...,\n",
    "                                                     data_type = ...,\n",
    "                                                     event_type = ...)\n",
    "\n",
    "# get stimulus_presentations\n",
    "stimulus_presentations = ..."
   ]
  },
  {
   "cell_type": "code",
   "execution_count": null,
   "metadata": {},
   "outputs": [],
   "source": [
    "#append stimulus presentation information to response df\n",
    "stimulus_response_df = ..."
   ]
  },
  {
   "cell_type": "code",
   "execution_count": null,
   "metadata": {
    "scrolled": true
   },
   "outputs": [],
   "source": [
    "fig, ax = plt.subplots(1,1, figsize =(10,5))\n",
    "sns.barplot(data = ..., \n",
    "             y = ...,\n",
    "             x = ...,\n",
    "             hue = ...)"
   ]
  },
  {
   "cell_type": "markdown",
   "metadata": {},
   "source": [
    "<div style=\"background: #DFF0D8; border-radius: 3px; padding: 10px;\">\n",
    "\n",
    "<p> 2) Are there differences in mean pupil size during non-change vs change stimulus presentations? Use <code>ophys.add_mean_pupil_area_to_stimulus_presentations</code> to add mean pupil area to the stimulus presentations dataframe\n",
    "\n",
    "</div>"
   ]
  },
  {
   "cell_type": "code",
   "execution_count": null,
   "metadata": {},
   "outputs": [],
   "source": [
    "eye_tracking = ...\n",
    "stimulus_presentations = ..."
   ]
  },
  {
   "cell_type": "code",
   "execution_count": null,
   "metadata": {},
   "outputs": [],
   "source": [
    "#append mean_pupil_area information to response df\n",
    "stimulus_response_df = stimulus_response_df.join(..., \n",
    "                                                on=...)"
   ]
  },
  {
   "cell_type": "code",
   "execution_count": null,
   "metadata": {},
   "outputs": [],
   "source": [
    "# plot mean pupil area for each image colored by image change and non change\n",
    "fig, ax = plt.subplots(1,1, figsize =(10,5))\n",
    "sns.barplot(data = ..., \n",
    "             y = ...,\n",
    "             x = ...,\n",
    "             hue = ...)"
   ]
  },
  {
   "cell_type": "markdown",
   "metadata": {},
   "source": [
    "<div style=\"background: #DFF0D8; border-radius: 3px; padding: 10px;\">\n",
    "<p> 3) Plot the average <code>trace</code> across stimulus presentations for one cell per image, with a shaded color indicating pupil size. Plot the x-axis in seconds relative to the <code>change_time</code>. <b>Hint:</b> Use max normalized <code>mean_pupil_area</code> when specifying line color."
   ]
  },
  {
   "cell_type": "code",
   "execution_count": null,
   "metadata": {},
   "outputs": [],
   "source": [
    "# subselect stimulus response df for one cell\n",
    "cell_specimen_ids = ...\n",
    "cell_specimen_id = ...\n",
    "\n",
    "stimulus_response_df_sel = ..."
   ]
  },
  {
   "cell_type": "code",
   "execution_count": null,
   "metadata": {},
   "outputs": [],
   "source": [
    "fig, ax  = plt.subplots(len(image_names),2, figsize = (10,20))\n",
    "image_names = ...\n",
    "timestamps = ...\n",
    "max_pupil_area = ...\n",
    "for i,image_name in enumerate(image_names):\n",
    "    tmp = stimulus_response_df_sel[...]\n",
    "    \n",
    "    # select only a 100 of random trials to not overwhelm the plot\n",
    "    all_trials = np.arange(0, tmp.shape[0])\n",
    "    random_trials = np.random.choice(len(all_trials), size=100, replace=False)\n",
    "    \n",
    "    for t in random_trials:\n",
    "        trace = ...\n",
    "        pupil_area = ...\n",
    "        ax[i,0].plot(..., ..., color = [..., .5, .5])\n",
    "    ax[i,0].set_title(image_name + ' non-change')\n",
    "    ax[i,0].set_xlabel('time (seconds)')\n",
    "    \n",
    "    tmp = stimulus_response_df_sel[...]\n",
    "    \n",
    "    for t in range(0, tmp.shape[0]):\n",
    "        trace = ...\n",
    "        pupil_area = ...\n",
    "        ax[i,1].plot(..., ..., color = [..., .5, .5])\n",
    "    ax[i,1].set_title(image_name + ' change')\n",
    "    ax[i,1].set_xlabel('time (seconds)')\n",
    "plt.tight_layout()"
   ]
  },
  {
   "cell_type": "markdown",
   "metadata": {},
   "source": [
    "<div style=\"background: #DFF0D8; border-radius: 3px; padding: 10px;\">\n",
    " \n",
    "<p> 4) Loop through the 8 images shown in this session and plot the average response for each image when it changes for one cell as a function of reward rate. Hint: use <code>add_reward_rate_to_stimulus_presentations</code> to add reward date to <code>stimulus_presentations</code>, then merge it onto <code>stimulus_response_df</code>\n",
    "    \n",
    "<p><b>Bonus:</b> Make the same plots but instead of plotting absolute mean responses, plot mean responses that are relative to the baseline response. Use <code>baseline_response</code> as your reference point. \n",
    "    \n",
    "</div>"
   ]
  },
  {
   "cell_type": "code",
   "execution_count": null,
   "metadata": {
    "scrolled": true
   },
   "outputs": [],
   "source": [
    "# get stimulus response dataframe\n",
    "experiment_id = ...\n",
    "ophys_experiment = ...\n",
    "\n",
    "# get stimulus response df for image presentations only (excluding omissions)\n",
    "time_window = ...\n",
    "stimulus_response_df = ophys.get_stimulus_response_df(..., \n",
    "                                                     time_window = ...,\n",
    "                                                     data_type = ...,\n",
    "                                                     event_type = ...)\n"
   ]
  },
  {
   "cell_type": "code",
   "execution_count": null,
   "metadata": {},
   "outputs": [],
   "source": [
    "# load stimulus_presentations\n",
    "stimulus_presentations = ...\n",
    "eye_tracking = ...\n",
    "stimulus_presentations = \\\n",
    "    ophys.add_mean_pupil_area_to_stimulus_presentations(..., ...,time_window =...)"
   ]
  },
  {
   "cell_type": "code",
   "execution_count": null,
   "metadata": {},
   "outputs": [],
   "source": [
    "trials = ...\n",
    "\n",
    "stimulus_presentations = ophys.add_reward_rate_to_stimulus_presentations(..., ...)\n"
   ]
  },
  {
   "cell_type": "code",
   "execution_count": null,
   "metadata": {},
   "outputs": [],
   "source": [
    "stimulus_response_df = stimulus_response_df.join(..., \n",
    "                                                on=...)"
   ]
  },
  {
   "cell_type": "code",
   "execution_count": null,
   "metadata": {},
   "outputs": [],
   "source": [
    "cell_specimen_id = ...\n",
    "\n",
    "stim_reward_df = stimulus_response_df[...]\n",
    "ax = sns.scatterplot(data = ..., \n",
    "                x = ..., \n",
    "                y = ...,\n",
    "                hue = ...)\n",
    "ax.set_title('response to change')"
   ]
  },
  {
   "cell_type": "code",
   "execution_count": null,
   "metadata": {},
   "outputs": [],
   "source": [
    "# make a new column with subtracted baseline response\n",
    "stimulus_response_df['response_mean_rel'] = ...\n"
   ]
  },
  {
   "cell_type": "code",
   "execution_count": null,
   "metadata": {},
   "outputs": [],
   "source": [
    "# select one cell \n",
    "stim_reward_df = stimulus_response_df[...]\n",
    "ax = sns.scatterplot(data = ..., \n",
    "                x = ..., \n",
    "                y = ...,\n",
    "                hue = ...)\n",
    "ax.set_title('response to change')\n",
    "ax.grid()"
   ]
  },
  {
   "cell_type": "markdown",
   "metadata": {},
   "source": [
    "<div style=\"background: #DFF0D8; border-radius: 3px; padding: 10px;\">\n",
    "<p><b>Exercise 2.4: Create a heatmap of all cells' trial averaged responses following an image change</b>\n",
    "\n",
    "<p>From <code>stimulus_response_df</code>, use <code>mean()</code> method to take an average of response traces (n_samples) for each cell and add them to a new pandas dataframe with three columns: cell_specimen_id, mean_trace, trace_timestamps. Or create a response matrix of n_cells by n_timestamps.\n",
    "       \n",
    "<p>Sort responses using <code>np.argsort</code> before plotting to reveal any temporal structure in mean responses to changes\n",
    "    \n",
    "</div>"
   ]
  },
  {
   "cell_type": "code",
   "execution_count": null,
   "metadata": {},
   "outputs": [],
   "source": [
    "experiment_id = ...\n",
    "ophys_experiment = ...\n",
    "stimulus_response_df = ophys.get_stimulus_response_df(...,\n",
    "                                                     event_type = ...)"
   ]
  },
  {
   "cell_type": "code",
   "execution_count": null,
   "metadata": {},
   "outputs": [],
   "source": [
    "cell_specimen_ids = ...\n",
    "\n",
    "mean_df = pd.DataFrame(columns = {'cell_specimen_id',\n",
    "                                 'mean_trace',\n",
    "                                 'trace_timestamps'})\n",
    "timestamps = ...\n",
    "for cell_specimen_id in cell_specimen_ids:\n",
    "    tmp = stimulus_response_df[...]\n",
    "    mean_df = mean_df.append({'cell_specimen_id': ...,\n",
    "                    'mean_trace': ...,\n",
    "                    'trace_timestamps': ...},\n",
    "                     ignore_index=True )"
   ]
  },
  {
   "cell_type": "code",
   "execution_count": null,
   "metadata": {},
   "outputs": [],
   "source": [
    "# create a response matrix\n",
    "response_matrix = ...\n",
    "response_matrix = np.stack(response_matrix, axis=0)\n",
    "response_matrix.shape\n"
   ]
  },
  {
   "cell_type": "code",
   "execution_count": null,
   "metadata": {},
   "outputs": [],
   "source": [
    "# sort cells in descending order\n",
    "order = np.argsort(np.max(...,1))\n",
    "response_matrix_sorted = response_matrix[...,:]"
   ]
  },
  {
   "cell_type": "markdown",
   "metadata": {},
   "source": [
    "<div style=\"background: #DFF0D8; border-radius: 3px; padding: 10px;\"> \n",
    "<p> 4) Plot a heatmap of all cells' mean trace for their preferred image. Set the vmax of the heatmap equal to the 95% percentile value of the response array using <code>np.percentile()</code>. Set vmin to 0. \n",
    "    \n",
    " __[Documentation for numpy.percentile()](https://docs.scipy.org/doc/numpy/reference/generated/numpy.percentile.html)__ \n",
    "\n",
    "<p> What structure do you see in this population? Bonus: Sort the cells to help see structure in the data.\n",
    "\n",
    "\n",
    "\n",
    "</div>"
   ]
  },
  {
   "cell_type": "code",
   "execution_count": null,
   "metadata": {},
   "outputs": [],
   "source": [
    "\n",
    "\n",
    "# create the plot\n",
    "fig, ax = plt.subplots(figsize=(10,6))\n",
    "ax.pcolormesh(..., cmap='magma', vmin=0, vmax=np.percentile(response_matrix, 95))\n",
    "ax.set_ylabel('cells')\n",
    "\n",
    "# set xticks and xticklabels\n",
    "xticklabels = np.arange(timestamps[0], timestamps[-1])\n",
    "steps = response_matrix.shape[1]/len(xticklabels)\n",
    "ax.set_xticks(np.arange(0, response_matrix.shape[1], steps))\n",
    "ax.set_xticklabels(np.arange(timestamps[0], timestamps[-1]))\n",
    "ax.set_xlabel('time relative to change (sec)');\n",
    "fig.tight_layout()"
   ]
  },
  {
   "cell_type": "code",
   "execution_count": null,
   "metadata": {},
   "outputs": [],
   "source": []
  }
 ],
 "metadata": {
  "anaconda-cloud": {},
  "kernelspec": {
   "display_name": "neuromatch",
   "language": "python",
   "name": "neuromatch"
  },
  "language_info": {
   "codemirror_mode": {
    "name": "ipython",
    "version": 3
   },
   "file_extension": ".py",
   "mimetype": "text/x-python",
   "name": "python",
   "nbconvert_exporter": "python",
   "pygments_lexer": "ipython3",
   "version": "3.7.10"
  }
 },
 "nbformat": 4,
 "nbformat_minor": 2
}
