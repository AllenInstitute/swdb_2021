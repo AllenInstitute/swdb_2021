{
 "cells": [
  {
   "cell_type": "markdown",
   "metadata": {},
   "source": [
    "\n",
    "<img src=\"../resources/cropped-SummerWorkshop_Header.png\">  \n",
    "\n",
    "<h1 align=\"center\">EM Connectomics</h1> \n",
    "<h2 align=\"center\">Summer Workshop on the Dynamic Brain </h2> \n",
    "<h3 align=\"center\">XXX, August XX, XXXX</h3> \n",
    "\n",
    "<div style=\"border-left: 3px solid #000; padding: 1px; padding-left: 10px; background: #F0FAFF; \">\n",
    "\n",
    "<p>In this session, we introduce how to query the anotation database and give a flavor of how to use the results to do some simple analysis. By the end, you should be able to query for neurons, query for synapses between those neurons, and visualize the neurons and synapes.\n",
    "\n",
    "</div>\n",
    "\n"
   ]
  },
  {
   "cell_type": "markdown",
   "metadata": {},
   "source": [
    "<div style=\"border-left: 3px solid #000; padding: 1px; padding-left: 10px; background: #F0FAFF; \">\n",
    "<h2>Background</h2>\n",
    "\n",
    "<p>\n",
    "This dataset is part of a collaboration between the Tolias lab at Baylor,\n",
    "the Allen Institute, and Sebastian Seung's lab at Princeton University,\n",
    "as part of the IARPA Microns project.  \n",
    "</p>\n",
    "</div>\n",
    "\n",
    "<div style=\"border-left: 3px solid #000; padding: 1px; padding-left: 10px; background: #F0FAFF; \">\n",
    "<h2>Local setup instructions</h2>\n",
    "\n",
    "<p>\n",
    "Because this dataset is part of a collaboration, it has not been packaged \n",
    "through the usual AllenSDK mechanism.  Working with Princeton we have developed two packages for querying and visualizing the data.  If you want to setup your local computer's python system to use these packages you'll need to install them and their dependancies. \n",
    "</p>\n",
    "\n",
    "<p>\n",
    "The easiest way to install is to use Anaconda python.  Open up a terminal, or a command prompt on windows.  Navigate to the directory where you have checked out the swdb_2021 repository. Activate a conda environment if you'd like then type..\n",
    "\n",
    "</div>\n",
    "<h4>Linux/OSX</h4>\n",
    "<div style=\"border-left: 3px solid #000; padding: 1px; padding-left: 10px; background: #DFF0D8; \">\n",
    "./scripts/em_conda_install.sh\n",
    "</div>\n",
    "<h4>Windows</h4>\n",
    "<div style=\"border-left: 3px solid #000; padding: 1px; padding-left: 10px; background: #DFF0D8; \">\n",
    "./scripts/em_conda_install.bat\n",
    "</div>\n",
    "<div style=\"border-left: 3px solid #000; padding: 1px; padding-left: 10px; background: #F0FAFF; \">\n",
    "You'll need to restart your kernel after you do the install\n",
    "</div>\n",
    "\n",
    "\n"
   ]
  },
  {
   "cell_type": "markdown",
   "metadata": {},
   "source": [
    "<div style=\"border-left: 3px solid #000; padding: 1px; padding-left: 10px; background: #F0FAFF; \">\n",
    "<h2>Drive Path</h2>\n",
    "First we need to know where the data is on your system.  If you are running on Linux or Windows, edit this cell to reflect where the data is.  If on AWS or mac the location here is likely correct.\n",
    "\n",
    "We also need to decide what kind of visualization platform you'd like to run.  Locally, we'd reccomend using vtk, on AWS that isn't an option so we are suggesting you use itkwidgets.  vtkplotter is another option that we are demonstrating here.  We've autoselected it based upon the platform but you can override those choices if you'd like to.\n",
    "\n",
    "</div>\n",
    "\n",
    "<h2>3D Visualization Methods </h2>\n",
    "\n",
    "EM data involves high resolution reconstructions of neurons, and so visualizing them interatively in 3D is essential to understanding the data (plus it's just fun).  This requires use of more specialized plotting packages than matplotlib.  There are a few options that have different plusses and minuses that are summarized below.  We'll show you code snippets from all methods, but execute the one based upon the viz_method variable defined in the next cell.\n",
    "<table>\n",
    "    <tr>\n",
    "        <td><h3>viz_method</h3></td>\n",
    "        <td><h3>pros</h3></td>\n",
    "        <td><h3>cons</h3></td>\n",
    "    </tr>\n",
    "    <tr>\n",
    "        <td>\n",
    "           vtk\n",
    "        </td>\n",
    "        <td>Fastest <br/>\n",
    "            Most features: <br/>\n",
    "            mesh coloring<br/>  \n",
    "            programatic camera control<br/>\n",
    "            programatic saving<br/>\n",
    "            extensible</td>\n",
    "        <td> Requires local installation <br/>(no AWS possible)</td>\n",
    "    </tr>\n",
    "    <tr>\n",
    "        <td> itkwidgets</td>\n",
    "        <td> fastest notebook widget <br/>\n",
    "             easy screen shot <br/>\n",
    "             bug free <br/>\n",
    "             aws compatible <br/>\n",
    "        </td>\n",
    "        <td>\n",
    "        no programatic camera control<br/>\n",
    "        no advanced mesh coloring\n",
    "        </td> \n",
    "    </tr>    \n",
    "    </table>"
   ]
  },
  {
   "cell_type": "code",
   "execution_count": 1,
   "metadata": {},
   "outputs": [],
   "source": [
    "import platform\n",
    "import os\n",
    "\n",
    "platstring = platform.platform()\n",
    "if 'Darwin' in platstring:\n",
    "    # macOS \n",
    "    data_root = \"/Volumes/Brain2021/\"\n",
    "    viz_method= 'vtk'\n",
    "elif 'Windows'  in platstring:\n",
    "    # Windows (replace with the drive letter of USB drive)\n",
    "    data_root = \"E:/\"\n",
    "    viz_method= 'vtk'\n",
    "elif ('amzn1' in platstring):\n",
    "    # then on AWS\n",
    "    data_root = \"/data/\"\n",
    "    vtz_methods='itkwidgets'\n",
    "else:\n",
    "    # then your own linux platform\n",
    "    # EDIT location where you mounted hard drive\n",
    "    data_root = \"/media/$USERNAME/Brain2021/\"\n",
    "    \n",
    "# OR if you'd like to override the auto options\n",
    "data_root = \".\"\n",
    "# viz_method = one of ['itkwidgets', 'vtk']\n",
    "viz_method = 'vtk'\n",
    "mesh_folder = os.path.join(data_root, 'em', 'meshes')\n",
    "skeleton_folder = os.path.join(data_root, 'skeletons')"
   ]
  },
  {
   "cell_type": "markdown",
   "metadata": {},
   "source": [
    "<div style=\"border-left: 3px solid #000; padding: 1px; padding-left: 10px; background: #F0FAFF; \">\n",
    "<h2>Import the key modules</h2>\n",
    "Our analysis workflows use a couple of special purpose packages we have developed. Here, we are going to look at the CAVEclient (Connectome Annotation Versioning Engine), our package that quickly performs simple analysis queries and produces tidy Pandas dataframes.\n",
    "</div>"
   ]
  },
  {
   "cell_type": "code",
   "execution_count": 2,
   "metadata": {},
   "outputs": [],
   "source": [
    "# this is the EM specific package for querying the EM data\n",
    "from caveclient import CAVEclient\n"
   ]
  },
  {
   "cell_type": "markdown",
   "metadata": {},
   "source": [
    "<div style=\"border-left: 3px solid #000; padding: 1px; padding-left: 10px; background: #F0FAFF; \">\n",
    "<h2>Import some of our favorite modules</h2>\n",
    "Our analysis workflows makes use of many of the common scientific computing packages like Numpy and Pandas.\n",
    "</div>"
   ]
  },
  {
   "cell_type": "code",
   "execution_count": 3,
   "metadata": {},
   "outputs": [],
   "source": [
    "# import some of our favorite packages\n",
    "import pandas as pd\n",
    "import numpy as np\n",
    "import os\n",
    "import matplotlib.pyplot as plt\n",
    "%matplotlib inline\n"
   ]
  },
  {
   "cell_type": "markdown",
   "metadata": {},
   "source": [
    "<div style=\"border-left: 3px solid #000; padding: 1px; padding-left: 10px; background: #F0FAFF; \">\n",
    "<h2>Setting up a CAVE account </h2>\n",
    "\n",
    "CAVE is the Connectome Annotation Versioning Engine.\n",
    "It is a collection of services which manage proofreading and data annotation for large scale connectomics dataset.\n",
    "These services were developed during the IARPA MICrONS program, but now support data from several projects including FlyWire.  You need to have an account on CAVE to use its services.\n",
    "\n",
    "To get an account please first go to this [website](https://minnie.microns-daf.com/materialize/views/datastack/minnie65_public_v117)\n",
    "\n",
    "You should be prompted to login with a google account and accept some terms and conditions.\n",
    "\n",
    "Once you have registered, you can then follow along this notebook.\n",
    "This notebook will show you how to get a programatic token that you can use to authenticate to the services in order to make queries. The token can then be used on different computers.\n",
    "\n",
    "<h2>Setting key parameters </h2>\n",
    "Every combination of image and segmentation data we call a 'datastack', since a dataset might have multiple such 'datastacks' associated with it.  The cortical mm^3 datastack that we are going to use is called `minnie65_public_v117` named because it is approximately 65% of the whole volume, and its the public releasse that corresponds to the 117th iteration of proofreading results we aggregated.\n",
    "</div>\n"
   ]
  },
  {
   "cell_type": "code",
   "execution_count": 6,
   "metadata": {},
   "outputs": [
    {
     "name": "stdout",
     "output_type": "stream",
     "text": [
      "New Tokens need to be acquired by hand. Please follow the following steps:\n",
      "                1) Go to: https://global.daf-apis.com/auth/api/v1/refresh_token\n",
      "                2) Log in with your Google credentials and copy the token shown afterward.\n",
      "                3a) Save it to your computer with: client.auth.save_token(token=\"PASTE_YOUR_TOKEN_HERE\")\n",
      "                or\n",
      "                3b) Set it for the current session only with client.auth.token = \"PASTE_YOUR_TOKEN_HERE\"\n",
      "                Note: If you need to save or load multiple tokens, please read the documentation for details.\n",
      "                Warning! Creating a new token by finishing step 2 will invalidate the previous token!\n"
     ]
    }
   ],
   "source": [
    "client = CAVEclient()\n",
    "client.auth.get_new_token()"
   ]
  },
  {
   "cell_type": "code",
   "execution_count": 5,
   "metadata": {},
   "outputs": [],
   "source": [
    "datastack_name = 'minnie65_public_v117'\n",
    "\n",
    "client = CAVEclient(datastack_name)"
   ]
  },
  {
   "cell_type": "markdown",
   "metadata": {},
   "source": [
    "<div style=\"border-left: 3px solid #000; padding: 1px; padding-left: 10px; background: #F0FAFF; \">\n",
    "<h2>Client Basics</h2>\n",
    "The client lets you connect to a number of different services, and you can read about all of them in  <a href=\"https://caveclient.readthedocs.io/\">the CAVEclient documentation</a>\n",
    "\n",
    "For this notebook however we will focus on the 'materialize' client which lets you access tables of annotations on the data, including cells, nuclei and synapses. \n",
    "\n",
    "To see what tables are available, use the 'get_tables' method.\n",
    "</div>"
   ]
  },
  {
   "cell_type": "code",
   "execution_count": 8,
   "metadata": {},
   "outputs": [
    {
     "data": {
      "text/plain": [
       "['nucleus_detection_v0',\n",
       " 'synapses_pni_2',\n",
       " 'nucleus_neuron_svm',\n",
       " 'proofreading_status_public_release',\n",
       " 'func_unit_em_match_release',\n",
       " 'allen_soma_ei_class_model_v1',\n",
       " 'allen_visp_column_soma_coarse_types_v1']"
      ]
     },
     "execution_count": 8,
     "metadata": {},
     "output_type": "execute_result"
    }
   ],
   "source": [
    "client.materialize.get_tables()"
   ]
  },
  {
   "cell_type": "code",
   "execution_count": 9,
   "metadata": {},
   "outputs": [
    {
     "data": {
      "text/plain": [
       "{'created': '2020-09-28T22:39:06.523707',\n",
       " 'id': 6,\n",
       " 'valid': True,\n",
       " 'aligned_volume': 'minnie65_phase3',\n",
       " 'table_name': 'nucleus_detection_v0',\n",
       " 'schema': 'nucleus_detection',\n",
       " 'user_id': '121',\n",
       " 'reference_table': '',\n",
       " 'schema_type': 'nucleus_detection',\n",
       " 'description': 'A table of nuclei detections from a nucleus detection model developed by Shang Mu, Leila Elabbady, Gayathri Mahalingam and Forrest Collman. Pt is the centroid of the nucleus detection. id corresponds to the flat_segmentation_source segmentID. Only included nucleus detections of volume>25 um^3, below which detections are false positives, though some false positives above that threshold remain. ',\n",
       " 'flat_segmentation_source': 'precomputed://s3://bossdb-open-data/microns/minnie/minnie65-phase3-ws/nuclei/v0/seg',\n",
       " 'voxel_resolution': [4.0, 4.0, 40.0]}"
      ]
     },
     "execution_count": 9,
     "metadata": {},
     "output_type": "execute_result"
    }
   ],
   "source": [
    "# For each table you can get metadata about that table\n",
    "client.materialize.get_table_metadata('nucleus_detection_v0')"
   ]
  },
  {
   "cell_type": "code",
   "execution_count": 10,
   "metadata": {},
   "outputs": [
    {
     "data": {
      "text/plain": [
       "144120"
      ]
     },
     "execution_count": 10,
     "metadata": {},
     "output_type": "execute_result"
    }
   ],
   "source": [
    "# and how many annotations are in it\n",
    "# the maybe most important table is the synapse table (synapses_pni_2)\n",
    "# which has >330 million synapses, so querying its length takes a long time\n",
    "client.materialize.get_annotation_count('nucleus_detection_v0')\n"
   ]
  },
  {
   "cell_type": "code",
   "execution_count": 11,
   "metadata": {},
   "outputs": [
    {
     "data": {
      "text/html": [
       "<div>\n",
       "<style scoped>\n",
       "    .dataframe tbody tr th:only-of-type {\n",
       "        vertical-align: middle;\n",
       "    }\n",
       "\n",
       "    .dataframe tbody tr th {\n",
       "        vertical-align: top;\n",
       "    }\n",
       "\n",
       "    .dataframe thead th {\n",
       "        text-align: right;\n",
       "    }\n",
       "</style>\n",
       "<table border=\"1\" class=\"dataframe\">\n",
       "  <thead>\n",
       "    <tr style=\"text-align: right;\">\n",
       "      <th></th>\n",
       "      <th>id</th>\n",
       "      <th>valid</th>\n",
       "      <th>pt_supervoxel_id</th>\n",
       "      <th>pt_root_id</th>\n",
       "      <th>valid_id</th>\n",
       "      <th>status_dendrite</th>\n",
       "      <th>status_axon</th>\n",
       "      <th>pt_position</th>\n",
       "    </tr>\n",
       "  </thead>\n",
       "  <tbody>\n",
       "    <tr>\n",
       "      <th>0</th>\n",
       "      <td>1</td>\n",
       "      <td>t</td>\n",
       "      <td>89529934389098311</td>\n",
       "      <td>864691136296964635</td>\n",
       "      <td>864691136296964635</td>\n",
       "      <td>extended</td>\n",
       "      <td>non</td>\n",
       "      <td>[179808, 216672, 23361]</td>\n",
       "    </tr>\n",
       "    <tr>\n",
       "      <th>1</th>\n",
       "      <td>2</td>\n",
       "      <td>t</td>\n",
       "      <td>90584228533843146</td>\n",
       "      <td>864691136311986237</td>\n",
       "      <td>864691136311986237</td>\n",
       "      <td>extended</td>\n",
       "      <td>non</td>\n",
       "      <td>[187840, 207232, 22680]</td>\n",
       "    </tr>\n",
       "    <tr>\n",
       "      <th>2</th>\n",
       "      <td>3</td>\n",
       "      <td>t</td>\n",
       "      <td>89528353773943370</td>\n",
       "      <td>864691135355207119</td>\n",
       "      <td>864691135355207119</td>\n",
       "      <td>extended</td>\n",
       "      <td>non</td>\n",
       "      <td>[180016, 204592, 22798]</td>\n",
       "    </tr>\n",
       "    <tr>\n",
       "      <th>3</th>\n",
       "      <td>4</td>\n",
       "      <td>t</td>\n",
       "      <td>91077153340676495</td>\n",
       "      <td>864691135355207375</td>\n",
       "      <td>864691135355207375</td>\n",
       "      <td>extended</td>\n",
       "      <td>non</td>\n",
       "      <td>[191424, 209888, 22845]</td>\n",
       "    </tr>\n",
       "    <tr>\n",
       "      <th>4</th>\n",
       "      <td>5</td>\n",
       "      <td>t</td>\n",
       "      <td>88897234233461709</td>\n",
       "      <td>864691136422983727</td>\n",
       "      <td>864691136422983727</td>\n",
       "      <td>extended</td>\n",
       "      <td>non</td>\n",
       "      <td>[175248, 220944, 23561]</td>\n",
       "    </tr>\n",
       "  </tbody>\n",
       "</table>\n",
       "</div>"
      ],
      "text/plain": [
       "   id valid   pt_supervoxel_id          pt_root_id            valid_id  \\\n",
       "0   1     t  89529934389098311  864691136296964635  864691136296964635   \n",
       "1   2     t  90584228533843146  864691136311986237  864691136311986237   \n",
       "2   3     t  89528353773943370  864691135355207119  864691135355207119   \n",
       "3   4     t  91077153340676495  864691135355207375  864691135355207375   \n",
       "4   5     t  88897234233461709  864691136422983727  864691136422983727   \n",
       "\n",
       "  status_dendrite status_axon              pt_position  \n",
       "0        extended         non  [179808, 216672, 23361]  \n",
       "1        extended         non  [187840, 207232, 22680]  \n",
       "2        extended         non  [180016, 204592, 22798]  \n",
       "3        extended         non  [191424, 209888, 22845]  \n",
       "4        extended         non  [175248, 220944, 23561]  "
      ]
     },
     "execution_count": 11,
     "metadata": {},
     "output_type": "execute_result"
    }
   ],
   "source": [
    "# lets look at the proofreading status table\n",
    "# if you ask for the whole thing, the client will give you the first 200K rows\n",
    "# which is good enough to cover everything other than synapses\n",
    "prf_df= client.materialize.query_table('proofreading_status_public_release')\n",
    "prf_df.head()"
   ]
  },
  {
   "cell_type": "code",
   "execution_count": 12,
   "metadata": {},
   "outputs": [
    {
     "data": {
      "text/plain": [
       "\"The proofreading status of neurons that have been comprehensively proofread as of Materialization v117. Axon and dendrite compartment status are marked separately under 'axon_status' and 'dendrite_status', as proofreading effort was applied differently to the different compartments in some cells. There are three possible status values for each compartment: 'non' indicates no comprehensive proofreading. 'clean' indicates that all false merges have been removed, but all tips have not necessarily been followed. 'extended' indicates that the cell is both clean and all tips have been followed as far as a proofreader was able to. The 'pt_position' is at a cell body or similar core position for the cell. The column 'valid_id' provides the root id when the proofreading was last checked. If the current root id in 'pt_root_id' is not the same as 'valid_id', there is no guarentee that the proofreading status is correct. Very small false axon merges (axon fragments approximately 5 microns or less in length) were considered acceptable for clean neurites. Note that this table does not list all edited cells, but only those with comprehensive effort toward the status mentioned here. Table compiled by Casey Schneider-Mizell, including work by many proofreaders and data maintained by Stelios Papadopoulos.\""
      ]
     },
     "execution_count": 12,
     "metadata": {},
     "output_type": "execute_result"
    }
   ],
   "source": [
    "# so what do those columns mean?\n",
    "# you can check the metadata!\n",
    "client.materialize.get_table_metadata('proofreading_status_public_release')['description']"
   ]
  },
  {
   "cell_type": "markdown",
   "metadata": {},
   "source": [
    "<h3> Proofreading Status Descriptions</h3>\n",
    "<table style={float:left}>\n",
    "    <tr>\n",
    "        <td><h4>column</h4></td>\n",
    "        <td><h4>description</h4></td>\n",
    "    </tr> \n",
    "    <tr>\n",
    "        <td>valid</td>\n",
    "        <td>A bookkeeping column, should always be 't'</td>\n",
    "    </tr>\n",
    "    <tr>\n",
    "        <td>pt_position</td>\n",
    "        <td>This is the x,y,z location in voxels of the point that was annotated here as being at this cells soma location. Note, the dataset has a voxel resolution of 4,4,40 nm, and so often you want to convert this column to a nm position, which we will do below.  </td>\n",
    "    </tr>\n",
    "    <tr>\n",
    "        <td>pt_supervoxel_id</td>\n",
    "        <td>You can generally ignore this column, we keep it for bookkeeping in order to make it easier to update this annotation when the segmentation changes.  </td>\n",
    "    </tr>\n",
    "    <tr>\n",
    "        <td>pt_root_id</td>\n",
    "        <td>This is the unique ID of the 'root' object in the segmentation, sometimes we refer to this as a segmentation id or a cell id.</td>\n",
    "    </tr>\n",
    "    <tr>\n",
    "        <td>valid_id</td>\n",
    "        <td>This is the ID of the object when this proofreading status was applied, for this release, this column matches the pt_root_id and so can be ignored.  Its here to help alert us if the object changed since the human who judged this neuron to be 'clean' for example.  In such case its possible theoretically that the cell is no longer 'clean'. </td>\n",
    "    </tr>\n",
    "    <tr>\n",
    "        <td>status_dendrite</td>\n",
    "        <td>There are three possible status values for each compartment: 'non' indicates no comprehensive proofreading. 'clean' indicates that all false merges have been removed, but all tips have not necessarily been followed. 'extended' indicates that the cell is both clean and all tips have been followed as far as a proofreader was able to. </td>\n",
    "    </tr> \n",
    "    <tr>\n",
    "        <td>status_axon</td>\n",
    "        <td>same as status_dendrite but for axon </td>\n",
    "    </tr> \n",
    "    <tr>\n",
    "        <td>pt_position</td>\n",
    "        <td>A location at a cell body or similar core position for the cell. (units from metadata are [4,4,40] nm voxels) </td>\n",
    "    </tr> \n",
    "    \n",
    "</table>\n",
    "\n"
   ]
  },
  {
   "cell_type": "code",
   "execution_count": 13,
   "metadata": {},
   "outputs": [
    {
     "data": {
      "text/plain": [
       "((78, 8), (601, 8))"
      ]
     },
     "execution_count": 13,
     "metadata": {},
     "output_type": "execute_result"
    }
   ],
   "source": [
    "# with the client we can do simply filters based upon\n",
    "#  the column name and values you want to include or exclude\n",
    "# with filter_in_dict, filter_out_dict, filter_equal_dict\n",
    "\n",
    "# let get all the cells with extended axons\n",
    "ext_axon_df = client.materialize.query_table('proofreading_status_public_release',\n",
    "                                             filter_equal_dict={'status_axon':'extended'})\n",
    "\n",
    "# lets get all the cells with any dendritic proofreading (clean or extended)\n",
    "clean_dend_df = client.materialize.query_table('proofreading_status_public_release',\n",
    "                                              filter_out_dict={'status_dendrite':['non']})\n",
    "\n",
    "# how many in each\n",
    "ext_axon_df.shape, clean_dend_df.shape"
   ]
  },
  {
   "cell_type": "code",
   "execution_count": 14,
   "metadata": {},
   "outputs": [
    {
     "data": {
      "image/png": "[encoded data removed]",
      "text/plain": [
       "<Figure size 720x432 with 2 Axes>"
      ]
     },
     "metadata": {
      "needs_background": "light"
     },
     "output_type": "display_data"
    }
   ],
   "source": [
    "# useful function for converting a pandas data frame voxel position\n",
    "# column to a np.array of Nx3 size in nm\n",
    "def convert_to_nm(col, voxel_size=[4,4,40]):\n",
    "    return np.vstack(col.values)*voxel_size\n",
    "\n",
    "# function to plot a dataframe\n",
    "def plot_soma_loc(df, ax, x=0, y=1, c='r'):\n",
    "    \n",
    "    # convert the position to microns\n",
    "    pos = convert_to_nm(df['pt_position'])/1000\n",
    "    \n",
    "    # plot two dimensions as a scatterplot\n",
    "    ax.scatter(pos[:,x], pos[:,y], c=c)\n",
    "\n",
    "# make a new axis with two subplots\n",
    "fig = plt.figure(figsize=(10,6))\n",
    "ax1 = fig.add_subplot(1, 2, 1)\n",
    "ax2 = fig.add_subplot(1, 2, 2, sharex=ax1)\n",
    "\n",
    "# plot each dataframe in a different color\n",
    "plot_soma_loc(clean_dend_df, ax1, c='b')\n",
    "plot_soma_loc(ext_axon_df, ax1, c='r')\n",
    "\n",
    "\n",
    "# label some axis, make x,y scaling same\n",
    "ax1.set_xlabel('x (um)')\n",
    "ax1.set_ylabel('y (um)')\n",
    "# to keep the pia 'up'\n",
    "ax1.set_ylim(1100,300)\n",
    "ax1.set_aspect('equal')\n",
    "\n",
    "# plot the same thing as x,z\n",
    "plot_soma_loc(clean_dend_df, ax2, x=0, y=2, c='b')\n",
    "plot_soma_loc(ext_axon_df, ax2, x=0, y=2, c='r')\n",
    "\n",
    "ax2.set_xlabel('x (um)')\n",
    "ax2.set_ylabel('z (um)')\n",
    "ax2.set_aspect('equal')"
   ]
  },
  {
   "cell_type": "markdown",
   "metadata": {},
   "source": [
    "<div style=\"border-left: 3px solid #000; padding: 1px; padding-left: 10px; background: #F0FAFF; \">\n",
    "<h2>Coordinate System</h2>\n",
    "Below is a diagram to help you visualize the coordinate system plotted above.  \n",
    "</div>\n"
   ]
  },
  {
   "cell_type": "markdown",
   "metadata": {},
   "source": [
    "<img src=\"../resources/EM_coordinate_system.png\"> "
   ]
  },
  {
   "cell_type": "markdown",
   "metadata": {},
   "source": [
    "<div style=\"border-left: 3px solid #000; padding: 1px; padding-left: 10px; background: #F0FAFF; \">\n",
    "<h2>Querying for synapses</h2>\n",
    "Let's pick out a cell ID of an excitatory neuron and then find all the synapses onto that neuron</div>\n"
   ]
  },
  {
   "cell_type": "code",
   "execution_count": 15,
   "metadata": {},
   "outputs": [
    {
     "data": {
      "text/plain": [
       "864691136296964635"
      ]
     },
     "execution_count": 15,
     "metadata": {},
     "output_type": "execute_result"
    }
   ],
   "source": [
    "neuron_id  = clean_dend_df.iloc[0].pt_root_id\n",
    "neuron_id"
   ]
  },
  {
   "cell_type": "markdown",
   "metadata": {},
   "source": [
    "<div style=\"border-left: 3px solid #000; padding: 1px; padding-left: 10px; background: #F0FAFF; \">\n",
    "\n",
    "Now we are ready to query synapses for this neuron. Because the analysis database can, in principle, handle multiple different sources of synapses, we have to specify which synapse table we want to use. The current table holding the most up to date automated synapse detection is called `synapses_pni_2`.  The \"info\" service has this information however, so we don't need to remember it.\n",
    "\n",
    "Because synapses are such a common query, we have written a wrapper method `synapse_query` which makes uses the default synapse table and simplifies the syntax. So, we can specify which synapses we get back from the table by setting the `post_ids` argument to a list of IDs, which makes a query that only returns synapses whose postsynaptic id is the one selected.  You can also filter by `pre_ids` which will do the same for the pre-synaptic side. Setting this will only return synapses that are from certain neurons.  Setting both `pre_ids` and `post_ids` will return only synapses that are from the `pre_ids` onto the `post_ids`.\n",
    "</div>"
   ]
  },
  {
   "cell_type": "code",
   "execution_count": 16,
   "metadata": {},
   "outputs": [
    {
     "name": "stdout",
     "output_type": "stream",
     "text": [
      "synapses_pni_2\n",
      "(969, 10)\n"
     ]
    },
    {
     "data": {
      "text/html": [
       "<div>\n",
       "<style scoped>\n",
       "    .dataframe tbody tr th:only-of-type {\n",
       "        vertical-align: middle;\n",
       "    }\n",
       "\n",
       "    .dataframe tbody tr th {\n",
       "        vertical-align: top;\n",
       "    }\n",
       "\n",
       "    .dataframe thead th {\n",
       "        text-align: right;\n",
       "    }\n",
       "</style>\n",
       "<table border=\"1\" class=\"dataframe\">\n",
       "  <thead>\n",
       "    <tr style=\"text-align: right;\">\n",
       "      <th></th>\n",
       "      <th>id</th>\n",
       "      <th>valid</th>\n",
       "      <th>pre_pt_supervoxel_id</th>\n",
       "      <th>pre_pt_root_id</th>\n",
       "      <th>post_pt_supervoxel_id</th>\n",
       "      <th>post_pt_root_id</th>\n",
       "      <th>size</th>\n",
       "      <th>pre_pt_position</th>\n",
       "      <th>post_pt_position</th>\n",
       "      <th>ctr_pt_position</th>\n",
       "    </tr>\n",
       "  </thead>\n",
       "  <tbody>\n",
       "    <tr>\n",
       "      <th>0</th>\n",
       "      <td>183011812</td>\n",
       "      <td>t</td>\n",
       "      <td>90863916938376134</td>\n",
       "      <td>864691135068971402</td>\n",
       "      <td>90863916938361516</td>\n",
       "      <td>864691136296964635</td>\n",
       "      <td>6504</td>\n",
       "      <td>[189780, 193912, 23701]</td>\n",
       "      <td>[189858, 193858, 23690]</td>\n",
       "      <td>[189826, 193838, 23694]</td>\n",
       "    </tr>\n",
       "    <tr>\n",
       "      <th>1</th>\n",
       "      <td>141016922</td>\n",
       "      <td>t</td>\n",
       "      <td>87629977826679356</td>\n",
       "      <td>864691135497209028</td>\n",
       "      <td>87629977826685441</td>\n",
       "      <td>864691136296964635</td>\n",
       "      <td>2228</td>\n",
       "      <td>[166290, 216594, 19926]</td>\n",
       "      <td>[166274, 216634, 19931]</td>\n",
       "      <td>[166282, 216658, 19928]</td>\n",
       "    </tr>\n",
       "    <tr>\n",
       "      <th>2</th>\n",
       "      <td>160119812</td>\n",
       "      <td>t</td>\n",
       "      <td>88962174004906022</td>\n",
       "      <td>864691135839729023</td>\n",
       "      <td>88962174004911650</td>\n",
       "      <td>864691136296964635</td>\n",
       "      <td>1604</td>\n",
       "      <td>[176060, 180734, 22613]</td>\n",
       "      <td>[176042, 180744, 22617]</td>\n",
       "      <td>[176036, 180704, 22615]</td>\n",
       "    </tr>\n",
       "    <tr>\n",
       "      <th>3</th>\n",
       "      <td>216034962</td>\n",
       "      <td>t</td>\n",
       "      <td>93614895299788337</td>\n",
       "      <td>864691136091095220</td>\n",
       "      <td>93614895299785079</td>\n",
       "      <td>864691136296964635</td>\n",
       "      <td>8008</td>\n",
       "      <td>[209904, 243226, 26039]</td>\n",
       "      <td>[209820, 243262, 26035]</td>\n",
       "      <td>[209892, 243300, 26036]</td>\n",
       "    </tr>\n",
       "    <tr>\n",
       "      <th>4</th>\n",
       "      <td>169430591</td>\n",
       "      <td>t</td>\n",
       "      <td>89950015946103600</td>\n",
       "      <td>864691136755828334</td>\n",
       "      <td>89950015946101534</td>\n",
       "      <td>864691136296964635</td>\n",
       "      <td>3696</td>\n",
       "      <td>[183038, 200726, 18507]</td>\n",
       "      <td>[183068, 200674, 18514]</td>\n",
       "      <td>[183054, 200652, 18510]</td>\n",
       "    </tr>\n",
       "  </tbody>\n",
       "</table>\n",
       "</div>"
      ],
      "text/plain": [
       "          id valid  pre_pt_supervoxel_id      pre_pt_root_id  \\\n",
       "0  183011812     t     90863916938376134  864691135068971402   \n",
       "1  141016922     t     87629977826679356  864691135497209028   \n",
       "2  160119812     t     88962174004906022  864691135839729023   \n",
       "3  216034962     t     93614895299788337  864691136091095220   \n",
       "4  169430591     t     89950015946103600  864691136755828334   \n",
       "\n",
       "   post_pt_supervoxel_id     post_pt_root_id  size          pre_pt_position  \\\n",
       "0      90863916938361516  864691136296964635  6504  [189780, 193912, 23701]   \n",
       "1      87629977826685441  864691136296964635  2228  [166290, 216594, 19926]   \n",
       "2      88962174004911650  864691136296964635  1604  [176060, 180734, 22613]   \n",
       "3      93614895299785079  864691136296964635  8008  [209904, 243226, 26039]   \n",
       "4      89950015946101534  864691136296964635  3696  [183038, 200726, 18507]   \n",
       "\n",
       "          post_pt_position          ctr_pt_position  \n",
       "0  [189858, 193858, 23690]  [189826, 193838, 23694]  \n",
       "1  [166274, 216634, 19931]  [166282, 216658, 19928]  \n",
       "2  [176042, 180744, 22617]  [176036, 180704, 22615]  \n",
       "3  [209820, 243262, 26035]  [209892, 243300, 26036]  \n",
       "4  [183068, 200674, 18514]  [183054, 200652, 18510]  "
      ]
     },
     "execution_count": 16,
     "metadata": {},
     "output_type": "execute_result"
    }
   ],
   "source": [
    "print(client.materialize.synapse_table)\n",
    "post_synapse_df = client.materialize.synapse_query(post_ids = neuron_id)\n",
    "# lets post the shape to see how many synapses we have\n",
    "print(post_synapse_df.shape)\n",
    "# and take a peak at the whole dataframe\n",
    "post_synapse_df.head()"
   ]
  },
  {
   "cell_type": "markdown",
   "metadata": {},
   "source": [
    "<div style=\"border-left: 3px solid #000; padding: 1px; padding-left: 10px; background: #F0FAFF; \">\n",
    "\n",
    "<h3> Synapse Table Descriptions</h3>\n",
    "Here's a breakdown of what each of those columns mean.\n",
    "</div>\n",
    "\n",
    "<table style={float:left}>\n",
    "    <tr>\n",
    "        <td><h4>column</h4></td>\n",
    "        <td><h4>description</h4></td>\n",
    "    </tr> \n",
    "    <tr>\n",
    "        <td>id</td>\n",
    "        <td>The ID that is specific to this synapse annotation</td>\n",
    "    </tr>\n",
    "    <tr>\n",
    "        <td>pre_pt_supervoxel_id</td>\n",
    "        <td>a bookkeeping column for the presynaptic side </td>\n",
    "    </tr>\n",
    "    <tr>\n",
    "        <td>pre_pt_root_id</td>\n",
    "        <td>the ID of the cell on the presynaptic side</td>\n",
    "    </tr>\n",
    "    <tr>\n",
    "        <td>post_pt_supervoxel_id</td>\n",
    "        <td>Same bookkeeping column as pre_pt but for the post synaptic side.</td>\n",
    "    </tr>\n",
    "    <tr>\n",
    "        <td>post_pt_root_id</td>\n",
    "        <td>Same as pre_pt but for the post synaptic side</td>\n",
    "    </tr>\n",
    "    <tr>\n",
    "        <td>size</td>\n",
    "        <td>The size of the synaptic cleft in units of 4,4,40 voxels.</td>\n",
    "    </tr>\n",
    "    <tr>\n",
    "        <td>pre_pt_position</td>\n",
    "        <td>a point that is in the pre-synaptic terminal of this synapse (in voxels) </td>\n",
    "    </tr>\n",
    "    <tr>\n",
    "        <td>post_pt_position</td>\n",
    "        <td>Same as pre_pt but for the post synaptic side.</td>\n",
    "    </tr>\n",
    "    <tr>\n",
    "        <td>ctr_pt_position</td>\n",
    "        <td>a point that is on the center of the synapse (in voxels)</td>\n",
    "    </tr>\n",
    "</table>\n",
    "<div style=\"border-left: 3px solid #000; padding: 1px; padding-left: 10px; background: #F0FAFF; \">\n",
    "\n",
    "Each row in this table is a single synapse. You should see that the value in the post_pt_root_id column is the same for all, and equals the id you selected above. \n",
    "<h5>Note again that position columns are in voxel coordinates, just like Neuroglancer displays in the upper left corner. A single voxel has dimensions 4x4x40 nm.</h5>\n",
    "</div>"
   ]
  },
  {
   "cell_type": "code",
   "execution_count": 17,
   "metadata": {},
   "outputs": [
    {
     "data": {
      "text/plain": [
       "Text(0, 0.5, 'z (um)')"
      ]
     },
     "execution_count": 17,
     "metadata": {},
     "output_type": "execute_result"
    },
    {
     "data": {
      "image/png": "[encoded data removed]",
      "text/plain": [
       "<Figure size 864x432 with 2 Axes>"
      ]
     },
     "metadata": {
      "needs_background": "light"
     },
     "output_type": "display_data"
    }
   ],
   "source": [
    "# Lets make a matrix of synapse positions for this neuron\n",
    "syn_pos_nm = convert_to_nm(post_synapse_df.ctr_pt_position)\n",
    "# and plot their positions in x,y along with the soma position as a red circle\n",
    "f ,ax =plt.subplots(1,2,figsize=(12,6))\n",
    "ax[0].scatter(syn_pos_nm[:,0]/1000, syn_pos_nm[:,1]/1000)\n",
    "\n",
    "# add the soma position as a red circle\n",
    "soma_pos = convert_to_nm(clean_dend_df.pt_position)\n",
    "ax[0].scatter([soma_pos[0,0]/1000],[soma_pos[0,1]/1000],c='r',s=150)\n",
    "ax[0].set_aspect('equal')\n",
    "ax[0].set_xlabel('x (um)')\n",
    "ax[0].set_ylabel('y (um)')\n",
    "ax[0].set_ylim(1100,300)\n",
    "\n",
    "ax[1].scatter(syn_pos_nm[:,0]/1000, syn_pos_nm[:,2]/1000)\n",
    "\n",
    "# add the soma position as a red circle\n",
    "soma_pos = convert_to_nm(clean_dend_df.pt_position)\n",
    "ax[1].scatter([soma_pos[0,0]/1000],[soma_pos[0,2]/1000],c='r',s=150)\n",
    "ax[1].set_aspect('equal')\n",
    "ax[1].set_xlabel('x (um)')\n",
    "ax[1].set_ylabel('z (um)')"
   ]
  },
  {
   "cell_type": "markdown",
   "metadata": {},
   "source": [
    "<div style=\"border-left: 3px solid #000; padding: 1px; padding-left: 10px; background: #F0FAFF; \">\n",
    "\n",
    "Now lets figure out which excitatory neuron makes the most synapses onto this neuron\n",
    "</div>"
   ]
  },
  {
   "cell_type": "code",
   "execution_count": 18,
   "metadata": {},
   "outputs": [
    {
     "data": {
      "text/html": [
       "<div>\n",
       "<style scoped>\n",
       "    .dataframe tbody tr th:only-of-type {\n",
       "        vertical-align: middle;\n",
       "    }\n",
       "\n",
       "    .dataframe tbody tr th {\n",
       "        vertical-align: top;\n",
       "    }\n",
       "\n",
       "    .dataframe thead th {\n",
       "        text-align: right;\n",
       "    }\n",
       "</style>\n",
       "<table border=\"1\" class=\"dataframe\">\n",
       "  <thead>\n",
       "    <tr style=\"text-align: right;\">\n",
       "      <th></th>\n",
       "      <th>id</th>\n",
       "      <th>pre_pt_root_id</th>\n",
       "      <th>size</th>\n",
       "      <th>syn_in_conn</th>\n",
       "    </tr>\n",
       "  </thead>\n",
       "  <tbody>\n",
       "    <tr>\n",
       "      <th>367</th>\n",
       "      <td>154533592</td>\n",
       "      <td>864691135837393555</td>\n",
       "      <td>6780</td>\n",
       "      <td>8</td>\n",
       "    </tr>\n",
       "    <tr>\n",
       "      <th>114</th>\n",
       "      <td>162219403</td>\n",
       "      <td>864691135837393555</td>\n",
       "      <td>7600</td>\n",
       "      <td>8</td>\n",
       "    </tr>\n",
       "    <tr>\n",
       "      <th>322</th>\n",
       "      <td>162782088</td>\n",
       "      <td>864691135837393555</td>\n",
       "      <td>10100</td>\n",
       "      <td>8</td>\n",
       "    </tr>\n",
       "    <tr>\n",
       "      <th>838</th>\n",
       "      <td>162782172</td>\n",
       "      <td>864691135837393555</td>\n",
       "      <td>7784</td>\n",
       "      <td>8</td>\n",
       "    </tr>\n",
       "    <tr>\n",
       "      <th>33</th>\n",
       "      <td>159005518</td>\n",
       "      <td>864691135837393555</td>\n",
       "      <td>4668</td>\n",
       "      <td>8</td>\n",
       "    </tr>\n",
       "  </tbody>\n",
       "</table>\n",
       "</div>"
      ],
      "text/plain": [
       "            id      pre_pt_root_id   size  syn_in_conn\n",
       "367  154533592  864691135837393555   6780            8\n",
       "114  162219403  864691135837393555   7600            8\n",
       "322  162782088  864691135837393555  10100            8\n",
       "838  162782172  864691135837393555   7784            8\n",
       "33   159005518  864691135837393555   4668            8"
      ]
     },
     "execution_count": 18,
     "metadata": {},
     "output_type": "execute_result"
    }
   ],
   "source": [
    "# pandas groupby to count number of synapses from different neurons\n",
    "# followed by transform to label the individual synapses with \n",
    "# how many other synapses are in that connection.\n",
    "\n",
    "# transform labels all the rows in the group with the result of this function on the group\n",
    "syn_in_conn=post_synapse_df.groupby('pre_pt_root_id')['id'].transform(len)\n",
    "# save this result in a new colum\n",
    "post_synapse_df['syn_in_conn']=syn_in_conn\n",
    "post_synapse_df[['id', 'pre_pt_root_id', 'size','syn_in_conn']].sort_values('syn_in_conn', ascending=False).head()"
   ]
  },
  {
   "cell_type": "code",
   "execution_count": 19,
   "metadata": {},
   "outputs": [
    {
     "data": {
      "text/html": [
       "<div>\n",
       "<style scoped>\n",
       "    .dataframe tbody tr th:only-of-type {\n",
       "        vertical-align: middle;\n",
       "    }\n",
       "\n",
       "    .dataframe tbody tr th {\n",
       "        vertical-align: top;\n",
       "    }\n",
       "\n",
       "    .dataframe thead th {\n",
       "        text-align: right;\n",
       "    }\n",
       "</style>\n",
       "<table border=\"1\" class=\"dataframe\">\n",
       "  <thead>\n",
       "    <tr style=\"text-align: right;\">\n",
       "      <th></th>\n",
       "      <th>id</th>\n",
       "      <th>post_pt_root_id</th>\n",
       "      <th>pre_pt_root_id</th>\n",
       "      <th>syn_in_conn</th>\n",
       "      <th>ctr_pt_position</th>\n",
       "      <th>size</th>\n",
       "    </tr>\n",
       "  </thead>\n",
       "  <tbody>\n",
       "    <tr>\n",
       "      <th>182</th>\n",
       "      <td>176634013</td>\n",
       "      <td>864691136296964635</td>\n",
       "      <td>864691135564752471</td>\n",
       "      <td>1</td>\n",
       "      <td>[184456, 213532, 21495]</td>\n",
       "      <td>13924</td>\n",
       "    </tr>\n",
       "  </tbody>\n",
       "</table>\n",
       "</div>"
      ],
      "text/plain": [
       "            id     post_pt_root_id      pre_pt_root_id  syn_in_conn  \\\n",
       "182  176634013  864691136296964635  864691135564752471            1   \n",
       "\n",
       "             ctr_pt_position   size  \n",
       "182  [184456, 213532, 21495]  13924  "
      ]
     },
     "execution_count": 19,
     "metadata": {},
     "output_type": "execute_result"
    }
   ],
   "source": [
    "\n",
    "# are any of these synapses from our list of extended axons?\n",
    "is_from_exc = post_synapse_df.pre_pt_root_id.isin(ext_axon_df.pt_root_id.values)\n",
    "e_to_neuron_df=post_synapse_df[is_from_exc]\n",
    "e_to_neuron_df[['id',\n",
    "                'post_pt_root_id',\n",
    "                'pre_pt_root_id',\n",
    "                'syn_in_conn',\n",
    "                'ctr_pt_position',\n",
    "                'size']]"
   ]
  },
  {
   "cell_type": "markdown",
   "metadata": {},
   "source": [
    "<div style=\"border-left: 3px solid #000; padding: 1px; padding-left: 10px; background: #F0FAFF; \">\n",
    "\n",
    "Lets get the ID of the neuron that has the largest number of synapses onto this neuron\n",
    "</div>"
   ]
  },
  {
   "cell_type": "code",
   "execution_count": 23,
   "metadata": {},
   "outputs": [
    {
     "name": "stdout",
     "output_type": "stream",
     "text": [
      "864691135564752471\n"
     ]
    },
    {
     "data": {
      "text/html": [
       "<div>\n",
       "<style scoped>\n",
       "    .dataframe tbody tr th:only-of-type {\n",
       "        vertical-align: middle;\n",
       "    }\n",
       "\n",
       "    .dataframe tbody tr th {\n",
       "        vertical-align: top;\n",
       "    }\n",
       "\n",
       "    .dataframe thead th {\n",
       "        text-align: right;\n",
       "    }\n",
       "</style>\n",
       "<table border=\"1\" class=\"dataframe\">\n",
       "  <thead>\n",
       "    <tr style=\"text-align: right;\">\n",
       "      <th></th>\n",
       "      <th>id</th>\n",
       "      <th>valid</th>\n",
       "      <th>pre_pt_supervoxel_id</th>\n",
       "      <th>pre_pt_root_id</th>\n",
       "      <th>post_pt_supervoxel_id</th>\n",
       "      <th>post_pt_root_id</th>\n",
       "      <th>size</th>\n",
       "      <th>pre_pt_position</th>\n",
       "      <th>post_pt_position</th>\n",
       "      <th>ctr_pt_position</th>\n",
       "      <th>syn_in_conn</th>\n",
       "    </tr>\n",
       "  </thead>\n",
       "  <tbody>\n",
       "    <tr>\n",
       "      <th>182</th>\n",
       "      <td>176634013</td>\n",
       "      <td>t</td>\n",
       "      <td>90162840501533168</td>\n",
       "      <td>864691135564752471</td>\n",
       "      <td>90162840501531437</td>\n",
       "      <td>864691136296964635</td>\n",
       "      <td>13924</td>\n",
       "      <td>[184390, 213548, 21500]</td>\n",
       "      <td>[184524, 213568, 21494]</td>\n",
       "      <td>[184456, 213532, 21495]</td>\n",
       "      <td>1</td>\n",
       "    </tr>\n",
       "  </tbody>\n",
       "</table>\n",
       "</div>"
      ],
      "text/plain": [
       "            id valid  pre_pt_supervoxel_id      pre_pt_root_id  \\\n",
       "182  176634013     t     90162840501533168  864691135564752471   \n",
       "\n",
       "     post_pt_supervoxel_id     post_pt_root_id   size  \\\n",
       "182      90162840501531437  864691136296964635  13924   \n",
       "\n",
       "             pre_pt_position         post_pt_position  \\\n",
       "182  [184390, 213548, 21500]  [184524, 213568, 21494]   \n",
       "\n",
       "             ctr_pt_position  syn_in_conn  \n",
       "182  [184456, 213532, 21495]            1  "
      ]
     },
     "execution_count": 23,
     "metadata": {},
     "output_type": "execute_result"
    }
   ],
   "source": [
    "# find the neuron with the most synapses\n",
    "max_input_idx = e_to_neuron_df.syn_in_conn.idxmax()\n",
    "max_input_neuron = e_to_neuron_df.loc[max_input_idx].pre_pt_root_id\n",
    "print(max_input_neuron)\n",
    "\n",
    "# print out the synapses (should be 1)\n",
    "e_to_neuron_df[e_to_neuron_df.pre_pt_root_id == max_input_neuron]"
   ]
  },
  {
   "cell_type": "markdown",
   "metadata": {},
   "source": [
    "<div style=\"border-left: 3px solid #000; padding: 1px; padding-left: 10px; background: #F0FAFF; \">\n",
    "    <h3>Mesh visualization</h3>\n",
    "Now we can plot these synapses in 2d, but we have the detailed 3d morphology of these neurons, so why don't we look at them!\n",
    " </div>"
   ]
  },
  {
   "cell_type": "code",
   "execution_count": 24,
   "metadata": {},
   "outputs": [],
   "source": [
    "# this is an EM specific package for getting meshes\n",
    "# and doing analysis on those meshes\n",
    "from meshparty import trimesh_io, trimesh_vtk\n",
    "from meshparty import skeletonize, skeleton_io, skeleton"
   ]
  },
  {
   "cell_type": "markdown",
   "metadata": {},
   "source": [
    "<div style=\"border-left: 3px solid #000; padding: 1px; padding-left: 10px; background: #F0FAFF; \">\n",
    "To access the 3d meshes of neurons, we need use a MeshMeta object, you have access to a folder with the meshes of all the neurons with cell bodies in the dataset. (i.e. anything with an pt_root_id in the soma_valence_v2 table)\n",
    "</div>"
   ]
  },
  {
   "cell_type": "code",
   "execution_count": 25,
   "metadata": {},
   "outputs": [],
   "source": [
    "mm = trimesh_io.MeshMeta(cv_path =\"precomputed://gs://iarpa_microns/minnie/minnie65/seg\",\n",
    "                         disk_cache_path=mesh_folder,\n",
    "                         cache_size=0)"
   ]
  },
  {
   "cell_type": "code",
   "execution_count": 27,
   "metadata": {},
   "outputs": [
    {
     "ename": "ImportError",
     "evalue": "cannot import name 'ShardedMultiLevelPrecomputedMeshSource' from 'cloudvolume.mesh' (/opt/anaconda3/envs/micronsbinder2/lib/python3.7/site-packages/cloudvolume/mesh.py)",
     "output_type": "error",
     "traceback": [
      "\u001b[0;31m---------------------------------------------------------------------------\u001b[0m",
      "\u001b[0;31mImportError\u001b[0m                               Traceback (most recent call last)",
      "\u001b[0;32m<ipython-input-27-96ee0cc1fb0e>\u001b[0m in \u001b[0;36m<module>\u001b[0;34m\u001b[0m\n\u001b[0;32m----> 1\u001b[0;31m \u001b[0;32mfrom\u001b[0m \u001b[0mcloudvolume\u001b[0m\u001b[0;34m.\u001b[0m\u001b[0mmesh\u001b[0m \u001b[0;32mimport\u001b[0m \u001b[0mShardedMultiLevelPrecomputedMeshSource\u001b[0m\u001b[0;34m\u001b[0m\u001b[0m\n\u001b[0m\u001b[1;32m      2\u001b[0m \u001b[0misinstance\u001b[0m\u001b[0;34m(\u001b[0m\u001b[0mmm\u001b[0m\u001b[0;34m.\u001b[0m\u001b[0mcv\u001b[0m\u001b[0;34m.\u001b[0m\u001b[0mmesh\u001b[0m\u001b[0;34m,\u001b[0m \u001b[0mShardedMultiLevelPrecomputedMeshSource\u001b[0m\u001b[0;34m)\u001b[0m\u001b[0;34m\u001b[0m\u001b[0m\n",
      "\u001b[0;31mImportError\u001b[0m: cannot import name 'ShardedMultiLevelPrecomputedMeshSource' from 'cloudvolume.mesh' (/opt/anaconda3/envs/micronsbinder2/lib/python3.7/site-packages/cloudvolume/mesh.py)"
     ]
    }
   ],
   "source": [
    "from cloudvolume.mesh import ShardedMultiLevelPrecomputedMeshSource\n",
    "isinstance(mm.cv.mesh, ShardedMultiLevelPrecomputedMeshSource)"
   ]
  },
  {
   "cell_type": "code",
   "execution_count": 21,
   "metadata": {},
   "outputs": [],
   "source": [
    "# load the meshes\n",
    "post_mesh = mm.mesh(seg_id = neuron_id, lod=2)\n",
    "pre_mesh = mm.mesh(seg_id= max_input_neuron, lod=2)"
   ]
  },
  {
   "cell_type": "markdown",
   "metadata": {},
   "source": [
    "<div style=\"border-left: 3px solid #000; padding: 1px; padding-left: 10px; background: #F0FAFF; \">\n",
    "    \n",
    "Meshes are triangular meshes, that are composed of vertices (N,3) and faces (N,3) which are indices into the vertex list\n",
    "    \n",
    "\n",
    "The Mesh class is based upon trimesh (<a href=\"https://github.com/mikedh/trimesh\"> https://github.com/mikedh/trimesh</a>), with some added features for doing graphs\n",
    "\n",
    "You can find the source code for mesh party here .. <a href=\"https://github.com/sdorkenw/MeshParty\">https://github.com/sdorkenw/MeshParty </a>\n",
    "    </div>"
   ]
  },
  {
   "cell_type": "code",
   "execution_count": 27,
   "metadata": {},
   "outputs": [
    {
     "ename": "NameError",
     "evalue": "name 'post_mesh' is not defined",
     "output_type": "error",
     "traceback": [
      "\u001b[0;31m---------------------------------------------------------------------------\u001b[0m",
      "\u001b[0;31mNameError\u001b[0m                                 Traceback (most recent call last)",
      "\u001b[0;32m<ipython-input-27-3571ac1dceb2>\u001b[0m in \u001b[0;36m<module>\u001b[0;34m\u001b[0m\n\u001b[0;32m----> 1\u001b[0;31m \u001b[0mpost_mesh\u001b[0m\u001b[0;34m.\u001b[0m\u001b[0mvertices\u001b[0m\u001b[0;34m.\u001b[0m\u001b[0mshape\u001b[0m\u001b[0;34m,\u001b[0m \u001b[0mpost_mesh\u001b[0m\u001b[0;34m.\u001b[0m\u001b[0mfaces\u001b[0m\u001b[0;34m.\u001b[0m\u001b[0mshape\u001b[0m\u001b[0;34m\u001b[0m\u001b[0;34m\u001b[0m\u001b[0m\n\u001b[0m",
      "\u001b[0;31mNameError\u001b[0m: name 'post_mesh' is not defined"
     ]
    }
   ],
   "source": [
    "post_mesh.vertices.shape, post_mesh.faces.shape"
   ]
  },
  {
   "cell_type": "markdown",
   "metadata": {},
   "source": [
    "<div style=\"border-left: 3px solid #000; padding: 1px; padding-left: 10px; background: #F0FAFF; \">\n",
    "\n",
    "Below we are going to visualize things in 3d.  Different code paths  illustrate different visualization methods\n",
    "</div>\n"
   ]
  },
  {
   "cell_type": "code",
   "execution_count": 29,
   "metadata": {},
   "outputs": [
    {
     "name": "stdout",
     "output_type": "stream",
     "text": [
      "A VTK window should have popped up behind you\n",
      "WARNING YOU NEED TO CLOSE IT BY PRESSING Q TO MOVE ON\n",
      "setting up renderer\n",
      "done setting up\n",
      "actors added\n",
      "camera set\n",
      "render done\n",
      "finalizing..\n"
     ]
    }
   ],
   "source": [
    "# Set viewer equals None so vtk option doesn't error\n",
    "viewer = None\n",
    "if viz_method == 'itkwidgets':\n",
    "    #import ITK widgets view function\n",
    "    from itkwidgets import view\n",
    "    \n",
    "    # step 1\n",
    "    # convert your actors to vtkpolydata objects\n",
    "    post_poly_data = trimesh_vtk.trimesh_to_vtk(post_mesh.vertices, post_mesh.faces, None)\n",
    "    pre_poly_data = trimesh_vtk.trimesh_to_vtk(pre_mesh.vertices, pre_mesh.faces, None)\n",
    "\n",
    "    # step 2\n",
    "    # then create a viewer with this view function\n",
    "    # pass in polydata objects, what colors you want\n",
    "    # see docstring for more options\n",
    "    viewer=view(geometries=[post_poly_data, pre_poly_data],\n",
    "                geometry_colors=['m','g'], \n",
    "                ui_collapsed=True)\n",
    "\n",
    "    # viewer controls..\n",
    "    # pinch movements:  to zoom in and out\n",
    "    # ctrl+wheel: on a mouse to do the same\n",
    "    # shift+drag: to pan\n",
    "\n",
    "    \n",
    "elif viz_method == 'vtk':\n",
    "\n",
    "    # Step 1\n",
    "    # Convert meshes to actors, providing color and opacity\n",
    "    # options, you can provide vertex colors to color mesh vertices\n",
    "    # however these will only be relevant for vizmethod=vtk\n",
    "    post_actor = trimesh_vtk.mesh_actor(post_mesh,\n",
    "                                    opacity=1.0,\n",
    "                                    color=(1,0,1))\n",
    "    pre_actor = trimesh_vtk.mesh_actor(pre_mesh,\n",
    "                                   opacity=1.0,\n",
    "                                   color=(0,1,0))\n",
    "    print(\"A VTK window should have popped up behind you\")\n",
    "    print(\"WARNING YOU NEED TO CLOSE IT BY PRESSING Q TO MOVE ON\")\n",
    "    # step 2\n",
    "    # render them interactively with this function\n",
    "    # passing a list of actors\n",
    "    # can optionally specify a path to save a static image\n",
    "    trimesh_vtk.render_actors([pre_actor, post_actor])\n",
    "\n",
    "    # vtk controls\n",
    "    # pinch movements:  to zoom in and out\n",
    "    # ctrl+wheel: on a mouse to do the same\n",
    "    # shift+drag: to pan\n",
    "    # mouse over + f: to zoom to where you point and recenter camera there\n",
    "    # w: wireframe visualization\n",
    "    # s: surface visualization\n",
    "    # q: to exit visualization\n",
    "    \n",
    "# to display widget if doing itkwidgets or vtkplotter\n",
    "viewer"
   ]
  },
  {
   "cell_type": "code",
   "execution_count": 30,
   "metadata": {},
   "outputs": [
    {
     "name": "stdout",
     "output_type": "stream",
     "text": [
      "A VTK window should have popped up behind you\n",
      "WARNING YOU NEED TO CLOSE IT BY PRESSING Q TO MOVE ON\n",
      "setting up renderer\n",
      "done setting up\n",
      "actors added\n",
      "camera set\n",
      "render done\n",
      "finalizing..\n"
     ]
    }
   ],
   "source": [
    "# in vtk and vtkplotter there is more camera control\n",
    "# so this is how you would automatically center the camera\n",
    "# on the first synapse between these neurons\n",
    "max_synapses = e_to_neuron_df[e_to_neuron_df.pre_pt_root_id == max_input_neuron]\n",
    "\n",
    "# get the location of the first synapse (change 0 to 1 or 2 to look at others)\n",
    "syn_pos =convert_to_nm(max_synapses.iloc[[0]].ctr_pt_position)\n",
    "\n",
    "# create a camera object pointed at the synapse\n",
    "camera = trimesh_vtk.oriented_camera(syn_pos, backoff=20)\n",
    "\n",
    "\n",
    "if viz_method == 'vtk':\n",
    "    print(\"A VTK window should have popped up behind you\")\n",
    "    print(\"WARNING YOU NEED TO CLOSE IT BY PRESSING Q TO MOVE ON\")\n",
    "    # pass the camera to the render_actors function to control camera\n",
    "    trimesh_vtk.render_actors([post_actor, pre_actor], camera=camera)\n",
    "\n",
    "elif viz_method == 'vtkplotter':\n",
    "    # convert this camera to a k3d camera matrix\n",
    "    kcamera = np.concatenate([camera.GetPosition(),\n",
    "                              camera.GetFocalPoint(),\n",
    "                              camera.GetViewUp()])\n",
    "    # this will immediately move the camera of the viewer above\n",
    "    viewer.camera = kcamera\n"
   ]
  },
  {
   "cell_type": "markdown",
   "metadata": {},
   "source": [
    "<div style=\"border-left: 3px solid #000; padding: 1px; padding-left: 10px; background: #F0FAFF; \">\n",
    "    <h3> Visualizing synapses </h3>\n",
    "Now what if we just want to see the synapse locations without the mesh of the other side\n",
    "</div>"
   ]
  },
  {
   "cell_type": "code",
   "execution_count": 31,
   "metadata": {
    "scrolled": false
   },
   "outputs": [
    {
     "name": "stdout",
     "output_type": "stream",
     "text": [
      "remember the window pops up behind\n",
      "setting up renderer\n",
      "done setting up\n",
      "actors added\n",
      "camera set\n",
      "render done\n",
      "finalizing..\n"
     ]
    }
   ],
   "source": [
    "# synapse sizes tend to distributed widely\n",
    "# so we are going to color and size them proportional to the log\n",
    "syn_color = np.log(post_synapse_df['size'].values)\n",
    "syn_size = 100*np.log(post_synapse_df['size'].values)\n",
    "\n",
    "# this will produce spheres at each point with sizes in nm\n",
    "# and color values that are mapped through a colormap\n",
    "# in VTK only you can pass explicit colors as well\n",
    "syn_actor = trimesh_vtk.point_cloud_actor(syn_pos_nm, size=syn_size, color=syn_color)\n",
    "\n",
    "if viz_method == 'vtk':\n",
    "    print('remember the window pops up behind')\n",
    "    trimesh_vtk.render_actors([post_actor, syn_actor])\n",
    "if viz_method == 'itkwidgets':\n",
    "    syn_pd = syn_actor.GetMapper().GetInput()\n",
    "    viewer = view(geometries=[post_poly_data, syn_pd],\n",
    "                  geometry_colors=['m','g'],\n",
    "                  ui_collapsed=True)\n",
    "if viz_method == 'vtkplotter':\n",
    "    import vtkplotter\n",
    "    syn_pd = syn_actor.GetMapper().GetInput()\n",
    "    syn_actor =  vtkplotter.Actor(syn_pd)\n",
    "    post_poly_data = trimesh_vtk.trimesh_to_vtk(post_mesh.vertices,\n",
    "                                                post_mesh.faces, None)\n",
    "    post_poly_actor = vtkplotter.Actor(post_poly_data,\n",
    "                                       c='m',\n",
    "                                       alpha=1.0)\n",
    "    vp = vtkplotter.Plotter(bg='w')\n",
    "    vp += post_poly_actor\n",
    "    vp += syn_actor\n",
    "    \n",
    "    # step 4\n",
    "    # get a viewer\n",
    "    viewer = vp.show()\n",
    "viewer"
   ]
  },
  {
   "cell_type": "code",
   "execution_count": null,
   "metadata": {},
   "outputs": [],
   "source": []
  }
 ],
 "metadata": {
  "interpreter": {
   "hash": "e17c704ee36528c3cfcd7dcc3f7e33facab0a30a3c4c97ac2d81f69379006198"
  },
  "kernelspec": {
   "display_name": "Python 3",
   "language": "python",
   "name": "python3"
  },
  "language_info": {
   "codemirror_mode": {
    "name": "ipython",
    "version": 3
   },
   "file_extension": ".py",
   "mimetype": "text/x-python",
   "name": "python",
   "nbconvert_exporter": "python",
   "pygments_lexer": "ipython3",
   "version": "3.7.10"
  }
 },
 "nbformat": 4,
 "nbformat_minor": 2
}
