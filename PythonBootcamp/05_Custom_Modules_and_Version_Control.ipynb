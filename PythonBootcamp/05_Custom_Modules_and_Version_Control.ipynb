{
 "cells": [
  {
   "cell_type": "markdown",
   "metadata": {},
   "source": [
    "<img src=\"support_files/cropped-SummerWorkshop_Header.png\">  \n",
    "\n",
    "<h1 align=\"center\">Python Bootcamp</h1> \n",
    "<h3 align=\"center\">August 18-19, 2018</h3> "
   ]
  },
  {
   "cell_type": "markdown",
   "metadata": {
    "collapsed": true
   },
   "source": [
    "<div style=\"border-left: 3px solid #000; padding: 1px; padding-left: 10px; background: #F0FAFF; \">\n",
    "<center><h1>Custom Modules and Version Control</h1></center>\n",
    "\n",
    "<p>We have seen that new functinoality in Python can be encapsulated as a <i>module</i>, and that we can import modules into our own code. In this section we will create a new Python module. \n",
    "\n",
    "- Important because encapsulating functions makes them <i>reusable</i>. We will use this mechanism to develop tools that we can share with each other during the course.\n",
    "\n",
    "- We would also like to be able to <i>collaborate</i> on these tools, so at the same time we will look at some of the basics of using git to track changes to our module. This will lay the foundation for collaborative workflows with git that will be dicussed later in the course.\n",
    "\n",
    "- Jupyter is not (currently) a good tool for developing modules or for learning about git, so we will do most of our work with a text editor and a git application (GitKraken) for this section.\n",
    "\n",
    "</div>"
   ]
  },
  {
   "cell_type": "markdown",
   "metadata": {
    "collapsed": true
   },
   "source": [
    "<div style=\"border-left: 3px solid #000; padding: 1px; padding-left: 10px; background: #F0FAFF; \">\n",
    "Let's begin by making a simple module. For now, it will contain just one function we can use to downsample time-series data.\n",
    "</div>"
   ]
  },
  {
   "cell_type": "code",
   "execution_count": 1,
   "metadata": {},
   "outputs": [],
   "source": [
    "# here is the code we'd like to include in the module:\n",
    "\n",
    "import numpy as np\n",
    "\n",
    "def downsample(data, n, axis=0):\n",
    "    \"\"\"Reduce the number of samples in an array by averaging together\n",
    "    n samples at a time.\n",
    "    \"\"\"\n",
    "    if n <= 1:\n",
    "        return data\n",
    "    new_len = data.shape[axis] // n\n",
    "    s = list(data.shape)\n",
    "    s[axis] = new_len\n",
    "    s.insert(axis+1, n)\n",
    "    sl = [slice(None)] * data.ndim\n",
    "    sl[axis] = slice(0, new_len*n)\n",
    "    d1 = data[tuple(sl)]\n",
    "    d1.shape = tuple(s)\n",
    "    d2 = d1.mean(axis+1)\n",
    "    return d2"
   ]
  },
  {
   "cell_type": "markdown",
   "metadata": {
    "collapsed": true
   },
   "source": [
    "<div style=\"border-left: 3px solid #000; padding: 1px; padding-left: 10px; background: #F0FAFF; \">\n",
    "Just so we understand what this function does, let's generate a noisy time-series signal and plot it:\n",
    "</div>"
   ]
  },
  {
   "cell_type": "code",
   "execution_count": 4,
   "metadata": {
    "scrolled": true
   },
   "outputs": [
    {
     "data": {
      "text/plain": [
       "(-20.0, 20.0)"
      ]
     },
     "execution_count": 4,
     "metadata": {},
     "output_type": "execute_result"
    },
    {
     "data": {
      "image/png": "[encoded data removed]",
      "text/plain": [
       "<Figure size 432x288 with 1 Axes>"
      ]
     },
     "metadata": {
      "needs_background": "light"
     },
     "output_type": "display_data"
    }
   ],
   "source": [
    "import matplotlib.pyplot as plt\n",
    "%matplotlib inline\n",
    "\n",
    "t = np.linspace(0, 10, 10000)\n",
    "data = np.sin(t) + 5 * np.random.normal(size=len(t))\n",
    "plt.plot(t, data)\n",
    "plt.ylim(-20, 20)"
   ]
  },
  {
   "cell_type": "markdown",
   "metadata": {
    "collapsed": true
   },
   "source": [
    "<div style=\"border-left: 3px solid #000; padding: 1px; padding-left: 10px; background: #F0FAFF; \">\n",
    "And this is what the same signal looks like after it has been downsampled. Note that the downsampled signal has many fewer samples, and the overall noise is much smaller.\n",
    "</div>"
   ]
  },
  {
   "cell_type": "code",
   "execution_count": 5,
   "metadata": {
    "scrolled": true
   },
   "outputs": [
    {
     "data": {
      "text/plain": [
       "(-20.0, 20.0)"
      ]
     },
     "execution_count": 5,
     "metadata": {},
     "output_type": "execute_result"
    },
    {
     "data": {
      "image/png": "[encoded data removed]",
      "text/plain": [
       "<Figure size 432x288 with 1 Axes>"
      ]
     },
     "metadata": {
      "needs_background": "light"
     },
     "output_type": "display_data"
    }
   ],
   "source": [
    "ds_data = downsample(data, 200)\n",
    "plt.plot(t[::200], ds_data)\n",
    "plt.ylim(-20, 20)"
   ]
  },
  {
   "cell_type": "markdown",
   "metadata": {
    "collapsed": true
   },
   "source": [
    "<div style=\"border-left: 3px solid #000; padding: 1px; padding-left: 10px; background: #F0FAFF; \">\n",
    "Just to reiterate: We have created a useful function, and now we would like to encapsulate it into a module so that\n",
    "\n",
    "<ul>\n",
    "<li>We can re-use this function in many different places without copying it, and\n",
    "<li>We can share this function with other people.\n",
    "</ul>\n",
    "\n",
    "<br>\n",
    "<hr>\n",
    "\n",
    "Here's how to turn this code into a module:\n",
    "<ol>\n",
    "<li>Open a code editor and paste in the definition of `downsample()` given above, including the `import numpy` statement.\n",
    "<li>Save the file as `my_module.py` in the same location as this notebook.\n",
    "</ol>\n",
    "<br>\n",
    "You're done!<br>\n",
    "\n",
    "Now let's see if it works:\n",
    "\n",
    "</div>"
   ]
  },
  {
   "cell_type": "code",
   "execution_count": 7,
   "metadata": {},
   "outputs": [],
   "source": [
    "# Remove the old downsample (so you can't cheat!)\n",
    "if 'downsample' in locals():\n",
    "    del downsample\n",
    "\n",
    "# Import the new definition of `downsample` from your module\n",
    "from my_module import downsample\n",
    "\n",
    "# If you get \"ImportError: No module named my_module\", then make sure\n",
    "# the .py file was saved in the same folder as this notebook file."
   ]
  },
  {
   "cell_type": "code",
   "execution_count": 9,
   "metadata": {},
   "outputs": [
    {
     "data": {
      "text/plain": [
       "(-20.0, 20.0)"
      ]
     },
     "execution_count": 9,
     "metadata": {},
     "output_type": "execute_result"
    },
    {
     "data": {
      "image/png": "[encoded data removed]",
      "text/plain": [
       "<Figure size 432x288 with 1 Axes>"
      ]
     },
     "metadata": {
      "needs_background": "light"
     },
     "output_type": "display_data"
    }
   ],
   "source": [
    "# test again:\n",
    "ds_data = downsample(data, 200)\n",
    "plt.plot(t[::200], ds_data)\n",
    "plt.ylim(-20, 20)"
   ]
  },
  {
   "cell_type": "markdown",
   "metadata": {
    "collapsed": true
   },
   "source": [
    "<div style=\"border-left: 3px solid #000; padding: 1px; padding-left: 10px; background: #F0FAFF; \">\n",
    "Good so far, but there are some issues with this approach:\n",
    "\n",
    "<ul>\n",
    "<li>As our code becomes more complex, we will often want to organize it into multiple files and make them all appear as a single importable module.\n",
    "<li>If we distribute this code, we will at least want to include a README to explain what it's about, so I'd really like my module to live inside its own folder.\n",
    "</ul>\n",
    "\n",
    "<hr>\n",
    "So now we are going to turn this module into a <i>package</i>, which is really just a collection of modules inside a folder, along with some Python glue.\n",
    "<ol>\n",
    "<li>Make a new folder, in the same location as this notebook, called `my_package`\n",
    "<li>Move `my_module.py` into this new folder\n",
    "<li>Create an empty text file called `__init__.py` inside `my_package`. (note the double underscores)\n",
    "</ol>\n",
    "<br>\n",
    "The `__init__.py` file is a hint to Python that tells it \"this folder is a package that can be imported\".\n",
    "\n",
    "<hr>\n",
    "Now let's try importing from the new package:\n",
    "\n",
    "</div>"
   ]
  },
  {
   "cell_type": "code",
   "execution_count": 10,
   "metadata": {},
   "outputs": [],
   "source": [
    "# Remove the old downsample (so you can't cheat!)\n",
    "if 'downsample' in locals():\n",
    "    del downsample\n",
    "\n",
    "# Import downsample from our shiny new package\n",
    "from my_package.my_module import downsample"
   ]
  },
  {
   "cell_type": "code",
   "execution_count": 12,
   "metadata": {
    "scrolled": true
   },
   "outputs": [
    {
     "data": {
      "text/plain": [
       "(-20.0, 20.0)"
      ]
     },
     "execution_count": 12,
     "metadata": {},
     "output_type": "execute_result"
    },
    {
     "data": {
      "image/png": "[encoded data removed]",
      "text/plain": [
       "<Figure size 432x288 with 1 Axes>"
      ]
     },
     "metadata": {
      "needs_background": "light"
     },
     "output_type": "display_data"
    }
   ],
   "source": [
    "# test again:\n",
    "ds_data = downsample(data, 200)\n",
    "plt.plot(t[::200], ds_data)\n",
    "plt.ylim(-20, 20)"
   ]
  },
  {
   "cell_type": "markdown",
   "metadata": {},
   "source": [
    "<div style=\"border-left: 3px solid #000; padding: 1px; padding-left: 10px; background: #F0FAFF; \">\n",
    "<h3>A note about namespaces</h3>\n",
    "\n",
    "<p>Each python <i>file</i> that you work with has its own isolated namespace. That means we could write `x=1` inside the module, and `x=2` inside this notebook, and the two names will <i>not</i> collide; each `x` variable lives in a different namespace. `import` statements are how we create a reference from one module's namespace into another.\n",
    "\n",
    "</div>"
   ]
  },
  {
   "cell_type": "code",
   "execution_count": 13,
   "metadata": {
    "scrolled": true
   },
   "outputs": [
    {
     "data": {
      "text/plain": [
       "['__builtins__',\n",
       " '__cached__',\n",
       " '__doc__',\n",
       " '__file__',\n",
       " '__loader__',\n",
       " '__name__',\n",
       " '__package__',\n",
       " '__path__',\n",
       " '__spec__',\n",
       " 'my_module']"
      ]
     },
     "execution_count": 13,
     "metadata": {},
     "output_type": "execute_result"
    }
   ],
   "source": [
    "import my_package.my_module\n",
    "\n",
    "# my_package contains a namespace with the variable \"my_module\"\n",
    "dir(my_package)"
   ]
  },
  {
   "cell_type": "code",
   "execution_count": 14,
   "metadata": {
    "scrolled": true
   },
   "outputs": [
    {
     "data": {
      "text/plain": [
       "['__builtins__',\n",
       " '__cached__',\n",
       " '__doc__',\n",
       " '__file__',\n",
       " '__loader__',\n",
       " '__name__',\n",
       " '__package__',\n",
       " '__spec__',\n",
       " 'downsample',\n",
       " 'np']"
      ]
     },
     "execution_count": 14,
     "metadata": {},
     "output_type": "execute_result"
    }
   ],
   "source": [
    "# my_module contains its own namespace where the \"downsample\" function is defined and numpy has been imported\n",
    "dir(my_package.my_module)"
   ]
  },
  {
   "cell_type": "code",
   "execution_count": 15,
   "metadata": {},
   "outputs": [
    {
     "data": {
      "text/plain": [
       "['In',\n",
       " 'Out',\n",
       " '_',\n",
       " '_12',\n",
       " '_13',\n",
       " '_14',\n",
       " '_4',\n",
       " '_5',\n",
       " '_9',\n",
       " '__',\n",
       " '___',\n",
       " '__builtin__',\n",
       " '__builtins__',\n",
       " '__doc__',\n",
       " '__loader__',\n",
       " '__name__',\n",
       " '__package__',\n",
       " '__spec__',\n",
       " '_dh',\n",
       " '_i',\n",
       " '_i1',\n",
       " '_i10',\n",
       " '_i11',\n",
       " '_i12',\n",
       " '_i13',\n",
       " '_i14',\n",
       " '_i15',\n",
       " '_i2',\n",
       " '_i3',\n",
       " '_i4',\n",
       " '_i5',\n",
       " '_i6',\n",
       " '_i7',\n",
       " '_i8',\n",
       " '_i9',\n",
       " '_ih',\n",
       " '_ii',\n",
       " '_iii',\n",
       " '_oh',\n",
       " 'data',\n",
       " 'downsample',\n",
       " 'ds_data',\n",
       " 'exit',\n",
       " 'get_ipython',\n",
       " 'my_package',\n",
       " 'np',\n",
       " 'plt',\n",
       " 'quit',\n",
       " 't']"
      ]
     },
     "execution_count": 15,
     "metadata": {},
     "output_type": "execute_result"
    }
   ],
   "source": [
    "# The notebook we are working in contains its own namespace, which includes the name \"my_package\",\n",
    "# amongst others.\n",
    "dir()"
   ]
  },
  {
   "cell_type": "markdown",
   "metadata": {},
   "source": [
    "<div style=\"border-left: 3px solid #000; padding: 1px; padding-left: 10px; background: #F0FAFF; \">\n",
    "<h2>Versioning your code</h2>\n",
    "<br>\n",
    "Now that we have a working package, let's start talking about version control. We are going to use `git` to record a history of all changes to all files in this package. `git` the de-facto industry standard tool for collaborative software development. This will enable us to do several important things:\n",
    "\n",
    "<ul>\n",
    "<li>Compare the differences between versions of the code\n",
    "<li>Temporarily run other versions of the code, or revert back to an earlier version if we encounter problems\n",
    "<li>Publish our code on websites like github or bitbucket\n",
    "<li>Collaborate with others by automatically merging their changes with ours\n",
    "</ul>\n",
    "\n",
    "Managing code changes with a team of people all developing in parallel is really difficult! Version control systems like git make this easier, but still come with a steep learning curve. We want you to lean some basic concepts today, but becoming comfortable with git will just take practice.\n",
    "</div>"
   ]
  },
  {
   "cell_type": "markdown",
   "metadata": {},
   "source": [
    "<div style=\"border-left: 3px solid #000; padding: 1px; padding-left: 10px; background: #F0FAFF; \">\n",
    "<h3>Tools for working with git</h3>\n",
    "<br>\n",
    "There are three major tools we will introduce for interacting with git\n",
    "\n",
    "<ol>\n",
    "    <li><b>git</b> itself. This is the software that runs under the hood to keep track of our code changes. We will rarely interact with git <i>directly</i> during this session, but it may be required later.\n",
    "    <li><b>GitHub.com</b> is a commercial service + web application (free for open source projects) that allows us to store and publish code on the web. It implements some very nice tools for online collaboration that will be introduced later in the course.\n",
    "    <li><b>GitKraken</b> is a commercial (also free for open source projects) graphical tool that we will use to interact with git on our laptops. Although it is possible to use git directly from the command line, GitKraken is a much easier way for us to get started.\n",
    "</ol>\n",
    "\n",
    "</div>"
   ]
  },
  {
   "cell_type": "markdown",
   "metadata": {},
   "source": [
    "<div style=\"border-left: 3px solid #000; padding: 1px; padding-left: 10px; background: #F0FAFF; \">\n",
    "<h3>Getting started with GitKraken</h3>\n",
    "\n",
    "<div style='color: #000; background-color: #CCD; font-family: monospace; padding: 15px; margin: 10px; margin-left: 30px; border-radius: 3px'>\n",
    "<ol>\n",
    "<li>First: fire up GitKraken on your laptop and log in. You can sign in with your github account, or create a new GitKraken account.\n",
    "\n",
    "<li>In order to begin tracking code changes in our new package, we need to <i>initialize</i> a git repository in the package folder.\n",
    "\n",
    "<ul>\n",
    "    <li>Click the open repository button (upper left corner)\n",
    "    <li>Click \"Init\" and then \"Local only\"\n",
    "    <li>Under \"Initialize in\", navigate to and select your \"my_package\" folder, then click \"select folder\"\n",
    "    <li>Leave everything else blank and click \"Create repository\"\n",
    "</ul>\n",
    "\n",
    "</ol>\n",
    "</div>\n",
    "\n",
    "<h3>What has changed?</h3>\n",
    "\n",
    "<ul>\n",
    "    <li>A subfolder \"my_package/.git\" has been created by <b>git</b>, which is where git will store all code version information.\n",
    "    <li>An initial blank \"commit\" has been created:\n",
    "</ul>\n",
    "<img src=\"support_files/gitkraken_1.png\">\n",
    "\n",
    "<div> <!-- NOTE: this div is a workaround for a jupyter HTML export bug --> </div>\n",
    "</div>"
   ]
  },
  {
   "cell_type": "markdown",
   "metadata": {},
   "source": [
    "\n",
    "<h2>Definitions:</h2>\n",
    "\n",
    "<p><b>Commit (n)</b> A snapshot of the state of all files in your project at one point in time. A commit includes some metadata:\n",
    "<ul>\n",
    "    <li>Author\n",
    "    <li>Creation date\n",
    "    <li>A short description (written by the developer)\n",
    "    <li>A unique ID (also called a \"hash\")\n",
    "    <li>Parent ID (which commit came before this one)\n",
    "</ul>\n",
    "\n",
    "<p><b>Commit (v)</b> To create a new commit. \n",
    "\n",
    "<p><b>Repository (n)</b> A folder that contains all of the files associated with a project and the history of changes made to each file. A git repository contains a `.git` subfolder that stores all data about the history of commits and the configuration of the repository.\n",
    "\n",
    "<div> <!-- NOTE: this div is a workaround for a jupyter HTML export bug --> </div>"
   ]
  },
  {
   "cell_type": "markdown",
   "metadata": {},
   "source": [
    "<div style=\"border-left: 3px solid #000; padding: 1px; padding-left: 10px; background: #F0FAFF; \">\n",
    "<h3>Adding files to the repository</h3>\n",
    "In the screenshot above, we see two circles representing commits. On the bottom is a full circle labeled \"Initial commit\", which was created when we initialized the repository. On the top is a dashed circle lebeled \"WIP\" (meaning work in progress) that represents a commit you have not created yet. To the right, a green \"[+] 2\" indicates that there are 2 files present in the my_package folder that are <i>not</i> currently begin tracked by git. Our next task will be to finish creating that commit. this happens in two parts:\n",
    "\n",
    "<h4>1. Staging changes to be committed</h4>\n",
    "To the right, we see two boxes <b>Unstaged Files</b> and <b>Staged Files</b>:\n",
    "\n",
    "<img src=\"support_files/gitkraken_2.png\">\n",
    "\n",
    "The top box contains file changes that <i>differ</i> from the last full commit (the one called \"Initial commit\" here). It tells us that the files \"\\_\\_init__.py\" and \"my_module.py\" are not tracked by git in this repository.\n",
    "\n",
    "<div style='color: #000; background-color: #CCD; font-family: monospace; padding: 15px; margin: 10px; margin-left: 30px; border-radius: 3px'>\n",
    "    Tell git that our two .py files should be <i>added</i> to the repository with the next commit. This is called \"staging changes\"; we are just preparing a list of things that will go into the next commit:\n",
    "    <ol>\n",
    "        <li>Point to \"__init__.py\" and click \"Stage file\"\n",
    "        <li>Repeat for \"my_module.py\"\n",
    "    </ol>\n",
    "</div>\n",
    "\n",
    "We now see that our two files have moved into the \"Staged files\" box.\n",
    "<div> <!-- NOTE: this div is a workaround for a jupyter HTML export bug --> </div>\n",
    "</div>"
   ]
  },
  {
   "cell_type": "markdown",
   "metadata": {},
   "source": [
    "<div style=\"border-left: 3px solid #000; padding: 1px; padding-left: 10px; background: #F0FAFF; \">\n",
    "<h4>2. Creating a commit from staged changes</h4>\n",
    "\n",
    "<div style='color: #000; background-color: #CCD; font-family: monospace; padding: 15px; margin: 10px; margin-left: 30px; border-radius: 3px'>\n",
    "    <ol>\n",
    "        <li>Type in a commit message - a short description of the changes you are introducing. I used the message \"Added init and module files\".<img src=\"support_files/gitkraken_3.png\"/></li>\n",
    "        <li>Click the shiny green button \"Commit changes to 2 files\"</li>\n",
    "    </ol>\n",
    "</div>\n",
    "<div> <!-- NOTE: this div is a workaround for a jupyter HTML export bug --> </div>\n",
    "You should now see that a few things have changed:\n",
    "\n",
    "<ul>\n",
    "    <li>The imaginary (dashed-circle) is replaced by a new commit (full-circle).\n",
    "    <li>The name \"master\" now points to the second commit. We will come back to this a little later.\n",
    "</ul>\n",
    "\n",
    "<div style='color: #000; background-color: #CCD; font-family: monospace; padding: 15px; margin: 10px; margin-left: 30px; border-radius: 3px'>\n",
    "    Browse through the history of changes in this repository:\n",
    "    <ol>\n",
    "        <li>Click on the bottom \"Initial commit\" and look at the list of changes on the right\n",
    "        <li>Click on the top commit that you created and read the list of changes again.\n",
    "    </ol>\n",
    "</div>\n",
    "\n",
    "\n",
    "<div> <!-- NOTE: this div is a workaround for a jupyter HTML export bug --> </div>\n",
    "</div>"
   ]
  },
  {
   "cell_type": "markdown",
   "metadata": {},
   "source": [
    "<div style=\"border-left: 3px solid #000; padding: 1px; padding-left: 10px; background: #F0FAFF; \">\n",
    "<h3>Practice: adding more commits</h3>\n",
    "\n",
    "We will now go through the motions of editing and committing code changes a few times. The basic workflow will be:\n",
    "\n",
    "<div style='color: #000; background-color: #CCD; font-family: monospace; padding: 15px; margin: 10px; margin-left: 30px; border-radius: 3px'>\n",
    "    <ol>\n",
    "        <li>Make code changes\n",
    "        <li>Select the WIP commit in gitkraken\n",
    "        <li>Click on changed files to review changes\n",
    "        <li>Stage changes as you go (or fix them as needed)\n",
    "        <li>Create a new commit\n",
    "    </ol>\n",
    "</div>\n",
    "\n",
    "<h4>Change set 1:</h4>\n",
    "\n",
    "<div style='color: #000; background-color: #CCD; font-family: monospace; padding: 15px; margin: 10px; margin-left: 30px; border-radius: 3px'>\n",
    "    In your code editor, go back to `my_module.py` and add some more detail to the docstring:\n",
    "    <pre>\n",
    "    Parameters\n",
    "    ----------\n",
    "    data : array\n",
    "        The input array to be downsampled.\n",
    "    n : int\n",
    "        Downsampling factor; this is the number of raw samples that will be averaged\n",
    "        together for each new sample.\n",
    "    axis : int\n",
    "        The array axis that should be downsampled (default=0).\n",
    "    </pre>\n",
    "</div>\n",
    "<div> <!-- NOTE: this div is a workaround for a jupyter HTML export bug --> </div>\n",
    "</div>"
   ]
  },
  {
   "cell_type": "markdown",
   "metadata": {},
   "source": [
    "<div>\n",
    "<h3>Git good practice #1: Make clean commits.</h3>\n",
    "<br>\n",
    "    <i>Staging</i> gives us finer control over which changes are included in each commit. First we tell git which changes will be included in the next commit, and then we commit all staged changes at once. In this simple example, it may seem like an unnecessary extra step. If git already knows which files have changed, why not just commit all changes automatically?\n",
    "\n",
    "<p>When working with any version control system, it is helpful for each code snapshot to introduce changes that are <i>complete</i> and <i>related</i>. Ideally, each new commit should add one new feature, or bugfix, or concept, and the commit should not contain unfinished ideas. Why is this good practice? Sometimes we need to go back through the history of changes to find where a bug was introduced, or to revert a set of changes, or even just to understand the structure of the commit history (which can become quite complex).\n",
    "\n",
    "<p>But many of us don't program that way--we like to plow through the code, making many unrelated changes here and there. In practice, it is very easy (and common) to lose track of which files you have changed in between commits. Perhaps you added some temporary debugging code that you forgot to remove, or started a new file but forgot to ask git to track it, or forgot about an unfinished piece of code. \n",
    "\n",
    "<p><b>Get into the habit of checking the state of your repository before each commit.</b> Carefully review your work before you stage and commit it--errors will be much easier to catch and resolve at this time, while you still remember why you made these changes. Make an effort to organize your changes into logical, complete commits.\n",
    "\n",
    "<p><b>BUT:</b> at the same time, balance this with the need to develop quickly; sometimes the extra organization really isn't worth the extra effort, especially when you are prototyping a new project (my commit frequency varies between once per day and several times per hour, depending on the task). Over time you will learn what works for you.\n",
    "<div> <!-- NOTE: this div is a workaround for a jupyter HTML export bug --> </div>\n",
    "</div>"
   ]
  },
  {
   "cell_type": "markdown",
   "metadata": {},
   "source": [
    "<div style=\"border-left: 3px solid #000; border-top: 1px solid #DDD; padding: 20px; padding-left: 10px; background: #F0FAFF; \">\n",
    "<h3>A little more commit practice</h3>\n",
    "<br>\n",
    "Let's make a few more changes:\n",
    "\n",
    "<div style='color: #000; background-color: #CCD; font-family: monospace; padding: 15px; margin: 10px; margin-left: 30px; border-radius: 3px'>\n",
    "    <ul>\n",
    "    <li>Add more documentation to the `downsample()` docstring:\n",
    "    <pre>\n",
    "      Returns\n",
    "      -------\n",
    "      array\n",
    "          An array in which each item is the average of *n* items\n",
    "          from the input *data* array.\n",
    "    </pre>\n",
    "    <li>Add a `README` file to contain a description of your package (just make something up).\n",
    "    <li>Create a `.gitignore` file that contains just the text: `__pycache__`. Notice that immediately after you create this file, the `__pycache__` file no longer appears in the list of untracked changes.\n",
    "    </ul>\n",
    "    \n",
    "After doing the steps above, go through the process of reviewing, staging, and committing each of these changes one at a time (you should end up with 3 new commits). Notice that you can click on each modified file to see what has changed before staging it. \n",
    "<br><br>\n",
    "Select the commit in which your .py file was changed. On the right side, the name of the file appears with a yellow [...] symbol, indicating that the file was modified. Select that file, and you should see the changes that were made during that commit. Click the (>) button at the upper-left corner to get back to the list of commits.\n",
    "\n",
    "</div>\n",
    "\n",
    "\n",
    "\n",
    "<div> <!-- NOTE: this div is a workaround for a jupyter HTML export bug --> </div>\n",
    "</div>"
   ]
  },
  {
   "cell_type": "markdown",
   "metadata": {},
   "source": [
    "# Checking out old commits"
   ]
  },
  {
   "cell_type": "markdown",
   "metadata": {},
   "source": [
    "<div style=\"border-left: 3px solid #000; border-top: 1px solid #DDD; padding: 20px; padding-left: 10px; background: #F0FAFF; \">\n",
    "<h2>Branch and Merge</h2>\n",
    "\n",
    "The commits we have made so far make a linear sequence--in gitkraken we see the commits connecting along a straight line from the initial commit to the most recent. This is often what we see when we develop code alone, and in this simple case, the tools we are showing you (git, github, gitkraken) are overkill; all we really get so far is a history of code versions.\n",
    "\n",
    "All this changes when we begin working with other people. The immediate difference is that two people can work in parallel, so it no longer makes sense to think of code development as a single linear chain. Instead, we have at least two parallel chains in which code changes are periodically shared from one to another. This new workflow introduces a lot of complexity, and managing that complexity is the primary purpose of git.\n",
    "\n",
    "Git emables parallel, collaborative coding using two tools: <i>branching</i> and <i>merging</i>.\n",
    "\n",
    "<img src=\"support_files/parallel_commits.png\">\n",
    "<div> <!-- NOTE: this div is a workaround for a jupyter HTML export bug --> </div>\n",
    "</div>"
   ]
  },
  {
   "cell_type": "markdown",
   "metadata": {},
   "source": [
    "<h2>Definitions:</h2>\n",
    "\n",
    "<p><b>Branch (n)</b> \n",
    "<ol>\n",
    "<li>A chain of related commits. This is <b>not</b> the definition understood by git.\n",
    "<li>A named pointer to a specific commit. Unlike tags, branches have special property: when a branch is checked out, creating a new commit will cause the branch to point to the newly created commit. In this way, branches usually point to the most recent commit in any chain of commits.\n",
    "</ol>\n",
    "\n",
    "<p><b>Branch (v)</b> To create a new branch.\n",
    "    \n",
    "<p><b>Merge (v)</b> To create a new commit that combines all changes from two branches.\n",
    "    \n",
    "<p><b>Checkout (v)</b> To <i>replace</i> the contents of the files that are currently present in the repository with the contents stored in a specific commit. Git has the capability to check out <i>any</i> commit, which lets you temporarily run other versions of the code. However, gitkraken is more limited in this regard (more on this later).\n",
    "    \n",
    "<div> <!-- NOTE: this div is a workaround for a jupyter HTML export bug --> </div>"
   ]
  },
  {
   "cell_type": "markdown",
   "metadata": {},
   "source": [
    "<div style=\"border-left: 3px solid #000; border-top: 1px solid #DDD; padding: 20px; padding-left: 10px; background: #F0FAFF; \">\n",
    "We will talk about collaborative development later in the course. For now, let's just practice making branches and merging them back together. Here is a common scenario: You have some code that is working and produces good results. You would like to add on a new feature, but that requires you to temporarily break some things in order to refactor your code. Half way through this process, your PI asks if you can re-run the working analysis with some small changes. Now you have two parallel development pathways--your working code with small changes, and your broken new-feature code. \n",
    "\n",
    "There are many ways you can handle this situation with git. The one we will introduce today is the most commonly used:\n",
    "<ol>\n",
    "    <li>Your `master` branch shoould always point to the latest <i>working</i> copy of your code.\n",
    "    <li>New features are developed in <i>topic branches</i> until they are ready to be merged back into the master branch.\n",
    "</ol>\n",
    "\n",
    "<img src=\"support_files/topic_branches.png\">\n",
    "\n",
    "With this workflow, our topic branches keep unrelated code changes separate from each other until they are complete. Each topic branch serves as a reminder about a feature you were working on and how it was progressing. After a topic branch is merged into `master`, you can delete the topic branch (this does not delete the code changes; remember that a git branch is just a <i>pointer</i> to a particular commit. Deleting the branch does not necessarily affect the commit).\n",
    "\n",
    "<div> <!-- NOTE: this div is a workaround for a jupyter HTML export bug --> </div>\n",
    "</div>\n"
   ]
  },
  {
   "cell_type": "markdown",
   "metadata": {},
   "source": [
    "<div style=\"border-left: 3px solid #000; border-top: 1px solid #DDD; padding: 20px; padding-left: 10px; background: #F0FAFF; \">\n",
    "<h4>Add a couple of commits in a new branch</h4>\n",
    "\n",
    "<div style='color: #000; background-color: #CCD; font-family: monospace; padding: 15px; margin: 10px; margin-left: 30px; border-radius: 3px'>\n",
    "<ol>\n",
    "    <li>Notice that we already have a branch: master, and that it points to the latest commit\n",
    "    <li>Click the \"Branch\" button at the top of the window and type in a name for the new branch (I used \"new-feature\")\n",
    "    <li>Notice that the \"new-feature\" branch has a +1 next to it. When you point to the branch, it shows you that there are actually two branches here that point to the same commit (master and new-feature). Notice also the check mark next to \"new-feature\" -- this tells you which branch is currently checked out.\n",
    "    <li>Edit `my_module.py` and add a new function (it doesn't need to do anything)\n",
    "    <li>Make a commit. Notice that new-feature now points to the latest commit, but master does not (because master is not checked out).\n",
    "    <li>Repeat: edit some code and make another commit.\n",
    "</ol>\n",
    "</div>\n",
    "<div> <!-- NOTE: this div is a workaround for a jupyter HTML export bug --> </div>\n",
    "</div>"
   ]
  },
  {
   "cell_type": "markdown",
   "metadata": {},
   "source": [
    "<div style=\"border-left: 3px solid #000; border-top: 1px solid #DDD; padding: 20px; padding-left: 10px; background: #F0FAFF; \">\n",
    "<h4>Switch between branches</h4>\n",
    "\n",
    "<div style='color: #000; background-color: #CCD; font-family: monospace; padding: 15px; margin: 10px; margin-left: 30px; border-radius: 3px'>\n",
    "<ol>\n",
    "    <li>Check out the master branch by double-clicking on \"master\". Note the check mark moves, and note also that the code in my_module.py has reverted back to its original state. \n",
    "    <li>Make a change to the README file and add a commit. Look at the commit tree again--it should now be more apparent that you have two parallel development paths in progress (you may need to resize the commit tree panel to see this--find the vertical line between the commit circles and their descriptons, drag that line to the right as far as it will go).\n",
    "    <li>Check out the new-feature branch. Again notice that your code has reverted back to where we left off. Commit one more change to `my_module.py`.\n",
    "</div>\n",
    "<div> <!-- NOTE: this div is a workaround for a jupyter HTML export bug --> </div>\n",
    "</div>\n"
   ]
  },
  {
   "cell_type": "markdown",
   "metadata": {},
   "source": [
    "<div style=\"border-left: 3px solid #000; border-top: 1px solid #DDD; padding: 20px; padding-left: 10px; background: #F0FAFF; \">\n",
    "<h4>Merge branches</h4>\n",
    "\n",
    "<div style='color: #000; background-color: #CCD; font-family: monospace; padding: 15px; margin: 10px; margin-left: 30px; border-radius: 3px'>\n",
    "<ol>\n",
    "    <li>Check out the master branch. \n",
    "    <li>Right-click on `new-feature` and then select \"merge new-feature into master\".\n",
    "    <li>Confirmm that all of your changes are present in `my_module.py` and `README.md`.\n",
    "    <li>Delete the new-feature branch.\n",
    "</ol>\n",
    "</div>\n",
    "\n",
    "The final state of your commit history should look something like this:\n",
    "\n",
    "<img src=\"support_files/gitkraken_4.png\">\n",
    "<div> <!-- NOTE: this div is a workaround for a jupyter HTML export bug --> </div>\n",
    "</div>\n"
   ]
  },
  {
   "cell_type": "markdown",
   "metadata": {},
   "source": [
    "<div style=\"border-left: 3px solid #000; border-top: 1px solid #DDD; padding: 20px; padding-left: 10px; background: #F0FAFF; \">\n",
    "\n",
    "Some parting thoughts:\n",
    "\n",
    "<ul>\n",
    "    <li>If you are finding yourself confused, don't worry. Learning to use version control effectively will take time and practice.\n",
    "    <li>If this seems more complicated than it needs to be, hold on. When we start doing real collaborative development, the benefit should become more apparent.\n",
    "    <li>An obvious question you may have is: what happens if you change the same file from two different branches? Often merging just works magically in these situations. When it fails, there is a merge conflict and we have many tools (to be discussed later) for dealing with this situation.\n",
    "</ul>\n",
    "<div> <!-- NOTE: this div is a workaround for a jupyter HTML export bug --> </div>\n",
    "</div>"
   ]
  }
 ],
 "metadata": {
  "kernelspec": {
   "display_name": "Python 3",
   "language": "python",
   "name": "python3"
  },
  "language_info": {
   "codemirror_mode": {
    "name": "ipython",
    "version": 3
   },
   "file_extension": ".py",
   "mimetype": "text/x-python",
   "name": "python",
   "nbconvert_exporter": "python",
   "pygments_lexer": "ipython3",
   "version": "3.7.10"
  }
 },
 "nbformat": 4,
 "nbformat_minor": 1
}
